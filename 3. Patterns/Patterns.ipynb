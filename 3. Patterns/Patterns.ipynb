{
 "cells": [
  {
   "cell_type": "markdown",
   "id": "furnished-stanford",
   "metadata": {},
   "source": [
    "# Lecturer 3. Pattern"
   ]
  },
  {
   "cell_type": "code",
   "execution_count": 3,
   "id": "green-trace",
   "metadata": {},
   "outputs": [
    {
     "name": "stdout",
     "output_type": "stream",
     "text": [
      "4\n",
      "* * * * \n",
      "* * * * \n",
      "* * * * \n",
      "* * * * \n"
     ]
    }
   ],
   "source": [
    "''' pattern 1\n",
    "****\n",
    "****\n",
    "****\n",
    "****\n",
    "'''\n",
    "\n",
    "n= int(input())\n",
    "i = 1\n",
    "while i <=n:\n",
    "    j = 1\n",
    "    while j <= n:\n",
    "        print(\"*\",end = \" \")# by default end is \"new line\" but we fixrd it with \"space\"\n",
    "        j += 1\n",
    "    print()\n",
    "    i += 1"
   ]
  },
  {
   "cell_type": "markdown",
   "id": "neural-worry",
   "metadata": {},
   "source": [
    "#### Square Pattern"
   ]
  },
  {
   "cell_type": "code",
   "execution_count": 6,
   "id": "unable-simple",
   "metadata": {},
   "outputs": [
    {
     "name": "stdout",
     "output_type": "stream",
     "text": [
      "4\n",
      "1 1 1 1 \n",
      "2 2 2 2 \n",
      "3 3 3 3 \n",
      "4 4 4 4 \n"
     ]
    }
   ],
   "source": [
    "''' pattern 2 [Square Patterns 1]\n",
    "1111\n",
    "2222\n",
    "3333\n",
    "4444\n",
    "'''\n",
    "'''\n",
    "row -> n\n",
    "col -> n\n",
    "print -> i\n",
    "'''\n",
    "\n",
    "n = int(input())\n",
    "i = 1\n",
    "while i <= n:\n",
    "    j = 1\n",
    "    while j <= n:\n",
    "        print(i, end = \" \")\n",
    "        j += 1\n",
    "    print()\n",
    "    i += 1"
   ]
  },
  {
   "cell_type": "code",
   "execution_count": 7,
   "id": "historical-albany",
   "metadata": {},
   "outputs": [
    {
     "name": "stdout",
     "output_type": "stream",
     "text": [
      "4\n",
      "1 2 3 4 \n",
      "1 2 3 4 \n",
      "1 2 3 4 \n",
      "1 2 3 4 \n"
     ]
    }
   ],
   "source": [
    "''' pattern 3 [Square Patterns 2]\n",
    "1234\n",
    "1234\n",
    "1234\n",
    "1234\n",
    "'''\n",
    "'''\n",
    "row -> n\n",
    "col -> n\n",
    "print -> j\n",
    "'''\n",
    "n = int(input())\n",
    "i = 1\n",
    "while i <= n:\n",
    "    j = 1\n",
    "    while j <= n:\n",
    "        print(j,end =\" \")\n",
    "        j += 1\n",
    "    print()\n",
    "    i += 1"
   ]
  },
  {
   "cell_type": "code",
   "execution_count": 13,
   "id": "alternative-career",
   "metadata": {},
   "outputs": [
    {
     "name": "stdout",
     "output_type": "stream",
     "text": [
      "5\n",
      "5 4 3 2 1 \n",
      "5 4 3 2 1 \n",
      "5 4 3 2 1 \n",
      "5 4 3 2 1 \n",
      "5 4 3 2 1 \n"
     ]
    }
   ],
   "source": [
    "''' pattern 4 [Square Patterns 3]\n",
    "4321\n",
    "4321\n",
    "4321\n",
    "4321\n",
    "'''\n",
    "'''\n",
    "row -> n\n",
    "col -> n\n",
    "print -> n-j+1\n",
    "'''\n",
    "n = int(input())\n",
    "i = 1\n",
    "while i <= n:\n",
    "    j = n\n",
    "    while j <= n:\n",
    "        print(j,end = \" \")\n",
    "        j -= 1\n",
    "        if j == 0:\n",
    "            break;\n",
    "    print()\n",
    "    i += 1"
   ]
  },
  {
   "cell_type": "markdown",
   "id": "elder-penalty",
   "metadata": {},
   "source": [
    "#### Triangular Pattern"
   ]
  },
  {
   "cell_type": "code",
   "execution_count": 15,
   "id": "caring-female",
   "metadata": {},
   "outputs": [
    {
     "name": "stdout",
     "output_type": "stream",
     "text": [
      "4\n",
      "1 \n",
      "1 2 \n",
      "1 2 3 \n",
      "1 2 3 4 \n"
     ]
    }
   ],
   "source": [
    "''' pattern 5 [Triangular Patterns 1]\n",
    "1\n",
    "12\n",
    "123\n",
    "1234\n",
    "'''\n",
    "'''\n",
    "row -> n\n",
    "col -> i #[each col have ith element i.e 1have 1 elem  and 2nd row have 2 elem]\n",
    "print -> j\n",
    "'''\n",
    "n = int(input())\n",
    "i = 1\n",
    "while i <= n:\n",
    "    j = 1\n",
    "    while j <= i:\n",
    "        print(j,end = \" \")\n",
    "        j += 1\n",
    "    print()\n",
    "    i += 1"
   ]
  },
  {
   "cell_type": "code",
   "execution_count": 21,
   "id": "medium-style",
   "metadata": {},
   "outputs": [
    {
     "name": "stdout",
     "output_type": "stream",
     "text": [
      "4\n",
      "1 \n",
      "2 3 \n",
      "3 4 5 \n",
      "4 5 6 7 \n"
     ]
    }
   ],
   "source": [
    "''' pattern 6 [Triangular Patterns 2]\n",
    "1\n",
    "23\n",
    "345\n",
    "4567\n",
    "'''\n",
    "'''\n",
    "row -> n\n",
    "col -> i\n",
    "print -> \n",
    "'''\n",
    "n = int(input())\n",
    "i = 1\n",
    "while i <= n:\n",
    "    j = 1\n",
    "    k = i\n",
    "    while j <= i:\n",
    "        print(k,end =\" \")\n",
    "        j += 1\n",
    "        k += 1\n",
    "    print()\n",
    "    i += 1"
   ]
  },
  {
   "cell_type": "code",
   "execution_count": 24,
   "id": "excellent-captain",
   "metadata": {},
   "outputs": [
    {
     "name": "stdout",
     "output_type": "stream",
     "text": [
      "4\n",
      "1 \n",
      "2 3 \n",
      "4 5 6 \n",
      "7 8 9 10 \n"
     ]
    }
   ],
   "source": [
    "''' pattern 7 [Triangular Patterns 3]\n",
    "1\n",
    "23\n",
    "456\n",
    "78910\n",
    "'''\n",
    "'''\n",
    "row -> n\n",
    "col -> i\n",
    "print -> p {1 to number of time you print}\n",
    "'''\n",
    "n- int(input())\n",
    "i = 1\n",
    "p = 1\n",
    "while i <= n:\n",
    "    j = 1\n",
    "    k = i\n",
    "    while j <= i:\n",
    "        print(p,end = \" \")\n",
    "        p += 1\n",
    "        j += 1\n",
    "    print()\n",
    "    i += 1"
   ]
  },
  {
   "cell_type": "markdown",
   "id": "alone-treasury",
   "metadata": {},
   "source": [
    "#### Character Pattern"
   ]
  },
  {
   "cell_type": "code",
   "execution_count": 27,
   "id": "developmental-injury",
   "metadata": {},
   "outputs": [
    {
     "name": "stdout",
     "output_type": "stream",
     "text": [
      "8\n",
      "H\n"
     ]
    }
   ],
   "source": [
    "#find kth alphabet\n",
    "'''suppose if we have to print 8th charter the just you need to add [A(1st elemt) + 7 = total 8] overall it say that [A+(k-1)]'''\n",
    "# chr -> aiscc to char\n",
    "# ord -> char to aiscc\n",
    "\n",
    "k = int(input())\n",
    "print(chr(ord('A') + (k-1)))\n"
   ]
  },
  {
   "cell_type": "code",
   "execution_count": 31,
   "id": "partial-trade",
   "metadata": {},
   "outputs": [
    {
     "name": "stdout",
     "output_type": "stream",
     "text": [
      "4\n",
      "A B C D \n",
      "A B C D \n",
      "A B C D \n",
      "A B C D \n"
     ]
    }
   ],
   "source": [
    "''' pattern 8 [Character Patterns 1]\n",
    "ABCD\n",
    "ABCD\n",
    "ABCD\n",
    "ABCD\n",
    "'''\n",
    "'''\n",
    "row -> n\n",
    "col -> n\n",
    "print -> similar to('A'+j-1){see explanation int above question}\n",
    "'''\n",
    "n = int(input())\n",
    "i = 1\n",
    "while i <= n:\n",
    "    j = 1\n",
    "    while j <= n:\n",
    "        character = chr(ord('A')+(j-1))\n",
    "        print(character ,end = \" \")\n",
    "        j = j + 1\n",
    "    print()\n",
    "    i += 1\n",
    "    "
   ]
  },
  {
   "cell_type": "code",
   "execution_count": 33,
   "id": "ruled-spiritual",
   "metadata": {},
   "outputs": [
    {
     "name": "stdout",
     "output_type": "stream",
     "text": [
      "4\n",
      "A B C D \n",
      "B C D E \n",
      "C D E F \n",
      "D E F G \n"
     ]
    }
   ],
   "source": [
    "''' pattern 9 [Character Patterns 2]\n",
    "ABCD\n",
    "BCDE\n",
    "CDEF\n",
    "DEFG\n",
    "'''\n",
    "'''\n",
    "row -> n\n",
    "col -> n\n",
    "print -> \n",
    "'''\n",
    "n = int(input())\n",
    "i = 1\n",
    "while i <= n:\n",
    "    j = 1\n",
    "    start = chr(ord('A')+(i-1))\n",
    "    while j <= n:\n",
    "        character = chr(ord(start)+(j-1))\n",
    "        print(character ,end = \" \")\n",
    "        j = j + 1\n",
    "    print()\n",
    "    i += 1"
   ]
  },
  {
   "cell_type": "markdown",
   "id": "macro-filling",
   "metadata": {},
   "source": [
    "#### Inverted Pattern"
   ]
  },
  {
   "cell_type": "code",
   "execution_count": 35,
   "id": "joined-saturday",
   "metadata": {},
   "outputs": [
    {
     "name": "stdout",
     "output_type": "stream",
     "text": [
      "5\n",
      "* * * * * \n",
      "* * * * \n",
      "* * * \n",
      "* * \n",
      "* \n"
     ]
    }
   ],
   "source": [
    "''' pattern 10 [Inverted Patterns 1]\n",
    "*****\n",
    "****\n",
    "***\n",
    "**\n",
    "*\n",
    "'''\n",
    "'''\n",
    "row -> n\n",
    "col -> n-i+1\n",
    "print -> *\n",
    "'''\n",
    "n = int(input())\n",
    "i = 1\n",
    "while i <= n:\n",
    "    j = 1\n",
    "    while j <= n-i+1 :\n",
    "        print(\"*\",end = \" \")\n",
    "        j += 1\n",
    "    print()\n",
    "    i += 1"
   ]
  },
  {
   "cell_type": "markdown",
   "id": "labeled-disability",
   "metadata": {},
   "source": [
    "#### Mirrored Pattern "
   ]
  },
  {
   "cell_type": "code",
   "execution_count": 3,
   "id": "healthy-clerk",
   "metadata": {},
   "outputs": [
    {
     "name": "stdout",
     "output_type": "stream",
     "text": [
      "4\n",
      "      * \n",
      "    * * \n",
      "  * * * \n",
      "* * * * \n"
     ]
    }
   ],
   "source": [
    "''' pattern 1 [Mirrored Patterns 1]\n",
    "    *\n",
    "  * *\n",
    "* * *\n",
    "'''\n",
    "'''\n",
    "row -> n\n",
    "col -> \n",
    "print -> \n",
    "    n-i => spaces\n",
    "    ith => star\n",
    "'''\n",
    "rows = int(input())\n",
    "for i in range(1, rows + 1):\n",
    "    for j in range(1, rows + 1):\n",
    "        if(j <= rows - i):\n",
    "            print(' ', end = ' ')\n",
    "        else:\n",
    "            print('*', end = ' ')\n",
    "    print()\n",
    "\n"
   ]
  },
  {
   "cell_type": "markdown",
   "id": "running-short",
   "metadata": {},
   "source": [
    "### ASSIGNMENT Problems "
   ]
  },
  {
   "cell_type": "code",
   "execution_count": 5,
   "id": "incorrect-sewing",
   "metadata": {},
   "outputs": [
    {
     "name": "stdout",
     "output_type": "stream",
     "text": [
      "4\n",
      "4 4 4 4 \n",
      "4 4 4 4 \n",
      "4 4 4 4 \n",
      "4 4 4 4 \n"
     ]
    }
   ],
   "source": [
    "# Question1\n",
    "n = int(input())\n",
    "i = 1\n",
    "while i <= n:\n",
    "    j = 1\n",
    "    while j <= n:\n",
    "        print(n, end =\" \")\n",
    "        j += 1\n",
    "    print()\n",
    "    i += 1"
   ]
  },
  {
   "cell_type": "code",
   "execution_count": 6,
   "id": "capable-disability",
   "metadata": {},
   "outputs": [
    {
     "name": "stdout",
     "output_type": "stream",
     "text": [
      "4\n",
      "* \n",
      "* * \n",
      "* * * \n",
      "* * * * \n"
     ]
    }
   ],
   "source": [
    "# Question 2\n",
    "n = int(input())\n",
    "i = 1\n",
    "while i <= n:\n",
    "    j = 1\n",
    "    while j <= i:\n",
    "        print(\"*\", end =\" \")\n",
    "        j += 1\n",
    "    print()\n",
    "    i += 1"
   ]
  },
  {
   "cell_type": "code",
   "execution_count": null,
   "id": "floral-kruger",
   "metadata": {},
   "outputs": [],
   "source": [
    "# Question 3\n",
    "n = int(input())\n",
    "i = 1\n",
    "k = 1\n",
    "while i <= n:\n",
    "    j = 1\n",
    "    while j <= i:\n",
    "        print(k, end =\" \")\n",
    "        j += 1\n",
    "    print()\n",
    "    i += 1"
   ]
  }
 ],
 "metadata": {
  "kernelspec": {
   "display_name": "Python 3",
   "language": "python",
   "name": "python3"
  },
  "language_info": {
   "codemirror_mode": {
    "name": "ipython",
    "version": 3
   },
   "file_extension": ".py",
   "mimetype": "text/x-python",
   "name": "python",
   "nbconvert_exporter": "python",
   "pygments_lexer": "ipython3",
   "version": "3.8.3"
  }
 },
 "nbformat": 4,
 "nbformat_minor": 5
}
