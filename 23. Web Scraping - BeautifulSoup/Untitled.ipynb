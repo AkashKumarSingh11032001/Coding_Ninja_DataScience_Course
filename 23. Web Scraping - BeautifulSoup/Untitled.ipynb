{
 "cells": [
  {
   "cell_type": "markdown",
   "id": "38e7d218",
   "metadata": {},
   "source": [
    "### ASSIGNMENT "
   ]
  },
  {
   "cell_type": "code",
   "execution_count": 1,
   "id": "e2dc13de",
   "metadata": {},
   "outputs": [],
   "source": [
    "from bs4 import BeautifulSoup as bs\n",
    "import requests\n",
    "import re"
   ]
  },
  {
   "cell_type": "code",
   "execution_count": 24,
   "id": "cb9711b8",
   "metadata": {},
   "outputs": [
    {
     "name": "stdout",
     "output_type": "stream",
     "text": [
      "The Kominsky Method \n",
      "Comedy, Drama            \n",
      "Dirty John \n",
      "Crime, Drama            \n",
      "Believe Me: The Abduction of Lisa McVey \n",
      "Biography, Crime, Drama            \n"
     ]
    }
   ],
   "source": [
    "res = requests.get(\"https://www.imdb.com/search/title/?release_date=2018&sort-num_votes,desc&page=1&ref_=adv_nxt\")\n",
    "data = bs(res.text,\"html.parser\")\n",
    "data = data.find_all('div',class_ = \"lister-item mode-advanced\")[:3]\n",
    "for i in data:\n",
    "    #print(i.p.find(class_ = 'genre').string)\n",
    "    print(i.h3.a.string, i.p.find(class_ = 'genre').string)"
   ]
  },
  {
   "cell_type": "code",
   "execution_count": null,
   "id": "9900da29",
   "metadata": {},
   "outputs": [],
   "source": [
    "res = requests.get(\"https://www.imdb.com/search/title?release_date=201\"+ str(i)+\"&sort=num_votes,desc&page=1&ref_=adv_nxt\")"
   ]
  }
 ],
 "metadata": {
  "kernelspec": {
   "display_name": "Python 3",
   "language": "python",
   "name": "python3"
  },
  "language_info": {
   "codemirror_mode": {
    "name": "ipython",
    "version": 3
   },
   "file_extension": ".py",
   "mimetype": "text/x-python",
   "name": "python",
   "nbconvert_exporter": "python",
   "pygments_lexer": "ipython3",
   "version": "3.8.8"
  }
 },
 "nbformat": 4,
 "nbformat_minor": 5
}
