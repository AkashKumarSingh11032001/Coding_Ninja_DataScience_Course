{
 "cells": [
  {
   "cell_type": "markdown",
   "id": "blocked-holiday",
   "metadata": {},
   "source": [
    "# 7. Functions"
   ]
  },
  {
   "cell_type": "code",
   "execution_count": 4,
   "id": "healthy-rogers",
   "metadata": {},
   "outputs": [
    {
     "name": "stdout",
     "output_type": "stream",
     "text": [
      "3\n",
      "4\n",
      "6\n",
      "24\n"
     ]
    }
   ],
   "source": [
    "def fact(x):\n",
    "    if x ==0:\n",
    "        return 1\n",
    "    return x*fact(x-1)\n",
    "\n",
    "n = int(input())\n",
    "r = int(input())\n",
    "\n",
    "print(fact(n))\n",
    "print(fact(r))"
   ]
  },
  {
   "cell_type": "code",
   "execution_count": 7,
   "id": "endangered-classic",
   "metadata": {},
   "outputs": [
    {
     "name": "stdout",
     "output_type": "stream",
     "text": [
      "10\n",
      "prime\n"
     ]
    }
   ],
   "source": [
    "def prim(n):\n",
    "    for i in range(2,n):\n",
    "        if n%i == 0:\n",
    "            retu\n",
    "        \n",
    "n = int(input())\n",
    "if prim(n):\n",
    "    print(\"not prime\")\n",
    "else:\n",
    "    print(\"prime\")\n",
    "    \n",
    "    "
   ]
  },
  {
   "cell_type": "code",
   "execution_count": null,
   "id": "generic-envelope",
   "metadata": {},
   "outputs": [],
   "source": []
  }
 ],
 "metadata": {
  "kernelspec": {
   "display_name": "Python 3",
   "language": "python",
   "name": "python3"
  },
  "language_info": {
   "codemirror_mode": {
    "name": "ipython",
    "version": 3
   },
   "file_extension": ".py",
   "mimetype": "text/x-python",
   "name": "python",
   "nbconvert_exporter": "python",
   "pygments_lexer": "ipython3",
   "version": "3.8.3"
  }
 },
 "nbformat": 4,
 "nbformat_minor": 5
}
