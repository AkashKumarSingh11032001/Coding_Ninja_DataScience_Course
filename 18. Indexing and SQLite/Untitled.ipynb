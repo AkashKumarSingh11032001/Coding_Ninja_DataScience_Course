{
 "cells": [
  {
   "cell_type": "markdown",
   "id": "8391e5f0",
   "metadata": {},
   "source": [
    "# Indexing and SQLite"
   ]
  },
  {
   "cell_type": "code",
   "execution_count": 1,
   "id": "19592c7b",
   "metadata": {},
   "outputs": [],
   "source": [
    "import sqlite3"
   ]
  },
  {
   "cell_type": "code",
   "execution_count": 3,
   "id": "7d584202",
   "metadata": {},
   "outputs": [
    {
     "data": {
      "text/plain": [
       "<sqlite3.Connection at 0x20cbc50db70>"
      ]
     },
     "execution_count": 3,
     "metadata": {},
     "output_type": "execute_result"
    }
   ],
   "source": [
    "db = sqlite3.connect('IMDB.sqlite')\n",
    "db"
   ]
  },
  {
   "cell_type": "code",
   "execution_count": 4,
   "id": "e429996e",
   "metadata": {},
   "outputs": [
    {
     "data": {
      "text/plain": [
       "<sqlite3.Connection at 0x20cbc50dc60>"
      ]
     },
     "execution_count": 4,
     "metadata": {},
     "output_type": "execute_result"
    }
   ],
   "source": [
    "# new database \n",
    "\n",
    "db = sqlite3.connect('School.sqlite')\n",
    "db"
   ]
  },
  {
   "cell_type": "code",
   "execution_count": 5,
   "id": "7d6eb810",
   "metadata": {},
   "outputs": [
    {
     "data": {
      "text/plain": [
       "<sqlite3.Cursor at 0x20cbc64a3b0>"
      ]
     },
     "execution_count": 5,
     "metadata": {},
     "output_type": "execute_result"
    }
   ],
   "source": [
    "# create cursor object\n",
    "cur = db.cursor()\n",
    "cur"
   ]
  },
  {
   "cell_type": "code",
   "execution_count": 6,
   "id": "ad51137d",
   "metadata": {},
   "outputs": [
    {
     "data": {
      "text/plain": [
       "<sqlite3.Cursor at 0x20cbc64a3b0>"
      ]
     },
     "execution_count": 6,
     "metadata": {},
     "output_type": "execute_result"
    }
   ],
   "source": [
    "# create new table\n",
    "sql_query = 'create table Student(RollNo int Primary Key,Name Text,Age int)'\n",
    "\n",
    "# execute this query\n",
    "cur.execute(sql_query)"
   ]
  },
  {
   "cell_type": "code",
   "execution_count": null,
   "id": "479a7c8c",
   "metadata": {},
   "outputs": [],
   "source": [
    "curr.execute('Insert into Student values(101,\"Aman\",20)')"
   ]
  }
 ],
 "metadata": {
  "kernelspec": {
   "display_name": "Python 3",
   "language": "python",
   "name": "python3"
  },
  "language_info": {
   "codemirror_mode": {
    "name": "ipython",
    "version": 3
   },
   "file_extension": ".py",
   "mimetype": "text/x-python",
   "name": "python",
   "nbconvert_exporter": "python",
   "pygments_lexer": "ipython3",
   "version": "3.8.10"
  }
 },
 "nbformat": 4,
 "nbformat_minor": 5
}
