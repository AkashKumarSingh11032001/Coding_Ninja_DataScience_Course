{
 "cells": [
  {
   "cell_type": "markdown",
   "id": "forbidden-print",
   "metadata": {},
   "source": [
    "# Lecture 5: String, List & 2D Lists "
   ]
  },
  {
   "cell_type": "code",
   "execution_count": 2,
   "id": "governmental-purse",
   "metadata": {},
   "outputs": [
    {
     "data": {
      "text/plain": [
       "str"
      ]
     },
     "execution_count": 2,
     "metadata": {},
     "output_type": "execute_result"
    }
   ],
   "source": [
    "a  = \"akash is hardworking\"\n",
    "b = 'a'\n",
    "type(a)\n",
    "type(b)"
   ]
  },
  {
   "cell_type": "code",
   "execution_count": 7,
   "id": "charged-daniel",
   "metadata": {},
   "outputs": [
    {
     "name": "stdout",
     "output_type": "stream",
     "text": [
      "a\n",
      " \n",
      "a\n"
     ]
    }
   ],
   "source": [
    "a  = \"akash is hardworking\"\n",
    "print(a[0])\n",
    "print(a[5])\n",
    "print(a[10])"
   ]
  },
  {
   "cell_type": "code",
   "execution_count": 9,
   "id": "engaging-possibility",
   "metadata": {},
   "outputs": [
    {
     "data": {
      "text/plain": [
       "'gnikrowdrah si hsaka'"
      ]
     },
     "execution_count": 9,
     "metadata": {},
     "output_type": "execute_result"
    }
   ],
   "source": [
    "# reverse string\n",
    "a  = \"akash is hardworking\"\n",
    "a[::-1]"
   ]
  },
  {
   "cell_type": "code",
   "execution_count": 11,
   "id": "several-solid",
   "metadata": {},
   "outputs": [
    {
     "ename": "TypeError",
     "evalue": "'str' object does not support item assignment",
     "output_type": "error",
     "traceback": [
      "\u001b[1;31m---------------------------------------------------------------------------\u001b[0m",
      "\u001b[1;31mTypeError\u001b[0m                                 Traceback (most recent call last)",
      "\u001b[1;32m<ipython-input-11-db3bb41d837e>\u001b[0m in \u001b[0;36m<module>\u001b[1;34m\u001b[0m\n\u001b[0;32m      1\u001b[0m \u001b[1;31m# string is immutable\u001b[0m\u001b[1;33m\u001b[0m\u001b[1;33m\u001b[0m\u001b[1;33m\u001b[0m\u001b[0m\n\u001b[0;32m      2\u001b[0m \u001b[0ma\u001b[0m  \u001b[1;33m=\u001b[0m \u001b[1;34m\"akash is hardworking\"\u001b[0m\u001b[1;33m\u001b[0m\u001b[1;33m\u001b[0m\u001b[0m\n\u001b[1;32m----> 3\u001b[1;33m \u001b[0ma\u001b[0m\u001b[1;33m[\u001b[0m\u001b[1;36m3\u001b[0m\u001b[1;33m]\u001b[0m \u001b[1;33m=\u001b[0m \u001b[1;34m'l'\u001b[0m\u001b[1;33m\u001b[0m\u001b[1;33m\u001b[0m\u001b[0m\n\u001b[0m",
      "\u001b[1;31mTypeError\u001b[0m: 'str' object does not support item assignment"
     ]
    }
   ],
   "source": [
    "# string is immutable\n",
    "a  = \"akash is hardworking\"\n",
    "a[3] = 'l'"
   ]
  },
  {
   "cell_type": "code",
   "execution_count": 14,
   "id": "australian-fantasy",
   "metadata": {},
   "outputs": [
    {
     "name": "stdout",
     "output_type": "stream",
     "text": [
      "'hello word'\n"
     ]
    }
   ],
   "source": [
    "# string with double or single quote[ escaping charter]\n",
    "a = \"'hello word'\"\n",
    "print(a)"
   ]
  },
  {
   "cell_type": "code",
   "execution_count": 17,
   "id": "reflected-comparison",
   "metadata": {},
   "outputs": [
    {
     "name": "stdout",
     "output_type": "stream",
     "text": [
      "\"hello world\"\n"
     ]
    }
   ],
   "source": [
    "a = '\"hello world\"'\n",
    "print(a)"
   ]
  },
  {
   "cell_type": "code",
   "execution_count": 20,
   "id": "straight-vertical",
   "metadata": {},
   "outputs": [
    {
     "name": "stdout",
     "output_type": "stream",
     "text": [
      "hello world's\n"
     ]
    }
   ],
   "source": [
    "a = \"hello world\\'s\"\n",
    "print(a)"
   ]
  },
  {
   "cell_type": "code",
   "execution_count": 26,
   "id": "severe-kitchen",
   "metadata": {},
   "outputs": [
    {
     "name": "stdout",
     "output_type": "stream",
     "text": [
      "Akash Singh\n",
      "False\n",
      "False\n"
     ]
    }
   ],
   "source": [
    "a = \"Akash\"\n",
    "b = \"Singh\"\n",
    "print(a+\" \"+b)\n",
    "print(a == b)\n",
    "print(a > b) # lexigraphical compare "
   ]
  },
  {
   "cell_type": "code",
   "execution_count": 28,
   "id": "selected-shuttle",
   "metadata": {},
   "outputs": [
    {
     "data": {
      "text/plain": [
       "['akash', 'is', 'hardworking']"
      ]
     },
     "execution_count": 28,
     "metadata": {},
     "output_type": "execute_result"
    }
   ],
   "source": [
    "# Split function\n",
    "a  = \"akash is hardworking\"\n",
    "a.split() # by default delimiter is spaces"
   ]
  },
  {
   "cell_type": "code",
   "execution_count": 30,
   "id": "chinese-classics",
   "metadata": {},
   "outputs": [
    {
     "data": {
      "text/plain": [
       "['akash', 'is', 'hardworking']"
      ]
     },
     "execution_count": 30,
     "metadata": {},
     "output_type": "execute_result"
    }
   ],
   "source": [
    "a  = \"akash,is,hardworking\"\n",
    "a.split(\",\") # delimiter is ,"
   ]
  },
  {
   "cell_type": "code",
   "execution_count": 33,
   "id": "phantom-warning",
   "metadata": {},
   "outputs": [
    {
     "data": {
      "text/plain": [
       "'hello is hardworking'"
      ]
     },
     "execution_count": 33,
     "metadata": {},
     "output_type": "execute_result"
    }
   ],
   "source": [
    "# replace function\n",
    "a  = \"akash is hardworking\"\n",
    "a. replace(\"akash\",\"hello\")"
   ]
  },
  {
   "cell_type": "code",
   "execution_count": 34,
   "id": "chinese-exclusion",
   "metadata": {},
   "outputs": [],
   "source": [
    "# lower, upper,islower,isuppper,isalpha(find only alphabet),startwith,endwith\n"
   ]
  },
  {
   "cell_type": "markdown",
   "id": "subject-stamp",
   "metadata": {},
   "source": [
    "### String Slicing"
   ]
  },
  {
   "cell_type": "code",
   "execution_count": 35,
   "id": "closing-marks",
   "metadata": {},
   "outputs": [
    {
     "data": {
      "text/plain": [
       "'a'"
      ]
     },
     "execution_count": 35,
     "metadata": {},
     "output_type": "execute_result"
    }
   ],
   "source": [
    "a  = \"akash is hardworking\"\n",
    "a[2]"
   ]
  },
  {
   "cell_type": "code",
   "execution_count": 38,
   "id": "proprietary-dominant",
   "metadata": {},
   "outputs": [
    {
     "data": {
      "text/plain": [
       "'ash'"
      ]
     },
     "execution_count": 38,
     "metadata": {},
     "output_type": "execute_result"
    }
   ],
   "source": [
    "a[2:5]"
   ]
  },
  {
   "cell_type": "code",
   "execution_count": 40,
   "id": "reasonable-family",
   "metadata": {},
   "outputs": [
    {
     "data": {
      "text/plain": [
       "'ahi '"
      ]
     },
     "execution_count": 40,
     "metadata": {},
     "output_type": "execute_result"
    }
   ],
   "source": [
    "a[2:10:2]"
   ]
  },
  {
   "cell_type": "code",
   "execution_count": 41,
   "id": "challenging-cabinet",
   "metadata": {},
   "outputs": [
    {
     "data": {
      "text/plain": [
       "'akash'"
      ]
     },
     "execution_count": 41,
     "metadata": {},
     "output_type": "execute_result"
    }
   ],
   "source": [
    "a[:5]"
   ]
  },
  {
   "cell_type": "code",
   "execution_count": 42,
   "id": "cardiovascular-credits",
   "metadata": {},
   "outputs": [
    {
     "data": {
      "text/plain": [
       "'ash'"
      ]
     },
     "execution_count": 42,
     "metadata": {},
     "output_type": "execute_result"
    }
   ],
   "source": [
    "a[2:5]"
   ]
  },
  {
   "cell_type": "code",
   "execution_count": 43,
   "id": "amino-pattern",
   "metadata": {},
   "outputs": [
    {
     "data": {
      "text/plain": [
       "'akash is hardworking'"
      ]
     },
     "execution_count": 43,
     "metadata": {},
     "output_type": "execute_result"
    }
   ],
   "source": [
    "a[::1]"
   ]
  },
  {
   "cell_type": "code",
   "execution_count": 44,
   "id": "dated-compensation",
   "metadata": {},
   "outputs": [
    {
     "data": {
      "text/plain": [
       "'akash is hardworking'"
      ]
     },
     "execution_count": 44,
     "metadata": {},
     "output_type": "execute_result"
    }
   ],
   "source": [
    "a[:]"
   ]
  },
  {
   "cell_type": "code",
   "execution_count": 45,
   "id": "informed-confirmation",
   "metadata": {},
   "outputs": [
    {
     "data": {
      "text/plain": [
       "'g'"
      ]
     },
     "execution_count": 45,
     "metadata": {},
     "output_type": "execute_result"
    }
   ],
   "source": [
    "a[-1::]"
   ]
  },
  {
   "cell_type": "code",
   "execution_count": 52,
   "id": "living-champion",
   "metadata": {},
   "outputs": [
    {
     "data": {
      "text/plain": [
       "'gnikrowdrah si hsaka'"
      ]
     },
     "execution_count": 52,
     "metadata": {},
     "output_type": "execute_result"
    }
   ],
   "source": [
    "a[::-1]"
   ]
  },
  {
   "cell_type": "code",
   "execution_count": 53,
   "id": "thrown-jungle",
   "metadata": {},
   "outputs": [
    {
     "data": {
      "text/plain": [
       "'ah si hs'"
      ]
     },
     "execution_count": 53,
     "metadata": {},
     "output_type": "execute_result"
    }
   ],
   "source": [
    "a[10:2:-1]"
   ]
  },
  {
   "cell_type": "code",
   "execution_count": null,
   "id": "silent-horror",
   "metadata": {},
   "outputs": [],
   "source": [
    "a = input()\n",
    "pos = a.find('a')\n",
    "ans = s\n",
    "if pos[::-1]:\n",
    "    ans = s[:p]+'y'+s[]"
   ]
  },
  {
   "cell_type": "code",
   "execution_count": null,
   "id": "absolute-timer",
   "metadata": {},
   "outputs": [],
   "source": []
  },
  {
   "cell_type": "code",
   "execution_count": null,
   "id": "twelve-difficulty",
   "metadata": {},
   "outputs": [],
   "source": []
  },
  {
   "cell_type": "code",
   "execution_count": null,
   "id": "through-charleston",
   "metadata": {},
   "outputs": [],
   "source": []
  },
  {
   "cell_type": "code",
   "execution_count": null,
   "id": "convenient-honolulu",
   "metadata": {},
   "outputs": [],
   "source": []
  },
  {
   "cell_type": "code",
   "execution_count": null,
   "id": "sound-warner",
   "metadata": {},
   "outputs": [],
   "source": []
  },
  {
   "cell_type": "code",
   "execution_count": null,
   "id": "united-consumption",
   "metadata": {},
   "outputs": [],
   "source": []
  }
 ],
 "metadata": {
  "kernelspec": {
   "display_name": "Python 3",
   "language": "python",
   "name": "python3"
  },
  "language_info": {
   "codemirror_mode": {
    "name": "ipython",
    "version": 3
   },
   "file_extension": ".py",
   "mimetype": "text/x-python",
   "name": "python",
   "nbconvert_exporter": "python",
   "pygments_lexer": "ipython3",
   "version": "3.8.3"
  }
 },
 "nbformat": 4,
 "nbformat_minor": 5
}
