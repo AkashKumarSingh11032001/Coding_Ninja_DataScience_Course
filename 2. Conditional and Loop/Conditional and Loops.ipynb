{
 "cells": [
  {
   "cell_type": "markdown",
   "id": "alternative-titanium",
   "metadata": {},
   "source": [
    "# Lecture 2. Conditional and Loop"
   ]
  },
  {
   "cell_type": "code",
   "execution_count": 8,
   "id": "unknown-powder",
   "metadata": {},
   "outputs": [
    {
     "name": "stdout",
     "output_type": "stream",
     "text": [
      "<class 'bool'>\n",
      "<class 'bool'>\n",
      "<class 'str'>\n"
     ]
    }
   ],
   "source": [
    "a = True\n",
    "b = False\n",
    "c = \"Ninjas\"\n",
    "print(type(a))\n",
    "print(type(b))\n",
    "print(type(c))"
   ]
  },
  {
   "cell_type": "markdown",
   "id": "composite-advertiser",
   "metadata": {},
   "source": [
    "#### Relational Operators"
   ]
  },
  {
   "cell_type": "code",
   "execution_count": 6,
   "id": "hazardous-columbus",
   "metadata": {},
   "outputs": [
    {
     "name": "stdout",
     "output_type": "stream",
     "text": [
      "a is grater\n"
     ]
    }
   ],
   "source": [
    "a,b = 10,5\n",
    "if a>b: print(\"a is grater\") \n",
    "else:print(\"b is greater \")"
   ]
  },
  {
   "cell_type": "code",
   "execution_count": 7,
   "id": "entertaining-airport",
   "metadata": {},
   "outputs": [
    {
     "name": "stdout",
     "output_type": "stream",
     "text": [
      "False\n",
      "True\n",
      "False\n",
      "True\n",
      "False\n",
      "True\n"
     ]
    }
   ],
   "source": [
    "a,b = 10,20\n",
    "print(a>b)\n",
    "print(a<b)\n",
    "print(a>=b)\n",
    "print(a<=b)\n",
    "print(a==b)\n",
    "print(a!=b)"
   ]
  },
  {
   "cell_type": "markdown",
   "id": "excellent-denmark",
   "metadata": {},
   "source": [
    "#### Logical Operators"
   ]
  },
  {
   "cell_type": "code",
   "execution_count": 14,
   "id": "lasting-translation",
   "metadata": {},
   "outputs": [
    {
     "name": "stdout",
     "output_type": "stream",
     "text": [
      "False\n",
      "False\n"
     ]
    }
   ],
   "source": [
    "c1 = a > 10\n",
    "c2 = b > 10\n",
    "print(c1 or c2)\n",
    "print(c1 and c2)"
   ]
  },
  {
   "cell_type": "markdown",
   "id": "prescription-parent",
   "metadata": {},
   "source": [
    "#### IF ELSE"
   ]
  },
  {
   "cell_type": "code",
   "execution_count": 15,
   "id": "smoking-serum",
   "metadata": {},
   "outputs": [
    {
     "name": "stdout",
     "output_type": "stream",
     "text": [
      "Odd\n"
     ]
    }
   ],
   "source": [
    "a = 5\n",
    "if a%2 == 0:\n",
    "    print(\"Even\")\n",
    "else:\n",
    "    print(\"Odd\")"
   ]
  },
  {
   "cell_type": "code",
   "execution_count": 16,
   "id": "collect-mills",
   "metadata": {},
   "outputs": [
    {
     "name": "stdout",
     "output_type": "stream",
     "text": [
      "15\n",
      "20\n",
      "Greater than 10\n"
     ]
    }
   ],
   "source": [
    "a,b = int(input()),int(input())\n",
    "if (a> 10 and b>10):\n",
    "    print(\"Greater than 10\")\n",
    "else:\n",
    "    print(\"Not Greater than 10\")"
   ]
  },
  {
   "cell_type": "markdown",
   "id": "reasonable-discretion",
   "metadata": {},
   "source": [
    "#### IF ELSE IF"
   ]
  },
  {
   "cell_type": "code",
   "execution_count": 17,
   "id": "broadband-lodge",
   "metadata": {},
   "outputs": [
    {
     "name": "stdout",
     "output_type": "stream",
     "text": [
      "12\n",
      "6\n",
      "2\n",
      "A\n"
     ]
    }
   ],
   "source": [
    "a,b,c = int(input()),int(input()),int(input())\n",
    "if (a>b and a>c):\n",
    "    print(\"A\")\n",
    "elif (b>c and b >a):\n",
    "    print(\"B\")\n",
    "else:\n",
    "    print(\"C\")"
   ]
  },
  {
   "cell_type": "code",
   "execution_count": 18,
   "id": "orange-reservation",
   "metadata": {},
   "outputs": [
    {
     "name": "stdout",
     "output_type": "stream",
     "text": [
      "5\n",
      "green\n"
     ]
    }
   ],
   "source": [
    "n = int(input())\n",
    "if n > 10:\n",
    "    print(\"red\")\n",
    "elif (n >= 5 and n<=10):\n",
    "    print(\"green\")\n",
    "elif(n>0 and n<5):\n",
    "    print(\"yellow\")\n",
    "else:\n",
    "    print(\"don't do anything\")"
   ]
  },
  {
   "cell_type": "markdown",
   "id": "greatest-jamaica",
   "metadata": {},
   "source": [
    "#### Nested IF ELSE"
   ]
  },
  {
   "cell_type": "code",
   "execution_count": 20,
   "id": "unsigned-colony",
   "metadata": {},
   "outputs": [
    {
     "name": "stdout",
     "output_type": "stream",
     "text": [
      "8\n",
      "6\n",
      "1\n"
     ]
    }
   ],
   "source": [
    "n = int(input())\n",
    "m = int(input())\n",
    "if n%2 == 0:\n",
    "    if m%2 == 0:\n",
    "        print(\"1\")\n",
    "    else:\n",
    "        print(\"2\")\n",
    "else:\n",
    "    print(\"3\")\n",
    "    "
   ]
  },
  {
   "cell_type": "markdown",
   "id": "soviet-ability",
   "metadata": {},
   "source": [
    "#### While Loop"
   ]
  },
  {
   "cell_type": "code",
   "execution_count": 22,
   "id": "relevant-terminal",
   "metadata": {},
   "outputs": [
    {
     "name": "stdout",
     "output_type": "stream",
     "text": [
      "1\n",
      "2\n",
      "3\n",
      "4\n",
      "5\n",
      "6\n",
      "7\n",
      "8\n",
      "9\n",
      "10\n"
     ]
    }
   ],
   "source": [
    "i = 1\n",
    "while i <= 10:\n",
    "    print(i)\n",
    "    i += 1\n"
   ]
  },
  {
   "cell_type": "markdown",
   "id": "streaming-sender",
   "metadata": {},
   "source": [
    "#### Prime Number"
   ]
  },
  {
   "cell_type": "code",
   "execution_count": 28,
   "id": "asian-fancy",
   "metadata": {},
   "outputs": [
    {
     "name": "stdout",
     "output_type": "stream",
     "text": [
      "5\n",
      "N is not Prime\n"
     ]
    }
   ],
   "source": [
    "num = int(input())\n",
    "\n",
    "k = 2\n",
    "flag = False\n",
    "while k < n:\n",
    "    if num%k == 0:\n",
    "        flag = True\n",
    "    k = k+1\n",
    "if flag:\n",
    "    print(\"N is not Prime\")\n",
    "else:\n",
    "    print(\"N is Prime\")"
   ]
  },
  {
   "cell_type": "code",
   "execution_count": null,
   "id": "pharmaceutical-blend",
   "metadata": {},
   "outputs": [],
   "source": []
  },
  {
   "cell_type": "code",
   "execution_count": null,
   "id": "honest-combat",
   "metadata": {},
   "outputs": [],
   "source": []
  }
 ],
 "metadata": {
  "kernelspec": {
   "display_name": "Python 3",
   "language": "python",
   "name": "python3"
  },
  "language_info": {
   "codemirror_mode": {
    "name": "ipython",
    "version": 3
   },
   "file_extension": ".py",
   "mimetype": "text/x-python",
   "name": "python",
   "nbconvert_exporter": "python",
   "pygments_lexer": "ipython3",
   "version": "3.8.3"
  }
 },
 "nbformat": 4,
 "nbformat_minor": 5
}
