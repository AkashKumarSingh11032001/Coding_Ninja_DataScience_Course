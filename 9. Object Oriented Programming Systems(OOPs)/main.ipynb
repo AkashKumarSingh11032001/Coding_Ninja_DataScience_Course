{
 "cells": [
  {
   "cell_type": "markdown",
   "id": "1c9560a4",
   "metadata": {},
   "source": [
    "# 9. Object Oriented Programming Systems(OOPs)"
   ]
  },
  {
   "cell_type": "code",
   "execution_count": 3,
   "id": "f47b2d9e",
   "metadata": {},
   "outputs": [
    {
     "name": "stdout",
     "output_type": "stream",
     "text": [
      "<class 'int'>\n"
     ]
    }
   ],
   "source": [
    "a = 10\n",
    "print(type(a))"
   ]
  },
  {
   "cell_type": "code",
   "execution_count": 18,
   "id": "ef533525",
   "metadata": {},
   "outputs": [],
   "source": [
    "# user defined class syntax:\n",
    "class Student:\n",
    "    pass\n",
    "\n",
    "\n",
    "s1,s2,s3 = Student(),Student(),Student() # 3 object of class 'student' -> s1,s2,s3\n"
   ]
  },
  {
   "cell_type": "markdown",
   "id": "45e4731c",
   "metadata": {},
   "source": [
    "### Attribute's"
   ]
  },
  {
   "cell_type": "code",
   "execution_count": null,
   "id": "45544ff0",
   "metadata": {},
   "outputs": [],
   "source": [
    "# 2 type-> instance attribute & Class Atribute"
   ]
  },
  {
   "cell_type": "code",
   "execution_count": 6,
   "id": "d3432654",
   "metadata": {},
   "outputs": [],
   "source": [
    "# instance attribute vs Class Atribute\n",
    "\n",
    "# -> Instance Atribute\n",
    "   # each object can haved different instance attributr \n",
    "   # obj can access instance atr,r by using dot(.) opr\n",
    "    \n",
    "s1.name = \"Akash\"\n",
    "s1.age = 20"
   ]
  },
  {
   "cell_type": "code",
   "execution_count": 7,
   "id": "916a562d",
   "metadata": {},
   "outputs": [],
   "source": [
    "s2.rollno = 101"
   ]
  },
  {
   "cell_type": "code",
   "execution_count": 8,
   "id": "b65342c1",
   "metadata": {},
   "outputs": [],
   "source": [
    "s3.age = 21"
   ]
  },
  {
   "cell_type": "code",
   "execution_count": 9,
   "id": "a58a54db",
   "metadata": {},
   "outputs": [
    {
     "name": "stdout",
     "output_type": "stream",
     "text": [
      "{'name': 'Akash', 'age': 20}\n",
      "{'rollno': 101}\n",
      "{'age': 21}\n"
     ]
    }
   ],
   "source": [
    "# check each object attribute \n",
    "print(s1.__dict__)\n",
    "print(s2.__dict__)\n",
    "print(s3.__dict__)"
   ]
  },
  {
   "cell_type": "code",
   "execution_count": 11,
   "id": "263c9f3e",
   "metadata": {},
   "outputs": [
    {
     "name": "stdout",
     "output_type": "stream",
     "text": [
      "Akash\n",
      "101\n"
     ]
    },
    {
     "ename": "AttributeError",
     "evalue": "'Student' object has no attribute 'name'",
     "output_type": "error",
     "traceback": [
      "\u001b[1;31m---------------------------------------------------------------------------\u001b[0m",
      "\u001b[1;31mAttributeError\u001b[0m                            Traceback (most recent call last)",
      "\u001b[1;32m<ipython-input-11-b869f2ea961d>\u001b[0m in \u001b[0;36m<module>\u001b[1;34m\u001b[0m\n\u001b[0;32m      2\u001b[0m \u001b[0mprint\u001b[0m\u001b[1;33m(\u001b[0m\u001b[0ms1\u001b[0m\u001b[1;33m.\u001b[0m\u001b[0mname\u001b[0m\u001b[1;33m)\u001b[0m\u001b[1;33m\u001b[0m\u001b[1;33m\u001b[0m\u001b[0m\n\u001b[0;32m      3\u001b[0m \u001b[0mprint\u001b[0m\u001b[1;33m(\u001b[0m\u001b[0ms2\u001b[0m\u001b[1;33m.\u001b[0m\u001b[0mrollno\u001b[0m\u001b[1;33m)\u001b[0m\u001b[1;33m\u001b[0m\u001b[1;33m\u001b[0m\u001b[0m\n\u001b[1;32m----> 4\u001b[1;33m \u001b[0mprint\u001b[0m\u001b[1;33m(\u001b[0m\u001b[0ms2\u001b[0m\u001b[1;33m.\u001b[0m\u001b[0mname\u001b[0m\u001b[1;33m)\u001b[0m \u001b[1;31m# doen't have name attribute\u001b[0m\u001b[1;33m\u001b[0m\u001b[1;33m\u001b[0m\u001b[0m\n\u001b[0m",
      "\u001b[1;31mAttributeError\u001b[0m: 'Student' object has no attribute 'name'"
     ]
    }
   ],
   "source": [
    "# accessing particular attrbute through object \n",
    "print(s1.name)\n",
    "print(s2.rollno)\n",
    "print(s2.name) # doen't have name attribute"
   ]
  },
  {
   "cell_type": "code",
   "execution_count": 13,
   "id": "9ee7e514",
   "metadata": {},
   "outputs": [
    {
     "name": "stdout",
     "output_type": "stream",
     "text": [
      "True\n"
     ]
    }
   ],
   "source": [
    "# checking attribute present in it or not?\n",
    "print(hasattr(s1,\"name\")) "
   ]
  },
  {
   "cell_type": "code",
   "execution_count": 16,
   "id": "5d7c3a4f",
   "metadata": {},
   "outputs": [
    {
     "name": "stdout",
     "output_type": "stream",
     "text": [
      "Akash\n",
      "s2 don't have any atrribute of 'name'\n"
     ]
    }
   ],
   "source": [
    "#other attribute function\n",
    "print(getattr(s1,\"name\")) # will return value\n",
    "print(getattr(s2,\"name\",\"s2 don't have any atrribute of 'name'\"))"
   ]
  },
  {
   "cell_type": "code",
   "execution_count": 21,
   "id": "c41cccbe",
   "metadata": {},
   "outputs": [
    {
     "name": "stdout",
     "output_type": "stream",
     "text": [
      "{'__module__': '__main__', '__dict__': <attribute '__dict__' of 'Student' objects>, '__weakref__': <attribute '__weakref__' of 'Student' objects>, '__doc__': None, 'totalStudents': 20}\n"
     ]
    }
   ],
   "source": [
    "# -> Class attributes\n",
    "   # attribute bounded by a class\n",
    "    \n",
    "Student.totalStudents = 20\n",
    "print(Student.__dict__)"
   ]
  },
  {
   "cell_type": "code",
   "execution_count": 23,
   "id": "472a54fc",
   "metadata": {},
   "outputs": [
    {
     "name": "stdout",
     "output_type": "stream",
     "text": [
      "{'__module__': '__main__', 'totalStudent': 20, 'TeacherName': 'Komal', '__dict__': <attribute '__dict__' of 'Student' objects>, '__weakref__': <attribute '__weakref__' of 'Student' objects>, '__doc__': None}\n"
     ]
    }
   ],
   "source": [
    "class Student:\n",
    "    # define class trribute\n",
    "    totalStudent = 20\n",
    "    TeacherName = \"Komal\"\n",
    "    \n",
    "s1,s2 = Student(),Student()\n",
    "print(Student.__dict__)"
   ]
  },
  {
   "cell_type": "code",
   "execution_count": 26,
   "id": "b1885645",
   "metadata": {},
   "outputs": [
    {
     "name": "stdout",
     "output_type": "stream",
     "text": [
      "20\n",
      "20\n",
      "20\n"
     ]
    }
   ],
   "source": [
    "print(Student.totalStudent)\n",
    "print(s1.totalStudent)\n",
    "print(s2.totalStudent)"
   ]
  },
  {
   "cell_type": "code",
   "execution_count": 27,
   "id": "f94bff85",
   "metadata": {},
   "outputs": [],
   "source": [
    "Student.totalStudent = 91 # it will update main 'totalStudent' "
   ]
  },
  {
   "cell_type": "code",
   "execution_count": 28,
   "id": "93b6dbd2",
   "metadata": {},
   "outputs": [
    {
     "name": "stdout",
     "output_type": "stream",
     "text": [
      "91\n",
      "91\n",
      "91\n"
     ]
    }
   ],
   "source": [
    "print(Student.totalStudent)\n",
    "print(s1.totalStudent)\n",
    "print(s2.totalStudent)"
   ]
  },
  {
   "cell_type": "code",
   "execution_count": 29,
   "id": "13ad37a4",
   "metadata": {},
   "outputs": [
    {
     "name": "stdout",
     "output_type": "stream",
     "text": [
      "{}\n",
      "{}\n"
     ]
    }
   ],
   "source": [
    "# but even s1 and s2 have no attribute , they just accessing the main attribute\n",
    "print(s1.__dict__)\n",
    "print(s2.__dict__)"
   ]
  },
  {
   "cell_type": "code",
   "execution_count": 30,
   "id": "c3cd0163",
   "metadata": {},
   "outputs": [],
   "source": [
    "# suppose you increase the 'totalStudent ' value from s1 or s2\n",
    "s1.totalStudent = 50"
   ]
  },
  {
   "cell_type": "code",
   "execution_count": 32,
   "id": "82b61c72",
   "metadata": {},
   "outputs": [
    {
     "name": "stdout",
     "output_type": "stream",
     "text": [
      "91\n",
      "50\n",
      "91\n"
     ]
    }
   ],
   "source": [
    "print(Student.totalStudent)\n",
    "print(s1.totalStudent) # only s1 totalStudent changes\n",
    "print(s2.totalStudent)"
   ]
  },
  {
   "cell_type": "code",
   "execution_count": 34,
   "id": "0ccb7482",
   "metadata": {},
   "outputs": [
    {
     "name": "stdout",
     "output_type": "stream",
     "text": [
      "{'totalStudent': 50}\n",
      "{}\n"
     ]
    }
   ],
   "source": [
    "print(s1.__dict__) # it will also create s1 instance attribute\n",
    "print(s2.__dict__)\n"
   ]
  },
  {
   "cell_type": "markdown",
   "id": "0203a297",
   "metadata": {},
   "source": [
    "### Methods "
   ]
  },
  {
   "cell_type": "code",
   "execution_count": 35,
   "id": "4b27f611",
   "metadata": {},
   "outputs": [],
   "source": [
    "# 3 type-> instance methods & Class methods & static methods"
   ]
  },
  {
   "cell_type": "code",
   "execution_count": 36,
   "id": "46e63600",
   "metadata": {},
   "outputs": [],
   "source": [
    "# Instance attributes:\n",
    "class Student:\n",
    "    # define class trribute\n",
    "    totalStudent = 20\n",
    "    TeacherName = \"Komal\"\n",
    "    \n",
    "    # instance attribute \n",
    "    def hello(self): # must needed to have a\n",
    "        print(\"hello\")\n",
    "    \n",
    "s1,s2 = Student(),Student()\n",
    "\n"
   ]
  },
  {
   "cell_type": "code",
   "execution_count": 37,
   "id": "9a789390",
   "metadata": {},
   "outputs": [
    {
     "ename": "TypeError",
     "evalue": "hello() takes 0 positional arguments but 1 was given",
     "output_type": "error",
     "traceback": [
      "\u001b[1;31m---------------------------------------------------------------------------\u001b[0m",
      "\u001b[1;31mTypeError\u001b[0m                                 Traceback (most recent call last)",
      "\u001b[1;32m<ipython-input-37-5c015e5184cc>\u001b[0m in \u001b[0;36m<module>\u001b[1;34m\u001b[0m\n\u001b[0;32m      1\u001b[0m \u001b[1;31m# method calling by instance variable\u001b[0m\u001b[1;33m\u001b[0m\u001b[1;33m\u001b[0m\u001b[1;33m\u001b[0m\u001b[0m\n\u001b[0;32m      2\u001b[0m \u001b[1;33m\u001b[0m\u001b[0m\n\u001b[1;32m----> 3\u001b[1;33m \u001b[0ms1\u001b[0m\u001b[1;33m.\u001b[0m\u001b[0mhello\u001b[0m\u001b[1;33m(\u001b[0m\u001b[1;33m)\u001b[0m\u001b[1;33m\u001b[0m\u001b[1;33m\u001b[0m\u001b[0m\n\u001b[0m",
      "\u001b[1;31mTypeError\u001b[0m: hello() takes 0 positional arguments but 1 was given"
     ]
    }
   ],
   "source": [
    "# method calling by instance variable\n",
    "\n",
    "s1.hello()"
   ]
  },
  {
   "cell_type": "code",
   "execution_count": null,
   "id": "48da07b2",
   "metadata": {},
   "outputs": [],
   "source": []
  }
 ],
 "metadata": {
  "kernelspec": {
   "display_name": "Python 3",
   "language": "python",
   "name": "python3"
  },
  "language_info": {
   "codemirror_mode": {
    "name": "ipython",
    "version": 3
   },
   "file_extension": ".py",
   "mimetype": "text/x-python",
   "name": "python",
   "nbconvert_exporter": "python",
   "pygments_lexer": "ipython3",
   "version": "3.8.10"
  }
 },
 "nbformat": 4,
 "nbformat_minor": 5
}
