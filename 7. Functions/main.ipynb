{
 "cells": [
  {
   "cell_type": "markdown",
   "id": "casual-psychology",
   "metadata": {},
   "source": [
    "# 7. Functions"
   ]
  },
  {
   "cell_type": "code",
   "execution_count": 4,
   "id": "acting-convenience",
   "metadata": {},
   "outputs": [
    {
     "name": "stdout",
     "output_type": "stream",
     "text": [
      "3\n",
      "4\n",
      "6\n",
      "24\n"
     ]
    }
   ],
   "source": [
    "def fact(x):\n",
    "    if x ==0:\n",
    "        return 1\n",
    "    return x*fact(x-1)\n",
    "\n",
    "n = int(input())\n",
    "r = int(input())\n",
    "\n",
    "print(fact(n))\n",
    "print(fact(r))"
   ]
  },
  {
   "cell_type": "code",
   "execution_count": null,
   "id": "patient-aquatic",
   "metadata": {},
   "outputs": [],
   "source": []
  },
  {
   "cell_type": "code",
   "execution_count": null,
   "id": "white-longer",
   "metadata": {},
   "outputs": [],
   "source": []
  }
 ],
 "metadata": {
  "kernelspec": {
   "display_name": "Python 3",
   "language": "python",
   "name": "python3"
  },
  "language_info": {
   "codemirror_mode": {
    "name": "ipython",
    "version": 3
   },
   "file_extension": ".py",
   "mimetype": "text/x-python",
   "name": "python",
   "nbconvert_exporter": "python",
   "pygments_lexer": "ipython3",
   "version": "3.8.3"
  }
 },
 "nbformat": 4,
 "nbformat_minor": 5
}
