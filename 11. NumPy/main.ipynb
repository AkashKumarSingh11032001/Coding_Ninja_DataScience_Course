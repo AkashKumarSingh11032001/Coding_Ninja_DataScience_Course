{
 "cells": [
  {
   "cell_type": "markdown",
   "id": "5c5c09f4",
   "metadata": {},
   "source": [
    "# 11. NumPy"
   ]
  },
  {
   "cell_type": "code",
   "execution_count": 1,
   "id": "ee61d897",
   "metadata": {},
   "outputs": [],
   "source": [
    "import numpy as np"
   ]
  },
  {
   "cell_type": "code",
   "execution_count": 1,
   "id": "c5d502d9",
   "metadata": {},
   "outputs": [
    {
     "name": "stdout",
     "output_type": "stream",
     "text": [
      "[1 2 3]\n",
      "<class 'numpy.ndarray'>\n"
     ]
    }
   ],
   "source": [
    "import numpy as np\n",
    "\n",
    "# create array using np\n",
    "a = [1,2,3]\n",
    "b = np.array(a)\n",
    "print(b)\n",
    "print(type(b))"
   ]
  },
  {
   "cell_type": "code",
   "execution_count": 4,
   "id": "91c3470c",
   "metadata": {},
   "outputs": [
    {
     "name": "stdout",
     "output_type": "stream",
     "text": [
      "['1' '2' '3' 'a' '5.2']\n"
     ]
    }
   ],
   "source": [
    "a = [1,2,3,'a',5.2]\n",
    "b = np.array(a)\n",
    "print(b)"
   ]
  },
  {
   "cell_type": "code",
   "execution_count": 7,
   "id": "72a367c0",
   "metadata": {},
   "outputs": [
    {
     "name": "stdout",
     "output_type": "stream",
     "text": [
      "[1.  2.  3.  5.2]\n"
     ]
    }
   ],
   "source": [
    "a = [1,2,3,5.2]\n",
    "b = np.array(a,dtype = float)\n",
    "print(b)"
   ]
  },
  {
   "cell_type": "code",
   "execution_count": 8,
   "id": "92316a9f",
   "metadata": {},
   "outputs": [
    {
     "name": "stdout",
     "output_type": "stream",
     "text": [
      "['1' '2' '3' 'a' '5.2' '1' '2' '3' 'a' '5.2' '1' '2' '3' 'a' '5.2']\n"
     ]
    }
   ],
   "source": [
    "a = [1,2,3,'a',5.2]\n",
    "b = np.array(a*3)\n",
    "print(b)"
   ]
  },
  {
   "cell_type": "code",
   "execution_count": 13,
   "id": "0797ecb7",
   "metadata": {},
   "outputs": [
    {
     "name": "stdout",
     "output_type": "stream",
     "text": [
      "[1. 1. 1.]\n",
      "[1 1 1]\n"
     ]
    }
   ],
   "source": [
    "b = np.ones(3)\n",
    "print(b)\n",
    "c = np.ones(3,dtype = int)\n",
    "print(c)"
   ]
  },
  {
   "cell_type": "code",
   "execution_count": 14,
   "id": "3573d257",
   "metadata": {},
   "outputs": [
    {
     "name": "stdout",
     "output_type": "stream",
     "text": [
      "[0. 0. 0.]\n",
      "[0 0 0]\n"
     ]
    }
   ],
   "source": [
    "b = np.zeros(3)\n",
    "print(b)\n",
    "c = np.zeros(3,dtype = int)\n",
    "print(c)"
   ]
  },
  {
   "cell_type": "code",
   "execution_count": 17,
   "id": "14565174",
   "metadata": {
    "scrolled": true
   },
   "outputs": [
    {
     "data": {
      "text/plain": [
       "array([[1, 1, 1],\n",
       "       [1, 1, 1]])"
      ]
     },
     "execution_count": 17,
     "metadata": {},
     "output_type": "execute_result"
    }
   ],
   "source": [
    "# 2d array\n",
    "c = np.ones((2,3),dtype = int)\n",
    "c"
   ]
  },
  {
   "cell_type": "code",
   "execution_count": 19,
   "id": "b9492bd6",
   "metadata": {},
   "outputs": [
    {
     "name": "stdout",
     "output_type": "stream",
     "text": [
      "[[0 0 0 0]\n",
      " [0 0 0 0]\n",
      " [0 0 0 0]]\n"
     ]
    }
   ],
   "source": [
    "c = np.zeros((3,4),dtype = int)\n",
    "print(c)"
   ]
  },
  {
   "cell_type": "code",
   "execution_count": 22,
   "id": "a85f1f0e",
   "metadata": {},
   "outputs": [
    {
     "data": {
      "text/plain": [
       "array([9., 9., 9.])"
      ]
     },
     "execution_count": 22,
     "metadata": {},
     "output_type": "execute_result"
    }
   ],
   "source": [
    "b = np.full(3,9,dtype = float)\n",
    "b"
   ]
  },
  {
   "cell_type": "code",
   "execution_count": 24,
   "id": "c4ea3020",
   "metadata": {},
   "outputs": [
    {
     "data": {
      "text/plain": [
       "array([[9., 9., 9., 9.],\n",
       "       [9., 9., 9., 9.],\n",
       "       [9., 9., 9., 9.]])"
      ]
     },
     "execution_count": 24,
     "metadata": {},
     "output_type": "execute_result"
    }
   ],
   "source": [
    "b = np.full((3,4),9,dtype = float)\n",
    "b"
   ]
  },
  {
   "cell_type": "code",
   "execution_count": 18,
   "id": "2ae1c0af",
   "metadata": {},
   "outputs": [
    {
     "data": {
      "text/plain": [
       "array([[0.000e+000, 0.000e+000, 0.000e+000],\n",
       "       [0.000e+000, 0.000e+000, 6.265e-321],\n",
       "       [0.000e+000, 0.000e+000, 0.000e+000]])"
      ]
     },
     "execution_count": 18,
     "metadata": {},
     "output_type": "execute_result"
    }
   ],
   "source": [
    "b = np.empty((3,3))\n",
    "b"
   ]
  },
  {
   "cell_type": "code",
   "execution_count": 20,
   "id": "f46738c9",
   "metadata": {},
   "outputs": [
    {
     "data": {
      "text/plain": [
       "array([0, 1, 2, 3, 4, 5, 6, 7, 8, 9])"
      ]
     },
     "execution_count": 20,
     "metadata": {},
     "output_type": "execute_result"
    }
   ],
   "source": [
    "b = np.arange(10) # end point not inclusive\n",
    "b"
   ]
  },
  {
   "cell_type": "code",
   "execution_count": 22,
   "id": "c31cfe68",
   "metadata": {},
   "outputs": [
    {
     "data": {
      "text/plain": [
       "array([1, 3, 5, 7, 9])"
      ]
     },
     "execution_count": 22,
     "metadata": {},
     "output_type": "execute_result"
    }
   ],
   "source": [
    "b = np.arange(1,11,2)\n",
    "b"
   ]
  },
  {
   "cell_type": "code",
   "execution_count": 25,
   "id": "755ea638",
   "metadata": {},
   "outputs": [
    {
     "data": {
      "text/plain": [
       "array([ 2.        ,  2.16326531,  2.32653061,  2.48979592,  2.65306122,\n",
       "        2.81632653,  2.97959184,  3.14285714,  3.30612245,  3.46938776,\n",
       "        3.63265306,  3.79591837,  3.95918367,  4.12244898,  4.28571429,\n",
       "        4.44897959,  4.6122449 ,  4.7755102 ,  4.93877551,  5.10204082,\n",
       "        5.26530612,  5.42857143,  5.59183673,  5.75510204,  5.91836735,\n",
       "        6.08163265,  6.24489796,  6.40816327,  6.57142857,  6.73469388,\n",
       "        6.89795918,  7.06122449,  7.2244898 ,  7.3877551 ,  7.55102041,\n",
       "        7.71428571,  7.87755102,  8.04081633,  8.20408163,  8.36734694,\n",
       "        8.53061224,  8.69387755,  8.85714286,  9.02040816,  9.18367347,\n",
       "        9.34693878,  9.51020408,  9.67346939,  9.83673469, 10.        ])"
      ]
     },
     "execution_count": 25,
     "metadata": {},
     "output_type": "execute_result"
    }
   ],
   "source": [
    "b = np.linspace(2,10)\n",
    "b"
   ]
  },
  {
   "cell_type": "code",
   "execution_count": 82,
   "id": "7bc15146",
   "metadata": {},
   "outputs": [
    {
     "data": {
      "text/plain": [
       "array([ 2,  4,  6,  8, 10])"
      ]
     },
     "execution_count": 82,
     "metadata": {},
     "output_type": "execute_result"
    }
   ],
   "source": [
    "b = np.linspace(2,10,5,dtype = int,endpoint = True) # end point inclusive\n",
    "b"
   ]
  },
  {
   "cell_type": "code",
   "execution_count": 30,
   "id": "4a5cc49e",
   "metadata": {},
   "outputs": [
    {
     "data": {
      "text/plain": [
       "array([[1, 0, 0],\n",
       "       [0, 1, 0],\n",
       "       [0, 0, 1]])"
      ]
     },
     "execution_count": 30,
     "metadata": {},
     "output_type": "execute_result"
    }
   ],
   "source": [
    "b = np.identity(3,dtype = int) # only generate sqaure matrix(n x n)\n",
    "b"
   ]
  },
  {
   "cell_type": "code",
   "execution_count": 31,
   "id": "bcfe633a",
   "metadata": {},
   "outputs": [
    {
     "data": {
      "text/plain": [
       "array([[1, 0, 0],\n",
       "       [0, 1, 0],\n",
       "       [0, 0, 1]])"
      ]
     },
     "execution_count": 31,
     "metadata": {},
     "output_type": "execute_result"
    }
   ],
   "source": [
    "b = np.eye(3,dtype = int)  # generate any matrix(n x m)\n",
    "b"
   ]
  },
  {
   "cell_type": "code",
   "execution_count": 32,
   "id": "ad5c0b04",
   "metadata": {},
   "outputs": [
    {
     "data": {
      "text/plain": [
       "array([0.59356398, 0.64099128, 0.05115084])"
      ]
     },
     "execution_count": 32,
     "metadata": {},
     "output_type": "execute_result"
    }
   ],
   "source": [
    "b = np.random.rand(3) # range 0 to 1\n",
    "b"
   ]
  },
  {
   "cell_type": "code",
   "execution_count": 34,
   "id": "6ae5b5cd",
   "metadata": {},
   "outputs": [
    {
     "data": {
      "text/plain": [
       "array([[0.61371332, 0.50312177, 0.16849712],\n",
       "       [0.53279439, 0.25069826, 0.04660084]])"
      ]
     },
     "execution_count": 34,
     "metadata": {},
     "output_type": "execute_result"
    }
   ],
   "source": [
    "b = np.random.rand(2,3) # range 0 to 1\n",
    "b"
   ]
  },
  {
   "cell_type": "code",
   "execution_count": 37,
   "id": "72eb4ffe",
   "metadata": {},
   "outputs": [
    {
     "data": {
      "text/plain": [
       "array([3.02725739, 8.48553934, 5.48205724, 7.79862928, 3.00226321,\n",
       "       5.36991624, 5.86897075, 7.08340834, 5.41932375, 5.54689119])"
      ]
     },
     "execution_count": 37,
     "metadata": {},
     "output_type": "execute_result"
    }
   ],
   "source": [
    "b = np.random.rand(10) * 10 # range 0 to 1\n",
    "b"
   ]
  },
  {
   "cell_type": "code",
   "execution_count": 79,
   "id": "247c1efb",
   "metadata": {},
   "outputs": [
    {
     "data": {
      "text/plain": [
       "1"
      ]
     },
     "execution_count": 79,
     "metadata": {},
     "output_type": "execute_result"
    }
   ],
   "source": [
    "b = np.random.randint(2)# genrate random number less than mentioned num\n",
    "b"
   ]
  },
  {
   "cell_type": "code",
   "execution_count": 91,
   "id": "8043a292",
   "metadata": {
    "scrolled": true
   },
   "outputs": [
    {
     "data": {
      "text/plain": [
       "array([[ 1, 24, 15,  3],\n",
       "       [22, 20, 24, 22],\n",
       "       [22,  1,  3,  5],\n",
       "       [ 0, 19, 24, 14]])"
      ]
     },
     "execution_count": 91,
     "metadata": {},
     "output_type": "execute_result"
    }
   ],
   "source": [
    "b = np.random.randint(25,size = (4,4))\n",
    "b"
   ]
  },
  {
   "cell_type": "markdown",
   "id": "f26b1756",
   "metadata": {},
   "source": [
    "### Slicing and Indexing In Numpy Array's"
   ]
  },
  {
   "cell_type": "code",
   "execution_count": 11,
   "id": "6759dfbd",
   "metadata": {},
   "outputs": [
    {
     "name": "stdout",
     "output_type": "stream",
     "text": [
      "[1, 2, 3, 4]\n",
      "[1 2 3 4]\n"
     ]
    }
   ],
   "source": [
    "# 1d numpy array\n",
    "a = [1,2,3,4]\n",
    "arr = np.array(a)\n",
    "\n",
    "print(a)\n",
    "print(arr)"
   ]
  },
  {
   "cell_type": "code",
   "execution_count": 13,
   "id": "f515086d",
   "metadata": {},
   "outputs": [
    {
     "name": "stdout",
     "output_type": "stream",
     "text": [
      "<memory at 0x000001EF25D817C0>\n",
      "(4,)\n",
      "int32\n",
      "(4,)\n"
     ]
    }
   ],
   "source": [
    "print(arr.data)\n",
    "print(arr.shape)\n",
    "print(arr.dtype)\n",
    "print(arr.strides)"
   ]
  },
  {
   "cell_type": "code",
   "execution_count": 16,
   "id": "3a7739eb",
   "metadata": {},
   "outputs": [
    {
     "name": "stdout",
     "output_type": "stream",
     "text": [
      "3\n",
      "3\n",
      "[2, 3, 4]\n",
      "[2 3 4]\n"
     ]
    }
   ],
   "source": [
    "# indexing\n",
    "print(a[2])\n",
    "print(arr[2])\n",
    "# slicing\n",
    "print(a[1:4])\n",
    "print(arr[1:4])"
   ]
  },
  {
   "cell_type": "code",
   "execution_count": 40,
   "id": "657fd5ab",
   "metadata": {},
   "outputs": [
    {
     "name": "stdout",
     "output_type": "stream",
     "text": [
      "[[1, 2, 3, 4], [4, 5, 6, 7], [8, 9, 10, 11], [12, 13, 14, 15]]\n",
      "[[ 1  2  3  4]\n",
      " [ 4  5  6  7]\n",
      " [ 8  9 10 11]\n",
      " [12 13 14 15]]\n"
     ]
    }
   ],
   "source": [
    "# 2d numpy array\n",
    "a = [[1,2,3,4],[4,5,6,7],[8,9,10,11],[12,13,14,15]]\n",
    "arr = np.array(a)\n",
    "\n",
    "print(a)\n",
    "print(arr)"
   ]
  },
  {
   "cell_type": "code",
   "execution_count": 41,
   "id": "f378838c",
   "metadata": {},
   "outputs": [
    {
     "name": "stdout",
     "output_type": "stream",
     "text": [
      "<memory at 0x000001EF34390C70>\n",
      "(4, 4)\n",
      "int32\n",
      "(16, 4)\n"
     ]
    }
   ],
   "source": [
    "print(arr.data)\n",
    "print(arr.shape)\n",
    "print(arr.dtype)\n",
    "print(arr.strides)"
   ]
  },
  {
   "cell_type": "code",
   "execution_count": null,
   "id": "c2264159",
   "metadata": {},
   "outputs": [],
   "source": []
  },
  {
   "cell_type": "code",
   "execution_count": 42,
   "id": "48b19bde",
   "metadata": {},
   "outputs": [
    {
     "name": "stdout",
     "output_type": "stream",
     "text": [
      "9\n",
      "9\n",
      "9\n",
      "[4 5 6]\n",
      "[4 5 6]\n",
      "[ 8  9 10 11]\n",
      "[ 3  6 10]\n",
      "[[ 9 10]\n",
      " [13 14]]\n"
     ]
    }
   ],
   "source": [
    "# indexing\n",
    "print(a[2][1])\n",
    "print(arr[2][1])\n",
    "#or\n",
    "print(arr[2,1])\n",
    "\n",
    "# slicing\n",
    "\n",
    "# column varies \n",
    "print(arr[1][:3])\n",
    "#or\n",
    "print(arr[1,:3])\n",
    "\n",
    "# row varies\n",
    "print(arr[:3][2]) # wrong\n",
    "print(arr[0:3,2]) # correct\n",
    "\n",
    "# imp\n",
    "print(arr[2:4,1:3])"
   ]
  },
  {
   "cell_type": "markdown",
   "id": "8b86d0d4",
   "metadata": {},
   "source": [
    "### Mathematical Operation"
   ]
  },
  {
   "cell_type": "code",
   "execution_count": 44,
   "id": "3eb5487a",
   "metadata": {},
   "outputs": [
    {
     "name": "stdout",
     "output_type": "stream",
     "text": [
      "[1, 2, 3, 4]\n",
      "[13  5 16 14 13]\n",
      "[ 8 15  9 17 10]\n"
     ]
    }
   ],
   "source": [
    "lis = [1,2,3,4]\n",
    "np_arr_1 = np.random.randint(1,20,5)\n",
    "np_arr_2 = np.random.randint(1,20,5)\n",
    "\n",
    "print(lis)\n",
    "print(np_arr_1)\n",
    "print(np_arr_2)"
   ]
  },
  {
   "cell_type": "code",
   "execution_count": 48,
   "id": "3abfc9eb",
   "metadata": {},
   "outputs": [
    {
     "name": "stdout",
     "output_type": "stream",
     "text": [
      "[3, 4, 5, 6]\n",
      "[14  6 17 15 14]\n"
     ]
    }
   ],
   "source": [
    "# adding \n",
    "#list\n",
    "lis = [i+1 for i in lis]\n",
    "print(lis)\n",
    "#numpy\n",
    "np_arr_1 = np_arr_1 +1\n",
    "print(np_arr_1)"
   ]
  },
  {
   "cell_type": "code",
   "execution_count": 50,
   "id": "bea12267",
   "metadata": {},
   "outputs": [
    {
     "name": "stdout",
     "output_type": "stream",
     "text": [
      "[22 21 26 32 24]\n",
      "[ 6 -9  8 -2  4]\n",
      "[112  90 153 255 140]\n",
      "[1.75       0.4        1.88888889 0.88235294 1.4       ]\n",
      "[1 0 1 0 1]\n",
      "[ 6  6  8 15  4]\n",
      "[ 1475789056  2033549312 -1671207791 -1583482609  1491846144]\n"
     ]
    }
   ],
   "source": [
    "# elemrnt by ele addition in bte two numpy\n",
    "c = np_arr_1 + np_arr_2\n",
    "print(c)\n",
    "c = np_arr_1 - np_arr_2\n",
    "print(c)\n",
    "c = np_arr_1 * np_arr_2\n",
    "print(c)\n",
    "c = np_arr_1 / np_arr_2\n",
    "print(c)\n",
    "c = np_arr_1 // np_arr_2\n",
    "print(c)\n",
    "c = np_arr_1 % np_arr_2\n",
    "print(c)\n",
    "c = np_arr_1 ** np_arr_2\n",
    "print(c)"
   ]
  },
  {
   "cell_type": "code",
   "execution_count": 52,
   "id": "e3abf03d",
   "metadata": {},
   "outputs": [
    {
     "name": "stdout",
     "output_type": "stream",
     "text": [
      "66\n",
      "13.2\n",
      "6\n",
      "17\n",
      "2\n"
     ]
    }
   ],
   "source": [
    "print(np_arr_1.sum())\n",
    "print(np_arr_1.mean())\n",
    "print(np_arr_1.min())\n",
    "print(np_arr_1.max())\n",
    "print(np_arr_1.argmax())\n"
   ]
  },
  {
   "cell_type": "code",
   "execution_count": 53,
   "id": "c4e25104",
   "metadata": {},
   "outputs": [
    {
     "name": "stdout",
     "output_type": "stream",
     "text": [
      "[14  6 17 15 14]\n",
      "[ 8 15  9 17 10]\n"
     ]
    }
   ],
   "source": [
    "print(np_arr_1)\n",
    "print(np_arr_2)"
   ]
  },
  {
   "cell_type": "code",
   "execution_count": 55,
   "id": "75fd6f4c",
   "metadata": {},
   "outputs": [
    {
     "data": {
      "text/plain": [
       "array([ True, False,  True, False,  True])"
      ]
     },
     "execution_count": 55,
     "metadata": {},
     "output_type": "execute_result"
    }
   ],
   "source": [
    "np_arr_1 > np_arr_2"
   ]
  },
  {
   "cell_type": "code",
   "execution_count": 57,
   "id": "6b1817af",
   "metadata": {},
   "outputs": [
    {
     "data": {
      "text/plain": [
       "array([False,  True, False,  True, False])"
      ]
     },
     "execution_count": 57,
     "metadata": {},
     "output_type": "execute_result"
    }
   ],
   "source": [
    "np_arr_1 < np_arr_2"
   ]
  },
  {
   "cell_type": "code",
   "execution_count": 59,
   "id": "1ec3f413",
   "metadata": {},
   "outputs": [
    {
     "data": {
      "text/plain": [
       "array([False, False, False, False, False])"
      ]
     },
     "execution_count": 59,
     "metadata": {},
     "output_type": "execute_result"
    }
   ],
   "source": [
    "np_arr_1 == np_arr_2"
   ]
  },
  {
   "cell_type": "code",
   "execution_count": 62,
   "id": "a9738e0a",
   "metadata": {},
   "outputs": [
    {
     "name": "stdout",
     "output_type": "stream",
     "text": [
      "[ True  True  True  True  True]\n",
      "[False False False False False]\n",
      "[0 0 0 0 0]\n"
     ]
    }
   ],
   "source": [
    "print(np.logical_or(np_arr_1 , np_arr_2))\n",
    "print(np.logical_and(np_arr_1 , np_arr_2))\n",
    "print(np.logical_not(np_arr_1 , np_arr_2))"
   ]
  },
  {
   "cell_type": "code",
   "execution_count": null,
   "id": "b22f59a7",
   "metadata": {},
   "outputs": [],
   "source": []
  },
  {
   "cell_type": "markdown",
   "id": "1783e935",
   "metadata": {},
   "source": [
    "### Assigment Problem "
   ]
  },
  {
   "cell_type": "code",
   "execution_count": 28,
   "id": "b1b06546",
   "metadata": {},
   "outputs": [
    {
     "data": {
      "text/plain": [
       "array([[1, 2, 3],\n",
       "       [4, 5, 6],\n",
       "       [7, 8, 9]])"
      ]
     },
     "execution_count": 28,
     "metadata": {},
     "output_type": "execute_result"
    }
   ],
   "source": [
    "a = [[1,2,3],[4,5,6],[7,8,9]]\n",
    "b = np.array(a)\n",
    "b"
   ]
  },
  {
   "cell_type": "code",
   "execution_count": 17,
   "id": "621dd830",
   "metadata": {},
   "outputs": [
    {
     "data": {
      "text/plain": [
       "array([0, 1, 2, 3, 4, 5, 6, 7, 8, 9])"
      ]
     },
     "execution_count": 17,
     "metadata": {},
     "output_type": "execute_result"
    }
   ],
   "source": [
    "a = np.arange(10) * 1\n",
    "a = "
   ]
  },
  {
   "cell_type": "code",
   "execution_count": 85,
   "id": "f522a7fe",
   "metadata": {
    "scrolled": true
   },
   "outputs": [
    {
     "data": {
      "text/plain": [
       "array([ 9, 10, 11, 12, 13, 14, 15, 16, 17, 18, 19, 20, 21, 22, 23, 24, 25,\n",
       "       26, 27, 28, 29, 30, 31, 32, 33, 34, 35, 36, 37, 38, 39, 40, 41, 42,\n",
       "       43, 44, 45, 46, 47, 49])"
      ]
     },
     "execution_count": 85,
     "metadata": {},
     "output_type": "execute_result"
    }
   ],
   "source": [
    "a = np.linspace(9,49,40,dtype = int)\n",
    "a"
   ]
  },
  {
   "cell_type": "code",
   "execution_count": 89,
   "id": "08f67412",
   "metadata": {},
   "outputs": [
    {
     "data": {
      "text/plain": [
       "array([[1, 0, 0, 0, 0, 0],\n",
       "       [0, 1, 0, 0, 0, 0],\n",
       "       [0, 0, 1, 0, 0, 0],\n",
       "       [0, 0, 0, 1, 0, 0],\n",
       "       [0, 0, 0, 0, 1, 0]])"
      ]
     },
     "execution_count": 89,
     "metadata": {},
     "output_type": "execute_result"
    }
   ],
   "source": [
    "a = np.eye(5,6,dtype = int)\n",
    "a"
   ]
  },
  {
   "cell_type": "code",
   "execution_count": 27,
   "id": "201c8192",
   "metadata": {},
   "outputs": [
    {
     "data": {
      "text/plain": [
       "array([0.   , 0.625, 1.25 , 1.875, 2.5  , 3.125, 3.75 , 4.375, 5.   ])"
      ]
     },
     "execution_count": 27,
     "metadata": {},
     "output_type": "execute_result"
    }
   ],
   "source": [
    "a = np.linspace(0,5,9)\n",
    "a"
   ]
  },
  {
   "cell_type": "code",
   "execution_count": 37,
   "id": "284d3d60",
   "metadata": {},
   "outputs": [
    {
     "name": "stdout",
     "output_type": "stream",
     "text": [
      "[[ 1  2  3  4  5]\n",
      " [ 6  7  8  9 10]\n",
      " [11 12 13 14 15]\n",
      " [16 17 18 19 20]]\n",
      "solution 1 : [11 12 13]\n",
      "solution 2 : [ 9 14 19]\n",
      "solution 3 : [[11 12 13 14 15]\n",
      " [16 17 18 19 20]]\n",
      "solution 4 : [[ 7  8]\n",
      " [12 13]]\n"
     ]
    }
   ],
   "source": [
    "arr = [[1,2,3,4,5],[6,7,8,9,10],[11,12,13,14,15],[16,17,18,19,20]]\n",
    "np_arr = np.array(arr)\n",
    "\n",
    "print(np_arr)\n",
    "# question 1\n",
    "print(f\"solution 1 : {np_arr[2, :3]}\")\n",
    "# question 2\n",
    "print(f\"solution 2 : {np_arr[1:4 ,3]}\")\n",
    "# question 3\n",
    "print(f\"solution 3 : {np_arr[2:4, :5]}\")\n",
    "# question 4\n",
    "print(f\"solution 4 : {np_arr[1:3, 1:3]}\")"
   ]
  }
 ],
 "metadata": {
  "kernelspec": {
   "display_name": "Python 3",
   "language": "python",
   "name": "python3"
  },
  "language_info": {
   "codemirror_mode": {
    "name": "ipython",
    "version": 3
   },
   "file_extension": ".py",
   "mimetype": "text/x-python",
   "name": "python",
   "nbconvert_exporter": "python",
   "pygments_lexer": "ipython3",
   "version": "3.8.10"
  }
 },
 "nbformat": 4,
 "nbformat_minor": 5
}
