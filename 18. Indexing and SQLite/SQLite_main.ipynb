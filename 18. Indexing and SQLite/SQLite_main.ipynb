{
 "cells": [
  {
   "cell_type": "markdown",
   "id": "a7e3af38",
   "metadata": {},
   "source": [
    "# Indexing and SQLite"
   ]
  },
  {
   "cell_type": "code",
   "execution_count": 1,
   "id": "e1e424df",
   "metadata": {},
   "outputs": [],
   "source": [
    "import sqlite3"
   ]
  },
  {
   "cell_type": "code",
   "execution_count": 3,
   "id": "9ef54cee",
   "metadata": {},
   "outputs": [
    {
     "data": {
      "text/plain": [
       "<sqlite3.Connection at 0x20cbc50db70>"
      ]
     },
     "execution_count": 3,
     "metadata": {},
     "output_type": "execute_result"
    }
   ],
   "source": [
    "db = sqlite3.connect('IMDB.sqlite')\n",
    "db"
   ]
  },
  {
   "cell_type": "code",
   "execution_count": 4,
   "id": "13777f0a",
   "metadata": {},
   "outputs": [
    {
     "data": {
      "text/plain": [
       "<sqlite3.Connection at 0x20cbc50dc60>"
      ]
     },
     "execution_count": 4,
     "metadata": {},
     "output_type": "execute_result"
    }
   ],
   "source": [
    "# new database \n",
    "\n",
    "db = sqlite3.connect('School.sqlite')\n",
    "db"
   ]
  },
  {
   "cell_type": "code",
   "execution_count": 5,
   "id": "6f04b059",
   "metadata": {},
   "outputs": [
    {
     "data": {
      "text/plain": [
       "<sqlite3.Cursor at 0x20cbc64a3b0>"
      ]
     },
     "execution_count": 5,
     "metadata": {},
     "output_type": "execute_result"
    }
   ],
   "source": [
    "# create cursor object\n",
    "cur = db.cursor()\n",
    "cur"
   ]
  },
  {
   "cell_type": "code",
   "execution_count": 6,
   "id": "133bc418",
   "metadata": {},
   "outputs": [
    {
     "data": {
      "text/plain": [
       "<sqlite3.Cursor at 0x20cbc64a3b0>"
      ]
     },
     "execution_count": 6,
     "metadata": {},
     "output_type": "execute_result"
    }
   ],
   "source": [
    "# create new table\n",
    "sql_query = 'create table Student(RollNo int Primary Key,Name Text,Age int)'\n",
    "\n",
    "# execute this query\n",
    "cur.execute(sql_query)"
   ]
  },
  {
   "cell_type": "code",
   "execution_count": 8,
   "id": "f2a73803",
   "metadata": {},
   "outputs": [
    {
     "data": {
      "text/plain": [
       "<sqlite3.Cursor at 0x20cbc64a3b0>"
      ]
     },
     "execution_count": 8,
     "metadata": {},
     "output_type": "execute_result"
    }
   ],
   "source": [
    "cur.execute('Insert into Student values(101,\"Aman\",20)')"
   ]
  },
  {
   "cell_type": "code",
   "execution_count": 9,
   "id": "17d0ce1a",
   "metadata": {},
   "outputs": [],
   "source": [
    "# refect change int database or dbbroweser\n",
    "db.commit()"
   ]
  },
  {
   "cell_type": "code",
   "execution_count": 10,
   "id": "d93c3376",
   "metadata": {},
   "outputs": [],
   "source": [
    "cur.execute('Insert into Student values(102,\"Akash\",21)')\n",
    "db.commit()"
   ]
  },
  {
   "cell_type": "code",
   "execution_count": 11,
   "id": "ce9eb20a",
   "metadata": {},
   "outputs": [],
   "source": [
    "# close connetiom\n",
    "db.close()"
   ]
  },
  {
   "cell_type": "code",
   "execution_count": 13,
   "id": "f358f597",
   "metadata": {},
   "outputs": [
    {
     "ename": "ProgrammingError",
     "evalue": "Cannot operate on a closed database.",
     "output_type": "error",
     "traceback": [
      "\u001b[1;31m---------------------------------------------------------------------------\u001b[0m",
      "\u001b[1;31mProgrammingError\u001b[0m                          Traceback (most recent call last)",
      "\u001b[1;32m<ipython-input-13-50e2c37c1b9b>\u001b[0m in \u001b[0;36m<module>\u001b[1;34m\u001b[0m\n\u001b[1;32m----> 1\u001b[1;33m \u001b[0mcur\u001b[0m\u001b[1;33m.\u001b[0m\u001b[0mexecute\u001b[0m\u001b[1;33m(\u001b[0m\u001b[1;34m'Insert into Student values(102,\"Akash\",21)'\u001b[0m\u001b[1;33m)\u001b[0m\u001b[1;33m\u001b[0m\u001b[1;33m\u001b[0m\u001b[0m\n\u001b[0m\u001b[0;32m      2\u001b[0m \u001b[0mdb\u001b[0m\u001b[1;33m.\u001b[0m\u001b[0mcommit\u001b[0m\u001b[1;33m(\u001b[0m\u001b[1;33m)\u001b[0m\u001b[1;33m\u001b[0m\u001b[1;33m\u001b[0m\u001b[0m\n",
      "\u001b[1;31mProgrammingError\u001b[0m: Cannot operate on a closed database."
     ]
    }
   ],
   "source": [
    "cur.execute('Insert into Student values(102,\"Akash\",21)')\n",
    "db.commit()"
   ]
  },
  {
   "cell_type": "markdown",
   "id": "b77d6d79",
   "metadata": {},
   "source": [
    "### Assignment create Employe Table"
   ]
  },
  {
   "cell_type": "code",
   "execution_count": 2,
   "id": "53718aab",
   "metadata": {
    "scrolled": true
   },
   "outputs": [],
   "source": [
    "db = sqlite3.connect('Employee.sqlite')\n",
    "cur = db.cursor()\n"
   ]
  },
  {
   "cell_type": "code",
   "execution_count": 3,
   "id": "740cf581",
   "metadata": {},
   "outputs": [
    {
     "ename": "OperationalError",
     "evalue": "table EmployeeDetail already exists",
     "output_type": "error",
     "traceback": [
      "\u001b[1;31m---------------------------------------------------------------------------\u001b[0m",
      "\u001b[1;31mOperationalError\u001b[0m                          Traceback (most recent call last)",
      "\u001b[1;32m<ipython-input-3-af73154ff84a>\u001b[0m in \u001b[0;36m<module>\u001b[1;34m\u001b[0m\n\u001b[1;32m----> 1\u001b[1;33m \u001b[0mcur\u001b[0m\u001b[1;33m.\u001b[0m\u001b[0mexecute\u001b[0m\u001b[1;33m(\u001b[0m\u001b[1;34m'create table EmployeeDetail(Employee_id int Primary Key, Name varchar(100), Age int, Department varchar(100), Salary int)'\u001b[0m\u001b[1;33m)\u001b[0m\u001b[1;33m\u001b[0m\u001b[1;33m\u001b[0m\u001b[0m\n\u001b[0m\u001b[0;32m      2\u001b[0m \u001b[0mdb\u001b[0m\u001b[1;33m.\u001b[0m\u001b[0mcommit\u001b[0m\u001b[1;33m(\u001b[0m\u001b[1;33m)\u001b[0m\u001b[1;33m\u001b[0m\u001b[1;33m\u001b[0m\u001b[0m\n",
      "\u001b[1;31mOperationalError\u001b[0m: table EmployeeDetail already exists"
     ]
    }
   ],
   "source": [
    "cur.execute('create table EmployeeDetail(Employee_id int Primary Key, Name varchar(100), Age int, Department varchar(100), Salary int)')\n",
    "db.commit()"
   ]
  },
  {
   "cell_type": "code",
   "execution_count": 7,
   "id": "cb98ea7f",
   "metadata": {},
   "outputs": [],
   "source": [
    "cur.execute('insert into EmployeeDetail values(100,\"Rishav\",25,\"Marketing\",50000),(101,\"Abhishek\",26,\"Operation\",60000),(102,\"Rishav\",24,\"Human Resource\",750000)')\n",
    "\n",
    "db.commit()"
   ]
  },
  {
   "cell_type": "code",
   "execution_count": 31,
   "id": "12e11b72",
   "metadata": {},
   "outputs": [],
   "source": [
    "cur.execute('delete from EmployeeDetail where Employee_id = 101')\n",
    "\n",
    "db.commit()"
   ]
  },
  {
   "cell_type": "code",
   "execution_count": 32,
   "id": "8b5fe764",
   "metadata": {},
   "outputs": [],
   "source": [
    "emp_id = 102\n",
    "cur.execute('delete from EmployeeDetail where Employee_id = ?',(emp_id,))\n",
    "\n",
    "db.commit()"
   ]
  },
  {
   "cell_type": "code",
   "execution_count": 6,
   "id": "3a5f3bba",
   "metadata": {},
   "outputs": [],
   "source": [
    "cur.execute('delete from EmployeeDetail where Employee_id = 100')\n",
    "\n",
    "db.commit()"
   ]
  },
  {
   "cell_type": "code",
   "execution_count": 10,
   "id": "4a5b843d",
   "metadata": {},
   "outputs": [
    {
     "name": "stdout",
     "output_type": "stream",
     "text": [
      "(100,)\n"
     ]
    }
   ],
   "source": [
    "cur.execute('select Employee_id from EmployeeDetail where Department = \"Marketing\"')\n",
    "for i in cur:\n",
    "    print(i)"
   ]
  },
  {
   "cell_type": "code",
   "execution_count": 12,
   "id": "791ce283",
   "metadata": {},
   "outputs": [
    {
     "name": "stdout",
     "output_type": "stream",
     "text": [
      "('Human Resource', 1)\n",
      "('Marketing', 1)\n",
      "('Operation', 1)\n"
     ]
    }
   ],
   "source": [
    "cur.execute('select Department,count(Employee_id) from EmployeeDetail group by Department')\n",
    "for i in cur:\n",
    "    print(i)"
   ]
  },
  {
   "cell_type": "markdown",
   "id": "ae4691ed",
   "metadata": {},
   "source": [
    "#### ma'am "
   ]
  },
  {
   "cell_type": "code",
   "execution_count": 33,
   "id": "19a8397f",
   "metadata": {},
   "outputs": [],
   "source": [
    "db = sqlite3.connect('School.sqlite')\n",
    "cur = db.cursor()\n"
   ]
  },
  {
   "cell_type": "code",
   "execution_count": 36,
   "id": "49e35e9c",
   "metadata": {},
   "outputs": [
    {
     "ename": "OperationalError",
     "evalue": "database is locked",
     "output_type": "error",
     "traceback": [
      "\u001b[1;31m---------------------------------------------------------------------------\u001b[0m",
      "\u001b[1;31mOperationalError\u001b[0m                          Traceback (most recent call last)",
      "\u001b[1;32m<ipython-input-36-8f67e9da59f9>\u001b[0m in \u001b[0;36m<module>\u001b[1;34m\u001b[0m\n\u001b[1;32m----> 1\u001b[1;33m \u001b[0mcur\u001b[0m\u001b[1;33m.\u001b[0m\u001b[0mexecute\u001b[0m\u001b[1;33m(\u001b[0m\u001b[1;34m'Insert into Student values(103,\"Abid\",21)'\u001b[0m\u001b[1;33m)\u001b[0m\u001b[1;33m\u001b[0m\u001b[1;33m\u001b[0m\u001b[0m\n\u001b[0m\u001b[0;32m      2\u001b[0m \u001b[0mdb\u001b[0m\u001b[1;33m.\u001b[0m\u001b[0mcommit\u001b[0m\u001b[1;33m(\u001b[0m\u001b[1;33m)\u001b[0m\u001b[1;33m\u001b[0m\u001b[1;33m\u001b[0m\u001b[0m\n",
      "\u001b[1;31mOperationalError\u001b[0m: database is locked"
     ]
    }
   ],
   "source": [
    "cur.execute('Insert into Student values(103,\"Abid\",21)')\n",
    "db.commit()"
   ]
  },
  {
   "cell_type": "code",
   "execution_count": 28,
   "id": "27a9353c",
   "metadata": {},
   "outputs": [
    {
     "ename": "OperationalError",
     "evalue": "database is locked",
     "output_type": "error",
     "traceback": [
      "\u001b[1;31m---------------------------------------------------------------------------\u001b[0m",
      "\u001b[1;31mOperationalError\u001b[0m                          Traceback (most recent call last)",
      "\u001b[1;32m<ipython-input-28-dc431a21f3fe>\u001b[0m in \u001b[0;36m<module>\u001b[1;34m\u001b[0m\n\u001b[0;32m      3\u001b[0m \u001b[0mname\u001b[0m \u001b[1;33m=\u001b[0m \u001b[1;34m\"Achyut\"\u001b[0m\u001b[1;33m\u001b[0m\u001b[1;33m\u001b[0m\u001b[0m\n\u001b[0;32m      4\u001b[0m \u001b[0mage\u001b[0m \u001b[1;33m=\u001b[0m \u001b[1;36m20\u001b[0m\u001b[1;33m\u001b[0m\u001b[1;33m\u001b[0m\u001b[0m\n\u001b[1;32m----> 5\u001b[1;33m \u001b[0mcur\u001b[0m\u001b[1;33m.\u001b[0m\u001b[0mexecute\u001b[0m\u001b[1;33m(\u001b[0m\u001b[1;34m'Insert into Student values(?,?,?)'\u001b[0m\u001b[1;33m,\u001b[0m\u001b[1;33m(\u001b[0m\u001b[0mroll\u001b[0m\u001b[1;33m,\u001b[0m\u001b[0mname\u001b[0m\u001b[1;33m,\u001b[0m\u001b[0mage\u001b[0m\u001b[1;33m)\u001b[0m\u001b[1;33m)\u001b[0m\u001b[1;33m\u001b[0m\u001b[1;33m\u001b[0m\u001b[0m\n\u001b[0m\u001b[0;32m      6\u001b[0m \u001b[0mdb\u001b[0m\u001b[1;33m.\u001b[0m\u001b[0mcommit\u001b[0m\u001b[1;33m(\u001b[0m\u001b[1;33m)\u001b[0m\u001b[1;33m\u001b[0m\u001b[1;33m\u001b[0m\u001b[0m\n",
      "\u001b[1;31mOperationalError\u001b[0m: database is locked"
     ]
    }
   ],
   "source": [
    "# passing variable to query\n",
    "roll = 105\n",
    "name = \"Achyut\"\n",
    "age = 20\n",
    "cur.execute('Insert into Student values(?,?,?)',(roll,name,age))\n",
    "db.commit()"
   ]
  },
  {
   "cell_type": "code",
   "execution_count": 4,
   "id": "8f4b43ea",
   "metadata": {},
   "outputs": [],
   "source": [
    "values = [(105,\"Nidhi\",20),(106,\"Ayushi\",21),(107,\"Anshuman\",20)]\n",
    "cur.executemany('Insert into Student values(?,?,?)',values)\n",
    "db.commit()"
   ]
  },
  {
   "cell_type": "code",
   "execution_count": 6,
   "id": "cf2a1cf9",
   "metadata": {},
   "outputs": [
    {
     "data": {
      "text/plain": [
       "<sqlite3.Cursor at 0x1decd8ce650>"
      ]
     },
     "execution_count": 6,
     "metadata": {},
     "output_type": "execute_result"
    }
   ],
   "source": [
    "# update age column\n",
    "cur.execute('update student set Age = 22')"
   ]
  },
  {
   "cell_type": "code",
   "execution_count": 7,
   "id": "cc900df8",
   "metadata": {},
   "outputs": [],
   "source": [
    "db.commit()"
   ]
  },
  {
   "cell_type": "code",
   "execution_count": 9,
   "id": "0cd2dc25",
   "metadata": {},
   "outputs": [
    {
     "data": {
      "text/plain": [
       "<sqlite3.Cursor at 0x1decd8ce650>"
      ]
     },
     "execution_count": 9,
     "metadata": {},
     "output_type": "execute_result"
    }
   ],
   "source": [
    "cur.execute('update student set Age = 21 where RollNo = 102')"
   ]
  },
  {
   "cell_type": "code",
   "execution_count": 11,
   "id": "210b3035",
   "metadata": {},
   "outputs": [],
   "source": [
    "db.commit()"
   ]
  },
  {
   "cell_type": "code",
   "execution_count": 13,
   "id": "2affccf3",
   "metadata": {},
   "outputs": [
    {
     "data": {
      "text/plain": [
       "<sqlite3.Cursor at 0x1decd8ce650>"
      ]
     },
     "execution_count": 13,
     "metadata": {},
     "output_type": "execute_result"
    }
   ],
   "source": [
    "new_age = 15\n",
    "cur.execute('update student set Age = ? where RollNo = 102',(new_age,))"
   ]
  },
  {
   "cell_type": "code",
   "execution_count": 14,
   "id": "af739cbe",
   "metadata": {},
   "outputs": [],
   "source": [
    "db.commit()"
   ]
  },
  {
   "cell_type": "code",
   "execution_count": 35,
   "id": "2534a6cd",
   "metadata": {},
   "outputs": [
    {
     "data": {
      "text/plain": [
       "<sqlite3.Cursor at 0x1decd93dc00>"
      ]
     },
     "execution_count": 35,
     "metadata": {},
     "output_type": "execute_result"
    }
   ],
   "source": [
    "# fetch data\n",
    "\n",
    "cur.execute('Select * from Student')"
   ]
  },
  {
   "cell_type": "code",
   "execution_count": 36,
   "id": "289775a7",
   "metadata": {},
   "outputs": [
    {
     "name": "stdout",
     "output_type": "stream",
     "text": [
      "(101, 'Aman', 22)\n",
      "(102, 'Akash', 15)\n",
      "(103, 'Abid', 22)\n",
      "(104, 'Achyut', 22)\n",
      "(105, 'Nidhi', 22)\n",
      "(106, 'Ayushi', 22)\n",
      "(107, 'Anshuman', 22)\n"
     ]
    }
   ],
   "source": [
    "for row in cur:\n",
    "    print(row)"
   ]
  },
  {
   "cell_type": "code",
   "execution_count": 40,
   "id": "1a7c0cf9",
   "metadata": {},
   "outputs": [
    {
     "name": "stdout",
     "output_type": "stream",
     "text": [
      "(101, 'Aman', 22)\n",
      "(102, 'Akash', 15)\n",
      "(103, 'Abid', 22)\n",
      "[(104, 'Achyut', 22), (105, 'Nidhi', 22), (106, 'Ayushi', 22)]\n",
      "[(107, 'Anshuman', 22)]\n"
     ]
    }
   ],
   "source": [
    "# fetchone() || fetchmany() || fectchall()\n",
    "cur.execute('Select * from Student')\n",
    "# fetchone()\n",
    "print(cur.fetchone())\n",
    "print(cur.fetchone())\n",
    "print(cur.fetchone())\n",
    "\n",
    "# fetchmany()\n",
    "print(cur.fetchmany(3))\n",
    "\n",
    "# fectchall()\n",
    "print(cur.fetchall())"
   ]
  },
  {
   "cell_type": "markdown",
   "id": "c49daf29",
   "metadata": {},
   "source": [
    "### SQLite with Pandas"
   ]
  },
  {
   "cell_type": "code",
   "execution_count": 14,
   "id": "bb31f036",
   "metadata": {},
   "outputs": [],
   "source": [
    "import sqlite3\n",
    "import pandas as pd\n",
    "\n",
    "db = sqlite3.connect('School.sqlite')"
   ]
  },
  {
   "cell_type": "code",
   "execution_count": 16,
   "id": "5e017460",
   "metadata": {},
   "outputs": [
    {
     "data": {
      "text/html": [
       "<div>\n",
       "<style scoped>\n",
       "    .dataframe tbody tr th:only-of-type {\n",
       "        vertical-align: middle;\n",
       "    }\n",
       "\n",
       "    .dataframe tbody tr th {\n",
       "        vertical-align: top;\n",
       "    }\n",
       "\n",
       "    .dataframe thead th {\n",
       "        text-align: right;\n",
       "    }\n",
       "</style>\n",
       "<table border=\"1\" class=\"dataframe\">\n",
       "  <thead>\n",
       "    <tr style=\"text-align: right;\">\n",
       "      <th></th>\n",
       "      <th>RollNo</th>\n",
       "      <th>Name</th>\n",
       "      <th>Age</th>\n",
       "    </tr>\n",
       "  </thead>\n",
       "  <tbody>\n",
       "    <tr>\n",
       "      <th>0</th>\n",
       "      <td>101</td>\n",
       "      <td>Aman</td>\n",
       "      <td>22</td>\n",
       "    </tr>\n",
       "    <tr>\n",
       "      <th>1</th>\n",
       "      <td>102</td>\n",
       "      <td>Akash</td>\n",
       "      <td>15</td>\n",
       "    </tr>\n",
       "    <tr>\n",
       "      <th>2</th>\n",
       "      <td>103</td>\n",
       "      <td>Abid</td>\n",
       "      <td>22</td>\n",
       "    </tr>\n",
       "    <tr>\n",
       "      <th>3</th>\n",
       "      <td>104</td>\n",
       "      <td>Achyut</td>\n",
       "      <td>22</td>\n",
       "    </tr>\n",
       "    <tr>\n",
       "      <th>4</th>\n",
       "      <td>105</td>\n",
       "      <td>Nidhi</td>\n",
       "      <td>22</td>\n",
       "    </tr>\n",
       "    <tr>\n",
       "      <th>5</th>\n",
       "      <td>106</td>\n",
       "      <td>Ayushi</td>\n",
       "      <td>22</td>\n",
       "    </tr>\n",
       "    <tr>\n",
       "      <th>6</th>\n",
       "      <td>107</td>\n",
       "      <td>Anshuman</td>\n",
       "      <td>22</td>\n",
       "    </tr>\n",
       "  </tbody>\n",
       "</table>\n",
       "</div>"
      ],
      "text/plain": [
       "   RollNo      Name  Age\n",
       "0     101      Aman   22\n",
       "1     102     Akash   15\n",
       "2     103      Abid   22\n",
       "3     104    Achyut   22\n",
       "4     105     Nidhi   22\n",
       "5     106    Ayushi   22\n",
       "6     107  Anshuman   22"
      ]
     },
     "execution_count": 16,
     "metadata": {},
     "output_type": "execute_result"
    }
   ],
   "source": [
    "data = pd.read_sql_query('select * from student',db)\n",
    "data"
   ]
  },
  {
   "cell_type": "code",
   "execution_count": 20,
   "id": "48262fb2",
   "metadata": {},
   "outputs": [
    {
     "data": {
      "text/html": [
       "<div>\n",
       "<style scoped>\n",
       "    .dataframe tbody tr th:only-of-type {\n",
       "        vertical-align: middle;\n",
       "    }\n",
       "\n",
       "    .dataframe tbody tr th {\n",
       "        vertical-align: top;\n",
       "    }\n",
       "\n",
       "    .dataframe thead th {\n",
       "        text-align: right;\n",
       "    }\n",
       "</style>\n",
       "<table border=\"1\" class=\"dataframe\">\n",
       "  <thead>\n",
       "    <tr style=\"text-align: right;\">\n",
       "      <th></th>\n",
       "      <th>RollNo</th>\n",
       "      <th>Name</th>\n",
       "      <th>Age</th>\n",
       "    </tr>\n",
       "  </thead>\n",
       "  <tbody>\n",
       "    <tr>\n",
       "      <th>1</th>\n",
       "      <td>102</td>\n",
       "      <td>Akash</td>\n",
       "      <td>15</td>\n",
       "    </tr>\n",
       "  </tbody>\n",
       "</table>\n",
       "</div>"
      ],
      "text/plain": [
       "   RollNo   Name  Age\n",
       "1     102  Akash   15"
      ]
     },
     "execution_count": 20,
     "metadata": {},
     "output_type": "execute_result"
    }
   ],
   "source": [
    "data[data[\"Age\"] == 15]"
   ]
  },
  {
   "cell_type": "code",
   "execution_count": 22,
   "id": "2f8de15a",
   "metadata": {},
   "outputs": [
    {
     "data": {
      "text/html": [
       "<div>\n",
       "<style scoped>\n",
       "    .dataframe tbody tr th:only-of-type {\n",
       "        vertical-align: middle;\n",
       "    }\n",
       "\n",
       "    .dataframe tbody tr th {\n",
       "        vertical-align: top;\n",
       "    }\n",
       "\n",
       "    .dataframe thead th {\n",
       "        text-align: right;\n",
       "    }\n",
       "</style>\n",
       "<table border=\"1\" class=\"dataframe\">\n",
       "  <thead>\n",
       "    <tr style=\"text-align: right;\">\n",
       "      <th></th>\n",
       "      <th>ID</th>\n",
       "      <th>Name</th>\n",
       "      <th>Course</th>\n",
       "      <th>Salary</th>\n",
       "    </tr>\n",
       "  </thead>\n",
       "  <tbody>\n",
       "    <tr>\n",
       "      <th>0</th>\n",
       "      <td>201</td>\n",
       "      <td>Aman</td>\n",
       "      <td>English</td>\n",
       "      <td>20000</td>\n",
       "    </tr>\n",
       "    <tr>\n",
       "      <th>1</th>\n",
       "      <td>202</td>\n",
       "      <td>Nikita</td>\n",
       "      <td>Maths</td>\n",
       "      <td>25000</td>\n",
       "    </tr>\n",
       "    <tr>\n",
       "      <th>2</th>\n",
       "      <td>203</td>\n",
       "      <td>Rohan</td>\n",
       "      <td>Science</td>\n",
       "      <td>27000</td>\n",
       "    </tr>\n",
       "  </tbody>\n",
       "</table>\n",
       "</div>"
      ],
      "text/plain": [
       "    ID    Name   Course  Salary\n",
       "0  201    Aman  English   20000\n",
       "1  202  Nikita    Maths   25000\n",
       "2  203   Rohan  Science   27000"
      ]
     },
     "execution_count": 22,
     "metadata": {},
     "output_type": "execute_result"
    }
   ],
   "source": [
    "data = pd.DataFrame([[201,\"Aman\",\"English\",20000],[202,\"Nikita\",\"Maths\",25000],[203,\"Rohan\",\"Science\",27000]],columns = [\"ID\",\"Name\",\"Course\",\"Salary\"])\n",
    "data"
   ]
  },
  {
   "cell_type": "code",
   "execution_count": 24,
   "id": "9cc89880",
   "metadata": {},
   "outputs": [
    {
     "ename": "ValueError",
     "evalue": "Table 'Faculty' already exists.",
     "output_type": "error",
     "traceback": [
      "\u001b[1;31m---------------------------------------------------------------------------\u001b[0m",
      "\u001b[1;31mValueError\u001b[0m                                Traceback (most recent call last)",
      "\u001b[1;32m<ipython-input-24-b6b7f8218c68>\u001b[0m in \u001b[0;36m<module>\u001b[1;34m\u001b[0m\n\u001b[1;32m----> 1\u001b[1;33m \u001b[0mdata\u001b[0m\u001b[1;33m.\u001b[0m\u001b[0mto_sql\u001b[0m\u001b[1;33m(\u001b[0m\u001b[1;34m\"Faculty\"\u001b[0m\u001b[1;33m,\u001b[0m\u001b[0mdb\u001b[0m\u001b[1;33m)\u001b[0m\u001b[1;33m\u001b[0m\u001b[1;33m\u001b[0m\u001b[0m\n\u001b[0m",
      "\u001b[1;32mc:\\users\\akash\\appdata\\local\\programs\\python\\python38\\lib\\site-packages\\pandas\\core\\generic.py\u001b[0m in \u001b[0;36mto_sql\u001b[1;34m(self, name, con, schema, if_exists, index, index_label, chunksize, dtype, method)\u001b[0m\n\u001b[0;32m   2777\u001b[0m         \u001b[1;32mfrom\u001b[0m \u001b[0mpandas\u001b[0m\u001b[1;33m.\u001b[0m\u001b[0mio\u001b[0m \u001b[1;32mimport\u001b[0m \u001b[0msql\u001b[0m\u001b[1;33m\u001b[0m\u001b[1;33m\u001b[0m\u001b[0m\n\u001b[0;32m   2778\u001b[0m \u001b[1;33m\u001b[0m\u001b[0m\n\u001b[1;32m-> 2779\u001b[1;33m         sql.to_sql(\n\u001b[0m\u001b[0;32m   2780\u001b[0m             \u001b[0mself\u001b[0m\u001b[1;33m,\u001b[0m\u001b[1;33m\u001b[0m\u001b[1;33m\u001b[0m\u001b[0m\n\u001b[0;32m   2781\u001b[0m             \u001b[0mname\u001b[0m\u001b[1;33m,\u001b[0m\u001b[1;33m\u001b[0m\u001b[1;33m\u001b[0m\u001b[0m\n",
      "\u001b[1;32mc:\\users\\akash\\appdata\\local\\programs\\python\\python38\\lib\\site-packages\\pandas\\io\\sql.py\u001b[0m in \u001b[0;36mto_sql\u001b[1;34m(frame, name, con, schema, if_exists, index, index_label, chunksize, dtype, method)\u001b[0m\n\u001b[0;32m    599\u001b[0m         )\n\u001b[0;32m    600\u001b[0m \u001b[1;33m\u001b[0m\u001b[0m\n\u001b[1;32m--> 601\u001b[1;33m     pandas_sql.to_sql(\n\u001b[0m\u001b[0;32m    602\u001b[0m         \u001b[0mframe\u001b[0m\u001b[1;33m,\u001b[0m\u001b[1;33m\u001b[0m\u001b[1;33m\u001b[0m\u001b[0m\n\u001b[0;32m    603\u001b[0m         \u001b[0mname\u001b[0m\u001b[1;33m,\u001b[0m\u001b[1;33m\u001b[0m\u001b[1;33m\u001b[0m\u001b[0m\n",
      "\u001b[1;32mc:\\users\\akash\\appdata\\local\\programs\\python\\python38\\lib\\site-packages\\pandas\\io\\sql.py\u001b[0m in \u001b[0;36mto_sql\u001b[1;34m(self, frame, name, if_exists, index, index_label, schema, chunksize, dtype, method)\u001b[0m\n\u001b[0;32m   1869\u001b[0m             \u001b[0mdtype\u001b[0m\u001b[1;33m=\u001b[0m\u001b[0mdtype\u001b[0m\u001b[1;33m,\u001b[0m\u001b[1;33m\u001b[0m\u001b[1;33m\u001b[0m\u001b[0m\n\u001b[0;32m   1870\u001b[0m         )\n\u001b[1;32m-> 1871\u001b[1;33m         \u001b[0mtable\u001b[0m\u001b[1;33m.\u001b[0m\u001b[0mcreate\u001b[0m\u001b[1;33m(\u001b[0m\u001b[1;33m)\u001b[0m\u001b[1;33m\u001b[0m\u001b[1;33m\u001b[0m\u001b[0m\n\u001b[0m\u001b[0;32m   1872\u001b[0m         \u001b[0mtable\u001b[0m\u001b[1;33m.\u001b[0m\u001b[0minsert\u001b[0m\u001b[1;33m(\u001b[0m\u001b[0mchunksize\u001b[0m\u001b[1;33m,\u001b[0m \u001b[0mmethod\u001b[0m\u001b[1;33m)\u001b[0m\u001b[1;33m\u001b[0m\u001b[1;33m\u001b[0m\u001b[0m\n\u001b[0;32m   1873\u001b[0m \u001b[1;33m\u001b[0m\u001b[0m\n",
      "\u001b[1;32mc:\\users\\akash\\appdata\\local\\programs\\python\\python38\\lib\\site-packages\\pandas\\io\\sql.py\u001b[0m in \u001b[0;36mcreate\u001b[1;34m(self)\u001b[0m\n\u001b[0;32m    736\u001b[0m         \u001b[1;32mif\u001b[0m \u001b[0mself\u001b[0m\u001b[1;33m.\u001b[0m\u001b[0mexists\u001b[0m\u001b[1;33m(\u001b[0m\u001b[1;33m)\u001b[0m\u001b[1;33m:\u001b[0m\u001b[1;33m\u001b[0m\u001b[1;33m\u001b[0m\u001b[0m\n\u001b[0;32m    737\u001b[0m             \u001b[1;32mif\u001b[0m \u001b[0mself\u001b[0m\u001b[1;33m.\u001b[0m\u001b[0mif_exists\u001b[0m \u001b[1;33m==\u001b[0m \u001b[1;34m\"fail\"\u001b[0m\u001b[1;33m:\u001b[0m\u001b[1;33m\u001b[0m\u001b[1;33m\u001b[0m\u001b[0m\n\u001b[1;32m--> 738\u001b[1;33m                 \u001b[1;32mraise\u001b[0m \u001b[0mValueError\u001b[0m\u001b[1;33m(\u001b[0m\u001b[1;34mf\"Table '{self.name}' already exists.\"\u001b[0m\u001b[1;33m)\u001b[0m\u001b[1;33m\u001b[0m\u001b[1;33m\u001b[0m\u001b[0m\n\u001b[0m\u001b[0;32m    739\u001b[0m             \u001b[1;32melif\u001b[0m \u001b[0mself\u001b[0m\u001b[1;33m.\u001b[0m\u001b[0mif_exists\u001b[0m \u001b[1;33m==\u001b[0m \u001b[1;34m\"replace\"\u001b[0m\u001b[1;33m:\u001b[0m\u001b[1;33m\u001b[0m\u001b[1;33m\u001b[0m\u001b[0m\n\u001b[0;32m    740\u001b[0m                 \u001b[0mself\u001b[0m\u001b[1;33m.\u001b[0m\u001b[0mpd_sql\u001b[0m\u001b[1;33m.\u001b[0m\u001b[0mdrop_table\u001b[0m\u001b[1;33m(\u001b[0m\u001b[0mself\u001b[0m\u001b[1;33m.\u001b[0m\u001b[0mname\u001b[0m\u001b[1;33m,\u001b[0m \u001b[0mself\u001b[0m\u001b[1;33m.\u001b[0m\u001b[0mschema\u001b[0m\u001b[1;33m)\u001b[0m\u001b[1;33m\u001b[0m\u001b[1;33m\u001b[0m\u001b[0m\n",
      "\u001b[1;31mValueError\u001b[0m: Table 'Faculty' already exists."
     ]
    }
   ],
   "source": [
    "data.to_sql(\"Faculty\",db)"
   ]
  },
  {
   "cell_type": "code",
   "execution_count": 27,
   "id": "d08b992d",
   "metadata": {},
   "outputs": [
    {
     "data": {
      "text/html": [
       "<div>\n",
       "<style scoped>\n",
       "    .dataframe tbody tr th:only-of-type {\n",
       "        vertical-align: middle;\n",
       "    }\n",
       "\n",
       "    .dataframe tbody tr th {\n",
       "        vertical-align: top;\n",
       "    }\n",
       "\n",
       "    .dataframe thead th {\n",
       "        text-align: right;\n",
       "    }\n",
       "</style>\n",
       "<table border=\"1\" class=\"dataframe\">\n",
       "  <thead>\n",
       "    <tr style=\"text-align: right;\">\n",
       "      <th></th>\n",
       "      <th>RollNo</th>\n",
       "      <th>Name</th>\n",
       "      <th>Age</th>\n",
       "      <th>Addres</th>\n",
       "    </tr>\n",
       "  </thead>\n",
       "  <tbody>\n",
       "    <tr>\n",
       "      <th>0</th>\n",
       "      <td>101</td>\n",
       "      <td>Aman</td>\n",
       "      <td>22</td>\n",
       "      <td>Test</td>\n",
       "    </tr>\n",
       "    <tr>\n",
       "      <th>1</th>\n",
       "      <td>102</td>\n",
       "      <td>Akash</td>\n",
       "      <td>15</td>\n",
       "      <td>Test</td>\n",
       "    </tr>\n",
       "    <tr>\n",
       "      <th>2</th>\n",
       "      <td>103</td>\n",
       "      <td>Abid</td>\n",
       "      <td>22</td>\n",
       "      <td>Test</td>\n",
       "    </tr>\n",
       "    <tr>\n",
       "      <th>3</th>\n",
       "      <td>104</td>\n",
       "      <td>Achyut</td>\n",
       "      <td>22</td>\n",
       "      <td>Test</td>\n",
       "    </tr>\n",
       "    <tr>\n",
       "      <th>4</th>\n",
       "      <td>105</td>\n",
       "      <td>Nidhi</td>\n",
       "      <td>22</td>\n",
       "      <td>Test</td>\n",
       "    </tr>\n",
       "    <tr>\n",
       "      <th>5</th>\n",
       "      <td>106</td>\n",
       "      <td>Ayushi</td>\n",
       "      <td>22</td>\n",
       "      <td>Test</td>\n",
       "    </tr>\n",
       "    <tr>\n",
       "      <th>6</th>\n",
       "      <td>107</td>\n",
       "      <td>Anshuman</td>\n",
       "      <td>22</td>\n",
       "      <td>Test</td>\n",
       "    </tr>\n",
       "  </tbody>\n",
       "</table>\n",
       "</div>"
      ],
      "text/plain": [
       "   RollNo      Name  Age Addres\n",
       "0     101      Aman   22   Test\n",
       "1     102     Akash   15   Test\n",
       "2     103      Abid   22   Test\n",
       "3     104    Achyut   22   Test\n",
       "4     105     Nidhi   22   Test\n",
       "5     106    Ayushi   22   Test\n",
       "6     107  Anshuman   22   Test"
      ]
     },
     "execution_count": 27,
     "metadata": {},
     "output_type": "execute_result"
    }
   ],
   "source": [
    "data = pd.read_sql_query('select * from student',db)\n",
    "data[\"Addres\"] = \"Test\"\n",
    "data"
   ]
  },
  {
   "cell_type": "code",
   "execution_count": 28,
   "id": "91ddd756",
   "metadata": {},
   "outputs": [],
   "source": [
    "# updaate to database\n",
    "data.to_sql(\"Student\",db,if_exists = \"replace\")"
   ]
  },
  {
   "cell_type": "markdown",
   "id": "00ef4c91",
   "metadata": {},
   "source": [
    "# ***Assignment IMDB DataBase***"
   ]
  },
  {
   "cell_type": "markdown",
   "id": "229136b7",
   "metadata": {},
   "source": [
    "### count each genra and count movies?\n"
   ]
  },
  {
   "cell_type": "code",
   "execution_count": 2,
   "id": "7d5fa449",
   "metadata": {},
   "outputs": [],
   "source": [
    "import sqlite3\n",
    "db = sqlite3.connect('IMDB.sqlite')\n",
    "cur = db.cursor()"
   ]
  },
  {
   "cell_type": "code",
   "execution_count": 3,
   "id": "162af840",
   "metadata": {},
   "outputs": [
    {
     "name": "stdout",
     "output_type": "stream",
     "text": [
      "[('Action', 33), ('Adventure', 43), ('Animation', 13), ('Biography', 21), ('Comedy', 31), ('Crime', 11), ('Drama', 77), ('Family', 3), ('Fantasy', 7), ('History', 6), ('Horror', 2), ('Music', 3), ('Musical', 1), ('Mystery', 7), ('Romance', 13), ('Sci-Fi', 18), ('Sport', 3), ('Thriller', 14), ('War', 2), ('Western', 2)]\n"
     ]
    }
   ],
   "source": [
    "cur.execute('select genre,count(Movie_id) from genre group by genre ')\n",
    "lis = []\n",
    "for i in cur:\n",
    "    lis.append(i)\n",
    "    \n",
    "print(lis[1:])"
   ]
  },
  {
   "cell_type": "markdown",
   "id": "f48effc9",
   "metadata": {},
   "source": [
    "### Print Rating Of The Movies"
   ]
  },
  {
   "cell_type": "code",
   "execution_count": 4,
   "id": "bfd0816e",
   "metadata": {},
   "outputs": [
    {
     "name": "stdout",
     "output_type": "stream",
     "text": [
      "8.1\n"
     ]
    }
   ],
   "source": [
    "earn_sum = cur.execute('select Movie_id,Domestic + Worldwide from earning ')\n",
    "lis = []\n",
    "for i in earn_sum:\n",
    "    lis.append(i)\n",
    "    \n",
    "res = dict(lis) #converting dict\n",
    "max_earn = max(res.values()) # maximum earn\n",
    "\n",
    "movie_id = max(res.items(), key=lambda x : x[1])[0] # getting max value, keys(movies_id)\n",
    "\n",
    "rating = cur.execute('select rating from IMDB where Movie_id = ?',(movie_id,)) # getting ratting based on movies_id\n",
    "for i in rating:\n",
    "    print(i[0])"
   ]
  },
  {
   "cell_type": "markdown",
   "id": "3256b80a",
   "metadata": {},
   "source": [
    "### IMDB Most Voted Movies"
   ]
  },
  {
   "cell_type": "code",
   "execution_count": 5,
   "id": "96695044",
   "metadata": {},
   "outputs": [
    {
     "name": "stdout",
     "output_type": "stream",
     "text": [
      "Inception (2010) 8.8\n"
     ]
    }
   ],
   "source": [
    "cur.execute('select max(TotalVotes) from IMDB')\n",
    "for i in cur:\n",
    "    max_votes = i[0]\n",
    "    \n",
    "cur.execute('select Title,Rating from IMDB where TotalVotes = ?',(max_votes,))\n",
    "for i in cur:\n",
    "    print(i[0],i[1])"
   ]
  },
  {
   "cell_type": "code",
   "execution_count": null,
   "id": "c7a47d08",
   "metadata": {},
   "outputs": [],
   "source": []
  },
  {
   "cell_type": "markdown",
   "id": "16be6d63",
   "metadata": {},
   "source": [
    "### IMDB Running Time"
   ]
  },
  {
   "cell_type": "code",
   "execution_count": 8,
   "id": "739fef92",
   "metadata": {},
   "outputs": [
    {
     "ename": "OperationalError",
     "evalue": "no such function: LEN",
     "output_type": "error",
     "traceback": [
      "\u001b[1;31m---------------------------------------------------------------------------\u001b[0m",
      "\u001b[1;31mOperationalError\u001b[0m                          Traceback (most recent call last)",
      "\u001b[1;32m<ipython-input-8-66746d0e7d13>\u001b[0m in \u001b[0;36m<module>\u001b[1;34m\u001b[0m\n\u001b[0;32m      1\u001b[0m \u001b[0mcur\u001b[0m\u001b[1;33m.\u001b[0m\u001b[0mexecute\u001b[0m\u001b[1;33m(\u001b[0m\u001b[1;34m'select Runtime from IMDB'\u001b[0m\u001b[1;33m)\u001b[0m\u001b[1;33m\u001b[0m\u001b[1;33m\u001b[0m\u001b[0m\n\u001b[1;32m----> 2\u001b[1;33m \u001b[0mres\u001b[0m \u001b[1;33m=\u001b[0m \u001b[0mcur\u001b[0m\u001b[1;33m.\u001b[0m\u001b[0mexecute\u001b[0m\u001b[1;33m(\u001b[0m\u001b[1;34m'SELECT MAX(CAST(SUBSTRING(Runtime,5,LEN(Runtime)-4) AS INT)) FROM IMDB WHERE Runtime LIKE \"% min\"'\u001b[0m\u001b[1;33m)\u001b[0m\u001b[1;33m\u001b[0m\u001b[1;33m\u001b[0m\u001b[0m\n\u001b[0m\u001b[0;32m      3\u001b[0m \u001b[1;32mfor\u001b[0m \u001b[0mi\u001b[0m \u001b[1;32min\u001b[0m \u001b[0mres\u001b[0m\u001b[1;33m:\u001b[0m\u001b[1;33m\u001b[0m\u001b[1;33m\u001b[0m\u001b[0m\n\u001b[0;32m      4\u001b[0m     \u001b[0mprint\u001b[0m\u001b[1;33m(\u001b[0m\u001b[0mi\u001b[0m\u001b[1;33m)\u001b[0m\u001b[1;33m\u001b[0m\u001b[1;33m\u001b[0m\u001b[0m\n",
      "\u001b[1;31mOperationalError\u001b[0m: no such function: LEN"
     ]
    }
   ],
   "source": [
    "cur.execute('select Runtime from IMDB')\n",
    "res = cur.execute('SELECT MAX(CAST(SUBSTRING(Runtime,5,LEN(Runtime)-4) AS INT)) FROM IMDB WHERE Runtime LIKE \"% min\"')\n",
    "for i in res:\n",
    "    print(i)"
   ]
  },
  {
   "cell_type": "code",
   "execution_count": 14,
   "id": "53ecc5e6",
   "metadata": {},
   "outputs": [
    {
     "data": {
      "text/plain": [
       "[('12 Years a Slave\\xa0(2013)', 224405195.0),\n",
       " ('127 Hours\\xa0(2010)', 61074027.0),\n",
       " ('50/50\\xa0(2011)', 66201975.0),\n",
       " ('About Time\\xa0(2013)', 90423370.0),\n",
       " ('Amour\\xa0(2012)', 17678984.0),\n",
       " ('Argo\\xa0(2012)', 323851006.0),\n",
       " ('Arrival\\xa0(2016)', 256934325.0),\n",
       " ('Before Midnight\\xa0(2013)', 16291096.0),\n",
       " ('Big Hero 6\\xa0(2014)', 715346440.0),\n",
       " ('Birdman or (The Unexpected Virtue of Ignorance)\\xa0(2014)', 127555692.0),\n",
       " ('Black Swan\\xa0(2010)', 423352724.0),\n",
       " ('Boyhood\\xa0(2014)', 65847562.0),\n",
       " ('Bridge of Spies\\xa0(2015)', 197792102.0),\n",
       " ('Captain America: Civil War\\xa0(2016)', 1311388844.0),\n",
       " ('Captain America: The Winter Soldier\\xa0(2014)', 804030839.0),\n",
       " ('Captain Fantastic\\xa0(2016)', 6759472.0),\n",
       " ('Captain Phillips\\xa0(2013)', 270892666.0),\n",
       " ('Creed\\xa0(2015)', 248335162.0),\n",
       " ('Dallas Buyers Club\\xa0(2013)', 77496570.0),\n",
       " ('Dawn of the Planet of the Apes\\xa0(2014)', 749190155.0),\n",
       " ('Deadpool\\xa0(2016)', 1088183688.0),\n",
       " ('Despicable Me\\xa0(2010)', 725627970.0),\n",
       " ('Detachment\\xa0(2011)', 145378.0),\n",
       " ('Disconnect\\xa0(2012)', -7126200.0),\n",
       " ('Django Unchained\\xa0(2012)', 488173672.0),\n",
       " ('Doctor Strange\\xa0(2016)', 745360315.0),\n",
       " ('Drive\\xa0(2011)', 96235855.0),\n",
       " ('Edge of Tomorrow\\xa0(2014)', 292747512.0),\n",
       " ('End of Watch\\xa0(2012)', 82129755.0),\n",
       " ('Ex Machina\\xa0(2014)', 47312372.0),\n",
       " ('Flipped\\xa0(2010)', -10489576.0),\n",
       " ('Fury\\xa0(2014)', 229635812.0),\n",
       " ('Gone Girl\\xa0(2014)', 476097552.0),\n",
       " ('Gravity\\xa0(2013)', 897285410.0),\n",
       " ('Guardians of the Galaxy\\xa0(2014)', 936505229.0),\n",
       " ('Hacksaw Ridge\\xa0(2016)', 202511969.0),\n",
       " ('Harry Potter and the Deathly Hallows: Part 1\\xa0(2010)', 1006266610.0),\n",
       " ('Hell or High Water\\xa0(2016)', 52887721.0),\n",
       " ('Her\\xa0(2013)', 49919502.0),\n",
       " ('Hidden Figures\\xa0(2016)', 379732865.0),\n",
       " ('How to Train Your Dragon 2\\xa0(2014)', 653540443.0),\n",
       " ('How to Train Your Dragon\\xa0(2010)', 547459990.0),\n",
       " ('Hugo\\xa0(2011)', 109634667.0),\n",
       " ('Hunt for the Wilderpeople\\xa0(2016)', 7910936.0),\n",
       " ('I, Daniel Blake\\xa0(2016)', 520708.0),\n",
       " ('Inception\\xa0(2010)', 958108959.0),\n",
       " ('Inside Out\\xa0(2015)', 1039072885.0),\n",
       " ('Interstellar\\xa0(2014)', 698140034.0),\n",
       " ('Kick-Ass\\xa0(2010)', 114260206.0),\n",
       " ('Kingsman: The Secret Service\\xa0(2014)', 461613270.0),\n",
       " ('Kubo and the Two Strings\\xa0(2016)', 57952633.0),\n",
       " ('La La Land\\xa0(2016)', 566771482.0),\n",
       " ('Les Mis\\uf1c3İrables\\xa0(2012)', 529619540.0),\n",
       " ('Lion\\xa0(2016)', 180031485.0),\n",
       " ('Lone Survivor\\xa0(2013)', 239898513.0),\n",
       " ('Mad Max: Fury Road\\xa0(2015)', 382494694.0),\n",
       " ('Manchester by the Sea\\xa0(2016)', 116735493.0),\n",
       " ('Me and Earl and the Dying Girl\\xa0(2015)', 7833165.0),\n",
       " ('Midnight in Paris\\xa0(2011)', 190936264.0),\n",
       " ('Moana\\xa0(2016)', 742088155.0),\n",
       " ('Moneyball\\xa0(2011)', 135811708.0),\n",
       " ('Moonrise Kingdom\\xa0(2012)', 97775632.0),\n",
       " ('Nebraska\\xa0(2013)', 33337784.0),\n",
       " ('Nightcrawler\\xa0(2014)', 62578434.0),\n",
       " ('Philomena\\xa0(2013)', 125839851.0),\n",
       " ('Pride\\xa0(2014)', 8970268.0),\n",
       " ('Prisoners\\xa0(2013)', 137128989.0),\n",
       " ('Rise of the Planet of the Apes\\xa0(2011)', 568561234.0),\n",
       " ('Rogue One\\xa0(2016)', 1388234597.0),\n",
       " ('Rush\\xa0(2013)', 79195248.0),\n",
       " ('Scott Pilgrim vs. the World\\xa0(2010)', 19188834.0),\n",
       " ('Short Term 12\\xa0(2013)', 1026200.0),\n",
       " ('Shutter Island\\xa0(2010)', 342817129.0),\n",
       " ('Sicario\\xa0(2015)', 101761737.0),\n",
       " ('Silver Linings Playbook\\xa0(2012)', 347505411.0),\n",
       " ('Sing Street\\xa0(2016)', 12861640.0),\n",
       " ('Skyfall\\xa0(2012)', 1212921290.0),\n",
       " ('Spotlight\\xa0(2015)', 113402249.0),\n",
       " ('Star Trek Into Darkness\\xa0(2013)', 506160130.0),\n",
       " ('Star Wars: The Force Awakens\\xa0(2015)', 2759885849.0),\n",
       " ('Straight Outta Compton\\xa0(2015)', 334832776.0),\n",
       " ('Tangled\\xa0(2010)', 532616872.0),\n",
       " ('The Artist\\xa0(2011)', 163104538.0),\n",
       " ('The Avengers\\xa0(2012)', 1922170898.0),\n",
       " ('The Big Short\\xa0(2015)', 175700740.0),\n",
       " ('The Book Thief\\xa0(2013)', 79074797.0),\n",
       " ('The Dark Knight Rises\\xa0(2012)', 1283078198.0),\n",
       " ('The Fault in Our Stars\\xa0(2014)', 420039184.0),\n",
       " ('The Fighter\\xa0(2010)', 197807878.0),\n",
       " ('The Girl with the Dragon Tattoo\\xa0(2011)', 245133223.0),\n",
       " ('The Grand Budapest Hotel\\xa0(2014)', 209102648.0),\n",
       " ('The Help\\xa0(2011)', 361347224.0),\n",
       " ('The Hobbit: An Unexpected Journey\\xa0(2012)', 1144107136.0),\n",
       " ('The Hobbit: The Desolation of Smaug\\xa0(2013)', 991733710.0),\n",
       " ('The Hunger Games: Catching Fire\\xa0(2013)', 1159679793.0),\n",
       " ('The Imitation Game\\xa0(2014)', 310681391.0),\n",
       " (\"The King's Speech\\xa0(2010)\", 534664692.0),\n",
       " ('The Lego Movie\\xa0(2014)', 666921384.0),\n",
       " ('The Little Prince\\xa0(2015)', 17710402.0),\n",
       " ('The Martian\\xa0(2015)', 750595553.0),\n",
       " ('The Perks of Being a Wallflower\\xa0(2012)', 38127075.0),\n",
       " ('The Revenant\\xa0(2015)', 581588397.0),\n",
       " ('The Social Network\\xa0(2010)', 281883009.0),\n",
       " ('The Theory of Everything\\xa0(2014)', 144620225.0),\n",
       " ('The Town\\xa0(2010)', 209212398.0),\n",
       " ('The Wolf of Wall Street\\xa0(2013)', 408901388.0),\n",
       " ('Toy Story 3\\xa0(2010)', 1281974583.0),\n",
       " ('True Grit\\xa0(2010)', 385519932.0),\n",
       " ('Tucker and Dale vs Evil\\xa0(2010)', -26646.0),\n",
       " ('Tyrannosaur\\xa0(2011)', -955358.0),\n",
       " ('Warrior\\xa0(2011)', 11714230.0),\n",
       " ('What We Do in the Shadows\\xa0(2014)', 8132448.0),\n",
       " ('Whiplash\\xa0(2014)', 58774041.0),\n",
       " ('Wreck-It Ralph\\xa0(2012)', 495645778.0),\n",
       " ('X-Men: Days of Future Past\\xa0(2014)', 781784309.0),\n",
       " ('X-Men: First Class\\xa0(2011)', 340032429.0),\n",
       " ('Zootopia\\xa0(2016)', 1215052443.0)]"
      ]
     },
     "execution_count": 14,
     "metadata": {},
     "output_type": "execute_result"
    }
   ],
   "source": [
    "earn_sum = cur.execute('select IMDB.Title,earning.Domestic + earning.Worldwide - IMDB.Budget from earning Inner join IMDB on earning.Movie_id == IMDB.Movie_id ')\n",
    "lis = []\n",
    "for i in earn_sum:\n",
    "    lis.append(i)\n",
    "    \n",
    "lis"
   ]
  }
 ],
 "metadata": {
  "kernelspec": {
   "display_name": "Python 3",
   "language": "python",
   "name": "python3"
  },
  "language_info": {
   "codemirror_mode": {
    "name": "ipython",
    "version": 3
   },
   "file_extension": ".py",
   "mimetype": "text/x-python",
   "name": "python",
   "nbconvert_exporter": "python",
   "pygments_lexer": "ipython3",
   "version": "3.8.10"
  }
 },
 "nbformat": 4,
 "nbformat_minor": 5
}
