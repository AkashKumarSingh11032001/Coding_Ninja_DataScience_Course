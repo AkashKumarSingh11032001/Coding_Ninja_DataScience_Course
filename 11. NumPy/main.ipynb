{
 "cells": [
  {
   "cell_type": "markdown",
   "id": "5c5c09f4",
   "metadata": {},
   "source": [
    "# 11. NumPy"
   ]
  },
  {
   "cell_type": "code",
   "execution_count": 1,
   "id": "ee61d897",
   "metadata": {},
   "outputs": [],
   "source": [
    "import numpy as np"
   ]
  },
  {
   "cell_type": "code",
   "execution_count": 2,
   "id": "c5d502d9",
   "metadata": {},
   "outputs": [
    {
     "name": "stdout",
     "output_type": "stream",
     "text": [
      "[1 2 3]\n",
      "<class 'numpy.ndarray'>\n"
     ]
    }
   ],
   "source": [
    "import numpy as np\n",
    "\n",
    "# create array using np\n",
    "a = [1,2,3]\n",
    "b = np.array(a)\n",
    "print(b)\n",
    "print(type(b))"
   ]
  },
  {
   "cell_type": "code",
   "execution_count": 3,
   "id": "91c3470c",
   "metadata": {},
   "outputs": [
    {
     "name": "stdout",
     "output_type": "stream",
     "text": [
      "['1' '2' '3' 'a' '5.2']\n"
     ]
    }
   ],
   "source": [
    "a = [1,2,3,'a',5.2]\n",
    "b = np.array(a)\n",
    "print(b)"
   ]
  },
  {
   "cell_type": "code",
   "execution_count": 4,
   "id": "72a367c0",
   "metadata": {},
   "outputs": [
    {
     "name": "stdout",
     "output_type": "stream",
     "text": [
      "[1.  2.  3.  5.2]\n"
     ]
    }
   ],
   "source": [
    "a = [1,2,3,5.2]\n",
    "b = np.array(a,dtype = float)\n",
    "print(b)"
   ]
  },
  {
   "cell_type": "code",
   "execution_count": 5,
   "id": "92316a9f",
   "metadata": {},
   "outputs": [
    {
     "name": "stdout",
     "output_type": "stream",
     "text": [
      "['1' '2' '3' 'a' '5.2' '1' '2' '3' 'a' '5.2' '1' '2' '3' 'a' '5.2']\n"
     ]
    }
   ],
   "source": [
    "a = [1,2,3,'a',5.2]\n",
    "b = np.array(a*3)\n",
    "print(b)"
   ]
  },
  {
   "cell_type": "code",
   "execution_count": 6,
   "id": "0797ecb7",
   "metadata": {},
   "outputs": [
    {
     "name": "stdout",
     "output_type": "stream",
     "text": [
      "[1. 1. 1.]\n",
      "[1 1 1]\n"
     ]
    }
   ],
   "source": [
    "b = np.ones(3)\n",
    "print(b)\n",
    "c = np.ones(3,dtype = int)\n",
    "print(c)"
   ]
  },
  {
   "cell_type": "code",
   "execution_count": 7,
   "id": "3573d257",
   "metadata": {},
   "outputs": [
    {
     "name": "stdout",
     "output_type": "stream",
     "text": [
      "[0. 0. 0.]\n",
      "[0 0 0]\n"
     ]
    }
   ],
   "source": [
    "b = np.zeros(3)\n",
    "print(b)\n",
    "c = np.zeros(3,dtype = int)\n",
    "print(c)"
   ]
  },
  {
   "cell_type": "code",
   "execution_count": 8,
   "id": "14565174",
   "metadata": {
    "scrolled": true
   },
   "outputs": [
    {
     "data": {
      "text/plain": [
       "array([[1, 1, 1],\n",
       "       [1, 1, 1]])"
      ]
     },
     "execution_count": 8,
     "metadata": {},
     "output_type": "execute_result"
    }
   ],
   "source": [
    "# 2d array\n",
    "c = np.ones((2,3),dtype = int)\n",
    "c"
   ]
  },
  {
   "cell_type": "code",
   "execution_count": 9,
   "id": "b9492bd6",
   "metadata": {},
   "outputs": [
    {
     "name": "stdout",
     "output_type": "stream",
     "text": [
      "[[0 0 0 0]\n",
      " [0 0 0 0]\n",
      " [0 0 0 0]]\n"
     ]
    }
   ],
   "source": [
    "c = np.zeros((3,4),dtype = int)\n",
    "print(c)"
   ]
  },
  {
   "cell_type": "code",
   "execution_count": 10,
   "id": "a85f1f0e",
   "metadata": {},
   "outputs": [
    {
     "data": {
      "text/plain": [
       "array([9., 9., 9.])"
      ]
     },
     "execution_count": 10,
     "metadata": {},
     "output_type": "execute_result"
    }
   ],
   "source": [
    "b = np.full(3,9,dtype = float)\n",
    "b"
   ]
  },
  {
   "cell_type": "code",
   "execution_count": 11,
   "id": "c4ea3020",
   "metadata": {},
   "outputs": [
    {
     "data": {
      "text/plain": [
       "array([[9., 9., 9., 9.],\n",
       "       [9., 9., 9., 9.],\n",
       "       [9., 9., 9., 9.]])"
      ]
     },
     "execution_count": 11,
     "metadata": {},
     "output_type": "execute_result"
    }
   ],
   "source": [
    "b = np.full((3,4),9,dtype = float)\n",
    "b"
   ]
  },
  {
   "cell_type": "code",
   "execution_count": 12,
   "id": "2ae1c0af",
   "metadata": {},
   "outputs": [
    {
     "data": {
      "text/plain": [
       "array([[ 0.00000000e+000,  0.00000000e+000,  0.00000000e+000],\n",
       "       [ 0.00000000e+000,  0.00000000e+000,  6.38332814e-321],\n",
       "       [ 5.98150141e-154, -1.69759663e-311,  3.83819576e+151]])"
      ]
     },
     "execution_count": 12,
     "metadata": {},
     "output_type": "execute_result"
    }
   ],
   "source": [
    "b = np.empty((3,3))\n",
    "b"
   ]
  },
  {
   "cell_type": "code",
   "execution_count": 13,
   "id": "f46738c9",
   "metadata": {},
   "outputs": [
    {
     "data": {
      "text/plain": [
       "array([0, 1, 2, 3, 4, 5, 6, 7, 8, 9])"
      ]
     },
     "execution_count": 13,
     "metadata": {},
     "output_type": "execute_result"
    }
   ],
   "source": [
    "b = np.arange(10) # end point not inclusive\n",
    "b"
   ]
  },
  {
   "cell_type": "code",
   "execution_count": 14,
   "id": "c31cfe68",
   "metadata": {},
   "outputs": [
    {
     "data": {
      "text/plain": [
       "array([1, 3, 5, 7, 9])"
      ]
     },
     "execution_count": 14,
     "metadata": {},
     "output_type": "execute_result"
    }
   ],
   "source": [
    "b = np.arange(1,11,2)\n",
    "b"
   ]
  },
  {
   "cell_type": "code",
   "execution_count": 15,
   "id": "755ea638",
   "metadata": {},
   "outputs": [
    {
     "data": {
      "text/plain": [
       "array([ 2.        ,  2.16326531,  2.32653061,  2.48979592,  2.65306122,\n",
       "        2.81632653,  2.97959184,  3.14285714,  3.30612245,  3.46938776,\n",
       "        3.63265306,  3.79591837,  3.95918367,  4.12244898,  4.28571429,\n",
       "        4.44897959,  4.6122449 ,  4.7755102 ,  4.93877551,  5.10204082,\n",
       "        5.26530612,  5.42857143,  5.59183673,  5.75510204,  5.91836735,\n",
       "        6.08163265,  6.24489796,  6.40816327,  6.57142857,  6.73469388,\n",
       "        6.89795918,  7.06122449,  7.2244898 ,  7.3877551 ,  7.55102041,\n",
       "        7.71428571,  7.87755102,  8.04081633,  8.20408163,  8.36734694,\n",
       "        8.53061224,  8.69387755,  8.85714286,  9.02040816,  9.18367347,\n",
       "        9.34693878,  9.51020408,  9.67346939,  9.83673469, 10.        ])"
      ]
     },
     "execution_count": 15,
     "metadata": {},
     "output_type": "execute_result"
    }
   ],
   "source": [
    "b = np.linspace(2,10)\n",
    "b"
   ]
  },
  {
   "cell_type": "code",
   "execution_count": 16,
   "id": "7bc15146",
   "metadata": {},
   "outputs": [
    {
     "data": {
      "text/plain": [
       "array([ 2,  4,  6,  8, 10])"
      ]
     },
     "execution_count": 16,
     "metadata": {},
     "output_type": "execute_result"
    }
   ],
   "source": [
    "b = np.linspace(2,10,5,dtype = int,endpoint = True) # end point inclusive\n",
    "b"
   ]
  },
  {
   "cell_type": "code",
   "execution_count": 17,
   "id": "4a5cc49e",
   "metadata": {},
   "outputs": [
    {
     "data": {
      "text/plain": [
       "array([[1, 0, 0],\n",
       "       [0, 1, 0],\n",
       "       [0, 0, 1]])"
      ]
     },
     "execution_count": 17,
     "metadata": {},
     "output_type": "execute_result"
    }
   ],
   "source": [
    "b = np.identity(3,dtype = int) # only generate sqaure matrix(n x n)\n",
    "b"
   ]
  },
  {
   "cell_type": "code",
   "execution_count": 20,
   "id": "bcfe633a",
   "metadata": {},
   "outputs": [
    {
     "data": {
      "text/plain": [
       "array([[1, 0, 0],\n",
       "       [0, 1, 0],\n",
       "       [0, 0, 1]])"
      ]
     },
     "execution_count": 20,
     "metadata": {},
     "output_type": "execute_result"
    }
   ],
   "source": [
    "b = np.eye(3,dtype = int)  # generate any matrix(n x m)\n",
    "b"
   ]
  },
  {
   "cell_type": "code",
   "execution_count": 32,
   "id": "ad5c0b04",
   "metadata": {},
   "outputs": [
    {
     "data": {
      "text/plain": [
       "array([0.59356398, 0.64099128, 0.05115084])"
      ]
     },
     "execution_count": 32,
     "metadata": {},
     "output_type": "execute_result"
    }
   ],
   "source": [
    "b = np.random.rand(3) # range 0 to 1\n",
    "b"
   ]
  },
  {
   "cell_type": "code",
   "execution_count": 34,
   "id": "6ae5b5cd",
   "metadata": {},
   "outputs": [
    {
     "data": {
      "text/plain": [
       "array([[0.61371332, 0.50312177, 0.16849712],\n",
       "       [0.53279439, 0.25069826, 0.04660084]])"
      ]
     },
     "execution_count": 34,
     "metadata": {},
     "output_type": "execute_result"
    }
   ],
   "source": [
    "b = np.random.rand(2,3) # range 0 to 1\n",
    "b"
   ]
  },
  {
   "cell_type": "code",
   "execution_count": 37,
   "id": "72eb4ffe",
   "metadata": {},
   "outputs": [
    {
     "data": {
      "text/plain": [
       "array([3.02725739, 8.48553934, 5.48205724, 7.79862928, 3.00226321,\n",
       "       5.36991624, 5.86897075, 7.08340834, 5.41932375, 5.54689119])"
      ]
     },
     "execution_count": 37,
     "metadata": {},
     "output_type": "execute_result"
    }
   ],
   "source": [
    "b = np.random.rand(10) * 10 # range 0 to 1\n",
    "b"
   ]
  },
  {
   "cell_type": "code",
   "execution_count": 79,
   "id": "247c1efb",
   "metadata": {},
   "outputs": [
    {
     "data": {
      "text/plain": [
       "1"
      ]
     },
     "execution_count": 79,
     "metadata": {},
     "output_type": "execute_result"
    }
   ],
   "source": [
    "b = np.random.randint(2)# genrate random number less than mentioned num\n",
    "b"
   ]
  },
  {
   "cell_type": "code",
   "execution_count": 91,
   "id": "8043a292",
   "metadata": {
    "scrolled": true
   },
   "outputs": [
    {
     "data": {
      "text/plain": [
       "array([[ 1, 24, 15,  3],\n",
       "       [22, 20, 24, 22],\n",
       "       [22,  1,  3,  5],\n",
       "       [ 0, 19, 24, 14]])"
      ]
     },
     "execution_count": 91,
     "metadata": {},
     "output_type": "execute_result"
    }
   ],
   "source": [
    "b = np.random.randint(25,size = (4,4))\n",
    "b"
   ]
  },
  {
   "cell_type": "markdown",
   "id": "f26b1756",
   "metadata": {},
   "source": [
    "### Slicing and Indexing In Numpy Array's"
   ]
  },
  {
   "cell_type": "code",
   "execution_count": 21,
   "id": "6759dfbd",
   "metadata": {},
   "outputs": [
    {
     "name": "stdout",
     "output_type": "stream",
     "text": [
      "[1, 2, 3, 4]\n",
      "[1 2 3 4]\n"
     ]
    }
   ],
   "source": [
    "# 1d numpy array\n",
    "a = [1,2,3,4]\n",
    "arr = np.array(a)\n",
    "\n",
    "print(a)\n",
    "print(arr)"
   ]
  },
  {
   "cell_type": "code",
   "execution_count": 22,
   "id": "1f8cb964",
   "metadata": {},
   "outputs": [
    {
     "name": "stdout",
     "output_type": "stream",
     "text": [
      "<memory at 0x000002B416B50E80>\n",
      "(4,)\n",
      "int32\n",
      "(4,)\n"
     ]
    }
   ],
   "source": [
    "print(arr.data)\n",
    "print(arr.shape)\n",
    "print(arr.dtype)\n",
    "print(arr.strides)"
   ]
  },
  {
   "cell_type": "code",
   "execution_count": 23,
   "id": "d4f2cd6c",
   "metadata": {},
   "outputs": [
    {
     "name": "stdout",
     "output_type": "stream",
     "text": [
      "3\n",
      "3\n",
      "[2, 3, 4]\n",
      "[2 3 4]\n"
     ]
    }
   ],
   "source": [
    "# indexing\n",
    "print(a[2])\n",
    "print(arr[2])\n",
    "# slicing\n",
    "print(a[1:4])\n",
    "print(arr[1:4])"
   ]
  },
  {
   "cell_type": "code",
   "execution_count": 24,
   "id": "ac5da7cc",
   "metadata": {},
   "outputs": [
    {
     "name": "stdout",
     "output_type": "stream",
     "text": [
      "[[1, 2, 3, 4], [4, 5, 6, 7], [8, 9, 10, 11], [12, 13, 14, 15]]\n",
      "[[ 1  2  3  4]\n",
      " [ 4  5  6  7]\n",
      " [ 8  9 10 11]\n",
      " [12 13 14 15]]\n"
     ]
    }
   ],
   "source": [
    "# 2d numpy array\n",
    "a = [[1,2,3,4],[4,5,6,7],[8,9,10,11],[12,13,14,15]]\n",
    "arr = np.array(a)\n",
    "\n",
    "print(a)\n",
    "print(arr)"
   ]
  },
  {
   "cell_type": "code",
   "execution_count": 25,
   "id": "c226affd",
   "metadata": {},
   "outputs": [
    {
     "name": "stdout",
     "output_type": "stream",
     "text": [
      "<memory at 0x000002B416A27BA0>\n",
      "(4, 4)\n",
      "int32\n",
      "(16, 4)\n"
     ]
    }
   ],
   "source": [
    "print(arr.data)\n",
    "print(arr.shape)\n",
    "print(arr.dtype)\n",
    "print(arr.strides)"
   ]
  },
  {
   "cell_type": "code",
   "execution_count": 26,
   "id": "b7b41110",
   "metadata": {},
   "outputs": [
    {
     "name": "stdout",
     "output_type": "stream",
     "text": [
      "9\n",
      "9\n",
      "9\n",
      "[4 5 6]\n",
      "[4 5 6]\n",
      "[ 8  9 10 11]\n",
      "[ 3  6 10]\n",
      "[[ 9 10]\n",
      " [13 14]]\n"
     ]
    }
   ],
   "source": [
    "# indexing\n",
    "print(a[2][1])\n",
    "print(arr[2][1])\n",
    "#or\n",
    "print(arr[2,1])\n",
    "\n",
    "# slicing\n",
    "\n",
    "# column varies \n",
    "print(arr[1][:3])\n",
    "#or\n",
    "print(arr[1,:3])\n",
    "\n",
    "# row varies\n",
    "print(arr[:3][2]) # wrong\n",
    "print(arr[0:3,2]) # correct\n",
    "\n",
    "# imp\n",
    "print(arr[2:4,1:3])"
   ]
  },
  {
   "cell_type": "markdown",
   "id": "06e4eb64",
   "metadata": {},
   "source": [
    "### Mathematical Operation"
   ]
  },
  {
   "cell_type": "code",
   "execution_count": 27,
   "id": "fed6b04c",
   "metadata": {},
   "outputs": [
    {
     "name": "stdout",
     "output_type": "stream",
     "text": [
      "[1, 2, 3, 4]\n",
      "[ 7 13 15  8 11]\n",
      "[17 13 12  5  2]\n"
     ]
    }
   ],
   "source": [
    "lis = [1,2,3,4]\n",
    "np_arr_1 = np.random.randint(1,20,5)\n",
    "np_arr_2 = np.random.randint(1,20,5)\n",
    "\n",
    "print(lis)\n",
    "print(np_arr_1)\n",
    "print(np_arr_2)"
   ]
  },
  {
   "cell_type": "code",
   "execution_count": 28,
   "id": "192b04ca",
   "metadata": {},
   "outputs": [
    {
     "name": "stdout",
     "output_type": "stream",
     "text": [
      "[2, 3, 4, 5]\n",
      "[ 8 14 16  9 12]\n"
     ]
    }
   ],
   "source": [
    "# adding \n",
    "#list\n",
    "lis = [i+1 for i in lis]\n",
    "print(lis)\n",
    "#numpy\n",
    "np_arr_1 = np_arr_1 +1\n",
    "print(np_arr_1)"
   ]
  },
  {
   "cell_type": "code",
   "execution_count": 29,
   "id": "81dd3055",
   "metadata": {},
   "outputs": [
    {
     "name": "stdout",
     "output_type": "stream",
     "text": [
      "[25 27 28 14 14]\n",
      "[-9  1  4  4 10]\n",
      "[136 182 192  45  24]\n",
      "[0.47058824 1.07692308 1.33333333 1.8        6.        ]\n",
      "[0 1 1 1 6]\n",
      "[8 1 4 4 0]\n",
      "[        0 521986048         0     59049       144]\n"
     ]
    }
   ],
   "source": [
    "# elemrnt by ele addition in bte two numpy\n",
    "c = np_arr_1 + np_arr_2\n",
    "print(c)\n",
    "c = np_arr_1 - np_arr_2\n",
    "print(c)\n",
    "c = np_arr_1 * np_arr_2\n",
    "print(c)\n",
    "c = np_arr_1 / np_arr_2\n",
    "print(c)\n",
    "c = np_arr_1 // np_arr_2\n",
    "print(c)\n",
    "c = np_arr_1 % np_arr_2\n",
    "print(c)\n",
    "c = np_arr_1 ** np_arr_2\n",
    "print(c)"
   ]
  },
  {
   "cell_type": "code",
   "execution_count": 30,
   "id": "cfb2396f",
   "metadata": {},
   "outputs": [
    {
     "name": "stdout",
     "output_type": "stream",
     "text": [
      "59\n",
      "11.8\n",
      "8\n",
      "16\n",
      "2\n"
     ]
    }
   ],
   "source": [
    "print(np_arr_1.sum())\n",
    "print(np_arr_1.mean())\n",
    "print(np_arr_1.min())\n",
    "print(np_arr_1.max())\n",
    "print(np_arr_1.argmax())\n"
   ]
  },
  {
   "cell_type": "code",
   "execution_count": 31,
   "id": "52a932f3",
   "metadata": {},
   "outputs": [
    {
     "name": "stdout",
     "output_type": "stream",
     "text": [
      "[ 8 14 16  9 12]\n",
      "[17 13 12  5  2]\n"
     ]
    }
   ],
   "source": [
    "print(np_arr_1)\n",
    "print(np_arr_2)"
   ]
  },
  {
   "cell_type": "code",
   "execution_count": 32,
   "id": "84b63777",
   "metadata": {},
   "outputs": [
    {
     "data": {
      "text/plain": [
       "array([False,  True,  True,  True,  True])"
      ]
     },
     "execution_count": 32,
     "metadata": {},
     "output_type": "execute_result"
    }
   ],
   "source": [
    "np_arr_1 > np_arr_2"
   ]
  },
  {
   "cell_type": "code",
   "execution_count": 33,
   "id": "d3174935",
   "metadata": {},
   "outputs": [
    {
     "data": {
      "text/plain": [
       "array([ True, False, False, False, False])"
      ]
     },
     "execution_count": 33,
     "metadata": {},
     "output_type": "execute_result"
    }
   ],
   "source": [
    "np_arr_1 < np_arr_2"
   ]
  },
  {
   "cell_type": "code",
   "execution_count": 34,
   "id": "42e6e5d4",
   "metadata": {},
   "outputs": [
    {
     "data": {
      "text/plain": [
       "array([False, False, False, False, False])"
      ]
     },
     "execution_count": 34,
     "metadata": {},
     "output_type": "execute_result"
    }
   ],
   "source": [
    "np_arr_1 == np_arr_2"
   ]
  },
  {
   "cell_type": "code",
   "execution_count": 35,
   "id": "42b50c51",
   "metadata": {},
   "outputs": [
    {
     "name": "stdout",
     "output_type": "stream",
     "text": [
      "[ True  True  True  True  True]\n",
      "[ True  True  True  True  True]\n",
      "[0 0 0 0 0]\n"
     ]
    }
   ],
   "source": [
    "print(np.logical_or(np_arr_1 , np_arr_2))\n",
    "print(np.logical_and(np_arr_1 , np_arr_2))\n",
    "print(np.logical_not(np_arr_1 , np_arr_2))"
   ]
  },
  {
   "cell_type": "code",
   "execution_count": 36,
   "id": "18b2d4ee",
   "metadata": {},
   "outputs": [
    {
     "name": "stdout",
     "output_type": "stream",
     "text": [
      "['a' 'b' 'c' 'd' 'e' 'f']\n",
      "[12  5  2 16 13 12 12 11]\n"
     ]
    }
   ],
   "source": [
    "a = np.array(['a','b','c','d','e','f'])\n",
    "b = np.random.randint(1,20,8)\n",
    "\n",
    "print(a)\n",
    "print(b)"
   ]
  },
  {
   "cell_type": "code",
   "execution_count": 37,
   "id": "3489413f",
   "metadata": {},
   "outputs": [
    {
     "name": "stdout",
     "output_type": "stream",
     "text": [
      "[ True False False  True  True  True  True  True]\n"
     ]
    }
   ],
   "source": [
    "print(b > 10)"
   ]
  },
  {
   "cell_type": "markdown",
   "id": "b2a3502e",
   "metadata": {},
   "source": [
    "### Boolean Indexing 1-d"
   ]
  },
  {
   "cell_type": "code",
   "execution_count": 72,
   "id": "ff76c69f",
   "metadata": {},
   "outputs": [
    {
     "name": "stdout",
     "output_type": "stream",
     "text": [
      "[ True False False  True  True  True False  True]\n",
      "[12 12 19 12  8]\n",
      "[12 12 19 12  8]\n"
     ]
    }
   ],
   "source": [
    "bool_arr = b > 5\n",
    "print(bool_arr)\n",
    "new_arr = b[bool_arr] #only true value get stored in new new_arr\n",
    "print(new_arr)\n",
    "\n",
    "# shortcuts of doing this\n",
    "newwst_arr = b[b>5]\n",
    "print(newwst_arr)"
   ]
  },
  {
   "cell_type": "code",
   "execution_count": 75,
   "id": "0496b5a2",
   "metadata": {},
   "outputs": [
    {
     "data": {
      "text/plain": [
       "array([8])"
      ]
     },
     "execution_count": 75,
     "metadata": {},
     "output_type": "execute_result"
    }
   ],
   "source": [
    "arr1 = b[(b>5) & (b < 10)]\n",
    "arr1"
   ]
  },
  {
   "cell_type": "code",
   "execution_count": 38,
   "id": "b1adc3ee",
   "metadata": {},
   "outputs": [
    {
     "name": "stdout",
     "output_type": "stream",
     "text": [
      "[12  5  2 16 13 12 12 11]\n"
     ]
    },
    {
     "data": {
      "text/plain": [
       "array([12,  5,  2, 16, 13, 12, 12, 11])"
      ]
     },
     "execution_count": 38,
     "metadata": {},
     "output_type": "execute_result"
    }
   ],
   "source": [
    "print(b)\n",
    "c = b\n",
    "c"
   ]
  },
  {
   "cell_type": "code",
   "execution_count": 41,
   "id": "703d3d5d",
   "metadata": {},
   "outputs": [
    {
     "name": "stdout",
     "output_type": "stream",
     "text": [
      "[19 19 19  5  5  5  5  5]\n",
      "[5 5 5 5 5 5 5 5]\n",
      "(array([0, 1, 2, 3, 4, 5, 6, 7], dtype=int64),)\n",
      "[5 5 5 5 5 5 5 5]\n"
     ]
    }
   ],
   "source": [
    "c[:3] = 19\n",
    "print(c)\n",
    "c[c>10] = 5\n",
    "print(c)\n",
    "\n",
    "# get index of satified value\n",
    "ind = np.where(c == 5)\n",
    "print(ind)\n",
    "print(c[ind])"
   ]
  },
  {
   "cell_type": "code",
   "execution_count": 42,
   "id": "4b86855b",
   "metadata": {},
   "outputs": [
    {
     "name": "stdout",
     "output_type": "stream",
     "text": [
      "['a' 'b' 'c' 'd' 'e' 'f']\n",
      "[5 5 5 5 5 5 5 5]\n"
     ]
    }
   ],
   "source": [
    "print(a)\n",
    "print(b)"
   ]
  },
  {
   "cell_type": "markdown",
   "id": "d49d9694",
   "metadata": {},
   "source": [
    "### Boolean Indexing 2-d"
   ]
  },
  {
   "cell_type": "code",
   "execution_count": 43,
   "id": "e98ab709",
   "metadata": {},
   "outputs": [
    {
     "data": {
      "text/plain": [
       "array([[ 4,  8, 17, 27, 18, 27],\n",
       "       [ 4,  6, 29, 15, 21,  1],\n",
       "       [21, 17, 19,  1,  9, 16],\n",
       "       [ 5,  5, 17, 28, 20, 19],\n",
       "       [14, 10, 13, 14,  9, 10]])"
      ]
     },
     "execution_count": 43,
     "metadata": {},
     "output_type": "execute_result"
    }
   ],
   "source": [
    "a = np.random.randint(1,30,(5,6))\n",
    "a"
   ]
  },
  {
   "cell_type": "code",
   "execution_count": 44,
   "id": "92033f64",
   "metadata": {},
   "outputs": [
    {
     "data": {
      "text/plain": [
       "array([[False, False, False,  True, False,  True],\n",
       "       [False, False,  True, False,  True, False],\n",
       "       [ True, False, False, False, False, False],\n",
       "       [False, False, False,  True, False, False],\n",
       "       [False, False, False, False, False, False]])"
      ]
     },
     "execution_count": 44,
     "metadata": {},
     "output_type": "execute_result"
    }
   ],
   "source": [
    "bool_arr = a>20\n",
    "bool_arr\n"
   ]
  },
  {
   "cell_type": "code",
   "execution_count": 45,
   "id": "ec6a6e14",
   "metadata": {},
   "outputs": [
    {
     "data": {
      "text/plain": [
       "array([27, 27, 29, 21, 21, 28])"
      ]
     },
     "execution_count": 45,
     "metadata": {},
     "output_type": "execute_result"
    }
   ],
   "source": [
    "ans = a[bool_arr]\n",
    "ans"
   ]
  },
  {
   "cell_type": "code",
   "execution_count": 46,
   "id": "597e6f25",
   "metadata": {},
   "outputs": [],
   "source": [
    "b = a\n"
   ]
  },
  {
   "cell_type": "code",
   "execution_count": 47,
   "id": "d629066a",
   "metadata": {},
   "outputs": [
    {
     "name": "stdout",
     "output_type": "stream",
     "text": [
      "[[  4   8  17 100  18 100]\n",
      " [  4   6 100  15 100   1]\n",
      " [100  17  19   1   9  16]\n",
      " [  5   5  17 100  20  19]\n",
      " [ 14  10  13  14   9  10]]\n"
     ]
    }
   ],
   "source": [
    "b[bool_arr] = 100\n",
    "print(b)"
   ]
  },
  {
   "cell_type": "code",
   "execution_count": 48,
   "id": "1c3aee5f",
   "metadata": {},
   "outputs": [
    {
     "name": "stdout",
     "output_type": "stream",
     "text": [
      "[[8 5]\n",
      " [9 2]]\n"
     ]
    }
   ],
   "source": [
    "c = np.random.randint(1,10,(2,2))\n",
    "print(c)"
   ]
  },
  {
   "cell_type": "code",
   "execution_count": 49,
   "id": "141ca604",
   "metadata": {},
   "outputs": [
    {
     "data": {
      "text/plain": [
       "array([[6, 2],\n",
       "       [3, 2],\n",
       "       [6, 7]])"
      ]
     },
     "execution_count": 49,
     "metadata": {},
     "output_type": "execute_result"
    }
   ],
   "source": [
    "c_bool = np.random.randint(1,10,(3,2))\n",
    "c_bool"
   ]
  },
  {
   "cell_type": "code",
   "execution_count": 50,
   "id": "87c46b01",
   "metadata": {},
   "outputs": [
    {
     "ename": "IndexError",
     "evalue": "index 6 is out of bounds for axis 0 with size 2",
     "output_type": "error",
     "traceback": [
      "\u001b[1;31m---------------------------------------------------------------------------\u001b[0m",
      "\u001b[1;31mIndexError\u001b[0m                                Traceback (most recent call last)",
      "\u001b[1;32m<ipython-input-50-b198b149ed25>\u001b[0m in \u001b[0;36m<module>\u001b[1;34m\u001b[0m\n\u001b[1;32m----> 1\u001b[1;33m \u001b[0mprint\u001b[0m\u001b[1;33m(\u001b[0m\u001b[0mc\u001b[0m\u001b[1;33m[\u001b[0m\u001b[0mc_bool\u001b[0m\u001b[1;33m]\u001b[0m\u001b[1;33m)\u001b[0m\u001b[1;33m\u001b[0m\u001b[1;33m\u001b[0m\u001b[0m\n\u001b[0m",
      "\u001b[1;31mIndexError\u001b[0m: index 6 is out of bounds for axis 0 with size 2"
     ]
    }
   ],
   "source": [
    "print(c[c_bool])"
   ]
  },
  {
   "cell_type": "code",
   "execution_count": 51,
   "id": "90d1ea2d",
   "metadata": {},
   "outputs": [
    {
     "name": "stdout",
     "output_type": "stream",
     "text": [
      "[[  4   8  17 100  18 100]\n",
      " [  4   6 100  15 100   1]\n",
      " [100  17  19   1   9  16]\n",
      " [  5   5  17 100  20  19]\n",
      " [ 14  10  13  14   9  10]]\n"
     ]
    }
   ],
   "source": [
    "print(b)"
   ]
  },
  {
   "cell_type": "code",
   "execution_count": 52,
   "id": "ca9d796c",
   "metadata": {},
   "outputs": [
    {
     "name": "stdout",
     "output_type": "stream",
     "text": [
      "[ True False False  True False]\n"
     ]
    }
   ],
   "source": [
    "b_bool = b[:,3] == 100\n",
    "print(b_bool)"
   ]
  },
  {
   "cell_type": "code",
   "execution_count": 53,
   "id": "b6de64b4",
   "metadata": {},
   "outputs": [
    {
     "name": "stdout",
     "output_type": "stream",
     "text": [
      "[[  4   8  17   0  18 100]\n",
      " [  4   6 100  15 100   1]\n",
      " [100  17  19   1   9  16]\n",
      " [  5   5  17   0  20  19]\n",
      " [ 14  10  13  14   9  10]]\n"
     ]
    }
   ],
   "source": [
    "b[b_bool,3] = 0\n",
    "print(b)"
   ]
  },
  {
   "cell_type": "markdown",
   "id": "8aec1fa5",
   "metadata": {},
   "source": [
    "### Real World Example using dataet \"year2017\""
   ]
  },
  {
   "cell_type": "code",
   "execution_count": 54,
   "id": "05e16a02",
   "metadata": {},
   "outputs": [
    {
     "name": "stdout",
     "output_type": "stream",
     "text": [
      "51372.0\n",
      "1167.0\n"
     ]
    }
   ],
   "source": [
    "import csv\n",
    "import numpy as np\n",
    "\n",
    "file_name = open(\"Dataset/year2017.csv\")\n",
    "file_data = csv.DictReader(file_name, skipinitialspace = True)\n",
    "    \n",
    "killed = []\n",
    "wound = []\n",
    "country = []\n",
    "for row in file_data:\n",
    "    killed.append(row['Killed'])\n",
    "    wound.append(row['Wounded'])\n",
    "    country.append(row['Country'])\n",
    "\n",
    "# converting to array\n",
    "np_killed = np.array(killed)\n",
    "np_wound = np.array(wound)\n",
    "\n",
    "# replacing empty string with '0.0'\n",
    "np_killed[np_killed == ''] = '0.0'\n",
    "np_wound[np_wound == ''] = '0.0'\n",
    "\n",
    "# converting to string to float\n",
    "np_killed = np.array(np_killed,dtype = float)\n",
    "np_wound = np.array(np_wound,dtype = float)\n",
    "\n",
    "# killed + wounded\n",
    "killed_wounded = np_killed + np_wound\n",
    "print(np.sum(killed_wounded))\n",
    "\n",
    "# *****sol completed *****\n",
    "# extra\n",
    "np_country = np.array(country)\n",
    "bool_arr = np_country == \"India\"\n",
    "ans = killed_wounded[bool_arr]\n",
    "print(np.sum(ans))\n"
   ]
  },
  {
   "cell_type": "markdown",
   "id": "1783e935",
   "metadata": {},
   "source": [
    "### Assigment Problem "
   ]
  },
  {
   "cell_type": "code",
   "execution_count": 28,
   "id": "b1b06546",
   "metadata": {},
   "outputs": [
    {
     "data": {
      "text/plain": [
       "array([[1, 2, 3],\n",
       "       [4, 5, 6],\n",
       "       [7, 8, 9]])"
      ]
     },
     "execution_count": 28,
     "metadata": {},
     "output_type": "execute_result"
    }
   ],
   "source": [
    "a = [[1,2,3],[4,5,6],[7,8,9]]\n",
    "b = np.array(a)\n",
    "b"
   ]
  },
  {
   "cell_type": "code",
   "execution_count": 17,
   "id": "621dd830",
   "metadata": {},
   "outputs": [
    {
     "data": {
      "text/plain": [
       "array([0, 1, 2, 3, 4, 5, 6, 7, 8, 9])"
      ]
     },
     "execution_count": 17,
     "metadata": {},
     "output_type": "execute_result"
    }
   ],
   "source": [
    "a = np.arange(10) * 1\n",
    "a = "
   ]
  },
  {
   "cell_type": "code",
   "execution_count": 85,
   "id": "f522a7fe",
   "metadata": {
    "scrolled": true
   },
   "outputs": [
    {
     "data": {
      "text/plain": [
       "array([ 9, 10, 11, 12, 13, 14, 15, 16, 17, 18, 19, 20, 21, 22, 23, 24, 25,\n",
       "       26, 27, 28, 29, 30, 31, 32, 33, 34, 35, 36, 37, 38, 39, 40, 41, 42,\n",
       "       43, 44, 45, 46, 47, 49])"
      ]
     },
     "execution_count": 85,
     "metadata": {},
     "output_type": "execute_result"
    }
   ],
   "source": [
    "a = np.linspace(9,49,40,dtype = int)\n",
    "a"
   ]
  },
  {
   "cell_type": "code",
   "execution_count": 89,
   "id": "08f67412",
   "metadata": {},
   "outputs": [
    {
     "data": {
      "text/plain": [
       "array([[1, 0, 0, 0, 0, 0],\n",
       "       [0, 1, 0, 0, 0, 0],\n",
       "       [0, 0, 1, 0, 0, 0],\n",
       "       [0, 0, 0, 1, 0, 0],\n",
       "       [0, 0, 0, 0, 1, 0]])"
      ]
     },
     "execution_count": 89,
     "metadata": {},
     "output_type": "execute_result"
    }
   ],
   "source": [
    "a = np.eye(5,6,dtype = int)\n",
    "a"
   ]
  },
  {
   "cell_type": "code",
   "execution_count": 27,
   "id": "201c8192",
   "metadata": {},
   "outputs": [
    {
     "data": {
      "text/plain": [
       "array([0.   , 0.625, 1.25 , 1.875, 2.5  , 3.125, 3.75 , 4.375, 5.   ])"
      ]
     },
     "execution_count": 27,
     "metadata": {},
     "output_type": "execute_result"
    }
   ],
   "source": [
    "a = np.linspace(0,5,9)\n",
    "a"
   ]
  },
  {
   "cell_type": "code",
   "execution_count": 86,
   "id": "e5e88ede",
   "metadata": {},
   "outputs": [
    {
     "name": "stdout",
     "output_type": "stream",
     "text": [
      "[[ 1  2  3  4  5]\n",
      " [ 6  7  8  9 10]\n",
      " [11 12 13 14 15]\n",
      " [16 17 18 19 20]]\n",
      "solution 1 : [11 12 13]\n",
      "solution 2 : [ 9 14 19]\n",
      "solution 3 : [[11 12 13 14 15]\n",
      " [16 17 18 19 20]]\n",
      "solution 4 : [[ 7  8]\n",
      " [12 13]]\n"
     ]
    }
   ],
   "source": [
    "arr = [[1,2,3,4,5],[6,7,8,9,10],[11,12,13,14,15],[16,17,18,19,20]]\n",
    "np_arr = np.array(arr)\n",
    "\n",
    "print(np_arr)\n",
    "# question 1\n",
    "print(f\"solution 1 : {np_arr[2, :3]}\")\n",
    "# question 2\n",
    "print(f\"solution 2 : {np_arr[1:4 ,3]}\")\n",
    "# question 3\n",
    "print(f\"solution 3 : {np_arr[2:4, :5]}\")\n",
    "# question 4\n",
    "print(f\"solution 4 : {np_arr[1:3, 1:3]}\")"
   ]
  },
  {
   "cell_type": "code",
   "execution_count": 88,
   "id": "0a5af9fe",
   "metadata": {},
   "outputs": [
    {
     "data": {
      "text/plain": [
       "(array([0, 1, 4], dtype=int64),)"
      ]
     },
     "execution_count": 88,
     "metadata": {},
     "output_type": "execute_result"
    }
   ],
   "source": [
    "a = [1,2,0,0,4,0] # non zero index\n",
    "np_arr = np.array(a)\n",
    "\n",
    "c = np_arr\n",
    "\n",
    "ind = np.where(c != 0)\n",
    "ind"
   ]
  },
  {
   "cell_type": "code",
   "execution_count": 90,
   "id": "e2b9b9ae",
   "metadata": {},
   "outputs": [
    {
     "data": {
      "text/plain": [
       "(array([1, 4, 7], dtype=int64),)"
      ]
     },
     "execution_count": 90,
     "metadata": {},
     "output_type": "execute_result"
    }
   ],
   "source": [
    "a = [1,3,5,7,9,11,13,15,17,19] # multiple of 3 index\n",
    "np_arr = np.array(a)\n",
    "\n",
    "c = np_arr\n",
    "\n",
    "ind = np.where(c % 3 == 0)\n",
    "ind"
   ]
  },
  {
   "cell_type": "code",
   "execution_count": 93,
   "id": "2d442c30",
   "metadata": {},
   "outputs": [
    {
     "data": {
      "text/plain": [
       "array([-1,  2, -1,  4, -1,  6, -1,  8, -1, 10])"
      ]
     },
     "execution_count": 93,
     "metadata": {},
     "output_type": "execute_result"
    }
   ],
   "source": [
    "a = [1,2,3,4,5,6,7,8,9,10] # replace odd with -1\n",
    "np_arr = np.array(a)\n",
    "\n",
    "np_arr[np_arr%2 != 0] = -1\n",
    "np_arr"
   ]
  },
  {
   "cell_type": "code",
   "execution_count": 95,
   "id": "bad23b56",
   "metadata": {},
   "outputs": [
    {
     "data": {
      "text/plain": [
       "array([11,  2, 13,  4, 15,  6,  0,  8, 19])"
      ]
     },
     "execution_count": 95,
     "metadata": {},
     "output_type": "execute_result"
    }
   ],
   "source": [
    "a = [11,2,13,4,15,6,27,8,19] # replace first max occerance with zeros\n",
    "np_arr = np.array(a)\n",
    "\n",
    "np_arr[np_arr.argmax()] = 0\n",
    "np_arr"
   ]
  },
  {
   "cell_type": "code",
   "execution_count": 100,
   "id": "3e472809",
   "metadata": {},
   "outputs": [
    {
     "data": {
      "text/plain": [
       "array([3, 4, 5, 6, 7, 8])"
      ]
     },
     "execution_count": 100,
     "metadata": {},
     "output_type": "execute_result"
    }
   ],
   "source": [
    "a = [1,2,3,4,5,6,7,8,9,10] # replace odd with -1\n",
    "np_arr = np.array(a)\n",
    "\n",
    "c = np_arr[(np_arr >= 3) & (np_arr <= 8)]\n",
    "c"
   ]
  },
  {
   "cell_type": "code",
   "execution_count": 115,
   "id": "f18cc756",
   "metadata": {},
   "outputs": [
    {
     "name": "stdout",
     "output_type": "stream",
     "text": [
      "[7 8 6 6 6 8 8 7 6 8 7 8 8 6 8 7 6 8 7 6]\n",
      "[174 120 179 172 138 140 142 129 124 144 181 152 165 186 185 148 182 178\n",
      " 156 185]\n"
     ]
    }
   ],
   "source": [
    "age = np.random.randint(6,9,20,dtype = int)\n",
    "height = np.random.randint(120,190,20,dtype = int)\n",
    "print(age)\n",
    "print(height)"
   ]
  },
  {
   "cell_type": "code",
   "execution_count": 134,
   "id": "199a9dff",
   "metadata": {},
   "outputs": [
    {
     "name": "stdout",
     "output_type": "stream",
     "text": [
      "[7 6 6 7 8 6 8 6 8 7 6]\n",
      "(array([ 0,  1,  2,  3,  4,  5,  6,  7,  8,  9, 10], dtype=int64),)\n"
     ]
    }
   ],
   "source": [
    "print(age[height>155])\n",
    "c = age[height>155]\n",
    "print(np.where(c))\n"
   ]
  }
 ],
 "metadata": {
  "kernelspec": {
   "display_name": "Python 3",
   "language": "python",
   "name": "python3"
  },
  "language_info": {
   "codemirror_mode": {
    "name": "ipython",
    "version": 3
   },
   "file_extension": ".py",
   "mimetype": "text/x-python",
   "name": "python",
   "nbconvert_exporter": "python",
   "pygments_lexer": "ipython3",
   "version": "3.8.10"
  }
 },
 "nbformat": 4,
 "nbformat_minor": 5
}
