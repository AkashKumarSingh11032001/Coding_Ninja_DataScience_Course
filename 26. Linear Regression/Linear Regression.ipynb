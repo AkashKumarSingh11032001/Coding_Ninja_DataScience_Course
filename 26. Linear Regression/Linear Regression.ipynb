{
 "cells": [
  {
   "cell_type": "markdown",
   "id": "1fc02603",
   "metadata": {},
   "source": [
    "# Linear Regression"
   ]
  },
  {
   "cell_type": "code",
   "execution_count": 1,
   "id": "85de4204",
   "metadata": {},
   "outputs": [],
   "source": [
    "import numpy as np"
   ]
  },
  {
   "cell_type": "code",
   "execution_count": 2,
   "id": "4dab6e35",
   "metadata": {},
   "outputs": [],
   "source": [
    "data = np.loadtxt(\"Dataset/data.csv\",delimiter=\",\")"
   ]
  },
  {
   "cell_type": "code",
   "execution_count": 3,
   "id": "245318fa",
   "metadata": {},
   "outputs": [
    {
     "data": {
      "text/plain": [
       "(100, 2)"
      ]
     },
     "execution_count": 3,
     "metadata": {},
     "output_type": "execute_result"
    }
   ],
   "source": [
    "data.shape"
   ]
  },
  {
   "cell_type": "code",
   "execution_count": 7,
   "id": "e845316f",
   "metadata": {},
   "outputs": [],
   "source": [
    "x = data[:, 0].reshape(-1,1)\n",
    "y = data[:,1]"
   ]
  },
  {
   "cell_type": "code",
   "execution_count": 8,
   "id": "a6183b3d",
   "metadata": {},
   "outputs": [
    {
     "data": {
      "text/plain": [
       "(100, 1)"
      ]
     },
     "execution_count": 8,
     "metadata": {},
     "output_type": "execute_result"
    }
   ],
   "source": [
    "x.shape"
   ]
  },
  {
   "cell_type": "code",
   "execution_count": 9,
   "id": "4729d266",
   "metadata": {},
   "outputs": [],
   "source": [
    "from sklearn import model_selection\n",
    "X_train, X_test, Y_train ,Y_test = model_selection.train_test_split(x,y)\n"
   ]
  },
  {
   "cell_type": "code",
   "execution_count": 10,
   "id": "7930476a",
   "metadata": {
    "scrolled": true
   },
   "outputs": [
    {
     "data": {
      "text/plain": [
       "LinearRegression()"
      ]
     },
     "execution_count": 10,
     "metadata": {},
     "output_type": "execute_result"
    }
   ],
   "source": [
    "from sklearn.linear_model import LinearRegression\n",
    "\n",
    "algo_1 = LinearRegression()\n",
    "algo_1.fit(X_train,Y_train)"
   ]
  },
  {
   "cell_type": "code",
   "execution_count": 12,
   "id": "971b9834",
   "metadata": {},
   "outputs": [
    {
     "data": {
      "text/plain": [
       "array([1.43835404])"
      ]
     },
     "execution_count": 12,
     "metadata": {},
     "output_type": "execute_result"
    }
   ],
   "source": [
    "algo_1.coef_"
   ]
  },
  {
   "cell_type": "code",
   "execution_count": 14,
   "id": "79f2c866",
   "metadata": {},
   "outputs": [
    {
     "data": {
      "text/plain": [
       "1.7433913727554398"
      ]
     },
     "execution_count": 14,
     "metadata": {},
     "output_type": "execute_result"
    }
   ],
   "source": [
    "algo_1.intercept_"
   ]
  },
  {
   "cell_type": "code",
   "execution_count": 21,
   "id": "711db14c",
   "metadata": {},
   "outputs": [
    {
     "data": {
      "image/png": "[encoded data removed]",
      "text/plain": [
       "<Figure size 432x288 with 1 Axes>"
      ]
     },
     "metadata": {
      "needs_background": "light"
     },
     "output_type": "display_data"
    }
   ],
   "source": [
    "#--> Training model\n",
    "\n",
    "import matplotlib.pyplot as plt\n",
    "m = algo_1.coef_[0]\n",
    "c = algo_1.intercept_\n",
    "\n",
    "x_line = np.arange(30,70,0.1)\n",
    "y_line = m * x_line + c\n",
    "\n",
    "plt.plot(x_line, y_line,\"r\")\n",
    "train_1d = X_train.reshape(75)\n",
    "plt.scatter(X_train,Y_train)\n",
    "plt.show()"
   ]
  },
  {
   "cell_type": "code",
   "execution_count": 23,
   "id": "bf39bb96",
   "metadata": {},
   "outputs": [
    {
     "data": {
      "image/png": "[encoded data removed]",
      "text/plain": [
       "<Figure size 432x288 with 1 Axes>"
      ]
     },
     "metadata": {
      "needs_background": "light"
     },
     "output_type": "display_data"
    }
   ],
   "source": [
    "#--> Testing model\n",
    "\n",
    "import matplotlib.pyplot as plt\n",
    "m = algo_1.coef_[0]\n",
    "c = algo_1.intercept_\n",
    "\n",
    "x_line = np.arange(30,70,0.1)\n",
    "y_line = m * x_line + c\n",
    "\n",
    "plt.plot(x_line, y_line,\"r\")\n",
    "train_1d = X_test.reshape(25)\n",
    "plt.scatter(X_test,Y_test)\n",
    "plt.show()"
   ]
  },
  {
   "cell_type": "code",
   "execution_count": 27,
   "id": "cbe691b8",
   "metadata": {},
   "outputs": [
    {
     "data": {
      "text/plain": [
       "0.15828905517103087"
      ]
     },
     "execution_count": 27,
     "metadata": {},
     "output_type": "execute_result"
    }
   ],
   "source": [
    "Score_test = algo_1.score(X_test,Y_test)\n",
    "Score_test"
   ]
  },
  {
   "cell_type": "code",
   "execution_count": 28,
   "id": "cd7b23d0",
   "metadata": {},
   "outputs": [
    {
     "data": {
      "text/plain": [
       "0.6580792961645678"
      ]
     },
     "execution_count": 28,
     "metadata": {},
     "output_type": "execute_result"
    }
   ],
   "source": [
    "Score_train = algo_1.score(X_train,Y_train)\n",
    "Score_train"
   ]
  },
  {
   "cell_type": "markdown",
   "id": "74e34e91",
   "metadata": {},
   "source": [
    "# Self - Implementation of Algorithm for 1-d array"
   ]
  },
  {
   "cell_type": "code",
   "execution_count": 14,
   "id": "7ee8a722",
   "metadata": {},
   "outputs": [],
   "source": [
    "import numpy as np"
   ]
  },
  {
   "cell_type": "code",
   "execution_count": 15,
   "id": "fc19a17f",
   "metadata": {},
   "outputs": [],
   "source": [
    "data = np.loadtxt(\"Dataset/data.csv\",delimiter=\",\")"
   ]
  },
  {
   "cell_type": "code",
   "execution_count": 16,
   "id": "e31f0882",
   "metadata": {},
   "outputs": [
    {
     "data": {
      "text/plain": [
       "(100, 2)"
      ]
     },
     "execution_count": 16,
     "metadata": {},
     "output_type": "execute_result"
    }
   ],
   "source": [
    "data.shape"
   ]
  },
  {
   "cell_type": "code",
   "execution_count": 17,
   "id": "7ea0cbea",
   "metadata": {},
   "outputs": [],
   "source": [
    "x = data[:, 0]\n",
    "y = data[:,1]"
   ]
  },
  {
   "cell_type": "code",
   "execution_count": 18,
   "id": "36deb5fb",
   "metadata": {},
   "outputs": [
    {
     "data": {
      "text/plain": [
       "(100,)"
      ]
     },
     "execution_count": 18,
     "metadata": {},
     "output_type": "execute_result"
    }
   ],
   "source": [
    "x.shape"
   ]
  },
  {
   "cell_type": "code",
   "execution_count": 19,
   "id": "f9387f8f",
   "metadata": {},
   "outputs": [],
   "source": [
    "from sklearn import model_selection\n",
    "x_train, x_test, y_train ,y_test = model_selection.train_test_split(x,y,test_size = 0.3)"
   ]
  },
  {
   "cell_type": "markdown",
   "id": "e2d8a30f",
   "metadata": {},
   "source": [
    "#---> Flow\n",
    "\n",
    "step 1: m,c = fit(x_train,y_train)\n",
    "\n",
    "step 2: y_pred = predict(x_test,m,c)\n",
    "\n",
    "step 3: score(y_test,y_pred)\n",
    "    \n",
    "#---> step 2 and step 3 can be preformed on both \"test data\" as well as \"trainning data\" "
   ]
  },
  {
   "cell_type": "code",
   "execution_count": 20,
   "id": "b746f5a3",
   "metadata": {},
   "outputs": [],
   "source": [
    "# fit function\n",
    "\n",
    "def fit(x_train,y_train):\n",
    "    num = (x_train * y_train).mean() - x_train.mean()*y_train.mean()\n",
    "    den = (x_train**2).mean() - x_train.mean()**2\n",
    "    m = num / den\n",
    "    c = y_train.mean() - m*x_train.mean()\n",
    "    \n",
    "    return m,c"
   ]
  },
  {
   "cell_type": "code",
   "execution_count": 21,
   "id": "b8d1b5f0",
   "metadata": {},
   "outputs": [],
   "source": [
    "# predict function\n",
    "\n",
    "def predict(x,m,c):\n",
    "    return m * x + c"
   ]
  },
  {
   "cell_type": "code",
   "execution_count": 22,
   "id": "07be40b2",
   "metadata": {},
   "outputs": [],
   "source": [
    "# score fuction\n",
    "\n",
    "def score(y_true,y_pred):\n",
    "    u = ((y_true - y_pred)**2).sum()\n",
    "    v = ((y_true - y_true.mean())**2).sum()\n",
    "    \n",
    "    return 1-u/v"
   ]
  },
  {
   "cell_type": "code",
   "execution_count": null,
   "id": "d59a8326",
   "metadata": {},
   "outputs": [],
   "source": [
    "# cost function\n",
    "\n",
    "def cost(x,y,m,c):\n",
    "    r"
   ]
  },
  {
   "cell_type": "code",
   "execution_count": 24,
   "id": "160b597d",
   "metadata": {},
   "outputs": [
    {
     "name": "stdout",
     "output_type": "stream",
     "text": [
      "Test Score:  0.37279298743188527\n",
      "Train Score:  0.6330174585756392\n",
      "M, C :  1.412452890282859 3.446889670595894\n"
     ]
    }
   ],
   "source": [
    "m, c = fit(x_train, y_train)\n",
    "\n",
    "# test data\n",
    "\n",
    "y_test_pred = predict(x_test, m, c) \n",
    "print(\"Test Score: \",score(y_test, y_test_pred))\n",
    "\n",
    "# train data\n",
    "\n",
    "y_train_pred =  predict(x_train, m, c)\n",
    "\n",
    "print(\"Train Score: \",score(y_train, y_train_pred)) \n",
    "print(\"M, C : \", m, c)"
   ]
  }
 ],
 "metadata": {
  "kernelspec": {
   "display_name": "Python 3",
   "language": "python",
   "name": "python3"
  },
  "language_info": {
   "codemirror_mode": {
    "name": "ipython",
    "version": 3
   },
   "file_extension": ".py",
   "mimetype": "text/x-python",
   "name": "python",
   "nbconvert_exporter": "python",
   "pygments_lexer": "ipython3",
   "version": "3.8.8"
  }
 },
 "nbformat": 4,
 "nbformat_minor": 5
}
