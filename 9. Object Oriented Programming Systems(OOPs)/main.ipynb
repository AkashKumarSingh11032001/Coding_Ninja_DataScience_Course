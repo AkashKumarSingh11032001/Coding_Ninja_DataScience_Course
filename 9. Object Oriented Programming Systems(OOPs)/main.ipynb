{
 "cells": [
  {
   "cell_type": "markdown",
   "id": "e3003ed9",
   "metadata": {},
   "source": [
    "# 9. Object Oriented Programming Systems(OOPs)"
   ]
  },
  {
   "cell_type": "code",
   "execution_count": 3,
   "id": "0dfa842b",
   "metadata": {},
   "outputs": [
    {
     "name": "stdout",
     "output_type": "stream",
     "text": [
      "<class 'int'>\n"
     ]
    }
   ],
   "source": [
    "a = 10\n",
    "print(type(a))"
   ]
  },
  {
   "cell_type": "code",
   "execution_count": 18,
   "id": "049128a3",
   "metadata": {},
   "outputs": [],
   "source": [
    "# user defined class syntax:\n",
    "class Student:\n",
    "    pass\n",
    "\n",
    "\n",
    "s1,s2,s3 = Student(),Student(),Student() # 3 object of class 'student' -> s1,s2,s3\n"
   ]
  },
  {
   "cell_type": "markdown",
   "id": "fd2ab553",
   "metadata": {},
   "source": [
    "### Attribute's"
   ]
  },
  {
   "cell_type": "code",
   "execution_count": null,
   "id": "cde0434c",
   "metadata": {},
   "outputs": [],
   "source": [
    "# 2 type-> instance attribute & Class Atribute"
   ]
  },
  {
   "cell_type": "code",
   "execution_count": 6,
   "id": "20ed4228",
   "metadata": {},
   "outputs": [],
   "source": [
    "# instance attribute vs Class Atribute\n",
    "\n",
    "# -> Instance Atribute\n",
    "   # each object can haved different instance attributr \n",
    "   # obj can access instance atr,r by using dot(.) opr\n",
    "    \n",
    "s1.name = \"Akash\"\n",
    "s1.age = 20"
   ]
  },
  {
   "cell_type": "code",
   "execution_count": 7,
   "id": "a91f2799",
   "metadata": {},
   "outputs": [],
   "source": [
    "s2.rollno = 101"
   ]
  },
  {
   "cell_type": "code",
   "execution_count": 8,
   "id": "04d06150",
   "metadata": {},
   "outputs": [],
   "source": [
    "s3.age = 21"
   ]
  },
  {
   "cell_type": "code",
   "execution_count": 9,
   "id": "931c4300",
   "metadata": {},
   "outputs": [
    {
     "name": "stdout",
     "output_type": "stream",
     "text": [
      "{'name': 'Akash', 'age': 20}\n",
      "{'rollno': 101}\n",
      "{'age': 21}\n"
     ]
    }
   ],
   "source": [
    "# check each object attribute \n",
    "print(s1.__dict__)\n",
    "print(s2.__dict__)\n",
    "print(s3.__dict__)"
   ]
  },
  {
   "cell_type": "code",
   "execution_count": 11,
   "id": "c9e1b9f6",
   "metadata": {},
   "outputs": [
    {
     "name": "stdout",
     "output_type": "stream",
     "text": [
      "Akash\n",
      "101\n"
     ]
    },
    {
     "ename": "AttributeError",
     "evalue": "'Student' object has no attribute 'name'",
     "output_type": "error",
     "traceback": [
      "\u001b[1;31m---------------------------------------------------------------------------\u001b[0m",
      "\u001b[1;31mAttributeError\u001b[0m                            Traceback (most recent call last)",
      "\u001b[1;32m<ipython-input-11-b869f2ea961d>\u001b[0m in \u001b[0;36m<module>\u001b[1;34m\u001b[0m\n\u001b[0;32m      2\u001b[0m \u001b[0mprint\u001b[0m\u001b[1;33m(\u001b[0m\u001b[0ms1\u001b[0m\u001b[1;33m.\u001b[0m\u001b[0mname\u001b[0m\u001b[1;33m)\u001b[0m\u001b[1;33m\u001b[0m\u001b[1;33m\u001b[0m\u001b[0m\n\u001b[0;32m      3\u001b[0m \u001b[0mprint\u001b[0m\u001b[1;33m(\u001b[0m\u001b[0ms2\u001b[0m\u001b[1;33m.\u001b[0m\u001b[0mrollno\u001b[0m\u001b[1;33m)\u001b[0m\u001b[1;33m\u001b[0m\u001b[1;33m\u001b[0m\u001b[0m\n\u001b[1;32m----> 4\u001b[1;33m \u001b[0mprint\u001b[0m\u001b[1;33m(\u001b[0m\u001b[0ms2\u001b[0m\u001b[1;33m.\u001b[0m\u001b[0mname\u001b[0m\u001b[1;33m)\u001b[0m \u001b[1;31m# doen't have name attribute\u001b[0m\u001b[1;33m\u001b[0m\u001b[1;33m\u001b[0m\u001b[0m\n\u001b[0m",
      "\u001b[1;31mAttributeError\u001b[0m: 'Student' object has no attribute 'name'"
     ]
    }
   ],
   "source": [
    "# accessing particular attrbute through object \n",
    "print(s1.name)\n",
    "print(s2.rollno)\n",
    "print(s2.name) # doen't have name attribute"
   ]
  },
  {
   "cell_type": "code",
   "execution_count": 13,
   "id": "5e8f006e",
   "metadata": {},
   "outputs": [
    {
     "name": "stdout",
     "output_type": "stream",
     "text": [
      "True\n"
     ]
    }
   ],
   "source": [
    "# checking attribute present in it or not?\n",
    "print(hasattr(s1,\"name\")) "
   ]
  },
  {
   "cell_type": "code",
   "execution_count": 16,
   "id": "100ba929",
   "metadata": {},
   "outputs": [
    {
     "name": "stdout",
     "output_type": "stream",
     "text": [
      "Akash\n",
      "s2 don't have any atrribute of 'name'\n"
     ]
    }
   ],
   "source": [
    "#other attribute function\n",
    "print(getattr(s1,\"name\")) # will return value\n",
    "print(getattr(s2,\"name\",\"s2 don't have any atrribute of 'name'\"))"
   ]
  },
  {
   "cell_type": "code",
   "execution_count": 21,
   "id": "c0dad507",
   "metadata": {},
   "outputs": [
    {
     "name": "stdout",
     "output_type": "stream",
     "text": [
      "{'__module__': '__main__', '__dict__': <attribute '__dict__' of 'Student' objects>, '__weakref__': <attribute '__weakref__' of 'Student' objects>, '__doc__': None, 'totalStudents': 20}\n"
     ]
    }
   ],
   "source": [
    "# -> Class attributes\n",
    "   # attribute bounded by a class\n",
    "    \n",
    "Student.totalStudents = 20\n",
    "print(Student.__dict__)"
   ]
  },
  {
   "cell_type": "code",
   "execution_count": 23,
   "id": "a5d0a345",
   "metadata": {},
   "outputs": [
    {
     "name": "stdout",
     "output_type": "stream",
     "text": [
      "{'__module__': '__main__', 'totalStudent': 20, 'TeacherName': 'Komal', '__dict__': <attribute '__dict__' of 'Student' objects>, '__weakref__': <attribute '__weakref__' of 'Student' objects>, '__doc__': None}\n"
     ]
    }
   ],
   "source": [
    "class Student:\n",
    "    # define class trribute\n",
    "    totalStudent = 20\n",
    "    TeacherName = \"Komal\"\n",
    "    \n",
    "s1,s2 = Student(),Student()\n",
    "print(Student.__dict__)"
   ]
  },
  {
   "cell_type": "code",
   "execution_count": 26,
   "id": "80620b1c",
   "metadata": {},
   "outputs": [
    {
     "name": "stdout",
     "output_type": "stream",
     "text": [
      "20\n",
      "20\n",
      "20\n"
     ]
    }
   ],
   "source": [
    "print(Student.totalStudent)\n",
    "print(s1.totalStudent)\n",
    "print(s2.totalStudent)"
   ]
  },
  {
   "cell_type": "code",
   "execution_count": 27,
   "id": "480dbbd5",
   "metadata": {},
   "outputs": [],
   "source": [
    "Student.totalStudent = 91 # it will update main 'totalStudent' "
   ]
  },
  {
   "cell_type": "code",
   "execution_count": 28,
   "id": "b0c02522",
   "metadata": {},
   "outputs": [
    {
     "name": "stdout",
     "output_type": "stream",
     "text": [
      "91\n",
      "91\n",
      "91\n"
     ]
    }
   ],
   "source": [
    "print(Student.totalStudent)\n",
    "print(s1.totalStudent)\n",
    "print(s2.totalStudent)"
   ]
  },
  {
   "cell_type": "code",
   "execution_count": 29,
   "id": "bd669d25",
   "metadata": {},
   "outputs": [
    {
     "name": "stdout",
     "output_type": "stream",
     "text": [
      "{}\n",
      "{}\n"
     ]
    }
   ],
   "source": [
    "# but even s1 and s2 have no attribute , they just accessing the main attribute\n",
    "print(s1.__dict__)\n",
    "print(s2.__dict__)"
   ]
  },
  {
   "cell_type": "code",
   "execution_count": 30,
   "id": "02d5cc28",
   "metadata": {},
   "outputs": [],
   "source": [
    "# suppose you increase the 'totalStudent ' value from s1 or s2\n",
    "s1.totalStudent = 50"
   ]
  },
  {
   "cell_type": "code",
   "execution_count": 32,
   "id": "063b941f",
   "metadata": {},
   "outputs": [
    {
     "name": "stdout",
     "output_type": "stream",
     "text": [
      "91\n",
      "50\n",
      "91\n"
     ]
    }
   ],
   "source": [
    "print(Student.totalStudent)\n",
    "print(s1.totalStudent) # only s1 totalStudent changes\n",
    "print(s2.totalStudent)"
   ]
  },
  {
   "cell_type": "code",
   "execution_count": 34,
   "id": "4fae313d",
   "metadata": {},
   "outputs": [
    {
     "name": "stdout",
     "output_type": "stream",
     "text": [
      "{'totalStudent': 50}\n",
      "{}\n"
     ]
    }
   ],
   "source": [
    "print(s1.__dict__) # it will also create s1 instance attribute\n",
    "print(s2.__dict__)\n"
   ]
  },
  {
   "cell_type": "markdown",
   "id": "42238c4e",
   "metadata": {},
   "source": [
    "### Methods "
   ]
  },
  {
   "cell_type": "code",
   "execution_count": 35,
   "id": "f58263bb",
   "metadata": {},
   "outputs": [],
   "source": [
    "# 3 type-> instance methods & Class methods & static methods"
   ]
  },
  {
   "cell_type": "code",
   "execution_count": 59,
   "id": "1f7a8197",
   "metadata": {},
   "outputs": [],
   "source": [
    "# Methods\n",
    "class Student:\n",
    "    # define class trribute\n",
    "    totalStudent = 20\n",
    "    TeacherName = \"Komal\"\n",
    "    \n",
    "    # instance attribute \n",
    "    def hello(self): # must needed to have atleast one attribute by default\n",
    "        print(\"hello\")\n",
    "    \n",
    "    def sentence(self,str):\n",
    "        print(\"Hello,\"+ str +  \" Its new sentence\")\n",
    "        \n",
    "    def printName(self):\n",
    "        name = \"abc\"\n",
    "        print(self.name)\n",
    "    \n",
    "    \n",
    "    \n",
    "s1,s2 = Student(),Student()\n",
    "\n"
   ]
  },
  {
   "cell_type": "code",
   "execution_count": 47,
   "id": "90c9e419",
   "metadata": {},
   "outputs": [
    {
     "name": "stdout",
     "output_type": "stream",
     "text": [
      "hello\n"
     ]
    }
   ],
   "source": [
    "# method calling by instance variable\n",
    "\n",
    "s1.hello()"
   ]
  },
  {
   "cell_type": "code",
   "execution_count": 54,
   "id": "60405139",
   "metadata": {},
   "outputs": [
    {
     "name": "stdout",
     "output_type": "stream",
     "text": [
      "Hello,Akash Its new sentence\n"
     ]
    }
   ],
   "source": [
    "s2.sentence(\"Akash\")"
   ]
  },
  {
   "cell_type": "code",
   "execution_count": 61,
   "id": "d015ac5e",
   "metadata": {},
   "outputs": [],
   "source": [
    "s2.name = \"Akash Hello\""
   ]
  },
  {
   "cell_type": "code",
   "execution_count": 62,
   "id": "0638a05b",
   "metadata": {},
   "outputs": [
    {
     "name": "stdout",
     "output_type": "stream",
     "text": [
      "Akash Hello\n"
     ]
    }
   ],
   "source": [
    "s2.printName()"
   ]
  },
  {
   "cell_type": "code",
   "execution_count": 63,
   "id": "59866e19",
   "metadata": {},
   "outputs": [
    {
     "name": "stdout",
     "output_type": "stream",
     "text": [
      "hello\n"
     ]
    }
   ],
   "source": [
    "# calling by using Class name\n",
    "Student.hello(s1)"
   ]
  },
  {
   "cell_type": "code",
   "execution_count": null,
   "id": "ba69131a",
   "metadata": {},
   "outputs": [],
   "source": [
    "# -> Instance Methods\n",
    "\n",
    "class Student:\n",
    "    # define class trribute\n",
    "    totalStudent = 20\n",
    "    TeacherName = \"Komal\"\n",
    "    \n",
    "    # instance attribute \n",
    "    def hello(self): # must needed to have atleast one attribute by default\n",
    "        print(\"hello\")\n",
    "    \n",
    "    def sentence(self,str):\n",
    "        print(\"Hello,\"+ str +  \" Its new sentence\")\n",
    "        \n",
    "    def printName(self):\n",
    "        name = \"abc\"\n",
    "        print(self.name)\n",
    "    def addName(self,str):\n",
    "        self.name = str\n",
    "        \n",
    "s1,s2 = Student(),Student()"
   ]
  }
 ],
 "metadata": {
  "kernelspec": {
   "display_name": "Python 3",
   "language": "python",
   "name": "python3"
  },
  "language_info": {
   "codemirror_mode": {
    "name": "ipython",
    "version": 3
   },
   "file_extension": ".py",
   "mimetype": "text/x-python",
   "name": "python",
   "nbconvert_exporter": "python",
   "pygments_lexer": "ipython3",
   "version": "3.8.10"
  }
 },
 "nbformat": 4,
 "nbformat_minor": 5
}
