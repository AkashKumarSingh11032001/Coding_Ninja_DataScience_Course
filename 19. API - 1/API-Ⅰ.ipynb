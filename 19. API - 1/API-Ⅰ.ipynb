{
 "cells": [
  {
   "cell_type": "markdown",
   "id": "371da0e4",
   "metadata": {},
   "source": [
    "# 19. API - Ⅰ"
   ]
  },
  {
   "cell_type": "code",
   "execution_count": null,
   "id": "b6507bdb",
   "metadata": {},
   "outputs": [],
   "source": [
    "pip install requests"
   ]
  },
  {
   "cell_type": "code",
   "execution_count": null,
   "id": "41b711f7",
   "metadata": {},
   "outputs": [],
   "source": [
    "import requests"
   ]
  }
 ],
 "metadata": {
  "kernelspec": {
   "display_name": "Python 3",
   "language": "python",
   "name": "python3"
  },
  "language_info": {
   "codemirror_mode": {
    "name": "ipython",
    "version": 3
   },
   "file_extension": ".py",
   "mimetype": "text/x-python",
   "name": "python",
   "nbconvert_exporter": "python",
   "pygments_lexer": "ipython3",
   "version": "3.8.10"
  }
 },
 "nbformat": 4,
 "nbformat_minor": 5
}
