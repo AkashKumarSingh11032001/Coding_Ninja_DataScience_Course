{
 "cells": [
  {
   "cell_type": "markdown",
   "id": "8ccc60eb",
   "metadata": {},
   "source": [
    "# 19. API - Ⅰ"
   ]
  },
  {
   "cell_type": "code",
   "execution_count": 2,
   "id": "2ab92443",
   "metadata": {},
   "outputs": [
    {
     "name": "stdout",
     "output_type": "stream",
     "text": [
      "Collecting requests\n",
      "  Downloading requests-2.25.1-py2.py3-none-any.whl (61 kB)\n",
      "Collecting certifi>=2017.4.17\n",
      "  Downloading certifi-2021.5.30-py2.py3-none-any.whl (145 kB)\n",
      "Collecting idna<3,>=2.5Note: you may need to restart the kernel to use updated packages.\n"
     ]
    },
    {
     "name": "stderr",
     "output_type": "stream",
     "text": [
      "WARNING: You are using pip version 21.1.1; however, version 21.1.2 is available.\n",
      "You should consider upgrading via the 'c:\\users\\akash\\appdata\\local\\programs\\python\\python38\\python.exe -m pip install --upgrade pip' command.\n"
     ]
    },
    {
     "name": "stdout",
     "output_type": "stream",
     "text": [
      "\n",
      "  Downloading idna-2.10-py2.py3-none-any.whl (58 kB)\n",
      "Collecting chardet<5,>=3.0.2\n",
      "  Downloading chardet-4.0.0-py2.py3-none-any.whl (178 kB)\n",
      "Collecting urllib3<1.27,>=1.21.1\n",
      "  Downloading urllib3-1.26.5-py2.py3-none-any.whl (138 kB)\n",
      "Installing collected packages: urllib3, idna, chardet, certifi, requests\n",
      "Successfully installed certifi-2021.5.30 chardet-4.0.0 idna-2.10 requests-2.25.1 urllib3-1.26.5\n"
     ]
    }
   ],
   "source": [
    "pip install requests"
   ]
  },
  {
   "cell_type": "code",
   "execution_count": 4,
   "id": "28f16c3f",
   "metadata": {},
   "outputs": [],
   "source": [
    "import requests"
   ]
  },
  {
   "cell_type": "code",
   "execution_count": 5,
   "id": "4c2229ae",
   "metadata": {},
   "outputs": [],
   "source": [
    "## https://codingninjas.in/api/v3/courses\n",
    "\n",
    "## https://api.github.com/events\n",
    "\n",
    "## https://dog.ceo/api/breeds/list/all"
   ]
  },
  {
   "cell_type": "code",
   "execution_count": 19,
   "id": "4a3fe411",
   "metadata": {},
   "outputs": [
    {
     "name": "stdout",
     "output_type": "stream",
     "text": [
      "200\n",
      "utf-8\n",
      "https://codingninjas.in/api/v3/courses\n",
      "<class 'requests.structures.CaseInsensitiveDict'>\n",
      "Fri, 18 Jun 2021 05:20:28 GMT\n",
      "application/json\n"
     ]
    }
   ],
   "source": [
    "# API calling \n",
    "res = requests.get('https://codingninjas.in/api/v3/courses') \n",
    "\n",
    "# check call was sucessful or not [200-> sucess || 404-> fail]\n",
    "print(res.status_code)\n",
    "\n",
    "# check file encoding of received response \n",
    "print(res.encoding)\n",
    "\n",
    "# retrieve/ see data, recived from response\n",
    "#print(res.text)\n",
    "\n",
    "# see URL, in which you make call\n",
    "print(res.url)\n",
    "\n",
    "# header informaation in dict type formate\n",
    "des = res.headers\n",
    "print(type(des))\n",
    "print(des['Date'])\n",
    "print(des['content-type'])\n",
    "#print(des)\n",
    "\n"
   ]
  },
  {
   "cell_type": "markdown",
   "id": "cc5d17c1",
   "metadata": {},
   "source": [
    "### JSON to PYTHON"
   ]
  },
  {
   "cell_type": "code",
   "execution_count": 21,
   "id": "0e5c96de",
   "metadata": {},
   "outputs": [],
   "source": [
    "# As we checked that type formate we recived from call is \"JSON\" [print(des['content-type'])]\n",
    "\n",
    "import json\n"
   ]
  },
  {
   "cell_type": "code",
   "execution_count": 25,
   "id": "bba1c427",
   "metadata": {},
   "outputs": [
    {
     "name": "stdout",
     "output_type": "stream",
     "text": [
      "<class 'dict'>\n",
      "Akash\n"
     ]
    }
   ],
   "source": [
    "# b=y default json is str type\n",
    "json_data = '{\"Student\": \"Akash\"}'\n",
    "\n",
    "python_data = json.loads(json_data)\n",
    "print(type(python_data))\n",
    "print(python_data[\"Student\"])"
   ]
  },
  {
   "cell_type": "code",
   "execution_count": 28,
   "id": "320fddf5",
   "metadata": {},
   "outputs": [
    {
     "name": "stdout",
     "output_type": "stream",
     "text": [
      "<class 'dict'>\n",
      "101\n",
      "<class 'int'>\n"
     ]
    }
   ],
   "source": [
    "json_data = '{\"roll\":101}'\n",
    "\n",
    "python_data = json.loads(json_data)\n",
    "print(type(python_data))\n",
    "print(python_data[\"roll\"])\n",
    "print(type(python_data[\"roll\"]))"
   ]
  },
  {
   "cell_type": "code",
   "execution_count": 30,
   "id": "85fcd220",
   "metadata": {},
   "outputs": [
    {
     "name": "stdout",
     "output_type": "stream",
     "text": [
      "<class 'dict'>\n",
      "None\n",
      "<class 'NoneType'>\n"
     ]
    }
   ],
   "source": [
    "json_data = '{\"Student\": null}'\n",
    "\n",
    "python_data = json.loads(json_data)\n",
    "print(type(python_data))\n",
    "print(python_data[\"Student\"])\n",
    "print(type(python_data[\"Student\"]))"
   ]
  },
  {
   "cell_type": "code",
   "execution_count": 35,
   "id": "faefc45c",
   "metadata": {},
   "outputs": [
    {
     "name": "stdout",
     "output_type": "stream",
     "text": [
      "<class 'dict'>\n",
      "{'name': 'Akash', 'roll': 101}\n",
      "Akash\n",
      "101\n"
     ]
    }
   ],
   "source": [
    "json_data = '{\"Student\": {\"name\": \"Akash\",\"roll\": 101}}' #object\n",
    "\n",
    "python_data = json.loads(json_data)\n",
    "print(type(python_data))\n",
    "print(python_data[\"Student\"])\n",
    "print(python_data[\"Student\"][\"name\"])\n",
    "print(python_data[\"Student\"][\"roll\"])"
   ]
  },
  {
   "cell_type": "code",
   "execution_count": 37,
   "id": "a85c77cf",
   "metadata": {},
   "outputs": [
    {
     "name": "stdout",
     "output_type": "stream",
     "text": [
      "<class 'dict'>\n",
      "['name', 'Akash', 'roll', 101]\n"
     ]
    }
   ],
   "source": [
    "json_data = '{\"Student\": [\"name\", \"Akash\",\"roll\", 101]}' #array\n",
    "\n",
    "python_data = json.loads(json_data)\n",
    "print(type(python_data))\n",
    "print(python_data[\"Student\"]) # list\n"
   ]
  },
  {
   "cell_type": "markdown",
   "id": "54b3d917",
   "metadata": {},
   "source": [
    "### Explore JSON data"
   ]
  },
  {
   "cell_type": "code",
   "execution_count": 39,
   "id": "2ea1276f",
   "metadata": {
    "scrolled": true
   },
   "outputs": [
    {
     "name": "stdout",
     "output_type": "stream",
     "text": [
      "{\"data\":{\"courses\":[{\"id\":6,\"title\":\"Machine Learning\",\"online_title\":\"online-machine-learning-course\",\"offline_title\":\"classroom-machine-learning-course\",\"name\":\"Machine Learning \\u0026 Deep Learning Course\",\"level\":\"Advanced Courses\",\"brief_intro\":\"Machine learning engineers build, implement, and maintain machine learning systems in technology products.\",\"preview_image_url\":\"https://ninjasfiles.s3.amazonaws.com/0000000000001181.png\",\"available_online\":true,\"available_offline\":false,\"is_career_track\":false,\"course_group_id\":2,\"classroom_icon_url\":\"https://files.codingninjas.in/0000000000003766.png\"},{\"id\":16,\"title\":\"Competitive Programmer\",\"online_title\":\"online-competitive-programming-track\",\"offline_title\":\"\",\"name\":\"Ninja Competitive Programmer Track\",\"level\":\"Career Tracks\",\"brief_intro\":\"Competitive Track\",\"preview_image_url\":\"https://files.codingninjas.in/0000000000001177.png\",\"available_online\":true,\"available_offline\":false,\"is_career_track\":true,\"course_group_id\":3,\"classroom_icon_url\":\"https://files.codingninjas.in/0000000000003775.png\"},{\"id\":41,\"title\":\"Premium Competitive Course\",\"online_title\":\"premium-competitive-course\",\"offline_title\":\"\",\"name\":\"Premium Competitive Programming Course\",\"level\":\"Foundation Courses\",\"brief_intro\":\"\",\"preview_image_url\":\"\",\"available_online\":true,\"available_offline\":false,\"is_career_track\":false,\"course_group_id\":7,\"classroom_icon_url\":\"https://files.codingninjas.in/0000000000003765.png\"},{\"id\":34,\"title\":\"Front End (React)\",\"online_title\":\"online-web-dev-with-react\",\"offline_title\":\"\",\"name\":\"Advanced  Front-End Web Development with React\",\"level\":\"Development Courses\",\"brief_intro\":\"Advanced  Front-End Web Development with React\",\"preview_image_url\":\"https://ninjasfiles.s3.amazonaws.com/0000000000001179.png\",\"available_online\":true,\"available_offline\":false,\"is_career_track\":false,\"course_group_id\":2,\"classroom_icon_url\":\"https://files.codingninjas.in/0000000000003769.png\"},{\"id\":42,\"title\":\"Premium Web Dev Course\",\"online_title\":\"premium-full-stack-web-development-course\",\"offline_title\":\"\",\"name\":\"Premium Full Stack Web Development\",\"level\":\"Foundation Courses\",\"brief_intro\":\"\",\"preview_image_url\":\"\",\"available_online\":true,\"available_offline\":false,\"is_career_track\":false,\"course_group_id\":7,\"classroom_icon_url\":\"https://files.codingninjas.in/0000000000003765.png\"},{\"id\":43,\"title\":\"Premium Data Science Course\",\"online_title\":\"premium-data-science-course\",\"offline_title\":\"\",\"name\":\"Premium Data Science Course\",\"level\":\"Foundation Courses\",\"brief_intro\":\"\",\"preview_image_url\":\"\",\"available_online\":true,\"available_offline\":false,\"is_career_track\":false,\"course_group_id\":7,\"classroom_icon_url\":\"https://files.codingninjas.in/0000000000003765.png\"},{\"id\":44,\"title\":\"Premium Machine Learning Course\",\"online_title\":\"premium-machine-learning-course\",\"offline_title\":\"\",\"name\":\"Premium Machine Learning Course\",\"level\":\"Foundation Courses\",\"brief_intro\":\"\",\"preview_image_url\":\"\",\"available_online\":true,\"available_offline\":false,\"is_career_track\":false,\"course_group_id\":7,\"classroom_icon_url\":\"https://files.codingninjas.in/0000000000003765.png\"},{\"id\":45,\"title\":\"Premium Android Course\",\"online_title\":\"premium-android-app-development-course\",\"offline_title\":\"\",\"name\":\"Premium Android App Development\",\"level\":\"Foundation Courses\",\"brief_intro\":\"\",\"preview_image_url\":\"\",\"available_online\":true,\"available_offline\":false,\"is_career_track\":false,\"course_group_id\":7,\"classroom_icon_url\":\"https://files.codingninjas.in/0000000000003765.png\"},{\"id\":1,\"title\":\"C++ \\u0026 Data Structures\",\"online_title\":\"onlline-c-plus-plus-course\",\"offline_title\":\"classroom-c-plus-plus-course\",\"name\":\"C++ Foundation with Data Structures\",\"level\":\"Foundation Courses\",\"brief_intro\":\"Brief Intro\",\"preview_image_url\":\"https://files.codingninjas.in/0000000000001176.png\",\"available_online\":true,\"available_offline\":false,\"is_career_track\":false,\"course_group_id\":1,\"classroom_icon_url\":\"https://files.codingninjas.in/0000000000003771.png\"},{\"id\":40,\"title\":\"Data structures and Algorithms [C++/Java/Python]\",\"online_title\":\"premium-foundation-course\",\"offline_title\":\"\",\"name\":\"Premium Data structures and Algorithms [C++/Java/Python]\",\"level\":\"Foundation Courses\",\"brief_intro\":\"\",\"preview_image_url\":\"\",\"available_online\":true,\"available_offline\":false,\"is_career_track\":false,\"course_group_id\":7,\"classroom_icon_url\":\"https://files.codingninjas.in/0000000000003765.png\"},{\"id\":2,\"title\":\"Java \\u0026 Data Structures\",\"online_title\":\"online-java-course\",\"offline_title\":\"classroom-java-course\",\"name\":\"JAVA Foundation with Data Structures\",\"level\":\"Foundation Courses\",\"brief_intro\":\"Brief Intro\",\"preview_image_url\":\"https://ninjasfiles.s3.amazonaws.com/0000000000001255.png\",\"available_online\":true,\"available_offline\":false,\"is_career_track\":false,\"course_group_id\":1,\"classroom_icon_url\":\"https://files.codingninjas.in/0000000000003772.png\"},{\"id\":35,\"title\":\"Android Developer\",\"online_title\":\"online-android-development-career-track\",\"offline_title\":\"\",\"name\":\"Ninja Android Developer Career Track \",\"level\":\"Career Tracks\",\"brief_intro\":\"beginner to pro Android Developer!\",\"preview_image_url\":\"https://ninjasfiles.s3.amazonaws.com/0000000000001175.png\",\"available_online\":true,\"available_offline\":false,\"is_career_track\":true,\"course_group_id\":3,\"classroom_icon_url\":\"https://files.codingninjas.in/0000000000003774.png\"},{\"id\":12,\"title\":\"Web Dev (Full Stack)\",\"online_title\":\"online-full-stack-node-js-web-dev-course\",\"offline_title\":\"\",\"name\":\"Full Stack Web Development\",\"level\":\"Development Courses\",\"brief_intro\":\"Web Development\",\"preview_image_url\":\"https://ninjasfiles.s3.amazonaws.com/0000000000001179.png\",\"available_online\":true,\"available_offline\":false,\"is_career_track\":false,\"course_group_id\":2,\"classroom_icon_url\":\"https://files.codingninjas.in/0000000000003764.png\"},{\"id\":13,\"title\":\"Data Science\",\"online_title\":\"online-data-science-course\",\"offline_title\":\"\",\"name\":\"Data Science \\u0026 Machine Learning Complete\",\"level\":\"Advanced Courses\",\"brief_intro\":\"Brief Intro\",\"preview_image_url\":\"https://ninjasfiles.s3.amazonaws.com/0000000000001371.png\",\"available_online\":true,\"available_offline\":false,\"is_career_track\":false,\"course_group_id\":2,\"classroom_icon_url\":\"https://files.codingninjas.in/0000000000003763.png\"},{\"id\":66,\"title\":\"Grokking the Operating Systems Interview\",\"online_title\":\"operating-system\",\"offline_title\":\"\",\"name\":\"Grokking the Operating Systems Interview\",\"level\":\"Foundation Courses\",\"brief_intro\":\"Brief Intro\",\"preview_image_url\":\"https://ninjasfiles.s3.amazonaws.com/0000000000001178.png\",\"available_online\":true,\"available_offline\":false,\"is_career_track\":false,\"course_group_id\":1,\"classroom_icon_url\":\"https://files.codingninjas.in/ubuntu-brands-10404.png\"},{\"id\":36,\"title\":\"Python \\u0026 Web Dev (MERN)\",\"online_title\":\"ninja-web-developer-career-track-mern-stack\",\"offline_title\":\"\",\"name\":\"Ninja  Web Developer Career Track - NodeJS \\u0026 ReactJs\",\"level\":\"Career Tracks\",\"brief_intro\":\"Programming foundation + MERN Stack Web Development complete Career Track\",\"preview_image_url\":\"https://ninjasfiles.s3.amazonaws.com/0000000000001179.png\",\"available_online\":true,\"available_offline\":false,\"is_career_track\":true,\"course_group_id\":3,\"classroom_icon_url\":\"https://files.codingninjas.in/0000000000003777.png\"},{\"id\":4,\"title\":\"Interview Preparation\",\"online_title\":\"online-interview-preparation\",\"offline_title\":\"classroom-interview-preparation\",\"name\":\"Interview Preparation Course\",\"level\":\"Advanced Courses\",\"brief_intro\":\"Brief Intro\",\"preview_image_url\":\"https://ninjasfiles.s3.amazonaws.com/0000000000001178.png\",\"available_online\":true,\"available_offline\":false,\"is_career_track\":false,\"course_group_id\":1,\"classroom_icon_url\":\"https://files.codingninjas.in/0000000000003765.png\"},{\"id\":10,\"title\":\"Competitive Programming\",\"online_title\":\"online-competitive-programming-course\",\"offline_title\":\"\",\"name\":\"Competitive Programming Course\",\"level\":\"Advanced Courses\",\"brief_intro\":\"Eminence\",\"preview_image_url\":\"https://ninjasfiles.s3.amazonaws.com/0000000000001177.png\",\"available_online\":true,\"available_offline\":false,\"is_career_track\":false,\"course_group_id\":1,\"classroom_icon_url\":\"https://files.codingninjas.in/0000000000003762.png\"},{\"id\":17,\"title\":\"C++ \\u0026 Web Dev (Node.js)\",\"online_title\":\"web-developer-career-track\",\"offline_title\":\"\",\"name\":\"Ninja  Web Developer Career Track - NodeJS\",\"level\":\"Career Tracks\",\"brief_intro\":\"Programming foundation + Full Stack Web Development Career Track\",\"preview_image_url\":\"https://ninjasfiles.s3.amazonaws.com/0000000000001179.png\",\"available_online\":true,\"available_offline\":false,\"is_career_track\":true,\"course_group_id\":3,\"classroom_icon_url\":\"https://files.codingninjas.in/0000000000003777.png\"},{\"id\":18,\"title\":\"Data Scientist\",\"online_title\":\"data-Scientist-career-track\",\"offline_title\":\"\",\"name\":\"Ninja Data Scientist Career Track\",\"level\":\"Career Tracks\",\"brief_intro\":\"Programming foundation + Data Science with ML career track\",\"preview_image_url\":\"https://ninjasfiles.s3.amazonaws.com/0000000000001371.png\",\"available_online\":true,\"available_offline\":false,\"is_career_track\":true,\"course_group_id\":3,\"classroom_icon_url\":\"https://files.codingninjas.in/0000000000003778.png\"},{\"id\":33,\"title\":\"Android (Kotlin)\",\"online_title\":\"online-android-Development-kotlin\",\"offline_title\":\"\",\"name\":\"Android Development with Kotlin\",\"level\":\"Development Courses\",\"brief_intro\":\"Android Development Kotlin\",\"preview_image_url\":\"https://ninjasfiles.s3.amazonaws.com/0000000000001175.png\",\"available_online\":true,\"available_offline\":false,\"is_career_track\":false,\"course_group_id\":2,\"classroom_icon_url\":\"https://files.codingninjas.in/0000000000003761.png\"},{\"id\":11,\"title\":\"Python \\u0026 Data Structures\",\"online_title\":\"online-python-course\",\"offline_title\":\"offline-python-course\",\"name\":\"Python Foundation with Data Structures\",\"level\":\"Foundation Courses\",\"brief_intro\":\"Python Foundation\",\"preview_image_url\":\"https://ninjasfiles.s3.amazonaws.com/0000000000001282.png\",\"available_online\":true,\"available_offline\":false,\"is_career_track\":false,\"course_group_id\":1,\"classroom_icon_url\":\"https://files.codingninjas.in/0000000000003773.png\"},{\"id\":21,\"title\":\"Aptitude Preparation\",\"online_title\":\"online-aptitude-preparation\",\"offline_title\":\"\",\"name\":\"Aptitude Preparation Course\",\"level\":\"Foundation Courses\",\"brief_intro\":\"Brief Intro\",\"preview_image_url\":\"https://ninjasfiles.s3.amazonaws.com/0000000000001178.png\",\"available_online\":true,\"available_offline\":false,\"is_career_track\":false,\"course_group_id\":1,\"classroom_icon_url\":\"https://files.codingninjas.in/0000000000003770.png\"},{\"id\":19,\"title\":\"Machine Learning\",\"online_title\":\"machine-learning-engineer-career-track\",\"offline_title\":\"\",\"name\":\"Ninja Machine Learning Engineer Career Track\",\"level\":\"Career Tracks\",\"brief_intro\":\"Programming foundation + Machine Learning career track\",\"preview_image_url\":\"https://ninjasfiles.s3.amazonaws.com/0000000000001181.png\",\"available_online\":true,\"available_offline\":false,\"is_career_track\":true,\"course_group_id\":3,\"classroom_icon_url\":\"https://files.codingninjas.in/0000000000003776.png\"}],\"course_groups\":[{\"id\":1,\"name\":\"Foundation, Algorithmic \\u0026 Advanced\",\"order\":1,\"course_ids\":[1,2,66,4,10,11,21],\"json_data\":{\"color\":\"#FFEBC2\",\"image_link\":\"https://ninjasfiles.s3.amazonaws.com/0000000000003821.png\",\"text_color\":\"#AC933C\",\"short_description\":\"Foundation courses are designed such that \\u003cstrong\\u003eno prerequisites are required.\\u003c/strong\\u003e Data Structures(DS) and Algorithms(algo.) parts build on the basics to give you a \\u003cstrong\\u003esolid programming foundation\\u003c/strong\\u003e. Competitive is where you start to \\u003cstrong\\u003epush the boundaries!\\u003c/strong\\u003e\",\"mobile_short_description\":\"Foundation courses are designed such that \\u003cspan\\u003eno prerequisites are required.\\u003c/span\\u003e\"},\"is_independent\":false},{\"id\":2,\"name\":\"Data \\u0026 Development\",\"order\":2,\"course_ids\":[6,34,12,13,33],\"json_data\":{\"color\":\"#80D4B1\",\"image_link\":\"https://files.codingninjas.in/0000000000003846.svg\",\"text_color\":\"#257D68\",\"short_description\":\"Data courses dwell in the state of the art algorithms and require good knowledge of programming fundamentals. Web development courses use modern JavaScript to build powerful and fast applications from the ground up. \\u003cstrong\\u003eNo prior development experience needed\\u003c/strong\\u003e\",\"mobile_short_description\":\"Data courses dwell in the state of the art algorithms and require good knowledge of programming fundamentals. Web development courses use modern JavaScript to build powerful and fast applications from the ground up. \\u003cspan\\u003eNo prior development experience needed\\u003c/span\\u003e\"},\"is_independent\":false},{\"id\":3,\"name\":\"Career Track\",\"order\":3,\"course_ids\":[16,35,36,17,18,19],\"json_data\":{\"color\":\"#C898FF\",\"image_link\":\"https://files.codingninjas.in/0000000000003845.svg\",\"text_color\":\"#603CAC\",\"short_description\":\"These are courses that take you from \\u003cstrong\\u003ezero to hero\\u003c/strong\\u003e. Each track is designed specifically to cater to a particular goal you can choose and \\u003cstrong\\u003ecovers everything you need to learn and assumes no prior knowledge.\\u003c/strong\\u003e\",\"mobile_short_description\":\"Each track is designed specifically to cater to a particular goal you can choose and \\u003cspan\\u003ecovers everything you need to learn and assumes no prior knowledge.\\u003c/span\\u003e\"},\"is_independent\":true},{\"id\":7,\"name\":\"Premium Course\",\"order\":null,\"course_ids\":[41,42,43,44,45,40],\"json_data\":null,\"is_independent\":true}]},\"message\":\"Courses\",\"status\":200,\"error\":null,\"disabled\":false,\"update\":false,\"external_rating\":null}\n",
      "https://codingninjas.in/api/v3/courses\n"
     ]
    }
   ],
   "source": [
    "res = requests.get('https://codingninjas.in/api/v3/courses') \n",
    "\n",
    "print(res.text)\n",
    "print(res.url)"
   ]
  },
  {
   "cell_type": "code",
   "execution_count": 47,
   "id": "db87c54f",
   "metadata": {},
   "outputs": [
    {
     "name": "stdout",
     "output_type": "stream",
     "text": [
      "<class 'dict'>\n",
      "<class 'list'>\n",
      "Machine Learning\n",
      "Competitive Programmer\n",
      "Premium Competitive Course\n",
      "Front End (React)\n",
      "Premium Web Dev Course\n",
      "Premium Data Science Course\n",
      "Premium Machine Learning Course\n",
      "Premium Android Course\n",
      "C++ & Data Structures\n",
      "Data structures and Algorithms [C++/Java/Python]\n",
      "Java & Data Structures\n",
      "Android Developer\n",
      "Web Dev (Full Stack)\n",
      "Data Science\n",
      "Grokking the Operating Systems Interview\n",
      "Python & Web Dev (MERN)\n",
      "Interview Preparation\n",
      "Competitive Programming\n",
      "C++ & Web Dev (Node.js)\n",
      "Data Scientist\n",
      "Android (Kotlin)\n",
      "Python & Data Structures\n",
      "Aptitude Preparation\n",
      "Machine Learning\n"
     ]
    }
   ],
   "source": [
    "# converting to python\n",
    "\n",
    "py_data = json.loads(res.text)\n",
    "print(type(py_data))\n",
    "\n",
    "# extract all cources\n",
    "cour = py_data[\"data\"][\"courses\"]\n",
    "print(type(cour))\n",
    "\n",
    "# print tile of course only\n",
    "for i in cour:\n",
    "    print(i['title'])"
   ]
  },
  {
   "cell_type": "code",
   "execution_count": 76,
   "id": "9320666d",
   "metadata": {
    "scrolled": true
   },
   "outputs": [
    {
     "name": "stdout",
     "output_type": "stream",
     "text": [
      "<class 'dict'>\n",
      "affenpinscher : 0\n",
      "african : 0\n",
      "airedale : 0\n",
      "akita : 0\n",
      "appenzeller : 0\n",
      "australian : 1\n",
      "basenji : 0\n",
      "beagle : 0\n",
      "bluetick : 0\n",
      "borzoi : 0\n",
      "bouvier : 0\n",
      "boxer : 0\n",
      "brabancon : 0\n",
      "briard : 0\n",
      "buhund : 1\n",
      "bulldog : 3\n",
      "bullterrier : 1\n",
      "cairn : 0\n",
      "cattledog : 1\n",
      "chihuahua : 0\n",
      "chow : 0\n",
      "clumber : 0\n",
      "cockapoo : 0\n",
      "collie : 1\n",
      "coonhound : 0\n",
      "corgi : 1\n",
      "cotondetulear : 0\n",
      "dachshund : 0\n",
      "dalmatian : 0\n",
      "dane : 1\n",
      "deerhound : 1\n",
      "dhole : 0\n",
      "dingo : 0\n",
      "doberman : 0\n",
      "elkhound : 1\n",
      "entlebucher : 0\n",
      "eskimo : 0\n",
      "finnish : 1\n",
      "frise : 1\n",
      "germanshepherd : 0\n",
      "greyhound : 1\n",
      "groenendael : 0\n",
      "havanese : 0\n",
      "hound : 7\n",
      "husky : 0\n",
      "keeshond : 0\n",
      "kelpie : 0\n",
      "komondor : 0\n",
      "kuvasz : 0\n",
      "labradoodle : 0\n",
      "labrador : 0\n",
      "leonberg : 0\n",
      "lhasa : 0\n",
      "malamute : 0\n",
      "malinois : 0\n",
      "maltese : 0\n",
      "mastiff : 3\n",
      "mexicanhairless : 0\n",
      "mix : 0\n",
      "mountain : 2\n",
      "newfoundland : 0\n",
      "otterhound : 0\n",
      "ovcharka : 1\n",
      "papillon : 0\n",
      "pekinese : 0\n",
      "pembroke : 0\n",
      "pinscher : 1\n",
      "pitbull : 0\n",
      "pointer : 2\n",
      "pomeranian : 0\n",
      "poodle : 3\n",
      "pug : 0\n",
      "puggle : 0\n",
      "pyrenees : 0\n",
      "redbone : 0\n",
      "retriever : 4\n",
      "ridgeback : 1\n",
      "rottweiler : 0\n",
      "saluki : 0\n",
      "samoyed : 0\n",
      "schipperke : 0\n",
      "schnauzer : 2\n",
      "setter : 3\n",
      "sheepdog : 2\n",
      "shiba : 0\n",
      "shihtzu : 0\n",
      "spaniel : 7\n",
      "springer : 1\n",
      "stbernard : 0\n",
      "terrier : 21\n",
      "vizsla : 0\n",
      "waterdog : 1\n",
      "weimaraner : 0\n",
      "whippet : 0\n",
      "wolfhound : 1\n"
     ]
    }
   ],
   "source": [
    "p = requests.get('https://dog.ceo/api/breeds/list/all')\n",
    "#p.text\n",
    "\n",
    "# using request inbuild function not using json.loads()\n",
    "py_data = p.json()\n",
    "print(type(py_data))\n",
    "#print(py_data)\n",
    "\n",
    "# find the count of subbread in each breeds\n",
    "for key,val in py_data[\"message\"].items():\n",
    "    print(key,\":\", len(val))\n",
    "    \n"
   ]
  },
  {
   "cell_type": "markdown",
   "id": "415d2ca4",
   "metadata": {},
   "source": [
    "# Passing Parametrs"
   ]
  },
  {
   "cell_type": "code",
   "execution_count": 75,
   "id": "75d5f527",
   "metadata": {},
   "outputs": [
    {
     "name": "stdout",
     "output_type": "stream",
     "text": [
      "200\n",
      "{'meta': {'name': 'openaq-api', 'license': 'CC BY 4.0d', 'website': 'https://u50g7n0cbj.execute-api.us-east-1.amazonaws.com/', 'page': 1, 'limit': 100, 'found': 2915}, 'results': [{'country': 'US', 'name': '007', 'city': '007', 'count': 1372, 'locations': 5}, {'country': 'US', 'name': '019', 'city': '019', 'count': 704, 'locations': 1}, {'country': 'US', 'name': '037', 'city': '037', 'count': 2683, 'locations': 23}, {'country': 'US', 'name': '039', 'city': '039', 'count': 380, 'locations': 1}, {'country': 'US', 'name': '047', 'city': '047', 'count': 101, 'locations': 1}, {'country': 'US', 'name': '051', 'city': '051', 'count': 330, 'locations': 7}, {'country': 'US', 'name': '077', 'city': '077', 'count': 670334, 'locations': 1}, {'country': 'CH', 'name': 'Aargau', 'city': 'Aargau', 'count': 4054, 'locations': 1}, {'country': 'MX', 'name': 'Abasolo', 'city': 'Abasolo', 'count': 32422943, 'locations': 2}, {'country': 'US', 'name': 'ABBEVILLE', 'city': 'ABBEVILLE', 'count': 4619, 'locations': 1}, {'country': 'US', 'name': 'Aberdeen', 'city': 'Aberdeen', 'count': 43018851, 'locations': 2}, {'country': 'GB', 'name': 'Aberdeen', 'city': 'Aberdeen', 'count': 161282393, 'locations': 3}, {'country': 'CI', 'name': 'Abidjan', 'city': 'Abidjan', 'count': 33997283, 'locations': 1}, {'country': 'AE', 'name': 'Abu Dhabi', 'city': 'Abu Dhabi', 'count': 67144963, 'locations': 1}, {'country': 'GH', 'name': 'Accra', 'city': 'Accra', 'count': 33890048, 'locations': 12}, {'country': 'ES', 'name': 'A Coruña', 'city': 'A Coruña', 'count': 484086496, 'locations': 5}, {'country': 'US', 'name': 'ADA', 'city': 'ADA', 'count': 29956005, 'locations': 2}, {'country': 'US', 'name': 'ADAIR', 'city': 'ADAIR', 'count': 32778896, 'locations': 1}, {'country': 'US', 'name': 'ADAMS', 'city': 'ADAMS', 'count': 28230007, 'locations': 2}, {'country': 'TR', 'name': 'Adana', 'city': 'Adana', 'count': 205462, 'locations': 6}, {'country': 'ET', 'name': 'Addis Ababa', 'city': 'Addis Ababa', 'count': 33951591, 'locations': 1}, {'country': 'AU', 'name': 'Adelaide', 'city': 'Adelaide', 'count': 663866393, 'locations': 8}, {'country': 'US', 'name': 'Adrian', 'city': 'Adrian', 'count': 30420094, 'locations': 1}, {'country': 'MK', 'name': 'Aerodrom Municipality', 'city': 'Aerodrom Municipality', 'count': 133028371, 'locations': 1}, {'country': 'IN', 'name': 'Agartala', 'city': 'Agartala', 'count': 24547260, 'locations': 1}, {'country': 'IN', 'name': 'Agra', 'city': 'Agra', 'count': 21512785, 'locations': 1}, {'country': 'TR', 'name': 'Ağrı', 'city': 'Ağrı', 'count': 133254, 'locations': 2}, {'country': 'MX', 'name': 'Aguascalientes', 'city': 'Aguascalientes', 'count': 2542, 'locations': 1}, {'country': 'IN', 'name': 'Ahmedabad', 'city': 'Ahmedabad', 'count': 44994565, 'locations': 3}, {'country': 'FR', 'name': 'Ain', 'city': 'Ain', 'count': 199201563, 'locations': 2}, {'country': 'FR', 'name': 'AIR BREIZH', 'city': 'AIR BREIZH', 'count': 65722, 'locations': 5}, {'country': 'FR', 'name': 'AIR NORMAND', 'city': 'AIR NORMAND', 'count': 364, 'locations': 2}, {'country': 'FR', 'name': 'AIR PACA', 'city': 'AIR PACA', 'count': 14347, 'locations': 6}, {'country': 'FR', 'name': 'AIRPARIF', 'city': 'AIRPARIF', 'count': 67888, 'locations': 3}, {'country': 'FR', 'name': 'AIR PAYS DE LA LOIRE', 'city': 'AIR PAYS DE LA LOIRE', 'count': 924, 'locations': 1}, {'country': 'FR', 'name': 'AIR RHONE ALPES', 'city': 'AIR RHONE ALPES', 'count': 71, 'locations': 4}, {'country': 'FR', 'name': 'Aisne', 'city': 'Aisne', 'count': 113498996, 'locations': 3}, {'country': 'IN', 'name': 'Aizawl', 'city': 'Aizawl', 'count': 26446446, 'locations': 1}, {'country': 'IN', 'name': 'Ajmer', 'city': 'Ajmer', 'count': 47066892, 'locations': 4}, {'country': 'US', 'name': 'Akron', 'city': 'Akron', 'count': 89012191, 'locations': 4}, {'country': 'IS', 'name': 'Akureyri', 'city': 'Akureyri', 'count': 94880152, 'locations': 1}, {'country': 'US', 'name': 'ALAMEDA', 'city': 'ALAMEDA', 'count': 138178595, 'locations': 1}, {'country': 'RO', 'name': 'Alba', 'city': 'Alba', 'count': 167071062, 'locations': 3}, {'country': 'ES', 'name': 'Albacete', 'city': 'Albacete', 'count': 146171307, 'locations': 1}, {'country': 'US', 'name': 'Albany', 'city': 'Albany', 'count': 24827728, 'locations': 1}, {'country': 'US', 'name': 'Albany-Lebanon', 'city': 'Albany-Lebanon', 'count': 60300633, 'locations': 2}, {'country': 'US', 'name': 'Albany-Schenectady-Troy', 'city': 'Albany-Schenectady-Troy', 'count': 58998285, 'locations': 3}, {'country': 'CA', 'name': 'ALBERTA', 'city': 'ALBERTA', 'count': 1378984033, 'locations': 29}, {'country': 'US', 'name': 'Albuquerque', 'city': 'Albuquerque', 'count': 579094846, 'locations': 7}, {'country': 'IT', 'name': 'Alessandria', 'city': 'Alessandria', 'count': 97808034, 'locations': 3}, {'country': 'NO', 'name': 'Ålesund', 'city': 'Ålesund', 'count': 93342466, 'locations': 3}, {'country': 'US', 'name': 'ALEXANDER', 'city': 'ALEXANDER', 'count': 41224, 'locations': 1}, {'country': 'IT', 'name': 'ALFONSINE', 'city': 'ALFONSINE', 'count': 36472, 'locations': 1}, {'country': 'DZ', 'name': 'Algiers', 'city': 'Algiers', 'count': 33544143, 'locations': 1}, {'country': 'ES', 'name': 'Alicante/Alacant', 'city': 'Alicante/Alacant', 'count': 696818926, 'locations': 10}, {'country': 'US', 'name': 'Allegan', 'city': 'Allegan', 'count': 29715900, 'locations': 1}, {'country': 'US', 'name': 'ALLEGANY', 'city': 'ALLEGANY', 'count': 32122, 'locations': 2}, {'country': 'US', 'name': 'Allentown-Bethlehem-Easton', 'city': 'Allentown-Bethlehem-Easton', 'count': 116272910, 'locations': 3}, {'country': 'FR', 'name': 'Allier', 'city': 'Allier', 'count': 116266271, 'locations': 3}, {'country': 'ES', 'name': 'Almería', 'city': 'Almería', 'count': 824959926, 'locations': 14}, {'country': 'FR', 'name': 'Alpes-de-Haute-Provence', 'city': 'Alpes-de-Haute-Provence', 'count': 192317276, 'locations': 2}, {'country': 'FR', 'name': 'Alpes-Maritimes', 'city': 'Alpes-Maritimes', 'count': 510758130, 'locations': 10}, {'country': 'CL', 'name': 'Alto Hospicio', 'city': 'Alto Hospicio', 'count': 31088545, 'locations': 3}, {'country': 'AU', 'name': 'Altona North', 'city': 'Altona North', 'count': 84563902, 'locations': 1}, {'country': 'AU', 'name': 'Altona North 1', 'city': 'Altona North 1', 'count': 81, 'locations': 1}, {'country': 'AU', 'name': 'Altona North 2', 'city': 'Altona North 2', 'count': 78, 'locations': 1}, {'country': 'US', 'name': 'Altoona', 'city': 'Altoona', 'count': 58678630, 'locations': 1}, {'country': 'MX', 'name': 'Álvaro Obregón', 'city': 'Álvaro Obregón', 'count': 143734742, 'locations': 1}, {'country': 'IN', 'name': 'Alwar', 'city': 'Alwar', 'count': 44715041, 'locations': 2}, {'country': 'LT', 'name': 'Alytus', 'city': 'Alytus', 'count': 646229, 'locations': 1}, {'country': 'US', 'name': 'AMADOR', 'city': 'AMADOR', 'count': 25500192, 'locations': 2}, {'country': 'IN', 'name': 'Amaravati', 'city': 'Amaravati', 'count': 48537963, 'locations': 2}, {'country': 'US', 'name': 'Amarillo', 'city': 'Amarillo', 'count': 25262749, 'locations': 2}, {'country': 'TR', 'name': 'Amasya', 'city': 'Amasya', 'count': 134064, 'locations': 4}, {'country': 'IN', 'name': 'Ambala ', 'city': 'Ambala ', 'count': 28715053, 'locations': 1}, {'country': 'BR', 'name': 'Americana', 'city': 'Americana', 'count': 58778994, 'locations': 2}, {'country': 'US', 'name': 'Americus', 'city': 'Americus', 'count': 22297, 'locations': 1}, {'country': 'US', 'name': 'Ames', 'city': 'Ames', 'count': 4773, 'locations': 1}, {'country': 'JO', 'name': 'Amman', 'city': 'Amman', 'count': 33335940, 'locations': 1}, {'country': 'IN', 'name': 'Amritsar', 'city': 'Amritsar', 'count': 77336644, 'locations': 2}, {'country': 'NL', 'name': 'Amsterdam', 'city': 'Amsterdam', 'count': 1040867923, 'locations': 14}, {'country': 'AT', 'name': 'Amt der K�rntner Landesregierung', 'city': 'Amt der K�rntner Landesregierung', 'count': 5228, 'locations': 4}, {'country': 'AT', 'name': 'Amt der Nieder�sterreichischen Landesregierung', 'city': 'Amt der Nieder�sterreichischen Landesregierung', 'count': 5936, 'locations': 1}, {'country': 'AT', 'name': 'Amt der Ober�sterreichischen Landesregierung', 'city': 'Amt der Ober�sterreichischen Landesregierung', 'count': 10765, 'locations': 1}, {'country': 'AT', 'name': 'Amt der Salzburger Landesregierung', 'city': 'Amt der Salzburger Landesregierung', 'count': 8904, 'locations': 1}, {'country': 'AT', 'name': 'Amt der Steierm�rkischen Landesregierung', 'city': 'Amt der Steierm�rkischen Landesregierung', 'count': 26707, 'locations': 3}, {'country': 'US', 'name': 'Anchorage', 'city': 'Anchorage', 'count': 150005877, 'locations': 3}, {'country': 'US', 'name': 'ANCHORAGE', 'city': 'ANCHORAGE', 'count': 828, 'locations': 1}, {'country': 'IT', 'name': 'Ancona', 'city': 'Ancona', 'count': 677048457, 'locations': 5}, {'country': 'CL', 'name': 'Andacollo', 'city': 'Andacollo', 'count': 92036527, 'locations': 4}, {'country': 'US', 'name': 'Anderson', 'city': 'Anderson', 'count': 58522484, 'locations': 3}, {'country': 'US', 'name': 'ANDERSON', 'city': 'ANDERSON', 'count': 21946, 'locations': 2}, {'country': 'US', 'name': 'ANDREW', 'city': 'ANDREW', 'count': 22223, 'locations': 1}, {'country': 'TR', 'name': 'Ankara', 'city': 'Ankara', 'count': 359493, 'locations': 8}, {'country': 'IN', 'name': 'Ankleshwar', 'city': 'Ankleshwar', 'count': 30503811, 'locations': 1}, {'country': 'US', 'name': 'Ann Arbor', 'city': 'Ann Arbor', 'count': 48743393, 'locations': 2}, {'country': 'US', 'name': 'ANNE ARUNDEL', 'city': 'ANNE ARUNDEL', 'count': 1772, 'locations': 1}, {'country': 'DE', 'name': 'Annette Pausch', 'city': 'Annette Pausch', 'count': 5923, 'locations': 1}, {'country': 'CN', 'name': 'Anqing', 'city': 'Anqing', 'count': 117473, 'locations': 3}, {'country': 'CL', 'name': 'Antofagasta', 'city': 'Antofagasta', 'count': 46306953, 'locations': 1}]}\n",
      "https://api.openaq.org/v1/cities\n"
     ]
    }
   ],
   "source": [
    "res = requests.get('https://api.openaq.org/v1/cities')  # normal, without parameter\n",
    "print(res.status_code)\n",
    "\n",
    "print(res.json()) # to python\n",
    "print(res.url)\n"
   ]
  },
  {
   "cell_type": "code",
   "execution_count": 81,
   "id": "191887cb",
   "metadata": {},
   "outputs": [
    {
     "name": "stdout",
     "output_type": "stream",
     "text": [
      "200\n",
      "{'meta': {'name': 'openaq-api', 'license': 'CC BY 4.0d', 'website': 'https://u50g7n0cbj.execute-api.us-east-1.amazonaws.com/', 'page': 1, 'limit': 1, 'found': 3}, 'results': [{'country': 'AE', 'name': 'Abu Dhabi', 'city': 'Abu Dhabi', 'count': 67144963, 'locations': 1}]}\n",
      "https://api.openaq.org/v1/cities?country=AE&limit=1\n"
     ]
    }
   ],
   "source": [
    "# with parameter\n",
    "res = requests.get('https://api.openaq.org/v1/cities',params= {\"country\": \"AE\",\"limit\": 1})\n",
    "print(res.status_code)\n",
    "\n",
    "print(res.json()) # to python\n",
    "print(res.url)\n"
   ]
  },
  {
   "cell_type": "code",
   "execution_count": null,
   "id": "16eb7859",
   "metadata": {},
   "outputs": [],
   "source": []
  },
  {
   "cell_type": "markdown",
   "id": "03367af9",
   "metadata": {},
   "source": [
    "## ASSIGNMENT"
   ]
  },
  {
   "cell_type": "code",
   "execution_count": 80,
   "id": "c19e7993",
   "metadata": {},
   "outputs": [],
   "source": [
    "import requests\n",
    "import json"
   ]
  },
  {
   "cell_type": "code",
   "execution_count": 56,
   "id": "0d4129b1",
   "metadata": {},
   "outputs": [
    {
     "name": "stdout",
     "output_type": "stream",
     "text": [
      "afghan\n",
      "basset\n",
      "blood\n",
      "english\n",
      "ibizan\n",
      "plott\n",
      "walker\n"
     ]
    }
   ],
   "source": [
    "# name all sub-breed in hound ;\n",
    "for i in py_data[\"message\"][\"hound\"]:\n",
    "    print(i)"
   ]
  },
  {
   "cell_type": "code",
   "execution_count": 60,
   "id": "3adfe331",
   "metadata": {},
   "outputs": [
    {
     "name": "stdout",
     "output_type": "stream",
     "text": [
      "3\n"
     ]
    }
   ],
   "source": [
    "# len of poodle\n",
    "print(len(py_data[\"message\"][\"poodle\"]))"
   ]
  },
  {
   "cell_type": "code",
   "execution_count": 82,
   "id": "f1bac054",
   "metadata": {},
   "outputs": [
    {
     "name": "stdout",
     "output_type": "stream",
     "text": [
      "<class 'dict'>\n",
      "Premium Machine Learning Course\n",
      "Premium Data Science Course\n",
      "Advanced  Front-End Web Development with React\n",
      "Premium Competitive Programming Course\n",
      "Premium Data structures and Algorithms [C++/Java/Python]\n",
      "Premium Android App Development\n",
      "Ninja Competitive Programmer Track\n",
      "Premium Full Stack Web Development\n",
      "Machine Learning & Deep Learning Course\n",
      "C++ Foundation with Data Structures\n",
      "Ninja Android Developer Career Track\n",
      "JAVA Foundation with Data Structures\n",
      "Full Stack Web Development\n",
      "Grokking the Operating Systems Interview\n",
      "Data Science & Machine Learning Complete\n",
      "Interview Preparation Course\n",
      "Ninja  Web Developer Career Track - NodeJS & ReactJs\n",
      "Competitive Programming Course\n",
      "Ninja  Web Developer Career Track - NodeJS\n",
      "Android Development with Kotlin\n",
      "Ninja Data Scientist Career Track\n",
      "Python Foundation with Data Structures\n",
      "Aptitude Preparation Course\n",
      "Ninja Machine Learning Engineer Career Track\n"
     ]
    }
   ],
   "source": [
    "# all course offered by CN\n",
    "res = requests.get('https://codingninjas.in/api/v3/courses')\n",
    "py_data = res.json()\n",
    "print(type(py_data))\n",
    "for i in py_data[\"data\"][\"courses\"]:\n",
    "    if(i[\"available_online\"] == True):\n",
    "        print(i['name'].strip())"
   ]
  },
  {
   "cell_type": "code",
   "execution_count": 86,
   "id": "ad8c1ef4",
   "metadata": {
    "scrolled": false
   },
   "outputs": [
    {
     "name": "stdout",
     "output_type": "stream",
     "text": [
      "{'data': {'courses': [{'id': 44, 'title': 'Premium Machine Learning Course', 'online_title': 'premium-machine-learning-course', 'offline_title': '', 'name': 'Premium Machine Learning Course', 'level': 'Foundation Courses', 'brief_intro': '', 'preview_image_url': '', 'available_online': True, 'available_offline': False, 'is_career_track': False, 'course_group_id': 7, 'classroom_icon_url': 'https://files.codingninjas.in/0000000000003765.png'}, {'id': 43, 'title': 'Premium Data Science Course', 'online_title': 'premium-data-science-course', 'offline_title': '', 'name': 'Premium Data Science Course', 'level': 'Foundation Courses', 'brief_intro': '', 'preview_image_url': '', 'available_online': True, 'available_offline': False, 'is_career_track': False, 'course_group_id': 7, 'classroom_icon_url': 'https://files.codingninjas.in/0000000000003765.png'}, {'id': 34, 'title': 'Front End (React)', 'online_title': 'online-web-dev-with-react', 'offline_title': '', 'name': 'Advanced  Front-End Web Development with React', 'level': 'Development Courses', 'brief_intro': 'Advanced  Front-End Web Development with React', 'preview_image_url': 'https://ninjasfiles.s3.amazonaws.com/0000000000001179.png', 'available_online': True, 'available_offline': False, 'is_career_track': False, 'course_group_id': 2, 'classroom_icon_url': 'https://files.codingninjas.in/0000000000003769.png'}, {'id': 41, 'title': 'Premium Competitive Course', 'online_title': 'premium-competitive-course', 'offline_title': '', 'name': 'Premium Competitive Programming Course', 'level': 'Foundation Courses', 'brief_intro': '', 'preview_image_url': '', 'available_online': True, 'available_offline': False, 'is_career_track': False, 'course_group_id': 7, 'classroom_icon_url': 'https://files.codingninjas.in/0000000000003765.png'}, {'id': 40, 'title': 'Data structures and Algorithms [C++/Java/Python]', 'online_title': 'premium-foundation-course', 'offline_title': '', 'name': 'Premium Data structures and Algorithms [C++/Java/Python]', 'level': 'Foundation Courses', 'brief_intro': '', 'preview_image_url': '', 'available_online': True, 'available_offline': False, 'is_career_track': False, 'course_group_id': 7, 'classroom_icon_url': 'https://files.codingninjas.in/0000000000003765.png'}, {'id': 45, 'title': 'Premium Android Course', 'online_title': 'premium-android-app-development-course', 'offline_title': '', 'name': 'Premium Android App Development', 'level': 'Foundation Courses', 'brief_intro': '', 'preview_image_url': '', 'available_online': True, 'available_offline': False, 'is_career_track': False, 'course_group_id': 7, 'classroom_icon_url': 'https://files.codingninjas.in/0000000000003765.png'}, {'id': 16, 'title': 'Competitive Programmer', 'online_title': 'online-competitive-programming-track', 'offline_title': '', 'name': 'Ninja Competitive Programmer Track', 'level': 'Career Tracks', 'brief_intro': 'Competitive Track', 'preview_image_url': 'https://files.codingninjas.in/0000000000001177.png', 'available_online': True, 'available_offline': False, 'is_career_track': True, 'course_group_id': 3, 'classroom_icon_url': 'https://files.codingninjas.in/0000000000003775.png'}, {'id': 42, 'title': 'Premium Web Dev Course', 'online_title': 'premium-full-stack-web-development-course', 'offline_title': '', 'name': 'Premium Full Stack Web Development', 'level': 'Foundation Courses', 'brief_intro': '', 'preview_image_url': '', 'available_online': True, 'available_offline': False, 'is_career_track': False, 'course_group_id': 7, 'classroom_icon_url': 'https://files.codingninjas.in/0000000000003765.png'}, {'id': 6, 'title': 'Machine Learning', 'online_title': 'online-machine-learning-course', 'offline_title': 'classroom-machine-learning-course', 'name': 'Machine Learning & Deep Learning Course', 'level': 'Advanced Courses', 'brief_intro': 'Machine learning engineers build, implement, and maintain machine learning systems in technology products.', 'preview_image_url': 'https://ninjasfiles.s3.amazonaws.com/0000000000001181.png', 'available_online': True, 'available_offline': False, 'is_career_track': False, 'course_group_id': 2, 'classroom_icon_url': 'https://files.codingninjas.in/0000000000003766.png'}, {'id': 1, 'title': 'C++ & Data Structures', 'online_title': 'onlline-c-plus-plus-course', 'offline_title': 'classroom-c-plus-plus-course', 'name': 'C++ Foundation with Data Structures', 'level': 'Foundation Courses', 'brief_intro': 'Brief Intro', 'preview_image_url': 'https://files.codingninjas.in/0000000000001176.png', 'available_online': True, 'available_offline': False, 'is_career_track': False, 'course_group_id': 1, 'classroom_icon_url': 'https://files.codingninjas.in/0000000000003771.png'}, {'id': 35, 'title': 'Android Developer', 'online_title': 'online-android-development-career-track', 'offline_title': '', 'name': 'Ninja Android Developer Career Track ', 'level': 'Career Tracks', 'brief_intro': 'beginner to pro Android Developer!', 'preview_image_url': 'https://ninjasfiles.s3.amazonaws.com/0000000000001175.png', 'available_online': True, 'available_offline': False, 'is_career_track': True, 'course_group_id': 3, 'classroom_icon_url': 'https://files.codingninjas.in/0000000000003774.png'}, {'id': 2, 'title': 'Java & Data Structures', 'online_title': 'online-java-course', 'offline_title': 'classroom-java-course', 'name': 'JAVA Foundation with Data Structures', 'level': 'Foundation Courses', 'brief_intro': 'Brief Intro', 'preview_image_url': 'https://ninjasfiles.s3.amazonaws.com/0000000000001255.png', 'available_online': True, 'available_offline': False, 'is_career_track': False, 'course_group_id': 1, 'classroom_icon_url': 'https://files.codingninjas.in/0000000000003772.png'}, {'id': 12, 'title': 'Web Dev (Full Stack)', 'online_title': 'online-full-stack-node-js-web-dev-course', 'offline_title': '', 'name': 'Full Stack Web Development', 'level': 'Development Courses', 'brief_intro': 'Web Development', 'preview_image_url': 'https://ninjasfiles.s3.amazonaws.com/0000000000001179.png', 'available_online': True, 'available_offline': False, 'is_career_track': False, 'course_group_id': 2, 'classroom_icon_url': 'https://files.codingninjas.in/0000000000003764.png'}, {'id': 66, 'title': 'Grokking the Operating Systems Interview', 'online_title': 'operating-system', 'offline_title': '', 'name': 'Grokking the Operating Systems Interview', 'level': 'Foundation Courses', 'brief_intro': 'Brief Intro', 'preview_image_url': 'https://ninjasfiles.s3.amazonaws.com/0000000000001178.png', 'available_online': True, 'available_offline': False, 'is_career_track': False, 'course_group_id': 1, 'classroom_icon_url': 'https://files.codingninjas.in/ubuntu-brands-10404.png'}, {'id': 13, 'title': 'Data Science', 'online_title': 'online-data-science-course', 'offline_title': '', 'name': 'Data Science & Machine Learning Complete', 'level': 'Advanced Courses', 'brief_intro': 'Brief Intro', 'preview_image_url': 'https://ninjasfiles.s3.amazonaws.com/0000000000001371.png', 'available_online': True, 'available_offline': False, 'is_career_track': False, 'course_group_id': 2, 'classroom_icon_url': 'https://files.codingninjas.in/0000000000003763.png'}, {'id': 4, 'title': 'Interview Preparation', 'online_title': 'online-interview-preparation', 'offline_title': 'classroom-interview-preparation', 'name': 'Interview Preparation Course', 'level': 'Advanced Courses', 'brief_intro': 'Brief Intro', 'preview_image_url': 'https://ninjasfiles.s3.amazonaws.com/0000000000001178.png', 'available_online': True, 'available_offline': False, 'is_career_track': False, 'course_group_id': 1, 'classroom_icon_url': 'https://files.codingninjas.in/0000000000003765.png'}, {'id': 36, 'title': 'Python & Web Dev (MERN)', 'online_title': 'ninja-web-developer-career-track-mern-stack', 'offline_title': '', 'name': 'Ninja  Web Developer Career Track - NodeJS & ReactJs', 'level': 'Career Tracks', 'brief_intro': 'Programming foundation + MERN Stack Web Development complete Career Track', 'preview_image_url': 'https://ninjasfiles.s3.amazonaws.com/0000000000001179.png', 'available_online': True, 'available_offline': False, 'is_career_track': True, 'course_group_id': 3, 'classroom_icon_url': 'https://files.codingninjas.in/0000000000003777.png'}, {'id': 10, 'title': 'Competitive Programming', 'online_title': 'online-competitive-programming-course', 'offline_title': '', 'name': 'Competitive Programming Course', 'level': 'Advanced Courses', 'brief_intro': 'Eminence', 'preview_image_url': 'https://ninjasfiles.s3.amazonaws.com/0000000000001177.png', 'available_online': True, 'available_offline': False, 'is_career_track': False, 'course_group_id': 1, 'classroom_icon_url': 'https://files.codingninjas.in/0000000000003762.png'}, {'id': 17, 'title': 'C++ & Web Dev (Node.js)', 'online_title': 'web-developer-career-track', 'offline_title': '', 'name': 'Ninja  Web Developer Career Track - NodeJS', 'level': 'Career Tracks', 'brief_intro': 'Programming foundation + Full Stack Web Development Career Track', 'preview_image_url': 'https://ninjasfiles.s3.amazonaws.com/0000000000001179.png', 'available_online': True, 'available_offline': False, 'is_career_track': True, 'course_group_id': 3, 'classroom_icon_url': 'https://files.codingninjas.in/0000000000003777.png'}, {'id': 33, 'title': 'Android (Kotlin)', 'online_title': 'online-android-Development-kotlin', 'offline_title': '', 'name': 'Android Development with Kotlin', 'level': 'Development Courses', 'brief_intro': 'Android Development Kotlin', 'preview_image_url': 'https://ninjasfiles.s3.amazonaws.com/0000000000001175.png', 'available_online': True, 'available_offline': False, 'is_career_track': False, 'course_group_id': 2, 'classroom_icon_url': 'https://files.codingninjas.in/0000000000003761.png'}, {'id': 18, 'title': 'Data Scientist', 'online_title': 'data-Scientist-career-track', 'offline_title': '', 'name': 'Ninja Data Scientist Career Track', 'level': 'Career Tracks', 'brief_intro': 'Programming foundation + Data Science with ML career track', 'preview_image_url': 'https://ninjasfiles.s3.amazonaws.com/0000000000001371.png', 'available_online': True, 'available_offline': False, 'is_career_track': True, 'course_group_id': 3, 'classroom_icon_url': 'https://files.codingninjas.in/0000000000003778.png'}, {'id': 11, 'title': 'Python & Data Structures', 'online_title': 'online-python-course', 'offline_title': 'offline-python-course', 'name': 'Python Foundation with Data Structures', 'level': 'Foundation Courses', 'brief_intro': 'Python Foundation', 'preview_image_url': 'https://ninjasfiles.s3.amazonaws.com/0000000000001282.png', 'available_online': True, 'available_offline': False, 'is_career_track': False, 'course_group_id': 1, 'classroom_icon_url': 'https://files.codingninjas.in/0000000000003773.png'}, {'id': 21, 'title': 'Aptitude Preparation', 'online_title': 'online-aptitude-preparation', 'offline_title': '', 'name': 'Aptitude Preparation Course', 'level': 'Foundation Courses', 'brief_intro': 'Brief Intro', 'preview_image_url': 'https://ninjasfiles.s3.amazonaws.com/0000000000001178.png', 'available_online': True, 'available_offline': False, 'is_career_track': False, 'course_group_id': 1, 'classroom_icon_url': 'https://files.codingninjas.in/0000000000003770.png'}, {'id': 19, 'title': 'Machine Learning', 'online_title': 'machine-learning-engineer-career-track', 'offline_title': '', 'name': 'Ninja Machine Learning Engineer Career Track', 'level': 'Career Tracks', 'brief_intro': 'Programming foundation + Machine Learning career track', 'preview_image_url': 'https://ninjasfiles.s3.amazonaws.com/0000000000001181.png', 'available_online': True, 'available_offline': False, 'is_career_track': True, 'course_group_id': 3, 'classroom_icon_url': 'https://files.codingninjas.in/0000000000003776.png'}], 'course_groups': [{'id': 1, 'name': 'Foundation, Algorithmic & Advanced', 'order': 1, 'course_ids': [1, 2, 66, 4, 10, 11, 21], 'json_data': {'color': '#FFEBC2', 'image_link': 'https://ninjasfiles.s3.amazonaws.com/0000000000003821.png', 'text_color': '#AC933C', 'short_description': 'Foundation courses are designed such that\\xa0<strong>no prerequisites are required.</strong>\\xa0Data Structures(DS) and Algorithms(algo.) parts build on the basics to give you a\\xa0<strong>solid programming foundation</strong>.\\xa0Competitive is where you start to\\xa0<strong>push the boundaries!</strong>', 'mobile_short_description': 'Foundation courses are designed such that\\xa0<span>no prerequisites are required.</span>'}, 'is_independent': False}, {'id': 2, 'name': 'Data & Development', 'order': 2, 'course_ids': [34, 6, 12, 13, 33], 'json_data': {'color': '#80D4B1', 'image_link': 'https://files.codingninjas.in/0000000000003846.svg', 'text_color': '#257D68', 'short_description': 'Data courses dwell in the state of the art algorithms and require good knowledge of programming fundamentals. Web development courses use modern JavaScript to build powerful and fast applications from the ground up.\\xa0<strong>No prior development experience needed</strong>', 'mobile_short_description': 'Data courses dwell in the state of the art algorithms and require good knowledge of programming fundamentals. Web development courses use modern JavaScript to build powerful and fast applications from the ground up.\\xa0<span>No prior development experience needed</span>'}, 'is_independent': False}, {'id': 3, 'name': 'Career Track', 'order': 3, 'course_ids': [16, 35, 36, 17, 18, 19], 'json_data': {'color': '#C898FF', 'image_link': 'https://files.codingninjas.in/0000000000003845.svg', 'text_color': '#603CAC', 'short_description': 'These are courses that take you from\\xa0<strong>zero to hero</strong>. Each track is designed specifically to cater to a particular goal you can choose and\\xa0<strong>covers everything you need to learn and assumes no prior knowledge.</strong>', 'mobile_short_description': 'Each track is designed specifically to cater to a particular goal you can choose and\\xa0<span>covers everything you need to learn and assumes no prior knowledge.</span>'}, 'is_independent': True}, {'id': 7, 'name': 'Premium Course', 'order': None, 'course_ids': [44, 43, 41, 40, 45, 42], 'json_data': None, 'is_independent': True}]}, 'message': 'Courses', 'status': 200, 'error': None, 'disabled': False, 'update': False, 'external_rating': None}\n"
     ]
    }
   ],
   "source": [
    "# Title course\n",
    "\n",
    "data = requests.get('https://codingninjas.in/api/v3/courses',params = {\"id\":19})\n",
    "print(data.json())\n",
    "\n"
   ]
  },
  {
   "cell_type": "code",
   "execution_count": 87,
   "id": "a3475ec2",
   "metadata": {},
   "outputs": [
    {
     "name": "stdout",
     "output_type": "stream",
     "text": [
      "200\n",
      "{'meta': {'name': 'openaq-api', 'license': 'CC BY 4.0d', 'website': 'https://u50g7n0cbj.execute-api.us-east-1.amazonaws.com/', 'page': 1, 'limit': 100, 'found': 69}, 'results': [{'country': 'AU', 'name': 'Adelaide', 'city': 'Adelaide', 'count': 663866393, 'locations': 8}, {'country': 'AU', 'name': 'Altona North', 'city': 'Altona North', 'count': 84563902, 'locations': 1}, {'country': 'AU', 'name': 'Altona North 1', 'city': 'Altona North 1', 'count': 81, 'locations': 1}, {'country': 'AU', 'name': 'Altona North 2', 'city': 'Altona North 2', 'count': 78, 'locations': 1}, {'country': 'AU', 'name': 'Bairnsdale', 'city': 'Bairnsdale', 'count': 1030, 'locations': 1}, {'country': 'AU', 'name': 'Bendigo', 'city': 'Bendigo', 'count': 27451265, 'locations': 1}, {'country': 'AU', 'name': 'Bright', 'city': 'Bright', 'count': 958, 'locations': 1}, {'country': 'AU', 'name': 'Bulla North', 'city': 'Bulla North', 'count': 42, 'locations': 1}, {'country': 'AU', 'name': 'Bulla South', 'city': 'Bulla South', 'count': 44, 'locations': 1}, {'country': 'AU', 'name': 'Bushfire Emergency - Coffs Harbour', 'city': 'Bushfire Emergency - Coffs Harbour', 'count': 34646, 'locations': 1}, {'country': 'AU', 'name': 'Bushfire Emergency - Lismore', 'city': 'Bushfire Emergency - Lismore', 'count': 5603, 'locations': 1}, {'country': 'AU', 'name': 'Bushfire Emergency - Port Macquarie', 'city': 'Bushfire Emergency - Port Macquarie', 'count': 37908, 'locations': 1}, {'country': 'AU', 'name': 'Campbellfield', 'city': 'Campbellfield', 'count': 28945014, 'locations': 1}, {'country': 'AU', 'name': 'Canberra', 'city': 'Canberra', 'count': 459804440, 'locations': 4}, {'country': 'AU', 'name': 'Cann River', 'city': 'Cann River', 'count': 660, 'locations': 1}, {'country': 'AU', 'name': 'Central Coast', 'city': 'Central Coast', 'count': 195185, 'locations': 1}, {'country': 'AU', 'name': 'Central Queensland', 'city': 'Central Queensland', 'count': 347924716, 'locations': 6}, {'country': 'AU', 'name': 'Central Tablelands', 'city': 'Central Tablelands', 'count': 97861, 'locations': 3}, {'country': 'AU', 'name': 'Churchill', 'city': 'Churchill', 'count': 29141538, 'locations': 1}, {'country': 'AU', 'name': 'Geelong', 'city': 'Geelong', 'count': 170184148, 'locations': 1}, {'country': 'AU', 'name': 'Gladstone', 'city': 'Gladstone', 'count': 443299871, 'locations': 17}, {'country': 'AU', 'name': 'Healesville', 'city': 'Healesville', 'count': 28382125, 'locations': 1}, {'country': 'AU', 'name': 'Illawarra', 'city': 'Illawarra', 'count': 491190, 'locations': 3}, {'country': 'AU', 'name': 'Lakes Entrance', 'city': 'Lakes Entrance', 'count': 404, 'locations': 1}, {'country': 'AU', 'name': 'Laverton North', 'city': 'Laverton North', 'count': 525749, 'locations': 1}, {'country': 'AU', 'name': 'Lower Hunter', 'city': 'Lower Hunter', 'count': 496400, 'locations': 3}, {'country': 'AU', 'name': 'Mackay', 'city': 'Mackay', 'count': 15519, 'locations': 2}, {'country': 'AU', 'name': 'Mallacoota', 'city': 'Mallacoota', 'count': 706, 'locations': 1}, {'country': 'AU', 'name': 'Marlo', 'city': 'Marlo', 'count': 604, 'locations': 1}, {'country': 'AU', 'name': 'Melbourne', 'city': 'Melbourne', 'count': 695701345, 'locations': 11}, {'country': 'AU', 'name': 'Melton', 'city': 'Melton', 'count': 57280175, 'locations': 1}, {'country': 'AU', 'name': 'Moe', 'city': 'Moe', 'count': 29077731, 'locations': 1}, {'country': 'AU', 'name': 'Morwell', 'city': 'Morwell', 'count': 256087671, 'locations': 2}, {'country': 'AU', 'name': 'Mount Isa', 'city': 'Mount Isa', 'count': 31648572, 'locations': 1}, {'country': 'AU', 'name': 'MRI Campbellfield fire', 'city': 'MRI Campbellfield fire', 'count': 122, 'locations': 1}, {'country': 'AU', 'name': 'Mt Isa', 'city': 'Mt Isa', 'count': 31146, 'locations': 2}, {'country': 'AU', 'name': 'Newborough', 'city': 'Newborough', 'count': 27996003, 'locations': 1}, {'country': 'AU', 'name': 'Nicholson', 'city': 'Nicholson', 'count': 181, 'locations': 2}, {'country': 'AU', 'name': 'Northern Tablelands', 'city': 'Northern Tablelands', 'count': 41816, 'locations': 3}, {'country': 'AU', 'name': 'North-west Slopes', 'city': 'North-west Slopes', 'count': 211043, 'locations': 5}, {'country': 'AU', 'name': 'Omeo', 'city': 'Omeo', 'count': 991, 'locations': 1}, {'country': 'AU', 'name': 'Orbost', 'city': 'Orbost', 'count': 934, 'locations': 1}, {'country': 'AU', 'name': 'Point Cook', 'city': 'Point Cook', 'count': 54884719, 'locations': 1}, {'country': 'AU', 'name': 'Port Augusta', 'city': 'Port Augusta', 'count': 6739, 'locations': 1}, {'country': 'AU', 'name': 'Port Pirie', 'city': 'Port Pirie', 'count': 63455475, 'locations': 1}, {'country': 'AU', 'name': 'Rosedale', 'city': 'Rosedale', 'count': 29177563, 'locations': 1}, {'country': 'AU', 'name': 'Sarsfield', 'city': 'Sarsfield', 'count': 482, 'locations': 1}, {'country': 'AU', 'name': 'SIMS Metals Laverton North Site 1', 'city': 'SIMS Metals Laverton North Site 1', 'count': 80199, 'locations': 1}, {'country': 'AU', 'name': 'SIMS Metals Laverton North Site 2', 'city': 'SIMS Metals Laverton North Site 2', 'count': 98021, 'locations': 1}, {'country': 'AU', 'name': 'South East Queensland', 'city': 'South East Queensland', 'count': 981303000, 'locations': 27}, {'country': 'AU', 'name': 'Southern Tablelands', 'city': 'Southern Tablelands', 'count': 26179, 'locations': 2}, {'country': 'AU', 'name': 'South West Queensland', 'city': 'South West Queensland', 'count': 284827587, 'locations': 8}, {'country': 'AU', 'name': 'South-west Slopes', 'city': 'South-west Slopes', 'count': 125099, 'locations': 2}, {'country': 'AU', 'name': 'Sunshine West', 'city': 'Sunshine West', 'count': 472283, 'locations': 1}, {'country': 'AU', 'name': \"Swift's Creek\", 'city': \"Swift's Creek\", 'count': 1003, 'locations': 1}, {'country': 'AU', 'name': 'Sydney East', 'city': 'Sydney East', 'count': 877811, 'locations': 9}, {'country': 'AU', 'name': 'Sydney North-west', 'city': 'Sydney North-west', 'count': 657585, 'locations': 9}, {'country': 'AU', 'name': 'Sydney South-west', 'city': 'Sydney South-west', 'count': 919577, 'locations': 6}, {'country': 'AU', 'name': 'Tasmania Region', 'city': 'Tasmania Region', 'count': 606758, 'locations': 34}, {'country': 'AU', 'name': 'Thomastown East', 'city': 'Thomastown East', 'count': 27, 'locations': 1}, {'country': 'AU', 'name': 'Townsville', 'city': 'Townsville', 'count': 158246540, 'locations': 9}, {'country': 'AU', 'name': 'Traralgon', 'city': 'Traralgon', 'count': 171404179, 'locations': 1}, {'country': 'AU', 'name': 'Upper Hunter - Muswellbrook', 'city': 'Upper Hunter - Muswellbrook', 'count': 130019, 'locations': 1}, {'country': 'AU', 'name': 'Upper Hunter - Singleton', 'city': 'Upper Hunter - Singleton', 'count': 130241, 'locations': 1}, {'country': 'AU', 'name': 'Wangaratta', 'city': 'Wangaratta', 'count': 29275293, 'locations': 1}, {'country': 'AU', 'name': 'Warburton', 'city': 'Warburton', 'count': 29178146, 'locations': 1}, {'country': 'AU', 'name': 'Whyalla', 'city': 'Whyalla', 'count': 63073737, 'locations': 2}, {'country': 'AU', 'name': 'Wodonga', 'city': 'Wodonga', 'count': 1001, 'locations': 1}, {'country': 'AU', 'name': 'Yinnar', 'city': 'Yinnar', 'count': 29337711, 'locations': 1}]}\n",
      "https://api.openaq.org/v1/cities?country=AU&count=1\n"
     ]
    }
   ],
   "source": [
    "res = requests.get('https://api.openaq.org/v1/cities',params= {\"country\": \"AU\"})\n",
    "print(res.status_code)\n",
    "\n",
    "data = res.json() # to python.\n",
    "count = 0\n",
    "for i in data['results']:\n",
    "    count += i\n",
    "print(res.url)"
   ]
  },
  {
   "cell_type": "code",
   "execution_count": 89,
   "id": "a5a388b7",
   "metadata": {},
   "outputs": [
    {
     "name": "stdout",
     "output_type": "stream",
     "text": [
      "200\n",
      "Antwerpen\n",
      "Brabant wallon\n",
      "Brussels-Capital Region\n",
      "Flanders\n",
      "Hainaut\n",
      "https://api.openaq.org/v1/cities?country=BE&limit=5&order_by=city\n"
     ]
    }
   ],
   "source": [
    "res = requests.get('https://api.openaq.org/v1/cities',params= {\"country\": \"BE\",\"limit\": 5,\"order_by\":\"city\"})\n",
    "print(res.status_code)\n",
    "\n",
    "data = res.json() # to python\n",
    "for i in data['results']:\n",
    "    print(i['city'])\n",
    "print(res.url)"
   ]
  }
 ],
 "metadata": {
  "kernelspec": {
   "display_name": "Python 3",
   "language": "python",
   "name": "python3"
  },
  "language_info": {
   "codemirror_mode": {
    "name": "ipython",
    "version": 3
   },
   "file_extension": ".py",
   "mimetype": "text/x-python",
   "name": "python",
   "nbconvert_exporter": "python",
   "pygments_lexer": "ipython3",
   "version": "3.8.10"
  }
 },
 "nbformat": 4,
 "nbformat_minor": 5
}
