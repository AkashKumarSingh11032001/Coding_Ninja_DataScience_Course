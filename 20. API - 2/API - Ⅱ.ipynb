{
 "cells": [
  {
   "cell_type": "markdown",
   "id": "4c8effd7",
   "metadata": {},
   "source": [
    "# API - Ⅱ"
   ]
  },
  {
   "cell_type": "code",
   "execution_count": 23,
   "id": "ba44bf01",
   "metadata": {},
   "outputs": [],
   "source": [
    "#https://api.github.com/user\n",
    "\n",
    "import requests\n",
    "from requests.auth import HTTPBasicAuth"
   ]
  },
  {
   "cell_type": "code",
   "execution_count": 3,
   "id": "9af7ba42",
   "metadata": {},
   "outputs": [
    {
     "name": "stdout",
     "output_type": "stream",
     "text": [
      "401\n"
     ]
    }
   ],
   "source": [
    "res = requests.get('https://api.github.com/user')\n",
    "print(res.status_code)"
   ]
  },
  {
   "cell_type": "code",
   "execution_count": 1,
   "id": "7807ee0a",
   "metadata": {
    "scrolled": true
   },
   "outputs": [
    {
     "ename": "NameError",
     "evalue": "name 'requests' is not defined",
     "output_type": "error",
     "traceback": [
      "\u001b[1;31m---------------------------------------------------------------------------\u001b[0m",
      "\u001b[1;31mNameError\u001b[0m                                 Traceback (most recent call last)",
      "\u001b[1;32m<ipython-input-1-b9767b054912>\u001b[0m in \u001b[0;36m<module>\u001b[1;34m\u001b[0m\n\u001b[1;32m----> 1\u001b[1;33m \u001b[0mres\u001b[0m \u001b[1;33m=\u001b[0m \u001b[0mrequests\u001b[0m\u001b[1;33m.\u001b[0m\u001b[0mget\u001b[0m\u001b[1;33m(\u001b[0m\u001b[1;34m'https://api.github.com/'\u001b[0m\u001b[1;33m,\u001b[0m\u001b[0mauth\u001b[0m \u001b[1;33m=\u001b[0m \u001b[0mHTTPBasicAuth\u001b[0m\u001b[1;33m(\u001b[0m\u001b[1;34m'Introvert1002'\u001b[0m\u001b[1;33m,\u001b[0m\u001b[1;34m'HelloSuckers2001'\u001b[0m\u001b[1;33m)\u001b[0m\u001b[1;33m)\u001b[0m\u001b[1;33m\u001b[0m\u001b[1;33m\u001b[0m\u001b[0m\n\u001b[0m\u001b[0;32m      2\u001b[0m \u001b[0mprint\u001b[0m\u001b[1;33m(\u001b[0m\u001b[0mres\u001b[0m\u001b[1;33m.\u001b[0m\u001b[0mstatus_code\u001b[0m\u001b[1;33m)\u001b[0m\u001b[1;33m\u001b[0m\u001b[1;33m\u001b[0m\u001b[0m\n",
      "\u001b[1;31mNameError\u001b[0m: name 'requests' is not defined"
     ]
    }
   ],
   "source": [
    "res = requests.get('https://api.github.com/',auth = HTTPBasicAuth('Introvert1002','HelloSuckers2001'))\n",
    "print(res.status_code)"
   ]
  },
  {
   "cell_type": "markdown",
   "id": "f178aef1",
   "metadata": {},
   "source": [
    "### REDDIT API"
   ]
  },
  {
   "cell_type": "code",
   "execution_count": 2,
   "id": "b2ba23c3",
   "metadata": {},
   "outputs": [],
   "source": [
    "# client id: O-fgA6stXRm5sA\n",
    "# cliend Secrets: FxWc60x6CFx4zMxNRk2ZdqRSQnjqNQ"
   ]
  },
  {
   "cell_type": "code",
   "execution_count": 4,
   "id": "86ed7ad0",
   "metadata": {},
   "outputs": [],
   "source": [
    "import requests\n",
    "import json\n"
   ]
  },
  {
   "cell_type": "code",
   "execution_count": 5,
   "id": "bba17352",
   "metadata": {},
   "outputs": [
    {
     "name": "stdout",
     "output_type": "stream",
     "text": [
      "https://www.reddit.com/api/v1/authorize?client_id=O-fgA6stXRm5sA&response_type=code&state=random_123&redirect_uri=https%3A%2F%2Fwww.google.com%2F&scope=read\n"
     ]
    }
   ],
   "source": [
    "data = {'client_id':'O-fgA6stXRm5sA','response_type':'code','state':'random_123','redirect_uri':'https://www.google.com/','scope':'read'}\n",
    "res = requests.get('https://www.reddit.com/api/v1/authorize',params = data)\n",
    "\n",
    "print(res.url)"
   ]
  },
  {
   "cell_type": "markdown",
   "id": "258c55c3",
   "metadata": {},
   "source": [
    "### Lecture Assignment "
   ]
  },
  {
   "cell_type": "code",
   "execution_count": 31,
   "id": "1f5c9322",
   "metadata": {},
   "outputs": [
    {
     "name": "stdout",
     "output_type": "stream",
     "text": [
      "Apache License 2.0\n"
     ]
    }
   ],
   "source": [
    "import requests\n",
    "username =\"codingninjas123\"\n",
    "password = \"cnninjas123\"\n",
    "license = requests.get('https://api.github.com/' + 'repos/google/go-cloud', auth =(username, password)) \n",
    "print(license.json().get(\"license\").get('name'))"
   ]
  },
  {
   "cell_type": "code",
   "execution_count": 38,
   "id": "32cae3ff",
   "metadata": {},
   "outputs": [
    {
     "name": "stdout",
     "output_type": "stream",
     "text": [
      "fuzzing\n",
      "security\n",
      "stability\n",
      "vulnerabilities\n"
     ]
    }
   ],
   "source": [
    "import requests\n",
    "\n",
    "username = \"codingninjas123\"\n",
    "\n",
    "password = \"cnninjas123\"\n",
    "\n",
    "header = {\"Accept\": \"application/vnd.github.mercy-preview+json\"}\n",
    "license= requests.get('https://api.github.com/repos/google/clusterfuzz/topics', auth= (username, password), headers = header)\n",
    "\n",
    "for i in license.json()['names']:\n",
    "    print(i)"
   ]
  },
  {
   "cell_type": "code",
   "execution_count": 40,
   "id": "793f9804",
   "metadata": {},
   "outputs": [
    {
     "name": "stdout",
     "output_type": "stream",
     "text": [
      "Swift\n",
      "HTML\n",
      "Python\n",
      "Ruby\n",
      "Shell\n"
     ]
    }
   ],
   "source": [
    "import requests\n",
    "username =\"codingninjas123\"\n",
    "password = \"cnninjas123\"\n",
    "license = requests.get('https://api.github.com/' + 'repos/google/science-journal-ios/languages', auth =(username, password)) \n",
    "for i in license.json():\n",
    "    print(i)"
   ]
  },
  {
   "cell_type": "code",
   "execution_count": null,
   "id": "64c02be4",
   "metadata": {},
   "outputs": [],
   "source": []
  }
 ],
 "metadata": {
  "kernelspec": {
   "display_name": "Python 3",
   "language": "python",
   "name": "python3"
  },
  "language_info": {
   "codemirror_mode": {
    "name": "ipython",
    "version": 3
   },
   "file_extension": ".py",
   "mimetype": "text/x-python",
   "name": "python",
   "nbconvert_exporter": "python",
   "pygments_lexer": "ipython3",
   "version": "3.8.10"
  }
 },
 "nbformat": 4,
 "nbformat_minor": 5
}
