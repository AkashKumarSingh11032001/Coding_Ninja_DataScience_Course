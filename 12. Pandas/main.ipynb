{
 "cells": [
  {
   "cell_type": "markdown",
   "id": "20bd0085",
   "metadata": {},
   "source": [
    "# 12. Pandas"
   ]
  },
  {
   "cell_type": "code",
   "execution_count": null,
   "id": "1c02c429",
   "metadata": {},
   "outputs": [],
   "source": [
    "# padas is great way to maupkite data "
   ]
  }
 ],
 "metadata": {
  "kernelspec": {
   "display_name": "Python 3",
   "language": "python",
   "name": "python3"
  },
  "language_info": {
   "codemirror_mode": {
    "name": "ipython",
    "version": 3
   },
   "file_extension": ".py",
   "mimetype": "text/x-python",
   "name": "python",
   "nbconvert_exporter": "python",
   "pygments_lexer": "ipython3",
   "version": "3.8.10"
  }
 },
 "nbformat": 4,
 "nbformat_minor": 5
}
