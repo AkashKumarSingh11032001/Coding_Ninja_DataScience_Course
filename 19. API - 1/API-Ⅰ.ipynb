{
 "cells": [
  {
   "cell_type": "markdown",
   "id": "3202ec2b",
   "metadata": {},
   "source": [
    "# 19. API - Ⅰ"
   ]
  },
  {
   "cell_type": "code",
   "execution_count": 2,
   "id": "914f677c",
   "metadata": {},
   "outputs": [
    {
     "name": "stdout",
     "output_type": "stream",
     "text": [
      "Collecting requests\n",
      "  Downloading requests-2.25.1-py2.py3-none-any.whl (61 kB)\n",
      "Collecting certifi>=2017.4.17\n",
      "  Downloading certifi-2021.5.30-py2.py3-none-any.whl (145 kB)\n",
      "Collecting idna<3,>=2.5Note: you may need to restart the kernel to use updated packages.\n"
     ]
    },
    {
     "name": "stderr",
     "output_type": "stream",
     "text": [
      "WARNING: You are using pip version 21.1.1; however, version 21.1.2 is available.\n",
      "You should consider upgrading via the 'c:\\users\\akash\\appdata\\local\\programs\\python\\python38\\python.exe -m pip install --upgrade pip' command.\n"
     ]
    },
    {
     "name": "stdout",
     "output_type": "stream",
     "text": [
      "\n",
      "  Downloading idna-2.10-py2.py3-none-any.whl (58 kB)\n",
      "Collecting chardet<5,>=3.0.2\n",
      "  Downloading chardet-4.0.0-py2.py3-none-any.whl (178 kB)\n",
      "Collecting urllib3<1.27,>=1.21.1\n",
      "  Downloading urllib3-1.26.5-py2.py3-none-any.whl (138 kB)\n",
      "Installing collected packages: urllib3, idna, chardet, certifi, requests\n",
      "Successfully installed certifi-2021.5.30 chardet-4.0.0 idna-2.10 requests-2.25.1 urllib3-1.26.5\n"
     ]
    }
   ],
   "source": [
    "pip install requests"
   ]
  },
  {
   "cell_type": "code",
   "execution_count": 4,
   "id": "3ce5bb12",
   "metadata": {},
   "outputs": [],
   "source": [
    "import requests"
   ]
  },
  {
   "cell_type": "code",
   "execution_count": 5,
   "id": "51c56a39",
   "metadata": {},
   "outputs": [],
   "source": [
    "## https://codingninjas.in/api/v3/courses\n",
    "\n",
    "## https://api.github.com/events\n",
    "\n",
    "## https://dog.ceo/api/breeds/list/all"
   ]
  },
  {
   "cell_type": "code",
   "execution_count": 19,
   "id": "0698ae60",
   "metadata": {},
   "outputs": [
    {
     "name": "stdout",
     "output_type": "stream",
     "text": [
      "200\n",
      "utf-8\n",
      "https://codingninjas.in/api/v3/courses\n",
      "<class 'requests.structures.CaseInsensitiveDict'>\n",
      "Fri, 18 Jun 2021 05:20:28 GMT\n",
      "application/json\n"
     ]
    }
   ],
   "source": [
    "# API calling \n",
    "res = requests.get('https://codingninjas.in/api/v3/courses') \n",
    "\n",
    "# check call was sucessful or not [200-> sucess || 404-> fail]\n",
    "print(res.status_code)\n",
    "\n",
    "# check file encoding of received response \n",
    "print(res.encoding)\n",
    "\n",
    "# retrieve/ see data, recived from response\n",
    "#print(res.text)\n",
    "\n",
    "# see URL, in which you make call\n",
    "print(res.url)\n",
    "\n",
    "# header informaation in dict type formate\n",
    "des = res.headers\n",
    "print(type(des))\n",
    "print(des['Date'])\n",
    "print(des['content-type'])\n",
    "#print(des)\n",
    "\n"
   ]
  },
  {
   "cell_type": "markdown",
   "id": "1854c5c0",
   "metadata": {},
   "source": [
    "### JSON to PYTHON"
   ]
  },
  {
   "cell_type": "code",
   "execution_count": 21,
   "id": "1fccb3f3",
   "metadata": {},
   "outputs": [],
   "source": [
    "# As we checked that type formate we recived from call is \"JSON\" [print(des['content-type'])]\n",
    "\n",
    "import json\n"
   ]
  },
  {
   "cell_type": "code",
   "execution_count": 22,
   "id": "1db7aa1d",
   "metadata": {},
   "outputs": [
    {
     "ename": "SyntaxError",
     "evalue": "invalid syntax (<ipython-input-22-2ffd3a9fed95>, line 3)",
     "output_type": "error",
     "traceback": [
      "\u001b[1;36m  File \u001b[1;32m\"<ipython-input-22-2ffd3a9fed95>\"\u001b[1;36m, line \u001b[1;32m3\u001b[0m\n\u001b[1;33m    python_data = json.loads(json_data)\u001b[0m\n\u001b[1;37m    ^\u001b[0m\n\u001b[1;31mSyntaxError\u001b[0m\u001b[1;31m:\u001b[0m invalid syntax\n"
     ]
    }
   ],
   "source": [
    "# b=y default j\n",
    "json_data = '{\"Student\": \"Akash\"}'\n",
    "print(type(json_data)\n",
    "python_data = json.loads(json_data)\n",
    "print(type(python_data))"
   ]
  }
 ],
 "metadata": {
  "kernelspec": {
   "display_name": "Python 3",
   "language": "python",
   "name": "python3"
  },
  "language_info": {
   "codemirror_mode": {
    "name": "ipython",
    "version": 3
   },
   "file_extension": ".py",
   "mimetype": "text/x-python",
   "name": "python",
   "nbconvert_exporter": "python",
   "pygments_lexer": "ipython3",
   "version": "3.8.10"
  }
 },
 "nbformat": 4,
 "nbformat_minor": 5
}
