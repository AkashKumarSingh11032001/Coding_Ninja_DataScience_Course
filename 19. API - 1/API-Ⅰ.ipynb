{
 "cells": [
  {
   "cell_type": "markdown",
   "id": "63610009",
   "metadata": {},
   "source": [
    "# 19. API - Ⅰ"
   ]
  },
  {
   "cell_type": "code",
   "execution_count": 2,
   "id": "f8b991de",
   "metadata": {},
   "outputs": [
    {
     "name": "stdout",
     "output_type": "stream",
     "text": [
      "Collecting requests\n",
      "  Downloading requests-2.25.1-py2.py3-none-any.whl (61 kB)\n",
      "Collecting certifi>=2017.4.17\n",
      "  Downloading certifi-2021.5.30-py2.py3-none-any.whl (145 kB)\n",
      "Collecting idna<3,>=2.5Note: you may need to restart the kernel to use updated packages.\n"
     ]
    },
    {
     "name": "stderr",
     "output_type": "stream",
     "text": [
      "WARNING: You are using pip version 21.1.1; however, version 21.1.2 is available.\n",
      "You should consider upgrading via the 'c:\\users\\akash\\appdata\\local\\programs\\python\\python38\\python.exe -m pip install --upgrade pip' command.\n"
     ]
    },
    {
     "name": "stdout",
     "output_type": "stream",
     "text": [
      "\n",
      "  Downloading idna-2.10-py2.py3-none-any.whl (58 kB)\n",
      "Collecting chardet<5,>=3.0.2\n",
      "  Downloading chardet-4.0.0-py2.py3-none-any.whl (178 kB)\n",
      "Collecting urllib3<1.27,>=1.21.1\n",
      "  Downloading urllib3-1.26.5-py2.py3-none-any.whl (138 kB)\n",
      "Installing collected packages: urllib3, idna, chardet, certifi, requests\n",
      "Successfully installed certifi-2021.5.30 chardet-4.0.0 idna-2.10 requests-2.25.1 urllib3-1.26.5\n"
     ]
    }
   ],
   "source": [
    "pip install requests"
   ]
  },
  {
   "cell_type": "code",
   "execution_count": 4,
   "id": "6cf5ceb1",
   "metadata": {},
   "outputs": [],
   "source": [
    "import requests"
   ]
  },
  {
   "cell_type": "code",
   "execution_count": 5,
   "id": "090a722c",
   "metadata": {},
   "outputs": [],
   "source": [
    "## https://codingninjas.in/api/v3/courses\n",
    "\n",
    "## https://api.github.com/events\n",
    "\n",
    "## https://dog.ceo/api/breeds/list/all"
   ]
  },
  {
   "cell_type": "code",
   "execution_count": 7,
   "id": "e62932f4",
   "metadata": {},
   "outputs": [
    {
     "name": "stdout",
     "output_type": "stream",
     "text": [
      "200\n",
      "utf-8\n"
     ]
    }
   ],
   "source": [
    "# API calling \n",
    "res = requests.get('https://codingninjas.in/api/v3/courses') \n",
    "\n",
    "# check call was sucessful or not [200-> sucess || 404-> fail]\n",
    "print(res.status_code)\n",
    "\n",
    "# check file encoding of received response \n",
    "print(res.encoding)\n",
    "\n",
    "# retrieve/ see data, recived from respn"
   ]
  }
 ],
 "metadata": {
  "kernelspec": {
   "display_name": "Python 3",
   "language": "python",
   "name": "python3"
  },
  "language_info": {
   "codemirror_mode": {
    "name": "ipython",
    "version": 3
   },
   "file_extension": ".py",
   "mimetype": "text/x-python",
   "name": "python",
   "nbconvert_exporter": "python",
   "pygments_lexer": "ipython3",
   "version": "3.8.10"
  }
 },
 "nbformat": 4,
 "nbformat_minor": 5
}
