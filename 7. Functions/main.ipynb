{
 "cells": [
  {
   "cell_type": "markdown",
   "id": "associate-month",
   "metadata": {},
   "source": [
    "# 7. Functions"
   ]
  },
  {
   "cell_type": "code",
   "execution_count": 6,
   "id": "loaded-singer",
   "metadata": {},
   "outputs": [],
   "source": [
    "def fact(x):\n",
    "    if x ==0:\n",
    "        return 1\n",
    "    return x*fact(x-1)\n",
    "\n"
   ]
  },
  {
   "cell_type": "code",
   "execution_count": null,
   "id": "executed-determination",
   "metadata": {},
   "outputs": [],
   "source": [
    "n = int(input())\n",
    "r = int(input())\n",
    "\n",
    "print(fact(n))\n",
    "print(fact(r))"
   ]
  },
  {
   "cell_type": "code",
   "execution_count": 11,
   "id": "artificial-valuable",
   "metadata": {},
   "outputs": [],
   "source": [
    "def prim(n):\n",
    "    for i in range(2,n):\n",
    "        if n%i == 0:\n",
    "            break\n",
    "        else:\n",
    "            return True \n",
    "        return False\n",
    "        \n",
    "\n",
    "    \n",
    "    "
   ]
  },
  {
   "cell_type": "code",
   "execution_count": 12,
   "id": "charming-library",
   "metadata": {},
   "outputs": [
    {
     "name": "stdout",
     "output_type": "stream",
     "text": [
      "5\n",
      "prime\n"
     ]
    }
   ],
   "source": [
    "# prime or not\n",
    "n = int(input())\n",
    "if prim(n):\n",
    "    print(\"prime\")\n",
    "else:\n",
    "    print(\"not prime\")"
   ]
  },
  {
   "cell_type": "code",
   "execution_count": 14,
   "id": "sacred-recommendation",
   "metadata": {},
   "outputs": [
    {
     "name": "stdout",
     "output_type": "stream",
     "text": [
      "10\n",
      "3 5 7 9 "
     ]
    }
   ],
   "source": [
    "# range \n",
    "def prim_range(n):\n",
    "    for i in range(2,n+1):\n",
    "        if prim(i):\n",
    "            print(i,end = \" \")"
   ]
  },
  {
   "cell_type": "code",
   "execution_count": 17,
   "id": "impressed-reach",
   "metadata": {},
   "outputs": [],
   "source": [
    "def ncr(n,r):\n",
    "    n_fact = fact(n)\n",
    "    r_fact = fact(r)\n",
    "    n_r = fact(n - r)\n",
    "    ncr_val = n_fact // (r_fact * n_r)\n",
    "    return ncr_val"
   ]
  },
  {
   "cell_type": "code",
   "execution_count": 18,
   "id": "satisfied-religion",
   "metadata": {},
   "outputs": [
    {
     "data": {
      "text/plain": [
       "10"
      ]
     },
     "execution_count": 18,
     "metadata": {},
     "output_type": "execute_result"
    }
   ],
   "source": [
    "ncr(5,2)"
   ]
  },
  {
   "cell_type": "code",
   "execution_count": 19,
   "id": "rural-marketplace",
   "metadata": {},
   "outputs": [
    {
     "name": "stdout",
     "output_type": "stream",
     "text": [
      "10\n"
     ]
    }
   ],
   "source": [
    "def incr(i):\n",
    "    i += 1\n",
    "\n",
    "k = 10\n",
    "incr(k)\n",
    "print(k)"
   ]
  },
  {
   "cell_type": "code",
   "execution_count": 20,
   "id": "elegant-alliance",
   "metadata": {},
   "outputs": [
    {
     "data": {
      "text/plain": [
       "[2, 2, 3]"
      ]
     },
     "execution_count": 20,
     "metadata": {},
     "output_type": "execute_result"
    }
   ],
   "source": [
    "def incr_list_firt(l):\n",
    "    l[0] += 1\n",
    "    \n",
    "a = [1,2,3]\n",
    "incr_list_firt(a)\n",
    "a"
   ]
  },
  {
   "cell_type": "code",
   "execution_count": 21,
   "id": "structural-bachelor",
   "metadata": {},
   "outputs": [
    {
     "data": {
      "text/plain": [
       "'cde'"
      ]
     },
     "execution_count": 21,
     "metadata": {},
     "output_type": "execute_result"
    }
   ],
   "source": [
    "def str_chg(s):\n",
    "    s = \"abc\" #// will not chage \n",
    "    \n",
    "a = \"cde\"\n",
    "str_chg(a)\n",
    "a"
   ]
  }
 ],
 "metadata": {
  "kernelspec": {
   "display_name": "Python 3",
   "language": "python",
   "name": "python3"
  },
  "language_info": {
   "codemirror_mode": {
    "name": "ipython",
    "version": 3
   },
   "file_extension": ".py",
   "mimetype": "text/x-python",
   "name": "python",
   "nbconvert_exporter": "python",
   "pygments_lexer": "ipython3",
   "version": "3.8.3"
  }
 },
 "nbformat": 4,
 "nbformat_minor": 5
}
