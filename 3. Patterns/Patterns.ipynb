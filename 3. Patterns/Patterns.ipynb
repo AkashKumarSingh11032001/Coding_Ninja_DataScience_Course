{
 "cells": [
  {
   "cell_type": "markdown",
   "id": "indie-disposition",
   "metadata": {},
   "source": [
    "# Lecturer 3. Pattern"
   ]
  },
  {
   "cell_type": "code",
   "execution_count": 3,
   "id": "numerous-smoke",
   "metadata": {},
   "outputs": [
    {
     "name": "stdout",
     "output_type": "stream",
     "text": [
      "4\n",
      "* * * * \n",
      "* * * * \n",
      "* * * * \n",
      "* * * * \n"
     ]
    }
   ],
   "source": [
    "''' pattern 1\n",
    "****\n",
    "****\n",
    "****\n",
    "****\n",
    "'''\n",
    "\n",
    "n= int(input())\n",
    "i = 1\n",
    "while i <=n:\n",
    "    j = 1\n",
    "    while j <= n:\n",
    "        print(\"*\",end = \" \")# by default end is \"new line\" but we fixrd it with \"space\"\n",
    "        j += 1\n",
    "    print()\n",
    "    i += 1"
   ]
  },
  {
   "cell_type": "markdown",
   "id": "dedicated-criterion",
   "metadata": {},
   "source": [
    "#### Square Pattern"
   ]
  },
  {
   "cell_type": "code",
   "execution_count": 6,
   "id": "whole-anchor",
   "metadata": {},
   "outputs": [
    {
     "name": "stdout",
     "output_type": "stream",
     "text": [
      "4\n",
      "1 1 1 1 \n",
      "2 2 2 2 \n",
      "3 3 3 3 \n",
      "4 4 4 4 \n"
     ]
    }
   ],
   "source": [
    "''' pattern 2 [Square Patterns 1]\n",
    "1111\n",
    "2222\n",
    "3333\n",
    "4444\n",
    "'''\n",
    "'''\n",
    "row -> n\n",
    "col -> n\n",
    "print -> i\n",
    "'''\n",
    "\n",
    "n = int(input())\n",
    "i = 1\n",
    "while i <= n:\n",
    "    j = 1\n",
    "    while j <= n:\n",
    "        print(i, end = \" \")\n",
    "        j += 1\n",
    "    print()\n",
    "    i += 1"
   ]
  },
  {
   "cell_type": "code",
   "execution_count": 7,
   "id": "billion-damage",
   "metadata": {},
   "outputs": [
    {
     "name": "stdout",
     "output_type": "stream",
     "text": [
      "4\n",
      "1 2 3 4 \n",
      "1 2 3 4 \n",
      "1 2 3 4 \n",
      "1 2 3 4 \n"
     ]
    }
   ],
   "source": [
    "''' pattern 3 [Square Patterns 2]\n",
    "1234\n",
    "1234\n",
    "1234\n",
    "1234\n",
    "'''\n",
    "'''\n",
    "row -> n\n",
    "col -> n\n",
    "print -> j\n",
    "'''\n",
    "n = int(input())\n",
    "i = 1\n",
    "while i <= n:\n",
    "    j = 1\n",
    "    while j <= n:\n",
    "        print(j,end =\" \")\n",
    "        j += 1\n",
    "    print()\n",
    "    i += 1"
   ]
  },
  {
   "cell_type": "code",
   "execution_count": 13,
   "id": "suited-seeker",
   "metadata": {},
   "outputs": [
    {
     "name": "stdout",
     "output_type": "stream",
     "text": [
      "5\n",
      "5 4 3 2 1 \n",
      "5 4 3 2 1 \n",
      "5 4 3 2 1 \n",
      "5 4 3 2 1 \n",
      "5 4 3 2 1 \n"
     ]
    }
   ],
   "source": [
    "''' pattern 4 [Square Patterns 3]\n",
    "4321\n",
    "4321\n",
    "4321\n",
    "4321\n",
    "'''\n",
    "'''\n",
    "row -> n\n",
    "col -> n\n",
    "print -> n-j+1\n",
    "'''\n",
    "n = int(input())\n",
    "i = 1\n",
    "while i <= n:\n",
    "    j = n\n",
    "    while j <= n:\n",
    "        print(j,end = \" \")\n",
    "        j -= 1\n",
    "        if j == 0:\n",
    "            break;\n",
    "    print()\n",
    "    i += 1"
   ]
  },
  {
   "cell_type": "markdown",
   "id": "former-longitude",
   "metadata": {},
   "source": [
    "#### Triangular Pattern"
   ]
  },
  {
   "cell_type": "code",
   "execution_count": 14,
   "id": "aerial-hindu",
   "metadata": {},
   "outputs": [
    {
     "name": "stdout",
     "output_type": "stream",
     "text": [
      "4\n",
      "1 \n",
      "2 \n",
      "3 \n",
      "4 \n"
     ]
    }
   ],
   "source": [
    "''' pattern 5 [Triangular Patterns 1]\n",
    "1\n",
    "12\n",
    "123\n",
    "1234\n",
    "'''\n",
    "'''\n",
    "row -> n\n",
    "col -> i #[each col have ith element i.e 1have 1 elem  and 2nd row have 2 elem]\n",
    "print -> \n",
    "'''\n",
    "n = int(input())\n",
    "i = 1\n",
    "while i <= n:\n",
    "    j = i\n",
    "    while j <= i:\n",
    "        print(j,end = \" \")\n",
    "        j += 1\n",
    "    print()\n",
    "    i += 1"
   ]
  },
  {
   "cell_type": "code",
   "execution_count": null,
   "id": "excited-hamburg",
   "metadata": {},
   "outputs": [],
   "source": [
    "''' pattern 6 [Triangular Patterns 2]\n",
    "1\n",
    "23\n",
    "345\n",
    "4567\n",
    "'''\n",
    "'''\n",
    "row -> n\n",
    "col -> i\n",
    "print -> \n",
    "'''"
   ]
  },
  {
   "cell_type": "code",
   "execution_count": null,
   "id": "handled-rehabilitation",
   "metadata": {},
   "outputs": [],
   "source": [
    "''' pattern 7 [Triangular Patterns 3]\n",
    "1\n",
    "23\n",
    "456\n",
    "78910\n",
    "'''\n",
    "'''\n",
    "row -> n\n",
    "col -> i\n",
    "print -> \n",
    "'''"
   ]
  }
 ],
 "metadata": {
  "kernelspec": {
   "display_name": "Python 3",
   "language": "python",
   "name": "python3"
  },
  "language_info": {
   "codemirror_mode": {
    "name": "ipython",
    "version": 3
   },
   "file_extension": ".py",
   "mimetype": "text/x-python",
   "name": "python",
   "nbconvert_exporter": "python",
   "pygments_lexer": "ipython3",
   "version": "3.8.3"
  }
 },
 "nbformat": 4,
 "nbformat_minor": 5
}
