{
 "cells": [
  {
   "cell_type": "markdown",
   "id": "f9cd1159",
   "metadata": {},
   "source": [
    "# Case study 1st"
   ]
  },
  {
   "cell_type": "code",
   "execution_count": 4,
   "id": "be7e72c9",
   "metadata": {},
   "outputs": [],
   "source": [
    "import pandas as pd\n",
    "import numpy as np\n",
    "import matplotlib as plt"
   ]
  },
  {
   "cell_type": "code",
   "execution_count": 51,
   "id": "99420b6b",
   "metadata": {},
   "outputs": [
    {
     "data": {
      "text/plain": [
       "'Indian Angel Network'"
      ]
     },
     "execution_count": 51,
     "metadata": {},
     "output_type": "execute_result"
    }
   ],
   "source": [
    "'''\n",
    "Question 1: \n",
    "Find out what type of startups are getting funded in the last few years? \n",
    "Who are the important investors? \n",
    "What are the hot fields that get a lot of funding in these day?\n",
    "\n",
    "''' \n",
    "data = pd.read_csv(\"Dataset/funding.csv\")\n",
    "fundType = data.InvestmentType.describe().top\n",
    "\n",
    "data = data[data.InvestmentType == fundType]\n",
    "data = data.replace(['Undisclosed investors'],'emp')\n",
    "data = data.replace(['Undisclosed Investors'],'emp')\n",
    "data = data[data.InvestorsName != 'emp']\n",
    "invName = data.InvestorsName.describe().top\n",
    "\n",
    "\n",
    "# data = data[data.AmountInUSD != \"\"].max()\n",
    "# data\n",
    "# invType = data.InvestorsName.describe().top\n",
    "# invType"
   ]
  }
 ],
 "metadata": {
  "kernelspec": {
   "display_name": "Python 3",
   "language": "python",
   "name": "python3"
  },
  "language_info": {
   "codemirror_mode": {
    "name": "ipython",
    "version": 3
   },
   "file_extension": ".py",
   "mimetype": "text/x-python",
   "name": "python",
   "nbconvert_exporter": "python",
   "pygments_lexer": "ipython3",
   "version": "3.8.10"
  }
 },
 "nbformat": 4,
 "nbformat_minor": 5
}
