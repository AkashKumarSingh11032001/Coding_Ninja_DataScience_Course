{
 "cells": [
  {
   "cell_type": "markdown",
   "id": "cba5f679",
   "metadata": {},
   "source": [
    "# 10. Working with Files"
   ]
  },
  {
   "cell_type": "code",
   "execution_count": null,
   "id": "9f2ef25b",
   "metadata": {},
   "outputs": [],
   "source": [
    "# working with text file\n",
    "#r -> default ; w -> write(del previous data) ; a -> append(save prev data and append data)\n",
    "\n",
    "data = open"
   ]
  }
 ],
 "metadata": {
  "kernelspec": {
   "display_name": "Python 3",
   "language": "python",
   "name": "python3"
  },
  "language_info": {
   "codemirror_mode": {
    "name": "ipython",
    "version": 3
   },
   "file_extension": ".py",
   "mimetype": "text/x-python",
   "name": "python",
   "nbconvert_exporter": "python",
   "pygments_lexer": "ipython3",
   "version": "3.8.10"
  }
 },
 "nbformat": 4,
 "nbformat_minor": 5
}
