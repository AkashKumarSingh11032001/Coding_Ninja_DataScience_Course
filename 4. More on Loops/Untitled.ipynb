{
 "cells": [
  {
   "cell_type": "markdown",
   "id": "unusual-renewal",
   "metadata": {},
   "source": [
    "# Lecture 4: More on Loops"
   ]
  },
  {
   "cell_type": "code",
   "execution_count": 2,
   "id": "controversial-battlefield",
   "metadata": {},
   "outputs": [
    {
     "name": "stdout",
     "output_type": "stream",
     "text": [
      "a\n",
      "k\n",
      "a\n",
      "s\n",
      "h\n"
     ]
    }
   ],
   "source": [
    "# foor loop\n",
    "for i in \"akash\":\n",
    "    print(i)"
   ]
  },
  {
   "cell_type": "code",
   "execution_count": 4,
   "id": "alone-worth",
   "metadata": {},
   "outputs": [
    {
     "name": "stdout",
     "output_type": "stream",
     "text": [
      "1\n",
      "2\n",
      "3\n",
      "4\n",
      "5\n",
      "6\n",
      "7\n",
      "8\n",
      "9\n",
      "10\n"
     ]
    }
   ],
   "source": [
    "for i in range(1,11):\n",
    "    print(i)"
   ]
  },
  {
   "cell_type": "code",
   "execution_count": 5,
   "id": "registered-neutral",
   "metadata": {},
   "outputs": [
    {
     "name": "stdout",
     "output_type": "stream",
     "text": [
      "1\n",
      "3\n",
      "5\n",
      "7\n",
      "9\n"
     ]
    }
   ],
   "source": [
    "for i in range(1,11,2):\n",
    "    print(i)"
   ]
  },
  {
   "cell_type": "code",
   "execution_count": 10,
   "id": "outstanding-bachelor",
   "metadata": {},
   "outputs": [
    {
     "name": "stdout",
     "output_type": "stream",
     "text": [
      "5\n",
      "4\n",
      "3\n",
      "2\n",
      "1\n"
     ]
    }
   ],
   "source": [
    "for i in range(5,0,-1):\n",
    "    print(i)"
   ]
  },
  {
   "cell_type": "code",
   "execution_count": 12,
   "id": "abandoned-liverpool",
   "metadata": {},
   "outputs": [
    {
     "name": "stdout",
     "output_type": "stream",
     "text": [
      "1\n",
      "10\n",
      "3\n",
      "6\n",
      "9\n"
     ]
    }
   ],
   "source": [
    "#print multiple of 3\n",
    "a,b = int(input()),int(input())\n",
    "for i in range(a,b+1):\n",
    "    if(i % 3 == 0):\n",
    "        print(i)\n",
    "    "
   ]
  },
  {
   "cell_type": "code",
   "execution_count": 14,
   "id": "elder-ebony",
   "metadata": {},
   "outputs": [
    {
     "name": "stdout",
     "output_type": "stream",
     "text": [
      "10\n",
      "20\n",
      "12\n",
      "15\n",
      "18\n"
     ]
    }
   ],
   "source": [
    "#print multiple of 3\n",
    "a,b = int(input()),int(input())\n",
    "\n",
    "if a%3 == 0:\n",
    "    s = a\n",
    "elif a%3 == 1:\n",
    "    s = a+2\n",
    "else:\n",
    "    s = a+1\n",
    "\n",
    "for i in range(s,b+1):\n",
    "    if(i % 3 == 0):\n",
    "        print(i)"
   ]
  },
  {
   "cell_type": "code",
   "execution_count": 15,
   "id": "better-argentina",
   "metadata": {},
   "outputs": [
    {
     "name": "stdout",
     "output_type": "stream",
     "text": [
      "5\n",
      "Prime\n"
     ]
    }
   ],
   "source": [
    "# Prime or Not!!!\n",
    "n = int(input()) \n",
    "flag = False\n",
    "for d in range(2,n):\n",
    "    if n%d ==0:\n",
    "        flag = True;\n",
    "\n",
    "if flag:\n",
    "    print(\"Not Prime\")\n",
    "else: \n",
    "    print(\"Prime\")"
   ]
  },
  {
   "cell_type": "code",
   "execution_count": 16,
   "id": "embedded-garlic",
   "metadata": {},
   "outputs": [
    {
     "name": "stdout",
     "output_type": "stream",
     "text": [
      "4\n",
      "      1 \n",
      "    2 3 2 \n",
      "  3 4 5 4 3 \n",
      "4 5 6 7 6 5 4 \n"
     ]
    }
   ],
   "source": [
    "n = int(input())\n",
    "for i in range(1,n+1,1):\n",
    "    for s in range(n-i):\n",
    "        print(\" \",end = \" \")\n",
    "    for j in range(i,2*i,1):\n",
    "        print(j,end = \" \")\n",
    "    for j in range(2*i-2,i-1,-1):\n",
    "        print(j,end = \" \")\n",
    "    print()\n",
    "    "
   ]
  },
  {
   "cell_type": "markdown",
   "id": "fatty-lending",
   "metadata": {},
   "source": [
    "#### Break Keyword"
   ]
  },
  {
   "cell_type": "code",
   "execution_count": 17,
   "id": "recorded-butter",
   "metadata": {},
   "outputs": [
    {
     "name": "stdout",
     "output_type": "stream",
     "text": [
      "5\n",
      "Prime\n"
     ]
    }
   ],
   "source": [
    "# Prime or Not!!!\n",
    "n = int(input()) \n",
    "flag = False\n",
    "for d in range(2,n):\n",
    "    if n%d ==0:\n",
    "        flag = True;\n",
    "        break\n",
    "\n",
    "if flag:\n",
    "    print(\"Not Prime\")\n",
    "else: \n",
    "    print(\"Prime\")"
   ]
  },
  {
   "cell_type": "code",
   "execution_count": 19,
   "id": "instant-notification",
   "metadata": {},
   "outputs": [
    {
     "name": "stdout",
     "output_type": "stream",
     "text": [
      "10\n",
      "2\n",
      "3\n",
      "5\n",
      "7\n"
     ]
    }
   ],
   "source": [
    "n = int(input())\n",
    "k = 2\n",
    "while k <= n:\n",
    "    d = 2\n",
    "    flag = False\n",
    "    while d < k:\n",
    "        if k%d == 0:\n",
    "            flag = True\n",
    "            break\n",
    "        d += 1\n",
    "    if not(flag):\n",
    "        print(k)\n",
    "    k += 1\n",
    "        \n",
    "    "
   ]
  },
  {
   "cell_type": "code",
   "execution_count": 24,
   "id": "silent-tunisia",
   "metadata": {},
   "outputs": [
    {
     "name": "stdout",
     "output_type": "stream",
     "text": [
      "1\n",
      "2\n",
      "3\n",
      "4\n",
      "5\n",
      "6\n",
      "7\n",
      "8\n",
      "9\n",
      "10\n",
      "printed at end only once\n"
     ]
    }
   ],
   "source": [
    "# Else with Loops\n",
    "i = 1\n",
    "while i <= 10:\n",
    "    print(i)\n",
    "    i += 1\n",
    "else:\n",
    "    print(\"printed at end only once\")"
   ]
  },
  {
   "cell_type": "code",
   "execution_count": 23,
   "id": "noticed-extra",
   "metadata": {},
   "outputs": [
    {
     "name": "stdout",
     "output_type": "stream",
     "text": [
      "1\n",
      "2\n",
      "3\n",
      "4\n",
      "5\n",
      "6\n",
      "7\n",
      "8\n",
      "9\n",
      "10\n",
      "printed at end only once\n"
     ]
    }
   ],
   "source": [
    "for i in range(1,11):\n",
    "    print(i)\n",
    "else:\n",
    "    print(\"printed at end only once\")"
   ]
  },
  {
   "cell_type": "code",
   "execution_count": 25,
   "id": "knowing-research",
   "metadata": {},
   "outputs": [
    {
     "name": "stdout",
     "output_type": "stream",
     "text": [
      "1\n",
      "2\n",
      "3\n",
      "4\n",
      "5\n"
     ]
    }
   ],
   "source": [
    "# 'else' will only be executed, if for/while is not terminated by 'break'\n",
    "for i in range(1,11):\n",
    "    print(i)\n",
    "    if i == 5:\n",
    "        break\n",
    "else:\n",
    "    print(\"printed at end only once\")"
   ]
  },
  {
   "cell_type": "code",
   "execution_count": 26,
   "id": "popular-avenue",
   "metadata": {},
   "outputs": [
    {
     "name": "stdout",
     "output_type": "stream",
     "text": [
      "5\n",
      "Prime\n"
     ]
    }
   ],
   "source": [
    "# prime number improvemnt\n",
    "# Prime or Not!!!\n",
    "n = int(input()) \n",
    "flag = False\n",
    "for d in range(2,n):\n",
    "    if n%d ==0:\n",
    "        break\n",
    "else:\n",
    "    print(\"Prime\")\n",
    "\n",
    "    "
   ]
  },
  {
   "cell_type": "markdown",
   "id": "flush-school",
   "metadata": {},
   "source": [
    "#### Continue Keyword"
   ]
  },
  {
   "cell_type": "code",
   "execution_count": 27,
   "id": "polyphonic-ballet",
   "metadata": {},
   "outputs": [
    {
     "name": "stdout",
     "output_type": "stream",
     "text": [
      "1\n",
      "2\n",
      "3\n",
      "4\n",
      "6\n",
      "7\n",
      "8\n",
      "9\n",
      "10\n"
     ]
    }
   ],
   "source": [
    " for i in range(1,11):\n",
    "        if i == 5:\n",
    "            continue \n",
    "        print(i)\n",
    "        "
   ]
  }
 ],
 "metadata": {
  "kernelspec": {
   "display_name": "Python 3",
   "language": "python",
   "name": "python3"
  },
  "language_info": {
   "codemirror_mode": {
    "name": "ipython",
    "version": 3
   },
   "file_extension": ".py",
   "mimetype": "text/x-python",
   "name": "python",
   "nbconvert_exporter": "python",
   "pygments_lexer": "ipython3",
   "version": "3.8.3"
  }
 },
 "nbformat": 4,
 "nbformat_minor": 5
}
