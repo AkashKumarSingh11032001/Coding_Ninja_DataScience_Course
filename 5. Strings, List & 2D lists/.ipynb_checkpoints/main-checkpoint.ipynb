{
 "cells": [
  {
   "cell_type": "markdown",
   "id": "affecting-authority",
   "metadata": {},
   "source": [
    "# Lecture 5: String, List & 2D Lists "
   ]
  },
  {
   "cell_type": "code",
   "execution_count": 2,
   "id": "downtown-parish",
   "metadata": {},
   "outputs": [
    {
     "data": {
      "text/plain": [
       "str"
      ]
     },
     "execution_count": 2,
     "metadata": {},
     "output_type": "execute_result"
    }
   ],
   "source": [
    "a  = \"akash is hardworking\"\n",
    "b = 'a'\n",
    "type(a)\n",
    "type(b)"
   ]
  },
  {
   "cell_type": "code",
   "execution_count": 7,
   "id": "willing-spanking",
   "metadata": {},
   "outputs": [
    {
     "name": "stdout",
     "output_type": "stream",
     "text": [
      "a\n",
      " \n",
      "a\n"
     ]
    }
   ],
   "source": [
    "a  = \"akash is hardworking\"\n",
    "print(a[0])\n",
    "print(a[5])\n",
    "print(a[10])"
   ]
  },
  {
   "cell_type": "code",
   "execution_count": 9,
   "id": "discrete-mouth",
   "metadata": {},
   "outputs": [
    {
     "data": {
      "text/plain": [
       "'gnikrowdrah si hsaka'"
      ]
     },
     "execution_count": 9,
     "metadata": {},
     "output_type": "execute_result"
    }
   ],
   "source": [
    "# reverse string\n",
    "a  = \"akash is hardworking\"\n",
    "a[::-1]"
   ]
  },
  {
   "cell_type": "code",
   "execution_count": 11,
   "id": "wireless-roots",
   "metadata": {},
   "outputs": [
    {
     "ename": "TypeError",
     "evalue": "'str' object does not support item assignment",
     "output_type": "error",
     "traceback": [
      "\u001b[1;31m---------------------------------------------------------------------------\u001b[0m",
      "\u001b[1;31mTypeError\u001b[0m                                 Traceback (most recent call last)",
      "\u001b[1;32m<ipython-input-11-db3bb41d837e>\u001b[0m in \u001b[0;36m<module>\u001b[1;34m\u001b[0m\n\u001b[0;32m      1\u001b[0m \u001b[1;31m# string is immutable\u001b[0m\u001b[1;33m\u001b[0m\u001b[1;33m\u001b[0m\u001b[1;33m\u001b[0m\u001b[0m\n\u001b[0;32m      2\u001b[0m \u001b[0ma\u001b[0m  \u001b[1;33m=\u001b[0m \u001b[1;34m\"akash is hardworking\"\u001b[0m\u001b[1;33m\u001b[0m\u001b[1;33m\u001b[0m\u001b[0m\n\u001b[1;32m----> 3\u001b[1;33m \u001b[0ma\u001b[0m\u001b[1;33m[\u001b[0m\u001b[1;36m3\u001b[0m\u001b[1;33m]\u001b[0m \u001b[1;33m=\u001b[0m \u001b[1;34m'l'\u001b[0m\u001b[1;33m\u001b[0m\u001b[1;33m\u001b[0m\u001b[0m\n\u001b[0m",
      "\u001b[1;31mTypeError\u001b[0m: 'str' object does not support item assignment"
     ]
    }
   ],
   "source": [
    "# string is immutable\n",
    "a  = \"akash is hardworking\"\n",
    "a[3] = 'l'"
   ]
  },
  {
   "cell_type": "code",
   "execution_count": 14,
   "id": "french-colorado",
   "metadata": {},
   "outputs": [
    {
     "name": "stdout",
     "output_type": "stream",
     "text": [
      "'hello word'\n"
     ]
    }
   ],
   "source": [
    "# string with double or single quote[ escaping charter]\n",
    "a = \"'hello word'\"\n",
    "print(a)"
   ]
  },
  {
   "cell_type": "code",
   "execution_count": 17,
   "id": "immediate-juice",
   "metadata": {},
   "outputs": [
    {
     "name": "stdout",
     "output_type": "stream",
     "text": [
      "\"hello world\"\n"
     ]
    }
   ],
   "source": [
    "a = '\"hello world\"'\n",
    "print(a)"
   ]
  },
  {
   "cell_type": "code",
   "execution_count": 20,
   "id": "round-cancer",
   "metadata": {},
   "outputs": [
    {
     "name": "stdout",
     "output_type": "stream",
     "text": [
      "hello world's\n"
     ]
    }
   ],
   "source": [
    "a = \"hello world\\'s\"\n",
    "print(a)"
   ]
  },
  {
   "cell_type": "code",
   "execution_count": 26,
   "id": "included-fever",
   "metadata": {},
   "outputs": [
    {
     "name": "stdout",
     "output_type": "stream",
     "text": [
      "Akash Singh\n",
      "False\n",
      "False\n"
     ]
    }
   ],
   "source": [
    "a = \"Akash\"\n",
    "b = \"Singh\"\n",
    "print(a+\" \"+b)\n",
    "print(a == b)\n",
    "print(a > b) # lexigraphical compare "
   ]
  },
  {
   "cell_type": "code",
   "execution_count": 28,
   "id": "social-uganda",
   "metadata": {},
   "outputs": [
    {
     "data": {
      "text/plain": [
       "['akash', 'is', 'hardworking']"
      ]
     },
     "execution_count": 28,
     "metadata": {},
     "output_type": "execute_result"
    }
   ],
   "source": [
    "# Split function\n",
    "a  = \"akash is hardworking\"\n",
    "a.split() # by default delimiter is spaces"
   ]
  },
  {
   "cell_type": "code",
   "execution_count": 30,
   "id": "assumed-alcohol",
   "metadata": {},
   "outputs": [
    {
     "data": {
      "text/plain": [
       "['akash', 'is', 'hardworking']"
      ]
     },
     "execution_count": 30,
     "metadata": {},
     "output_type": "execute_result"
    }
   ],
   "source": [
    "a  = \"akash,is,hardworking\"\n",
    "a.split(\",\") # delimiter is ,"
   ]
  },
  {
   "cell_type": "code",
   "execution_count": 33,
   "id": "consolidated-acrylic",
   "metadata": {},
   "outputs": [
    {
     "data": {
      "text/plain": [
       "'hello is hardworking'"
      ]
     },
     "execution_count": 33,
     "metadata": {},
     "output_type": "execute_result"
    }
   ],
   "source": [
    "# replace function\n",
    "a  = \"akash is hardworking\"\n",
    "a. replace(\"akash\",\"hello\")"
   ]
  },
  {
   "cell_type": "code",
   "execution_count": 34,
   "id": "chronic-contrary",
   "metadata": {},
   "outputs": [],
   "source": [
    "# lower, upper,islower,isuppper,isalpha(find only alphabet),startwith,endwith\n"
   ]
  },
  {
   "cell_type": "markdown",
   "id": "electoral-nerve",
   "metadata": {},
   "source": [
    "### String Slicing"
   ]
  },
  {
   "cell_type": "code",
   "execution_count": 35,
   "id": "boring-helicopter",
   "metadata": {},
   "outputs": [
    {
     "data": {
      "text/plain": [
       "'a'"
      ]
     },
     "execution_count": 35,
     "metadata": {},
     "output_type": "execute_result"
    }
   ],
   "source": [
    "a  = \"akash is hardworking\"\n",
    "a[2]"
   ]
  },
  {
   "cell_type": "code",
   "execution_count": 38,
   "id": "coastal-delicious",
   "metadata": {},
   "outputs": [
    {
     "data": {
      "text/plain": [
       "'ash'"
      ]
     },
     "execution_count": 38,
     "metadata": {},
     "output_type": "execute_result"
    }
   ],
   "source": [
    "a[2:5]"
   ]
  },
  {
   "cell_type": "code",
   "execution_count": 40,
   "id": "educational-landscape",
   "metadata": {},
   "outputs": [
    {
     "data": {
      "text/plain": [
       "'ahi '"
      ]
     },
     "execution_count": 40,
     "metadata": {},
     "output_type": "execute_result"
    }
   ],
   "source": [
    "a[2:10:2]"
   ]
  },
  {
   "cell_type": "code",
   "execution_count": 41,
   "id": "french-customs",
   "metadata": {},
   "outputs": [
    {
     "data": {
      "text/plain": [
       "'akash'"
      ]
     },
     "execution_count": 41,
     "metadata": {},
     "output_type": "execute_result"
    }
   ],
   "source": [
    "a[:5]"
   ]
  },
  {
   "cell_type": "code",
   "execution_count": 42,
   "id": "protected-venture",
   "metadata": {},
   "outputs": [
    {
     "data": {
      "text/plain": [
       "'ash'"
      ]
     },
     "execution_count": 42,
     "metadata": {},
     "output_type": "execute_result"
    }
   ],
   "source": [
    "a[2:5]"
   ]
  },
  {
   "cell_type": "code",
   "execution_count": 43,
   "id": "acquired-sector",
   "metadata": {},
   "outputs": [
    {
     "data": {
      "text/plain": [
       "'akash is hardworking'"
      ]
     },
     "execution_count": 43,
     "metadata": {},
     "output_type": "execute_result"
    }
   ],
   "source": [
    "a[::1]"
   ]
  },
  {
   "cell_type": "code",
   "execution_count": 44,
   "id": "elect-rebate",
   "metadata": {},
   "outputs": [
    {
     "data": {
      "text/plain": [
       "'akash is hardworking'"
      ]
     },
     "execution_count": 44,
     "metadata": {},
     "output_type": "execute_result"
    }
   ],
   "source": [
    "a[:]"
   ]
  },
  {
   "cell_type": "code",
   "execution_count": 45,
   "id": "posted-binding",
   "metadata": {},
   "outputs": [
    {
     "data": {
      "text/plain": [
       "'g'"
      ]
     },
     "execution_count": 45,
     "metadata": {},
     "output_type": "execute_result"
    }
   ],
   "source": [
    "a[-1::]"
   ]
  },
  {
   "cell_type": "code",
   "execution_count": 52,
   "id": "finished-reducing",
   "metadata": {},
   "outputs": [
    {
     "data": {
      "text/plain": [
       "'gnikrowdrah si hsaka'"
      ]
     },
     "execution_count": 52,
     "metadata": {},
     "output_type": "execute_result"
    }
   ],
   "source": [
    "a[::-1]"
   ]
  },
  {
   "cell_type": "code",
   "execution_count": 53,
   "id": "active-western",
   "metadata": {},
   "outputs": [
    {
     "data": {
      "text/plain": [
       "'ah si hs'"
      ]
     },
     "execution_count": 53,
     "metadata": {},
     "output_type": "execute_result"
    }
   ],
   "source": [
    "a[10:2:-1]"
   ]
  },
  {
   "cell_type": "code",
   "execution_count": 57,
   "id": "enabling-celebrity",
   "metadata": {},
   "outputs": [
    {
     "name": "stdout",
     "output_type": "stream",
     "text": [
      "akash\n"
     ]
    },
    {
     "data": {
      "text/plain": [
       "'ykash'"
      ]
     },
     "execution_count": 57,
     "metadata": {},
     "output_type": "execute_result"
    }
   ],
   "source": [
    "# replace 1st occursence\n",
    "s = input()\n",
    "pos = s.find('a')\n",
    "ans = s\n",
    "if pos != -1:\n",
    "    ans = s[:pos]+'y'+s[pos+1:]\n",
    "ans"
   ]
  },
  {
   "cell_type": "code",
   "execution_count": 60,
   "id": "lasting-bahamas",
   "metadata": {},
   "outputs": [
    {
     "name": "stdout",
     "output_type": "stream",
     "text": [
      "akash\n"
     ]
    },
    {
     "data": {
      "text/plain": [
       "'akash'"
      ]
     },
     "execution_count": 60,
     "metadata": {},
     "output_type": "execute_result"
    }
   ],
   "source": [
    "# replace ALL occursence\n",
    "s = input()\n",
    "pos = s.find('a')\n",
    "ans = s\n",
    "for i in range(0,len(ans)):\n",
    "    if ans[i] == 'x':\n",
    "        ans = ans[:i]+'y'+ans[i+1:]\n",
    "ans\n",
    "        "
   ]
  },
  {
   "cell_type": "markdown",
   "id": "expensive-wedding",
   "metadata": {},
   "source": [
    "### List Intro."
   ]
  },
  {
   "cell_type": "code",
   "execution_count": 65,
   "id": "spare-minister",
   "metadata": {},
   "outputs": [
    {
     "data": {
      "text/plain": [
       "list"
      ]
     },
     "execution_count": 65,
     "metadata": {},
     "output_type": "execute_result"
    }
   ],
   "source": [
    "a = [1,2,3]\n",
    "type(a)"
   ]
  },
  {
   "cell_type": "code",
   "execution_count": 67,
   "id": "gross-eagle",
   "metadata": {},
   "outputs": [
    {
     "data": {
      "text/plain": [
       "[]"
      ]
     },
     "execution_count": 67,
     "metadata": {},
     "output_type": "execute_result"
    }
   ],
   "source": [
    "a = []\n",
    "a"
   ]
  },
  {
   "cell_type": "code",
   "execution_count": 69,
   "id": "utility-lease",
   "metadata": {},
   "outputs": [
    {
     "data": {
      "text/plain": [
       "7"
      ]
     },
     "execution_count": 69,
     "metadata": {},
     "output_type": "execute_result"
    }
   ],
   "source": [
    "a = [5,6,7,8]\n",
    "a[2]"
   ]
  },
  {
   "cell_type": "code",
   "execution_count": 72,
   "id": "amazing-plenty",
   "metadata": {},
   "outputs": [
    {
     "data": {
      "text/plain": [
       "[5, 6, 7, 10]"
      ]
     },
     "execution_count": 72,
     "metadata": {},
     "output_type": "execute_result"
    }
   ],
   "source": [
    "# mutable\n",
    "a = [5,6,7,8]\n",
    "a[3] = 10\n",
    "a"
   ]
  },
  {
   "cell_type": "code",
   "execution_count": 74,
   "id": "pleasant-hospital",
   "metadata": {},
   "outputs": [
    {
     "data": {
      "text/plain": [
       "[True, [True, [5, 6, 7, 10], False, 1, 2.5], False, 1, 2.5]"
      ]
     },
     "execution_count": 74,
     "metadata": {},
     "output_type": "execute_result"
    }
   ],
   "source": [
    "a = [True,a,False,1,2.5]\n",
    "a"
   ]
  },
  {
   "cell_type": "code",
   "execution_count": 77,
   "id": "spread-tourist",
   "metadata": {},
   "outputs": [
    {
     "data": {
      "text/plain": [
       "[0, 1, 2, 3, 4, 5, 6, 7, 8, 9]"
      ]
     },
     "execution_count": 77,
     "metadata": {},
     "output_type": "execute_result"
    }
   ],
   "source": [
    "# list compression\n",
    "num = [i for i in range(10)]\n",
    "num"
   ]
  },
  {
   "cell_type": "markdown",
   "id": "strange-convenience",
   "metadata": {},
   "source": [
    "### List Imp Functions."
   ]
  },
  {
   "cell_type": "code",
   "execution_count": 98,
   "id": "celtic-indication",
   "metadata": {},
   "outputs": [
    {
     "name": "stdout",
     "output_type": "stream",
     "text": [
      "4\n",
      "[1, 2, 3, 4, 5, 6, 7, 8]\n",
      "[1, 2, 3, 4, 11]\n",
      "[1, 2, 3, 12, 4, 11]\n",
      "[1, 2, 3, 12, 4, 11, 5, 6, 7, 8]\n",
      "[1, 2, 3, 4, 11, 5, 6, 7, 8]\n",
      "[1, 2, 3, 11, 5, 6, 7, 8]\n",
      "[1, 2, 3, 5, 6, 7, 8, 11]\n"
     ]
    },
    {
     "data": {
      "text/plain": [
       "True"
      ]
     },
     "execution_count": 98,
     "metadata": {},
     "output_type": "execute_result"
    }
   ],
   "source": [
    "a = [1,2,3,4]\n",
    "b = [5,6,7,8]\n",
    "print(len(a))\n",
    "print(a+b)\n",
    "a.append(11) # append at last\n",
    "print(a)\n",
    "a.insert(3,12) #particular index add elem\n",
    "print(a)\n",
    "a.extend(b) # merge two list\n",
    "print(a)\n",
    "a.remove(12) # remove particular elem\n",
    "print(a)\n",
    "a.pop(3) # remove at particular index\n",
    "print(a)\n",
    "a.sort()\n",
    "print(a)\n",
    "max(a)\n",
    "a.index(5)\n",
    "5 in a\n"
   ]
  },
  {
   "cell_type": "markdown",
   "id": "interstate-beauty",
   "metadata": {},
   "source": [
    "### Taking Input from User in List"
   ]
  },
  {
   "cell_type": "code",
   "execution_count": 100,
   "id": "requested-tournament",
   "metadata": {},
   "outputs": [
    {
     "name": "stdout",
     "output_type": "stream",
     "text": [
      "7\n",
      "8\n",
      "9\n",
      "4\n",
      "5\n",
      "6\n",
      "1\n",
      "2\n",
      "3\n"
     ]
    }
   ],
   "source": [
    "a = [7,8,9,4,5,6,1,2,3]\n",
    "for i in a:\n",
    "    print(i)"
   ]
  },
  {
   "cell_type": "code",
   "execution_count": 103,
   "id": "covered-argument",
   "metadata": {},
   "outputs": [
    {
     "name": "stdout",
     "output_type": "stream",
     "text": [
      "2\n",
      "4\n",
      "5\n"
     ]
    },
    {
     "data": {
      "text/plain": [
       "[4, 5]"
      ]
     },
     "execution_count": 103,
     "metadata": {},
     "output_type": "execute_result"
    }
   ],
   "source": [
    "# variant 1\n",
    "aarr = int(input())\n",
    "latest = []\n",
    "for i in range(aarr):\n",
    "    b = int(input())\n",
    "    latest.append(b)\n",
    "latest"
   ]
  },
  {
   "cell_type": "code",
   "execution_count": 105,
   "id": "amazing-stopping",
   "metadata": {},
   "outputs": [
    {
     "name": "stdout",
     "output_type": "stream",
     "text": [
      "1 2 3 4 5 6\n"
     ]
    },
    {
     "data": {
      "text/plain": [
       "[1, 2, 3, 4, 5, 6]"
      ]
     },
     "execution_count": 105,
     "metadata": {},
     "output_type": "execute_result"
    }
   ],
   "source": [
    "# variant 2\n",
    "line= input()\n",
    "l = line.split()\n",
    "new_a = []\n",
    "for i in l:\n",
    "    new_a.append(int(i))\n",
    "new_a"
   ]
  },
  {
   "cell_type": "code",
   "execution_count": 107,
   "id": "finished-commissioner",
   "metadata": {},
   "outputs": [
    {
     "data": {
      "text/plain": [
       "[1, 2, 3, 4, 5, 6]"
      ]
     },
     "execution_count": 107,
     "metadata": {},
     "output_type": "execute_result"
    }
   ],
   "source": [
    "# alterntive 2\n",
    "line= input()\n",
    "l = line.split()\n",
    "a = [int(i) for i in l]\n",
    "a"
   ]
  },
  {
   "cell_type": "code",
   "execution_count": 109,
   "id": "deadly-colors",
   "metadata": {},
   "outputs": [
    {
     "name": "stdout",
     "output_type": "stream",
     "text": [
      "5 6 9 2 7 5\n"
     ]
    },
    {
     "data": {
      "text/plain": [
       "[5, 6, 9, 2, 7, 5]"
      ]
     },
     "execution_count": 109,
     "metadata": {},
     "output_type": "execute_result"
    }
   ],
   "source": [
    "# or\n",
    "a = [int(i) for i in input().split()]\n",
    "a"
   ]
  },
  {
   "cell_type": "markdown",
   "id": "electrical-qatar",
   "metadata": {},
   "source": [
    "### List Slicing"
   ]
  },
  {
   "cell_type": "markdown",
   "id": "greenhouse-title",
   "metadata": {},
   "source": [
    "### Nested List or 2d List"
   ]
  },
  {
   "cell_type": "code",
   "execution_count": 9,
   "id": "deluxe-justice",
   "metadata": {},
   "outputs": [
    {
     "data": {
      "text/plain": [
       "3"
      ]
     },
     "execution_count": 9,
     "metadata": {},
     "output_type": "execute_result"
    }
   ],
   "source": [
    "a = [[1,2,3],[4,5,6]]\n",
    "a[0][2]"
   ]
  },
  {
   "cell_type": "code",
   "execution_count": 11,
   "id": "restricted-contribution",
   "metadata": {},
   "outputs": [
    {
     "data": {
      "text/plain": [
       "2"
      ]
     },
     "execution_count": 11,
     "metadata": {},
     "output_type": "execute_result"
    }
   ],
   "source": [
    "a = [[1,2,3],[4,5,6]]\n",
    "len(a)"
   ]
  },
  {
   "cell_type": "code",
   "execution_count": 12,
   "id": "continent-stream",
   "metadata": {},
   "outputs": [
    {
     "name": "stdout",
     "output_type": "stream",
     "text": [
      "3 4\n",
      "1 2 3 4\n",
      "4 5 6 7\n",
      "6 7 8 9\n"
     ]
    },
    {
     "data": {
      "text/plain": [
       "[[1, 2, 3, 4], [4, 5, 6, 7], [6, 7, 8, 9]]"
      ]
     },
     "execution_count": 12,
     "metadata": {},
     "output_type": "execute_result"
    }
   ],
   "source": [
    "# user input in 2d list\n",
    "# Var 1\n",
    "elem = input().split()\n",
    "m = int(elem[0])\n",
    "n = int(elem[1])\n",
    "\n",
    "l = []\n",
    "for i in range(m):\n",
    "    box_row = [int(i) for i in input().split()]\n",
    "    l.append(box_row)\n",
    "l\n",
    "\n"
   ]
  },
  {
   "cell_type": "code",
   "execution_count": 13,
   "id": "american-brooklyn",
   "metadata": {},
   "outputs": [
    {
     "name": "stdout",
     "output_type": "stream",
     "text": [
      "3 4\n",
      "1\n",
      "2\n",
      "4\n",
      "5\n",
      "3\n",
      "6\n",
      "7\n",
      "8\n",
      "9\n",
      "10\n",
      "11\n",
      "12\n"
     ]
    },
    {
     "data": {
      "text/plain": [
       "[[1, 2, 4, 5], [3, 6, 7, 8], [9, 10, 11, 12]]"
      ]
     },
     "execution_count": 13,
     "metadata": {},
     "output_type": "execute_result"
    }
   ],
   "source": [
    "# var 2\n",
    "elem = input().split()\n",
    "m = int(elem[0])\n",
    "n = int(elem[1])\n",
    "l = []\n",
    "for i in range(m):\n",
    "    next_row = []\n",
    "    for j in range(n):\n",
    "        num = int(input())\n",
    "        next_row.append(num)\n",
    "    l.append(next_row)\n",
    "l"
   ]
  },
  {
   "cell_type": "code",
   "execution_count": 16,
   "id": "valid-dining",
   "metadata": {},
   "outputs": [
    {
     "name": "stdout",
     "output_type": "stream",
     "text": [
      "3 4\n",
      "1 2 3 4 5 6 7 8 9 10 11 12\n"
     ]
    },
    {
     "data": {
      "text/plain": [
       "[[9, 10, 11, 12], [9, 10, 11, 12], [9, 10, 11, 12]]"
      ]
     },
     "execution_count": 16,
     "metadata": {},
     "output_type": "execute_result"
    }
   ],
   "source": [
    "# var3 \n",
    "elem = input().split()\n",
    "m = int(elem[0])\n",
    "n = int(elem[1])\n",
    "\n",
    "l_id = [int(i) for i in input().split()]\n",
    "\n",
    "l = []\n",
    "for i in range(m):\n",
    "    nex_row = l_id[(n*i):(n*(i+1))]\n",
    "    l.append(next_row)\n",
    "l"
   ]
  },
  {
   "cell_type": "markdown",
   "id": "alike-beginning",
   "metadata": {},
   "source": [
    "## Assignment Prog."
   ]
  },
  {
   "cell_type": "code",
   "execution_count": 62,
   "id": "surface-champagne",
   "metadata": {},
   "outputs": [
    {
     "name": "stdout",
     "output_type": "stream",
     "text": [
      "abcdcba\n"
     ]
    },
    {
     "data": {
      "text/plain": [
       "True"
      ]
     },
     "execution_count": 62,
     "metadata": {},
     "output_type": "execute_result"
    }
   ],
   "source": [
    "# question1 : Palidrome String\n",
    "str = input()\n",
    "str == str[::-1]"
   ]
  },
  {
   "cell_type": "code",
   "execution_count": 64,
   "id": "herbal-balloon",
   "metadata": {},
   "outputs": [
    {
     "name": "stdout",
     "output_type": "stream",
     "text": [
      "co\n",
      "c\n",
      "co\n",
      "o\n"
     ]
    }
   ],
   "source": [
    "# question2: all Substring\n",
    "str = input()\n",
    "for i in range(0,len(str)):\n",
    "    for j in range(i+1,len(str)+1):\n",
    "        print(str[i:j])"
   ]
  },
  {
   "cell_type": "code",
   "execution_count": 111,
   "id": "exempt-hundred",
   "metadata": {},
   "outputs": [
    {
     "name": "stdout",
     "output_type": "stream",
     "text": [
      "1 2 3 4 5 6 7 8 9\n",
      "4 5\n"
     ]
    }
   ],
   "source": [
    "num = [int(i) for i in input().split()]\n",
    "even = 0\n",
    "odd = 0\n",
    "for i in num:\n",
    "    if i%2 ==0:\n",
    "        even += 1\n",
    "    else:\n",
    "        odd += 1\n",
    "print(even,odd)"
   ]
  },
  {
   "cell_type": "code",
   "execution_count": 114,
   "id": "optional-priest",
   "metadata": {},
   "outputs": [
    {
     "name": "stdout",
     "output_type": "stream",
     "text": [
      "1 2 3 4\n"
     ]
    },
    {
     "data": {
      "text/plain": [
       "[2, 1, 4, 3]"
      ]
     },
     "execution_count": 114,
     "metadata": {},
     "output_type": "execute_result"
    }
   ],
   "source": [
    "# swap adject num\n",
    "num = [int(i) for i in input().split()]\n",
    "for i in range(0,len(num),2):\n",
    "    num[i],num[i+1] = num[i+1],num[i]\n",
    "num\n",
    "    "
   ]
  },
  {
   "cell_type": "code",
   "execution_count": 7,
   "id": "intermediate-strategy",
   "metadata": {},
   "outputs": [
    {
     "name": "stdout",
     "output_type": "stream",
     "text": [
      "7\n",
      "2 3 10 -10 4 2 9\n",
      "-1\n",
      "-1\n",
      "2\n",
      "3\n",
      "-1\n",
      "5\n",
      "-1\n"
     ]
    }
   ],
   "source": [
    "# equilibrm index\n",
    "size = int(input())\n",
    "num = [int(i) for i in input().split()]\n",
    "left = 0\n",
    "right = 0\n",
    "for i in range(size):\n",
    "    left = 0\n",
    "    right = 0\n",
    "    \n",
    "    for j in range(i):\n",
    "        left += num[j]\n",
    "    \n",
    "    for j in range(i+1,size):\n",
    "        right += num[j]\n",
    "    \n",
    "    if left == right:\n",
    "        print(i)\n",
    "    \n",
    "    else:\n",
    "        print(\"-1\")\n"
   ]
  },
  {
   "cell_type": "code",
   "execution_count": null,
   "id": "vertical-bottom",
   "metadata": {},
   "outputs": [],
   "source": []
  }
 ],
 "metadata": {
  "kernelspec": {
   "display_name": "Python 3",
   "language": "python",
   "name": "python3"
  },
  "language_info": {
   "codemirror_mode": {
    "name": "ipython",
    "version": 3
   },
   "file_extension": ".py",
   "mimetype": "text/x-python",
   "name": "python",
   "nbconvert_exporter": "python",
   "pygments_lexer": "ipython3",
   "version": "3.8.3"
  }
 },
 "nbformat": 4,
 "nbformat_minor": 5
}
