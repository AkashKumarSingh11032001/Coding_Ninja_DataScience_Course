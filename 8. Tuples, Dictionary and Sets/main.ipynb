{
 "cells": [
  {
   "cell_type": "markdown",
   "id": "sexual-listing",
   "metadata": {},
   "source": [
    "# 8. Tuples, Dictionary and Sets"
   ]
  },
  {
   "cell_type": "code",
   "execution_count": null,
   "id": "african-fitting",
   "metadata": {},
   "outputs": [],
   "source": [
    "# list vs tuple\n",
    "a = [1,2]\n",
    "b = (1,2)\n",
    "type()"
   ]
  }
 ],
 "metadata": {
  "kernelspec": {
   "display_name": "Python 3",
   "language": "python",
   "name": "python3"
  },
  "language_info": {
   "codemirror_mode": {
    "name": "ipython",
    "version": 3
   },
   "file_extension": ".py",
   "mimetype": "text/x-python",
   "name": "python",
   "nbconvert_exporter": "python",
   "pygments_lexer": "ipython3",
   "version": "3.8.3"
  }
 },
 "nbformat": 4,
 "nbformat_minor": 5
}
