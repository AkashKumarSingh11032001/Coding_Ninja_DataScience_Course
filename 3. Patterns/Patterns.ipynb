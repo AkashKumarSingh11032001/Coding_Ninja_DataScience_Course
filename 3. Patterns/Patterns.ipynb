{
 "cells": [
  {
   "cell_type": "markdown",
   "id": "bacterial-income",
   "metadata": {},
   "source": [
    "# Lecturer 3. Pattern"
   ]
  },
  {
   "cell_type": "code",
   "execution_count": 3,
   "id": "standing-puppy",
   "metadata": {},
   "outputs": [
    {
     "name": "stdout",
     "output_type": "stream",
     "text": [
      "4\n",
      "* * * * \n",
      "* * * * \n",
      "* * * * \n",
      "* * * * \n"
     ]
    }
   ],
   "source": [
    "''' pattern 1\n",
    "****\n",
    "****\n",
    "****\n",
    "****\n",
    "'''\n",
    "\n",
    "n= int(input())\n",
    "i = 1\n",
    "while i <=n:\n",
    "    j = 1\n",
    "    while j <= n:\n",
    "        print(\"*\",end = \" \")# by default end is \"new line\" but we fixrd it with \"space\"\n",
    "        j += 1\n",
    "    print()\n",
    "    i += 1"
   ]
  },
  {
   "cell_type": "code",
   "execution_count": null,
   "id": "handy-illinois",
   "metadata": {},
   "outputs": [],
   "source": []
  },
  {
   "cell_type": "code",
   "execution_count": null,
   "id": "noble-interference",
   "metadata": {},
   "outputs": [],
   "source": []
  },
  {
   "cell_type": "code",
   "execution_count": null,
   "id": "infinite-boxing",
   "metadata": {},
   "outputs": [],
   "source": []
  }
 ],
 "metadata": {
  "kernelspec": {
   "display_name": "Python 3",
   "language": "python",
   "name": "python3"
  },
  "language_info": {
   "codemirror_mode": {
    "name": "ipython",
    "version": 3
   },
   "file_extension": ".py",
   "mimetype": "text/x-python",
   "name": "python",
   "nbconvert_exporter": "python",
   "pygments_lexer": "ipython3",
   "version": "3.8.3"
  }
 },
 "nbformat": 4,
 "nbformat_minor": 5
}
