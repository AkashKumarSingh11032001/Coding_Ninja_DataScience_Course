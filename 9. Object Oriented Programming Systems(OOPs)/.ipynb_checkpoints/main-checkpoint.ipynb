{
 "cells": [
  {
   "cell_type": "markdown",
   "id": "d2139873",
   "metadata": {},
   "source": [
    "# 9. Object Oriented Programming Systems(OOPs)"
   ]
  },
  {
   "cell_type": "code",
   "execution_count": 3,
   "id": "c0d20f3a",
   "metadata": {},
   "outputs": [
    {
     "name": "stdout",
     "output_type": "stream",
     "text": [
      "<class 'int'>\n"
     ]
    }
   ],
   "source": [
    "a = 10\n",
    "print(type(a))"
   ]
  },
  {
   "cell_type": "code",
   "execution_count": 18,
   "id": "c233155a",
   "metadata": {},
   "outputs": [],
   "source": [
    "# user defined class syntax:\n",
    "class Student:\n",
    "    pass\n",
    "\n",
    "\n",
    "s1,s2,s3 = Student(),Student(),Student() # 3 object of class 'student' -> s1,s2,s3\n"
   ]
  },
  {
   "cell_type": "markdown",
   "id": "9502c802",
   "metadata": {},
   "source": [
    "### Attribute's"
   ]
  },
  {
   "cell_type": "code",
   "execution_count": null,
   "id": "2f612c91",
   "metadata": {},
   "outputs": [],
   "source": [
    "# 2 type-> instance attribute & Class Atribute"
   ]
  },
  {
   "cell_type": "code",
   "execution_count": 6,
   "id": "95f0a67e",
   "metadata": {},
   "outputs": [],
   "source": [
    "# instance attribute vs Class Atribute\n",
    "\n",
    "# -> Instance Atribute\n",
    "   # each object can haved different instance attributr \n",
    "   # obj can access instance atr,r by using dot(.) opr\n",
    "    \n",
    "s1.name = \"Akash\"\n",
    "s1.age = 20"
   ]
  },
  {
   "cell_type": "code",
   "execution_count": 7,
   "id": "806ac84e",
   "metadata": {},
   "outputs": [],
   "source": [
    "s2.rollno = 101"
   ]
  },
  {
   "cell_type": "code",
   "execution_count": 8,
   "id": "1ac979fb",
   "metadata": {},
   "outputs": [],
   "source": [
    "s3.age = 21"
   ]
  },
  {
   "cell_type": "code",
   "execution_count": 9,
   "id": "644210ab",
   "metadata": {},
   "outputs": [
    {
     "name": "stdout",
     "output_type": "stream",
     "text": [
      "{'name': 'Akash', 'age': 20}\n",
      "{'rollno': 101}\n",
      "{'age': 21}\n"
     ]
    }
   ],
   "source": [
    "# check each object attribute \n",
    "print(s1.__dict__)\n",
    "print(s2.__dict__)\n",
    "print(s3.__dict__)"
   ]
  },
  {
   "cell_type": "code",
   "execution_count": 11,
   "id": "e5a8abc4",
   "metadata": {},
   "outputs": [
    {
     "name": "stdout",
     "output_type": "stream",
     "text": [
      "Akash\n",
      "101\n"
     ]
    },
    {
     "ename": "AttributeError",
     "evalue": "'Student' object has no attribute 'name'",
     "output_type": "error",
     "traceback": [
      "\u001b[1;31m---------------------------------------------------------------------------\u001b[0m",
      "\u001b[1;31mAttributeError\u001b[0m                            Traceback (most recent call last)",
      "\u001b[1;32m<ipython-input-11-b869f2ea961d>\u001b[0m in \u001b[0;36m<module>\u001b[1;34m\u001b[0m\n\u001b[0;32m      2\u001b[0m \u001b[0mprint\u001b[0m\u001b[1;33m(\u001b[0m\u001b[0ms1\u001b[0m\u001b[1;33m.\u001b[0m\u001b[0mname\u001b[0m\u001b[1;33m)\u001b[0m\u001b[1;33m\u001b[0m\u001b[1;33m\u001b[0m\u001b[0m\n\u001b[0;32m      3\u001b[0m \u001b[0mprint\u001b[0m\u001b[1;33m(\u001b[0m\u001b[0ms2\u001b[0m\u001b[1;33m.\u001b[0m\u001b[0mrollno\u001b[0m\u001b[1;33m)\u001b[0m\u001b[1;33m\u001b[0m\u001b[1;33m\u001b[0m\u001b[0m\n\u001b[1;32m----> 4\u001b[1;33m \u001b[0mprint\u001b[0m\u001b[1;33m(\u001b[0m\u001b[0ms2\u001b[0m\u001b[1;33m.\u001b[0m\u001b[0mname\u001b[0m\u001b[1;33m)\u001b[0m \u001b[1;31m# doen't have name attribute\u001b[0m\u001b[1;33m\u001b[0m\u001b[1;33m\u001b[0m\u001b[0m\n\u001b[0m",
      "\u001b[1;31mAttributeError\u001b[0m: 'Student' object has no attribute 'name'"
     ]
    }
   ],
   "source": [
    "# accessing particular attrbute through object \n",
    "print(s1.name)\n",
    "print(s2.rollno)\n",
    "print(s2.name) # doen't have name attribute"
   ]
  },
  {
   "cell_type": "code",
   "execution_count": 13,
   "id": "5a014ba9",
   "metadata": {},
   "outputs": [
    {
     "name": "stdout",
     "output_type": "stream",
     "text": [
      "True\n"
     ]
    }
   ],
   "source": [
    "# checking attribute present in it or not?\n",
    "print(hasattr(s1,\"name\")) "
   ]
  },
  {
   "cell_type": "code",
   "execution_count": 16,
   "id": "1927d436",
   "metadata": {},
   "outputs": [
    {
     "name": "stdout",
     "output_type": "stream",
     "text": [
      "Akash\n",
      "s2 don't have any atrribute of 'name'\n"
     ]
    }
   ],
   "source": [
    "#other attribute function\n",
    "print(getattr(s1,\"name\")) # will return value\n",
    "print(getattr(s2,\"name\",\"s2 don't have any atrribute of 'name'\"))"
   ]
  },
  {
   "cell_type": "code",
   "execution_count": 21,
   "id": "24880e07",
   "metadata": {},
   "outputs": [
    {
     "name": "stdout",
     "output_type": "stream",
     "text": [
      "{'__module__': '__main__', '__dict__': <attribute '__dict__' of 'Student' objects>, '__weakref__': <attribute '__weakref__' of 'Student' objects>, '__doc__': None, 'totalStudents': 20}\n"
     ]
    }
   ],
   "source": [
    "# -> Class attributes\n",
    "   # attribute bounded by a class\n",
    "    \n",
    "Student.totalStudents = 20\n",
    "print(Student.__dict__)"
   ]
  },
  {
   "cell_type": "code",
   "execution_count": 23,
   "id": "53b62c03",
   "metadata": {},
   "outputs": [
    {
     "name": "stdout",
     "output_type": "stream",
     "text": [
      "{'__module__': '__main__', 'totalStudent': 20, 'TeacherName': 'Komal', '__dict__': <attribute '__dict__' of 'Student' objects>, '__weakref__': <attribute '__weakref__' of 'Student' objects>, '__doc__': None}\n"
     ]
    }
   ],
   "source": [
    "class Student:\n",
    "    # define class trribute\n",
    "    totalStudent = 20\n",
    "    TeacherName = \"Komal\"\n",
    "    \n",
    "s1,s2 = Student(),Student()\n",
    "print(Student.__dict__)"
   ]
  },
  {
   "cell_type": "code",
   "execution_count": 26,
   "id": "f73e2ace",
   "metadata": {},
   "outputs": [
    {
     "name": "stdout",
     "output_type": "stream",
     "text": [
      "20\n",
      "20\n",
      "20\n"
     ]
    }
   ],
   "source": [
    "print(Student.totalStudent)\n",
    "print(s1.totalStudent)\n",
    "print(s2.totalStudent)"
   ]
  },
  {
   "cell_type": "code",
   "execution_count": 27,
   "id": "a5c112b0",
   "metadata": {},
   "outputs": [],
   "source": [
    "Student.totalStudent = 91 # it will update main 'totalStudent' "
   ]
  },
  {
   "cell_type": "code",
   "execution_count": 28,
   "id": "08f1ea02",
   "metadata": {},
   "outputs": [
    {
     "name": "stdout",
     "output_type": "stream",
     "text": [
      "91\n",
      "91\n",
      "91\n"
     ]
    }
   ],
   "source": [
    "print(Student.totalStudent)\n",
    "print(s1.totalStudent)\n",
    "print(s2.totalStudent)"
   ]
  },
  {
   "cell_type": "code",
   "execution_count": 29,
   "id": "abb3e7c5",
   "metadata": {},
   "outputs": [
    {
     "name": "stdout",
     "output_type": "stream",
     "text": [
      "{}\n",
      "{}\n"
     ]
    }
   ],
   "source": [
    "# but even s1 and s2 have no attribute , they just accessing the main attribute\n",
    "print(s1.__dict__)\n",
    "print(s2.__dict__)"
   ]
  },
  {
   "cell_type": "code",
   "execution_count": 30,
   "id": "92a4b8c3",
   "metadata": {},
   "outputs": [],
   "source": [
    "# suppose you increase the 'totalStudent ' value from s1 or s2\n",
    "s1.totalStudent = 50"
   ]
  },
  {
   "cell_type": "code",
   "execution_count": 32,
   "id": "c15c6ff7",
   "metadata": {},
   "outputs": [
    {
     "name": "stdout",
     "output_type": "stream",
     "text": [
      "91\n",
      "50\n",
      "91\n"
     ]
    }
   ],
   "source": [
    "print(Student.totalStudent)\n",
    "print(s1.totalStudent) # only s1 totalStudent changes\n",
    "print(s2.totalStudent)"
   ]
  },
  {
   "cell_type": "code",
   "execution_count": 34,
   "id": "c7ab7ea3",
   "metadata": {},
   "outputs": [
    {
     "name": "stdout",
     "output_type": "stream",
     "text": [
      "{'totalStudent': 50}\n",
      "{}\n"
     ]
    }
   ],
   "source": [
    "print(s1.__dict__) # it will also create s1 instance attribute\n",
    "print(s2.__dict__)\n"
   ]
  },
  {
   "cell_type": "markdown",
   "id": "25c2b25c",
   "metadata": {},
   "source": [
    "### Methods "
   ]
  },
  {
   "cell_type": "code",
   "execution_count": 35,
   "id": "3aef0b81",
   "metadata": {},
   "outputs": [],
   "source": [
    "# 3 type-> instance methods & Class methods & static methods"
   ]
  },
  {
   "cell_type": "code",
   "execution_count": 59,
   "id": "e6dcf37b",
   "metadata": {},
   "outputs": [],
   "source": [
    "# Methods\n",
    "class Student:\n",
    "    # define class trribute\n",
    "    totalStudent = 20\n",
    "    TeacherName = \"Komal\"\n",
    "    \n",
    "    # instance attribute \n",
    "    def hello(self): # must needed to have atleast one attribute by default\n",
    "        print(\"hello\")\n",
    "    \n",
    "    def sentence(self,str):\n",
    "        print(\"Hello,\"+ str +  \" Its new sentence\")\n",
    "        \n",
    "    def printName(self):\n",
    "        name = \"abc\"\n",
    "        print(self.name)\n",
    "    \n",
    "    \n",
    "    \n",
    "s1,s2 = Student(),Student()\n",
    "\n"
   ]
  },
  {
   "cell_type": "code",
   "execution_count": 47,
   "id": "d3f06243",
   "metadata": {},
   "outputs": [
    {
     "name": "stdout",
     "output_type": "stream",
     "text": [
      "hello\n"
     ]
    }
   ],
   "source": [
    "# method calling by instance variable\n",
    "\n",
    "s1.hello()"
   ]
  },
  {
   "cell_type": "code",
   "execution_count": 54,
   "id": "6283e271",
   "metadata": {},
   "outputs": [
    {
     "name": "stdout",
     "output_type": "stream",
     "text": [
      "Hello,Akash Its new sentence\n"
     ]
    }
   ],
   "source": [
    "s2.sentence(\"Akash\")"
   ]
  },
  {
   "cell_type": "code",
   "execution_count": 61,
   "id": "caba45e9",
   "metadata": {},
   "outputs": [],
   "source": [
    "s2.name = \"Akash Hello\""
   ]
  },
  {
   "cell_type": "code",
   "execution_count": 62,
   "id": "3e89ce0f",
   "metadata": {},
   "outputs": [
    {
     "name": "stdout",
     "output_type": "stream",
     "text": [
      "Akash Hello\n"
     ]
    }
   ],
   "source": [
    "s2.printName()"
   ]
  },
  {
   "cell_type": "code",
   "execution_count": 63,
   "id": "31a4cca7",
   "metadata": {},
   "outputs": [
    {
     "name": "stdout",
     "output_type": "stream",
     "text": [
      "hello\n"
     ]
    }
   ],
   "source": [
    "# calling by using Class name\n",
    "Student.hello(s1)"
   ]
  },
  {
   "cell_type": "code",
   "execution_count": 71,
   "id": "c41bca9c",
   "metadata": {},
   "outputs": [],
   "source": [
    "# -> Instance Methods\n",
    "\n",
    "class Student:\n",
    "    # define class trribute\n",
    "    totalStudent = 20\n",
    "    TeacherName = \"Komal\"\n",
    "    \n",
    "    # instance attribute \n",
    "    def hello(self): # must needed to have atleast one attribute by default\n",
    "        print(\"hello\")\n",
    "    \n",
    "    def sentence(self,str):\n",
    "        print(\"Hello,\"+ str +  \" Its new sentence\")\n",
    "        \n",
    "    def printName(self):\n",
    "        name = \"abc\"\n",
    "        print(self.name)\n",
    "        \n",
    "    def addName(self,str): # updateing instab=nce variable\n",
    "        self.name = str\n",
    "    \n",
    "    def test(self):\n",
    "        print(Student.totalStudent)\n",
    "        \n",
    "s1,s2 = Student(),Student()"
   ]
  },
  {
   "cell_type": "code",
   "execution_count": 65,
   "id": "c7655184",
   "metadata": {},
   "outputs": [
    {
     "name": "stdout",
     "output_type": "stream",
     "text": [
      "{}\n",
      "{}\n"
     ]
    }
   ],
   "source": [
    "print(s1.__dict__)\n",
    "print(s2.__dict__)"
   ]
  },
  {
   "cell_type": "code",
   "execution_count": 66,
   "id": "d4c8a570",
   "metadata": {},
   "outputs": [
    {
     "name": "stdout",
     "output_type": "stream",
     "text": [
      "{'name': 'Rohit'}\n",
      "{}\n"
     ]
    }
   ],
   "source": [
    "s1.addName(\"Rohit\")\n",
    "print(s1.__dict__)\n",
    "print(s2.__dict__)"
   ]
  },
  {
   "cell_type": "code",
   "execution_count": 68,
   "id": "06021ad5",
   "metadata": {},
   "outputs": [
    {
     "name": "stdout",
     "output_type": "stream",
     "text": [
      "{'name': 'Akansha'}\n",
      "{}\n"
     ]
    }
   ],
   "source": [
    "s1.addName(\"Akansha\")\n",
    "print(s1.__dict__)\n",
    "print(s2.__dict__)"
   ]
  },
  {
   "cell_type": "code",
   "execution_count": 1,
   "id": "852d0ce9",
   "metadata": {},
   "outputs": [
    {
     "ename": "NameError",
     "evalue": "name 's1' is not defined",
     "output_type": "error",
     "traceback": [
      "\u001b[1;31m---------------------------------------------------------------------------\u001b[0m",
      "\u001b[1;31mNameError\u001b[0m                                 Traceback (most recent call last)",
      "\u001b[1;32m<ipython-input-1-bba9e77b7729>\u001b[0m in \u001b[0;36m<module>\u001b[1;34m\u001b[0m\n\u001b[1;32m----> 1\u001b[1;33m \u001b[0ms1\u001b[0m\u001b[1;33m.\u001b[0m\u001b[0mtest\u001b[0m\u001b[1;33m(\u001b[0m\u001b[1;33m)\u001b[0m\u001b[1;33m\u001b[0m\u001b[1;33m\u001b[0m\u001b[0m\n\u001b[0m",
      "\u001b[1;31mNameError\u001b[0m: name 's1' is not defined"
     ]
    }
   ],
   "source": [
    "s1.test() "
   ]
  },
  {
   "cell_type": "markdown",
   "id": "5269e2c8",
   "metadata": {},
   "source": [
    "### Constructor"
   ]
  },
  {
   "cell_type": "code",
   "execution_count": 3,
   "id": "6c25d5e3",
   "metadata": {},
   "outputs": [
    {
     "name": "stdout",
     "output_type": "stream",
     "text": [
      "constructor is called\n",
      "constructor is called\n"
     ]
    }
   ],
   "source": [
    "class Student:\n",
    "    # define class trribute\n",
    "    totalStudent = 20\n",
    "    TeacherName = \"Komal\"\n",
    "    \n",
    "    # condtructor\n",
    "    def __init__(self):\n",
    "        print(\"constructor is called\")\n",
    "        pass\n",
    "    \n",
    "    # instance attribute \n",
    "    def hello(self): # must needed to have atleast one attribute by default\n",
    "        print(\"hello\")\n",
    "    \n",
    "    def sentence(self,str):\n",
    "        print(\"Hello,\"+ str +  \" Its new sentence\")\n",
    "        \n",
    "    def printName(self):\n",
    "        name = \"abc\"\n",
    "        print(self.name)\n",
    "        \n",
    "    def addName(self,str): # updateing instab=nce variable\n",
    "        self.name = str\n",
    "    \n",
    "    def test(self):\n",
    "        print(Student.totalStudent)\n",
    "        \n",
    "s1,s2 = Student(),Student()"
   ]
  },
  {
   "cell_type": "code",
   "execution_count": 4,
   "id": "e875464c",
   "metadata": {},
   "outputs": [],
   "source": [
    "class Student:\n",
    "    # define class trribute\n",
    "    totalStudent = 20\n",
    "    TeacherName = \"Komal\"\n",
    "    \n",
    "    # condtructor\n",
    "    def __init__(self):\n",
    "        self.name = \"akash\"\n",
    "        self.age = 20\n",
    "        self.rollno = 101\n",
    "    \n",
    "    # instance attribute \n",
    "    def hello(self): # must needed to have atleast one attribute by default\n",
    "        print(\"hello\")\n",
    "    \n",
    "    def sentence(self,str):\n",
    "        print(\"Hello,\"+ str +  \" Its new sentence\")\n",
    "        \n",
    "    def printName(self):\n",
    "        name = \"abc\"\n",
    "        print(self.name)\n",
    "        \n",
    "    def addName(self,str): # updateing instab=nce variable\n",
    "        self.name = str\n",
    "    \n",
    "    def test(self):\n",
    "        print(Student.totalStudent)\n",
    "        \n",
    "s1,s2 = Student(),Student()"
   ]
  },
  {
   "cell_type": "code",
   "execution_count": 5,
   "id": "21564633",
   "metadata": {},
   "outputs": [
    {
     "name": "stdout",
     "output_type": "stream",
     "text": [
      "{'name': 'akash', 'age': 20, 'rollno': 101}\n",
      "{'name': 'akash', 'age': 20, 'rollno': 101}\n"
     ]
    }
   ],
   "source": [
    "print(s1.__dict__)\n",
    "print(s2.__dict__)"
   ]
  },
  {
   "cell_type": "code",
   "execution_count": 8,
   "id": "dea2e02b",
   "metadata": {},
   "outputs": [],
   "source": [
    "class Student:\n",
    "    # define class trribute\n",
    "    totalStudent = 20\n",
    "    TeacherName = \"Komal\"\n",
    "    \n",
    "    # condtructor\n",
    "    def __init__(self,name,age,roll):\n",
    "        self.name = name\n",
    "        self.age = age\n",
    "        self.rollno = roll\n",
    "    \n",
    "    # instance attribute \n",
    "    def hello(self): # must needed to have atleast one attribute by default\n",
    "        print(\"hello\")\n",
    "    \n",
    "    def sentence(self,str):\n",
    "        print(\"Hello,\"+ str +  \" Its new sentence\")\n",
    "        \n",
    "    def printName(self):\n",
    "        name = \"abc\"\n",
    "        print(self.name)\n",
    "        \n",
    "    def addName(self,str): # updateing instab=nce variable\n",
    "        self.name = str\n",
    "    \n",
    "    def test(self):\n",
    "        print(Student.totalStudent)\n",
    "        \n",
    "s1,s2 = Student(\"akash\",20,101),Student(\"Akasha\",20,102)"
   ]
  },
  {
   "cell_type": "code",
   "execution_count": 9,
   "id": "e06d623b",
   "metadata": {},
   "outputs": [
    {
     "name": "stdout",
     "output_type": "stream",
     "text": [
      "{'name': 'akash', 'age': 20, 'rollno': 101}\n",
      "{'name': 'Akasha', 'age': 20, 'rollno': 102}\n"
     ]
    }
   ],
   "source": [
    "print(s1.__dict__)\n",
    "print(s2.__dict__)"
   ]
  },
  {
   "cell_type": "code",
   "execution_count": null,
   "id": "843f9965",
   "metadata": {},
   "outputs": [],
   "source": []
  },
  {
   "cell_type": "code",
   "execution_count": null,
   "id": "cf11fe7f",
   "metadata": {},
   "outputs": [],
   "source": []
  }
 ],
 "metadata": {
  "kernelspec": {
   "display_name": "Python 3",
   "language": "python",
   "name": "python3"
  },
  "language_info": {
   "codemirror_mode": {
    "name": "ipython",
    "version": 3
   },
   "file_extension": ".py",
   "mimetype": "text/x-python",
   "name": "python",
   "nbconvert_exporter": "python",
   "pygments_lexer": "ipython3",
   "version": "3.8.10"
  }
 },
 "nbformat": 4,
 "nbformat_minor": 5
}
