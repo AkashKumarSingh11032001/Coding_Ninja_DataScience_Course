{
 "cells": [
  {
   "cell_type": "markdown",
   "id": "4c8effd7",
   "metadata": {},
   "source": [
    "# API - Ⅱ"
   ]
  },
  {
   "cell_type": "code",
   "execution_count": 23,
   "id": "ba44bf01",
   "metadata": {},
   "outputs": [],
   "source": [
    "#https://api.github.com/user\n",
    "\n",
    "import requests\n",
    "from requests.auth import HTTPBasicAuth"
   ]
  },
  {
   "cell_type": "code",
   "execution_count": 3,
   "id": "9af7ba42",
   "metadata": {},
   "outputs": [
    {
     "name": "stdout",
     "output_type": "stream",
     "text": [
      "401\n"
     ]
    }
   ],
   "source": [
    "res = requests.get('https://api.github.com/user')\n",
    "print(res.status_code)"
   ]
  },
  {
   "cell_type": "code",
   "execution_count": 19,
   "id": "7807ee0a",
   "metadata": {
    "scrolled": true
   },
   "outputs": [
    {
     "name": "stdout",
     "output_type": "stream",
     "text": [
      "200\n"
     ]
    }
   ],
   "source": [
    "res = requests.get('https://api.github.com/',auth = HTTPBasicAuth('Introvert1002','HelloSuckers2001'))\n",
    "print(res.status_code)"
   ]
  },
  {
   "cell_type": "markdown",
   "id": "80356e87",
   "metadata": {},
   "source": [
    "### Lecture Assignment "
   ]
  },
  {
   "cell_type": "code",
   "execution_count": 31,
   "id": "3a9716e8",
   "metadata": {},
   "outputs": [
    {
     "name": "stdout",
     "output_type": "stream",
     "text": [
      "Apache License 2.0\n"
     ]
    }
   ],
   "source": [
    "import requests\n",
    "username =\"codingninjas123\"\n",
    "password = \"cnninjas123\"\n",
    "license = requests.get('https://api.github.com/' + 'repos/google/go-cloud', auth =(username, password)) \n",
    "print(license.json().get(\"license\").get('name'))"
   ]
  },
  {
   "cell_type": "code",
   "execution_count": 37,
   "id": "22d86317",
   "metadata": {},
   "outputs": [
    {
     "name": "stdout",
     "output_type": "stream",
     "text": [
      "fuzzing\n",
      "security\n",
      "stability\n",
      "vulnerabilities\n"
     ]
    }
   ],
   "source": [
    "import requests\n",
    "\n",
    "username = \"codingninjas123\"\n",
    "\n",
    "password = \"cnninjas123\"\n",
    "\n",
    "header = {\"Accept\": \"application/vnd.github.mercy-preview+json\"}\n",
    "license= requests.get('https://api.github.com/repos/google/clusterfuzz/topics', auth= (username, password), headers = header)\n",
    "\n",
    "for i in license.json()['names']:\n",
    "    print(i)"
   ]
  }
 ],
 "metadata": {
  "kernelspec": {
   "display_name": "Python 3",
   "language": "python",
   "name": "python3"
  },
  "language_info": {
   "codemirror_mode": {
    "name": "ipython",
    "version": 3
   },
   "file_extension": ".py",
   "mimetype": "text/x-python",
   "name": "python",
   "nbconvert_exporter": "python",
   "pygments_lexer": "ipython3",
   "version": "3.8.10"
  }
 },
 "nbformat": 4,
 "nbformat_minor": 5
}
