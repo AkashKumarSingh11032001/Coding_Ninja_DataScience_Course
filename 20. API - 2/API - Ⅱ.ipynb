{
 "cells": [
  {
   "cell_type": "markdown",
   "id": "749aa1dc",
   "metadata": {},
   "source": [
    "# API - Ⅱ"
   ]
  },
  {
   "cell_type": "code",
   "execution_count": 1,
   "id": "bc1c656c",
   "metadata": {},
   "outputs": [],
   "source": [
    "#https://api.github.com/user\n",
    "\n",
    "import requests\n",
    "from requests.auth import HTTPBasicAuth"
   ]
  },
  {
   "cell_type": "code",
   "execution_count": null,
   "id": "e9b0981c",
   "metadata": {},
   "outputs": [],
   "source": [
    "res = request.get('')\n"
   ]
  }
 ],
 "metadata": {
  "kernelspec": {
   "display_name": "Python 3",
   "language": "python",
   "name": "python3"
  },
  "language_info": {
   "codemirror_mode": {
    "name": "ipython",
    "version": 3
   },
   "file_extension": ".py",
   "mimetype": "text/x-python",
   "name": "python",
   "nbconvert_exporter": "python",
   "pygments_lexer": "ipython3",
   "version": "3.8.10"
  }
 },
 "nbformat": 4,
 "nbformat_minor": 5
}
