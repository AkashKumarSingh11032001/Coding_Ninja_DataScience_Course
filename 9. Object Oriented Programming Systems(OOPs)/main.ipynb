{
 "cells": [
  {
   "cell_type": "markdown",
   "id": "4ff1ddf6",
   "metadata": {},
   "source": [
    "# 9. Object Oriented Programming Systems(OOPs)"
   ]
  },
  {
   "cell_type": "code",
   "execution_count": 3,
   "id": "3a9739e3",
   "metadata": {},
   "outputs": [
    {
     "name": "stdout",
     "output_type": "stream",
     "text": [
      "<class 'int'>\n"
     ]
    }
   ],
   "source": [
    "a = 10\n",
    "print(type(a))"
   ]
  },
  {
   "cell_type": "code",
   "execution_count": 5,
   "id": "a4d9ea70",
   "metadata": {},
   "outputs": [],
   "source": [
    "# user defined class syntax:\n",
    "class Student:\n",
    "    pass\n",
    "\n",
    "\n",
    "s1,s2,s3 = Student(),Student(),Student() # 3 object of class 'student' -> s1,s2,s3\n"
   ]
  },
  {
   "cell_type": "code",
   "execution_count": 6,
   "id": "7de64929",
   "metadata": {},
   "outputs": [],
   "source": [
    "# instance attribute vs Class Atribute\n",
    "\n",
    "# -> Instance Atribute\n",
    "   # each object can haved different instance attributr \n",
    "   # obj can access instance atr,r by using dot(.) opr\n",
    "    \n",
    "s1.name = \"Akash\"\n",
    "s1.age = 20"
   ]
  },
  {
   "cell_type": "code",
   "execution_count": 7,
   "id": "8eddb8f9",
   "metadata": {},
   "outputs": [],
   "source": [
    "s2.rollno = 101"
   ]
  },
  {
   "cell_type": "code",
   "execution_count": 8,
   "id": "45819f55",
   "metadata": {},
   "outputs": [],
   "source": [
    "s3.age = 21"
   ]
  },
  {
   "cell_type": "code",
   "execution_count": 9,
   "id": "2e1d4e0e",
   "metadata": {},
   "outputs": [
    {
     "name": "stdout",
     "output_type": "stream",
     "text": [
      "{'name': 'Akash', 'age': 20}\n",
      "{'rollno': 101}\n",
      "{'age': 21}\n"
     ]
    }
   ],
   "source": [
    "# check each object attribute \n",
    "print(s1.__dict__)\n",
    "print(s2.__dict__)\n",
    "print(s3.__dict__)"
   ]
  },
  {
   "cell_type": "code",
   "execution_count": 11,
   "id": "5796bf08",
   "metadata": {},
   "outputs": [
    {
     "name": "stdout",
     "output_type": "stream",
     "text": [
      "Akash\n",
      "101\n"
     ]
    },
    {
     "ename": "AttributeError",
     "evalue": "'Student' object has no attribute 'name'",
     "output_type": "error",
     "traceback": [
      "\u001b[1;31m---------------------------------------------------------------------------\u001b[0m",
      "\u001b[1;31mAttributeError\u001b[0m                            Traceback (most recent call last)",
      "\u001b[1;32m<ipython-input-11-b869f2ea961d>\u001b[0m in \u001b[0;36m<module>\u001b[1;34m\u001b[0m\n\u001b[0;32m      2\u001b[0m \u001b[0mprint\u001b[0m\u001b[1;33m(\u001b[0m\u001b[0ms1\u001b[0m\u001b[1;33m.\u001b[0m\u001b[0mname\u001b[0m\u001b[1;33m)\u001b[0m\u001b[1;33m\u001b[0m\u001b[1;33m\u001b[0m\u001b[0m\n\u001b[0;32m      3\u001b[0m \u001b[0mprint\u001b[0m\u001b[1;33m(\u001b[0m\u001b[0ms2\u001b[0m\u001b[1;33m.\u001b[0m\u001b[0mrollno\u001b[0m\u001b[1;33m)\u001b[0m\u001b[1;33m\u001b[0m\u001b[1;33m\u001b[0m\u001b[0m\n\u001b[1;32m----> 4\u001b[1;33m \u001b[0mprint\u001b[0m\u001b[1;33m(\u001b[0m\u001b[0ms2\u001b[0m\u001b[1;33m.\u001b[0m\u001b[0mname\u001b[0m\u001b[1;33m)\u001b[0m \u001b[1;31m# doen't have name attribute\u001b[0m\u001b[1;33m\u001b[0m\u001b[1;33m\u001b[0m\u001b[0m\n\u001b[0m",
      "\u001b[1;31mAttributeError\u001b[0m: 'Student' object has no attribute 'name'"
     ]
    }
   ],
   "source": [
    "# accessing particular attrbute through object \n",
    "print(s1.name)\n",
    "print(s2.rollno)\n",
    "print(s2.name) # doen't have name attribute"
   ]
  },
  {
   "cell_type": "code",
   "execution_count": 13,
   "id": "eb1e4348",
   "metadata": {},
   "outputs": [
    {
     "name": "stdout",
     "output_type": "stream",
     "text": [
      "True\n"
     ]
    }
   ],
   "source": [
    "# checking attribute present in it or not?\n",
    "print(hasattr(s1,\"name\")) "
   ]
  },
  {
   "cell_type": "code",
   "execution_count": 14,
   "id": "af9f8786",
   "metadata": {},
   "outputs": [
    {
     "name": "stdout",
     "output_type": "stream",
     "text": [
      "Akash\n"
     ]
    }
   ],
   "source": [
    "#other attribute function\n",
    "print(getattr(s1,\"name\")) # will return value"
   ]
  }
 ],
 "metadata": {
  "kernelspec": {
   "display_name": "Python 3",
   "language": "python",
   "name": "python3"
  },
  "language_info": {
   "codemirror_mode": {
    "name": "ipython",
    "version": 3
   },
   "file_extension": ".py",
   "mimetype": "text/x-python",
   "name": "python",
   "nbconvert_exporter": "python",
   "pygments_lexer": "ipython3",
   "version": "3.8.10"
  }
 },
 "nbformat": 4,
 "nbformat_minor": 5
}
