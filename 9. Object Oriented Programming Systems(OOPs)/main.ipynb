{
 "cells": [
  {
   "cell_type": "markdown",
   "id": "5105e01d",
   "metadata": {},
   "source": [
    "# 9. Object Oriented Programming Systems(OOPs)"
   ]
  },
  {
   "cell_type": "code",
   "execution_count": 3,
   "id": "c421f92d",
   "metadata": {},
   "outputs": [
    {
     "name": "stdout",
     "output_type": "stream",
     "text": [
      "<class 'int'>\n"
     ]
    }
   ],
   "source": [
    "a = 10\n",
    "print(type(a))"
   ]
  },
  {
   "cell_type": "code",
   "execution_count": 5,
   "id": "0bac6e71",
   "metadata": {},
   "outputs": [],
   "source": [
    "# user defined class syntax:\n",
    "class Student:\n",
    "    pass\n",
    "\n",
    "\n",
    "s1,s2,s3 = Student(),Student(),Student() # 3 object of class 'student' -> s1,s2,s3\n"
   ]
  },
  {
   "cell_type": "code",
   "execution_count": 6,
   "id": "824804af",
   "metadata": {},
   "outputs": [],
   "source": [
    "# instance attribute vs Class Atribute\n",
    "\n",
    "# -> Instance Atribute\n",
    "   # object can haved different attributr \n",
    "   # obj can access instance atrr bu using dot(.) opr\n",
    "    \n",
    "s1.name = \"Akash\"\n",
    "s1.age = 20"
   ]
  },
  {
   "cell_type": "code",
   "execution_count": 7,
   "id": "0678e765",
   "metadata": {},
   "outputs": [],
   "source": [
    "s2.rollno = 101"
   ]
  },
  {
   "cell_type": "code",
   "execution_count": 8,
   "id": "0810e696",
   "metadata": {},
   "outputs": [],
   "source": [
    "s3.age = 21"
   ]
  },
  {
   "cell_type": "code",
   "execution_count": null,
   "id": "593fb9f8",
   "metadata": {},
   "outputs": [],
   "source": []
  }
 ],
 "metadata": {
  "kernelspec": {
   "display_name": "Python 3",
   "language": "python",
   "name": "python3"
  },
  "language_info": {
   "codemirror_mode": {
    "name": "ipython",
    "version": 3
   },
   "file_extension": ".py",
   "mimetype": "text/x-python",
   "name": "python",
   "nbconvert_exporter": "python",
   "pygments_lexer": "ipython3",
   "version": "3.8.10"
  }
 },
 "nbformat": 4,
 "nbformat_minor": 5
}
