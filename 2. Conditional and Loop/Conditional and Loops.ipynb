{
 "cells": [
  {
   "cell_type": "markdown",
   "id": "handled-conditioning",
   "metadata": {},
   "source": [
    "# Lecture 2. Conditional and Loop"
   ]
  },
  {
   "cell_type": "code",
   "execution_count": 8,
   "id": "genetic-morris",
   "metadata": {},
   "outputs": [
    {
     "name": "stdout",
     "output_type": "stream",
     "text": [
      "<class 'bool'>\n",
      "<class 'bool'>\n",
      "<class 'str'>\n"
     ]
    }
   ],
   "source": [
    "a = True\n",
    "b = False\n",
    "c = \"Ninjas\"\n",
    "print(type(a))\n",
    "print(type(b))\n",
    "print(type(c))"
   ]
  },
  {
   "cell_type": "markdown",
   "id": "theoretical-intellectual",
   "metadata": {},
   "source": [
    "#### Relational Operators"
   ]
  },
  {
   "cell_type": "code",
   "execution_count": 6,
   "id": "thirty-attraction",
   "metadata": {},
   "outputs": [
    {
     "name": "stdout",
     "output_type": "stream",
     "text": [
      "a is grater\n"
     ]
    }
   ],
   "source": [
    "a,b = 10,5\n",
    "if a>b: print(\"a is grater\") \n",
    "else:print(\"b is greater \")"
   ]
  },
  {
   "cell_type": "code",
   "execution_count": 7,
   "id": "willing-spread",
   "metadata": {},
   "outputs": [
    {
     "name": "stdout",
     "output_type": "stream",
     "text": [
      "False\n",
      "True\n",
      "False\n",
      "True\n",
      "False\n",
      "True\n"
     ]
    }
   ],
   "source": [
    "a,b = 10,20\n",
    "print(a>b)\n",
    "print(a<b)\n",
    "print(a>=b)\n",
    "print(a<=b)\n",
    "print(a==b)\n",
    "print(a!=b)"
   ]
  },
  {
   "cell_type": "markdown",
   "id": "smoking-answer",
   "metadata": {},
   "source": [
    "#### Logical Operators"
   ]
  },
  {
   "cell_type": "code",
   "execution_count": 14,
   "id": "humanitarian-antenna",
   "metadata": {},
   "outputs": [
    {
     "name": "stdout",
     "output_type": "stream",
     "text": [
      "False\n",
      "False\n"
     ]
    }
   ],
   "source": [
    "c1 = a > 10\n",
    "c2 = b > 10\n",
    "print(c1 or c2)\n",
    "print(c1 and c2)"
   ]
  },
  {
   "cell_type": "markdown",
   "id": "classified-saudi",
   "metadata": {},
   "source": [
    "#### IF ELSE"
   ]
  },
  {
   "cell_type": "code",
   "execution_count": 15,
   "id": "british-catering",
   "metadata": {},
   "outputs": [
    {
     "name": "stdout",
     "output_type": "stream",
     "text": [
      "Odd\n"
     ]
    }
   ],
   "source": [
    "a = 5\n",
    "if a%2 == 0:\n",
    "    print(\"Even\")\n",
    "else:\n",
    "    print(\"Odd\")"
   ]
  },
  {
   "cell_type": "code",
   "execution_count": 16,
   "id": "apart-title",
   "metadata": {},
   "outputs": [
    {
     "name": "stdout",
     "output_type": "stream",
     "text": [
      "15\n",
      "20\n",
      "Greater than 10\n"
     ]
    }
   ],
   "source": [
    "a,b = int(input()),int(input())\n",
    "if (a> 10 and b>10):\n",
    "    print(\"Greater than 10\")\n",
    "else:\n",
    "    print(\"Not Greater than 10\")"
   ]
  },
  {
   "cell_type": "markdown",
   "id": "choice-ebony",
   "metadata": {},
   "source": [
    "#### IF ELSE IF"
   ]
  },
  {
   "cell_type": "code",
   "execution_count": 17,
   "id": "aware-sport",
   "metadata": {},
   "outputs": [
    {
     "name": "stdout",
     "output_type": "stream",
     "text": [
      "12\n",
      "6\n",
      "2\n",
      "A\n"
     ]
    }
   ],
   "source": [
    "a,b,c = int(input()),int(input()),int(input())\n",
    "if (a>b and a>c):\n",
    "    print(\"A\")\n",
    "elif (b>c and b >a):\n",
    "    print(\"B\")\n",
    "else:\n",
    "    print(\"C\")"
   ]
  },
  {
   "cell_type": "code",
   "execution_count": 18,
   "id": "motivated-filing",
   "metadata": {},
   "outputs": [
    {
     "name": "stdout",
     "output_type": "stream",
     "text": [
      "5\n",
      "green\n"
     ]
    }
   ],
   "source": [
    "n = int(input())\n",
    "if n > 10:\n",
    "    print(\"red\")\n",
    "elif (n >= 5 and n<=10):\n",
    "    print(\"green\")\n",
    "elif(n>0 and n<5):\n",
    "    print(\"yellow\")\n",
    "else:\n",
    "    print(\"don't do anything\")"
   ]
  },
  {
   "cell_type": "markdown",
   "id": "respiratory-macintosh",
   "metadata": {},
   "source": [
    "#### Nested IF ELSE"
   ]
  },
  {
   "cell_type": "code",
   "execution_count": 20,
   "id": "further-lecture",
   "metadata": {},
   "outputs": [
    {
     "name": "stdout",
     "output_type": "stream",
     "text": [
      "8\n",
      "6\n",
      "1\n"
     ]
    }
   ],
   "source": [
    "n = int(input())\n",
    "m = int(input())\n",
    "if n%2 == 0:\n",
    "    if m%2 == 0:\n",
    "        print(\"1\")\n",
    "    else:\n",
    "        print(\"2\")\n",
    "else:\n",
    "    print(\"3\")\n",
    "    "
   ]
  },
  {
   "cell_type": "markdown",
   "id": "separate-wrist",
   "metadata": {},
   "source": [
    "#### While Loop"
   ]
  },
  {
   "cell_type": "code",
   "execution_count": 22,
   "id": "environmental-apparel",
   "metadata": {},
   "outputs": [
    {
     "name": "stdout",
     "output_type": "stream",
     "text": [
      "1\n",
      "2\n",
      "3\n",
      "4\n",
      "5\n",
      "6\n",
      "7\n",
      "8\n",
      "9\n",
      "10\n"
     ]
    }
   ],
   "source": [
    "i = 1\n",
    "while i <= 10:\n",
    "    print(i)\n",
    "    i += 1\n"
   ]
  },
  {
   "cell_type": "markdown",
   "id": "divine-charge",
   "metadata": {},
   "source": [
    "#### Prime Number"
   ]
  },
  {
   "cell_type": "code",
   "execution_count": 29,
   "id": "empty-beads",
   "metadata": {},
   "outputs": [
    {
     "name": "stdout",
     "output_type": "stream",
     "text": [
      "5\n",
      "N is Prime\n"
     ]
    }
   ],
   "source": [
    "num = int(input())\n",
    "\n",
    "k = 2\n",
    "flag = False\n",
    "while k < num:\n",
    "    if num%k == 0:\n",
    "        flag = True\n",
    "    k = k+1\n",
    "    \n",
    "if flag:\n",
    "    print(\"N is not Prime\")\n",
    "else:\n",
    "    print(\"N is Prime\")"
   ]
  },
  {
   "cell_type": "code",
   "execution_count": null,
   "id": "descending-shareware",
   "metadata": {},
   "outputs": [
    {
     "name": "stdout",
     "output_type": "stream",
     "text": [
      "5\n"
     ]
    }
   ],
   "source": [
    "num = int(input())\n",
    "\n",
    "d=2\n",
    "while d <=n:\n",
    "\n",
    "    k = 2\n",
    "    flag = False\n",
    "    while k < num:\n",
    "        if d%k == 0:\n",
    "            flag = True\n",
    "        k = k+1\n",
    "    if not(flag):\n",
    "        print(d)\n",
    "    d = d+1"
   ]
  },
  {
   "cell_type": "code",
   "execution_count": null,
   "id": "forced-donor",
   "metadata": {},
   "outputs": [],
   "source": []
  },
  {
   "cell_type": "code",
   "execution_count": null,
   "id": "central-revolution",
   "metadata": {},
   "outputs": [],
   "source": []
  },
  {
   "cell_type": "code",
   "execution_count": null,
   "id": "signal-dance",
   "metadata": {},
   "outputs": [],
   "source": []
  }
 ],
 "metadata": {
  "kernelspec": {
   "display_name": "Python 3",
   "language": "python",
   "name": "python3"
  },
  "language_info": {
   "codemirror_mode": {
    "name": "ipython",
    "version": 3
   },
   "file_extension": ".py",
   "mimetype": "text/x-python",
   "name": "python",
   "nbconvert_exporter": "python",
   "pygments_lexer": "ipython3",
   "version": "3.8.3"
  }
 },
 "nbformat": 4,
 "nbformat_minor": 5
}
