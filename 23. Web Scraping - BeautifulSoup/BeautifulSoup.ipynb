{
 "cells": [
  {
   "cell_type": "markdown",
   "id": "88b56f73",
   "metadata": {},
   "source": [
    "# 23. Web Scraping - BeautifulSoup"
   ]
  },
  {
   "cell_type": "code",
   "execution_count": 1,
   "id": "b0c7983c",
   "metadata": {},
   "outputs": [],
   "source": [
    "# step to be followed:-\n",
    "\n",
    "#1 : load html [requests lib]\n",
    "#2 : parse HTML [beautifulsoup lib]\n",
    "#3 : locate and extract the desired data"
   ]
  },
  {
   "cell_type": "code",
   "execution_count": null,
   "id": "9e69e70a",
   "metadata": {},
   "outputs": [],
   "source": []
  }
 ],
 "metadata": {
  "kernelspec": {
   "display_name": "Python 3",
   "language": "python",
   "name": "python3"
  },
  "language_info": {
   "codemirror_mode": {
    "name": "ipython",
    "version": 3
   },
   "file_extension": ".py",
   "mimetype": "text/x-python",
   "name": "python",
   "nbconvert_exporter": "python",
   "pygments_lexer": "ipython3",
   "version": "3.8.8"
  }
 },
 "nbformat": 4,
 "nbformat_minor": 5
}
