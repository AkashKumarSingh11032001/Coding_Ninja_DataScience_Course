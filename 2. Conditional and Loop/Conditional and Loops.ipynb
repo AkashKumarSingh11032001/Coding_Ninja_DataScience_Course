{
 "cells": [
  {
   "cell_type": "markdown",
   "id": "trained-brunei",
   "metadata": {},
   "source": [
    "# Lecture 2. Conditional and Loop"
   ]
  },
  {
   "cell_type": "code",
   "execution_count": 8,
   "id": "invisible-roots",
   "metadata": {},
   "outputs": [
    {
     "name": "stdout",
     "output_type": "stream",
     "text": [
      "<class 'bool'>\n",
      "<class 'bool'>\n",
      "<class 'str'>\n"
     ]
    }
   ],
   "source": [
    "a = True\n",
    "b = False\n",
    "c = \"Ninjas\"\n",
    "print(type(a))\n",
    "print(type(b))\n",
    "print(type(c))"
   ]
  },
  {
   "cell_type": "markdown",
   "id": "personal-language",
   "metadata": {},
   "source": [
    "#### Relational Operators"
   ]
  },
  {
   "cell_type": "code",
   "execution_count": 6,
   "id": "velvet-rebate",
   "metadata": {},
   "outputs": [
    {
     "name": "stdout",
     "output_type": "stream",
     "text": [
      "a is grater\n"
     ]
    }
   ],
   "source": [
    "a,b = 10,5\n",
    "if a>b: print(\"a is grater\") \n",
    "else:print(\"b is greater \")"
   ]
  },
  {
   "cell_type": "code",
   "execution_count": 7,
   "id": "classified-nancy",
   "metadata": {},
   "outputs": [
    {
     "name": "stdout",
     "output_type": "stream",
     "text": [
      "False\n",
      "True\n",
      "False\n",
      "True\n",
      "False\n",
      "True\n"
     ]
    }
   ],
   "source": [
    "a,b = 10,20\n",
    "print(a>b)\n",
    "print(a<b)\n",
    "print(a>=b)\n",
    "print(a<=b)\n",
    "print(a==b)\n",
    "print(a!=b)"
   ]
  },
  {
   "cell_type": "markdown",
   "id": "equipped-jimmy",
   "metadata": {},
   "source": [
    "#### Logical Operators"
   ]
  },
  {
   "cell_type": "code",
   "execution_count": 14,
   "id": "facial-season",
   "metadata": {},
   "outputs": [
    {
     "name": "stdout",
     "output_type": "stream",
     "text": [
      "False\n",
      "False\n"
     ]
    }
   ],
   "source": [
    "c1 = a > 10\n",
    "c2 = b > 10\n",
    "print(c1 or c2)\n",
    "print(c1 and c2)"
   ]
  },
  {
   "cell_type": "markdown",
   "id": "turkish-sight",
   "metadata": {},
   "source": [
    "#### IF ELSE"
   ]
  },
  {
   "cell_type": "code",
   "execution_count": 15,
   "id": "danish-founder",
   "metadata": {},
   "outputs": [
    {
     "name": "stdout",
     "output_type": "stream",
     "text": [
      "Odd\n"
     ]
    }
   ],
   "source": [
    "a = 5\n",
    "if a%2 == 0:\n",
    "    print(\"Even\")\n",
    "else:\n",
    "    print(\"Odd\")"
   ]
  },
  {
   "cell_type": "code",
   "execution_count": 16,
   "id": "original-spending",
   "metadata": {},
   "outputs": [
    {
     "name": "stdout",
     "output_type": "stream",
     "text": [
      "15\n",
      "20\n",
      "Greater than 10\n"
     ]
    }
   ],
   "source": [
    "a,b = int(input()),int(input())\n",
    "if (a> 10 and b>10):\n",
    "    print(\"Greater than 10\")\n",
    "else:\n",
    "    print(\"Not Greater than 10\")"
   ]
  },
  {
   "cell_type": "markdown",
   "id": "local-waste",
   "metadata": {},
   "source": [
    "#### IF ELSE IF"
   ]
  },
  {
   "cell_type": "code",
   "execution_count": 17,
   "id": "killing-ocean",
   "metadata": {},
   "outputs": [
    {
     "name": "stdout",
     "output_type": "stream",
     "text": [
      "12\n",
      "6\n",
      "2\n",
      "A\n"
     ]
    }
   ],
   "source": [
    "a,b,c = int(input()),int(input()),int(input())\n",
    "if (a>b and a>c):\n",
    "    print(\"A\")\n",
    "elif (b>c and b >a):\n",
    "    print(\"B\")\n",
    "else:\n",
    "    print(\"C\")"
   ]
  },
  {
   "cell_type": "code",
   "execution_count": 18,
   "id": "moral-twist",
   "metadata": {},
   "outputs": [
    {
     "name": "stdout",
     "output_type": "stream",
     "text": [
      "5\n",
      "green\n"
     ]
    }
   ],
   "source": [
    "n = int(input())\n",
    "if n > 10:\n",
    "    print(\"red\")\n",
    "elif (n >= 5 and n<=10):\n",
    "    print(\"green\")\n",
    "elif(n>0 and n<5):\n",
    "    print(\"yellow\")\n",
    "else:\n",
    "    print(\"don't do anything\")"
   ]
  },
  {
   "cell_type": "code",
   "execution_count": null,
   "id": "sudden-championship",
   "metadata": {},
   "outputs": [],
   "source": []
  }
 ],
 "metadata": {
  "kernelspec": {
   "display_name": "Python 3",
   "language": "python",
   "name": "python3"
  },
  "language_info": {
   "codemirror_mode": {
    "name": "ipython",
    "version": 3
   },
   "file_extension": ".py",
   "mimetype": "text/x-python",
   "name": "python",
   "nbconvert_exporter": "python",
   "pygments_lexer": "ipython3",
   "version": "3.8.3"
  }
 },
 "nbformat": 4,
 "nbformat_minor": 5
}
