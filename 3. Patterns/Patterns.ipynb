{
 "cells": [
  {
   "cell_type": "markdown",
   "id": "united-rugby",
   "metadata": {},
   "source": [
    "# Lecturer 3. Pattern"
   ]
  },
  {
   "cell_type": "code",
   "execution_count": 3,
   "id": "hearing-equation",
   "metadata": {},
   "outputs": [
    {
     "name": "stdout",
     "output_type": "stream",
     "text": [
      "4\n",
      "* * * * \n",
      "* * * * \n",
      "* * * * \n",
      "* * * * \n"
     ]
    }
   ],
   "source": [
    "''' pattern 1\n",
    "****\n",
    "****\n",
    "****\n",
    "****\n",
    "'''\n",
    "\n",
    "n= int(input())\n",
    "i = 1\n",
    "while i <=n:\n",
    "    j = 1\n",
    "    while j <= n:\n",
    "        print(\"*\",end = \" \")# by default end is \"new line\" but we fixrd it with \"space\"\n",
    "        j += 1\n",
    "    print()\n",
    "    i += 1"
   ]
  },
  {
   "cell_type": "markdown",
   "id": "level-century",
   "metadata": {},
   "source": [
    "#### Square Pattern"
   ]
  },
  {
   "cell_type": "code",
   "execution_count": 6,
   "id": "intended-facial",
   "metadata": {},
   "outputs": [
    {
     "name": "stdout",
     "output_type": "stream",
     "text": [
      "4\n",
      "1 1 1 1 \n",
      "2 2 2 2 \n",
      "3 3 3 3 \n",
      "4 4 4 4 \n"
     ]
    }
   ],
   "source": [
    "''' pattern 2 [Square Patterns 1]\n",
    "1111\n",
    "2222\n",
    "3333\n",
    "4444\n",
    "'''\n",
    "'''\n",
    "row -> n\n",
    "col -> n\n",
    "print -> i\n",
    "'''\n",
    "\n",
    "n = int(input())\n",
    "i = 1\n",
    "while i <= n:\n",
    "    j = 1\n",
    "    while j <= n:\n",
    "        print(i, end = \" \")\n",
    "        j += 1\n",
    "    print()\n",
    "    i += 1"
   ]
  },
  {
   "cell_type": "code",
   "execution_count": 7,
   "id": "amazing-earth",
   "metadata": {},
   "outputs": [
    {
     "name": "stdout",
     "output_type": "stream",
     "text": [
      "4\n",
      "1 2 3 4 \n",
      "1 2 3 4 \n",
      "1 2 3 4 \n",
      "1 2 3 4 \n"
     ]
    }
   ],
   "source": [
    "''' pattern 3 [Square Patterns 2]\n",
    "1234\n",
    "1234\n",
    "1234\n",
    "1234\n",
    "'''\n",
    "'''\n",
    "row -> n\n",
    "col -> n\n",
    "print -> j\n",
    "'''\n",
    "n = int(input())\n",
    "i = 1\n",
    "while i <= n:\n",
    "    j = 1\n",
    "    while j <= n:\n",
    "        print(j,end =\" \")\n",
    "        j += 1\n",
    "    print()\n",
    "    i += 1"
   ]
  },
  {
   "cell_type": "code",
   "execution_count": 13,
   "id": "opposite-testimony",
   "metadata": {},
   "outputs": [
    {
     "name": "stdout",
     "output_type": "stream",
     "text": [
      "5\n",
      "5 4 3 2 1 \n",
      "5 4 3 2 1 \n",
      "5 4 3 2 1 \n",
      "5 4 3 2 1 \n",
      "5 4 3 2 1 \n"
     ]
    }
   ],
   "source": [
    "''' pattern 4 [Square Patterns 3]\n",
    "4321\n",
    "4321\n",
    "4321\n",
    "4321\n",
    "'''\n",
    "'''\n",
    "row -> n\n",
    "col -> n\n",
    "print -> n-j+1\n",
    "'''\n",
    "n = int(input())\n",
    "i = 1\n",
    "while i <= n:\n",
    "    j = n\n",
    "    while j <= n:\n",
    "        print(j,end = \" \")\n",
    "        j -= 1\n",
    "        if j == 0:\n",
    "            break;\n",
    "    print()\n",
    "    i += 1"
   ]
  },
  {
   "cell_type": "markdown",
   "id": "extra-electron",
   "metadata": {},
   "source": [
    "#### Triangular Pattern"
   ]
  },
  {
   "cell_type": "code",
   "execution_count": 15,
   "id": "distinct-tennessee",
   "metadata": {},
   "outputs": [
    {
     "name": "stdout",
     "output_type": "stream",
     "text": [
      "4\n",
      "1 \n",
      "1 2 \n",
      "1 2 3 \n",
      "1 2 3 4 \n"
     ]
    }
   ],
   "source": [
    "''' pattern 5 [Triangular Patterns 1]\n",
    "1\n",
    "12\n",
    "123\n",
    "1234\n",
    "'''\n",
    "'''\n",
    "row -> n\n",
    "col -> i #[each col have ith element i.e 1have 1 elem  and 2nd row have 2 elem]\n",
    "print -> j\n",
    "'''\n",
    "n = int(input())\n",
    "i = 1\n",
    "while i <= n:\n",
    "    j = 1\n",
    "    while j <= i:\n",
    "        print(j,end = \" \")\n",
    "        j += 1\n",
    "    print()\n",
    "    i += 1"
   ]
  },
  {
   "cell_type": "code",
   "execution_count": 21,
   "id": "authentic-hartford",
   "metadata": {},
   "outputs": [
    {
     "name": "stdout",
     "output_type": "stream",
     "text": [
      "4\n",
      "1 \n",
      "2 3 \n",
      "3 4 5 \n",
      "4 5 6 7 \n"
     ]
    }
   ],
   "source": [
    "''' pattern 6 [Triangular Patterns 2]\n",
    "1\n",
    "23\n",
    "345\n",
    "4567\n",
    "'''\n",
    "'''\n",
    "row -> n\n",
    "col -> i\n",
    "print -> \n",
    "'''\n",
    "n = int(input())\n",
    "i = 1\n",
    "while i <= n:\n",
    "    j = 1\n",
    "    k = i\n",
    "    while j <= i:\n",
    "        print(k,end =\" \")\n",
    "        j += 1\n",
    "        k += 1\n",
    "    print()\n",
    "    i += 1"
   ]
  },
  {
   "cell_type": "code",
   "execution_count": 24,
   "id": "palestinian-calvin",
   "metadata": {},
   "outputs": [
    {
     "name": "stdout",
     "output_type": "stream",
     "text": [
      "4\n",
      "1 \n",
      "2 3 \n",
      "4 5 6 \n",
      "7 8 9 10 \n"
     ]
    }
   ],
   "source": [
    "''' pattern 7 [Triangular Patterns 3]\n",
    "1\n",
    "23\n",
    "456\n",
    "78910\n",
    "'''\n",
    "'''\n",
    "row -> n\n",
    "col -> i\n",
    "print -> p {1 to number of time you print}\n",
    "'''\n",
    "n- int(input())\n",
    "i = 1\n",
    "p = 1\n",
    "while i <= n:\n",
    "    j = 1\n",
    "    k = i\n",
    "    while j <= i:\n",
    "        print(p,end = \" \")\n",
    "        p += 1\n",
    "        j += 1\n",
    "    print()\n",
    "    i += 1"
   ]
  },
  {
   "cell_type": "markdown",
   "id": "greatest-accommodation",
   "metadata": {},
   "source": [
    "#### Character Pattern"
   ]
  },
  {
   "cell_type": "code",
   "execution_count": 27,
   "id": "touched-january",
   "metadata": {},
   "outputs": [
    {
     "name": "stdout",
     "output_type": "stream",
     "text": [
      "8\n",
      "H\n"
     ]
    }
   ],
   "source": [
    "#find kth alphabet\n",
    "'''suppose if we have to print 8th charter the just you need to add [A(1st elemt) + 7 = total 8] overall it say that [A+(k-1)]'''\n",
    "# chr -> aiss\n",
    "k = int(input())\n",
    "print(chr(ord('A') + (k-1)))\n"
   ]
  },
  {
   "cell_type": "code",
   "execution_count": null,
   "id": "heated-services",
   "metadata": {},
   "outputs": [],
   "source": [
    "''' pattern 8 [Character Patterns 1]\n",
    "ABCD\n",
    "ABCD\n",
    "ABCD\n",
    "ABCD\n",
    "'''\n",
    "'''\n",
    "row -> n\n",
    "col -> n\n",
    "print -> similar to('A'+j-1)\n",
    "'''"
   ]
  },
  {
   "cell_type": "code",
   "execution_count": null,
   "id": "loving-learning",
   "metadata": {},
   "outputs": [],
   "source": [
    "''' pattern 9 [Character Patterns 2]\n",
    "ABCD\n",
    "BCDE\n",
    "CDEF\n",
    "DEFG\n",
    "'''\n",
    "'''\n",
    "row -> n\n",
    "col -> n\n",
    "print -> \n",
    "'''"
   ]
  },
  {
   "cell_type": "code",
   "execution_count": null,
   "id": "paperback-curtis",
   "metadata": {},
   "outputs": [],
   "source": []
  }
 ],
 "metadata": {
  "kernelspec": {
   "display_name": "Python 3",
   "language": "python",
   "name": "python3"
  },
  "language_info": {
   "codemirror_mode": {
    "name": "ipython",
    "version": 3
   },
   "file_extension": ".py",
   "mimetype": "text/x-python",
   "name": "python",
   "nbconvert_exporter": "python",
   "pygments_lexer": "ipython3",
   "version": "3.8.3"
  }
 },
 "nbformat": 4,
 "nbformat_minor": 5
}
